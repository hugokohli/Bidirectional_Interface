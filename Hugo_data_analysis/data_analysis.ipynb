{
 "cells": [
  {
   "cell_type": "code",
   "execution_count": 1,
   "metadata": {},
   "outputs": [],
   "source": [
    "import pandas as pd\n",
    "import matplotlib.pyplot as plt\n",
    "import os\n",
    "import glob\n",
    "import numpy as np\n",
    "import statistics"
   ]
  },
  {
   "cell_type": "code",
   "execution_count": 27,
   "metadata": {},
   "outputs": [],
   "source": [
    "position = [\"position_x\",\"position_y\",\"position_z\"]\n",
    "target= [\"target_position_x\",\"target_position_y\",\"target_position_z\"]\n",
    "total_time = \"time\"\n",
    "#position_x,position_y,position_z,target_position_x,target_position_y,target_position_z,time,extension,target_extension,height_error,distance_to_waypoint,extension_error,reaching_height_time"
   ]
  },
  {
   "cell_type": "code",
   "execution_count": 3,
   "metadata": {},
   "outputs": [],
   "source": [
    "os.getcwd()\n",
    "os.chdir('..\\Bidirectional_interface\\Assets\\Logs')\n",
    "\n"
   ]
  },
  {
   "cell_type": "code",
   "execution_count": 4,
   "metadata": {},
   "outputs": [
    {
     "data": {
      "text/plain": [
       "['2_05_49_test_hugo_Visual.csv',\n",
       " '2_05_49_test_hugo_Visual.csv.meta',\n",
       " '2_08_47__Visual.csv',\n",
       " '2_08_47__Visual.csv.meta',\n",
       " '2_41_24_Okay_Visual.csv',\n",
       " '2_41_24_Okay_Visual.csv.meta',\n",
       " '2_46_21_ouI_Visual.csv',\n",
       " '2_46_21_ouI_Visual.csv.meta']"
      ]
     },
     "execution_count": 4,
     "metadata": {},
     "output_type": "execute_result"
    }
   ],
   "source": [
    "d = os.listdir('Visual')\n",
    "d"
   ]
  },
  {
   "cell_type": "code",
   "execution_count": 5,
   "metadata": {},
   "outputs": [],
   "source": [
    "all_mixed_files = glob.glob(\"*.csv\")"
   ]
  },
  {
   "cell_type": "code",
   "execution_count": 6,
   "metadata": {},
   "outputs": [],
   "source": [
    "def move_in_correct_folder(filename):\n",
    "    if \"drone\" in filename :\n",
    "        newfilename = \"Raw\" +\"\\\\\" + filename\n",
    "        os.replace(filename, newfilename)    \n",
    "    else:\n",
    "        types_of_feedback = [\"Visual\", \"Glove\", \"Bracelets\"]\n",
    "        for fb_type in types_of_feedback:\n",
    "            if fb_type in filename :\n",
    "                newfilename = fb_type +\"\\\\\" + filename\n",
    "                os.replace(filename, newfilename)\n",
    "\n",
    "def organise_logs(all_files):\n",
    "    all_files =  glob.glob(\"*.csv\")\n",
    "    for file in all_files:  \n",
    "        move_in_correct_folder(file)\n",
    "    \n"
   ]
  },
  {
   "cell_type": "markdown",
   "metadata": {},
   "source": [
    "Put the files in the correct folders"
   ]
  },
  {
   "cell_type": "code",
   "execution_count": 7,
   "metadata": {},
   "outputs": [],
   "source": [
    "organise_logs(all_mixed_files)"
   ]
  },
  {
   "cell_type": "code",
   "execution_count": 8,
   "metadata": {},
   "outputs": [],
   "source": [
    "visual_files = glob.glob(\"Visual\\*.csv\")"
   ]
  },
  {
   "cell_type": "code",
   "execution_count": 9,
   "metadata": {},
   "outputs": [],
   "source": [
    "glove_files = glob.glob(\"Glove\\*.csv\")"
   ]
  },
  {
   "cell_type": "code",
   "execution_count": 10,
   "metadata": {},
   "outputs": [],
   "source": [
    "bracelets_files = glob.glob(\"Bracelets\\*.csv\")"
   ]
  },
  {
   "cell_type": "code",
   "execution_count": 61,
   "metadata": {},
   "outputs": [],
   "source": [
    "def get_total_times(all_files):\n",
    "    time_dict = {}\n",
    "    for file in all_files:\n",
    "        data = pd.read_csv(file)\n",
    "        time_dict[file] = []\n",
    "        time_dict[file].append(data[\"time\"].iloc[-1])\n",
    "    return time_dict\n",
    "\n",
    "def get_reaching_waypoint_times(all_files):\n",
    "    waypoint_times = [\"1st_waypoint_time\", \"2nd_waypoint_time\",\"3rd_waypoint_time\"]\n",
    "    time_dict = {}\n",
    "    for file in all_files:\n",
    "        data = pd.read_csv(file)\n",
    "        time_dict[file] = []\n",
    "        for wpt_time in waypoint_times:\n",
    "            time_dict[file].append(data[wpt_time].iloc[-1])\n",
    "    return time_dict\n",
    "\n",
    "def get_ext_contr_times(all_files):\n",
    "    ext_contr_times = ['extension_time', 'contraction_time']\n",
    "    time_dict = {}\n",
    "    for file in all_files:\n",
    "        data = pd.read_csv(file)\n",
    "        time_dict[file] = []\n",
    "        for time in ext_contr_times:\n",
    "            time_dict[file].append(data[time].iloc[-1])\n",
    "    return time_dict\n",
    "\n",
    "def get_mean_and_std_times(all_times_dict):\n",
    "    #waypts_times : dictionnary, containing time to reach each waypoint for each file/subject\n",
    "    nb_of_time = len(next(iter(all_times_dict.values())))\n",
    "    \n",
    "    times_list = np.empty((nb_of_time, 0)).tolist()\n",
    "    \n",
    "    for times_for_1_subj in all_times_dict:\n",
    "        for i in range(nb_of_time):\n",
    "            times_list[i].append((all_times_dict[times_for_1_subj][i]))\n",
    "    array_list = []\n",
    "    for sublist in times_list:\n",
    "        array_list.append(np.asarray(sublist))\n",
    "    \n",
    "    mean_list = [np.mean(i) for i in array_list]\n",
    "    stdev_list = [np.std(i) for i in array_list]\n",
    "    return mean_list, stdev_list"
   ]
  },
  {
   "cell_type": "code",
   "execution_count": 60,
   "metadata": {},
   "outputs": [],
   "source": [
    "visual_waypoint_times = get_reaching_waypoint_times(visual_files)\n",
    "visual_extraction_contraction_times = get_ext_contr_times(visual_files)\n",
    "visual_total_time = get_total_times(visual_files)\n"
   ]
  },
  {
   "cell_type": "code",
   "execution_count": 58,
   "metadata": {},
   "outputs": [
    {
     "data": {
      "text/plain": [
       "{'Bracelets\\\\11_36_20_to_forget_Bracelets.csv': [13.200029999999998],\n",
       " 'Bracelets\\\\11_38_55_fsy_Bracelets.csv': [140.804],\n",
       " 'Bracelets\\\\12_15_47_tes_Bracelets.csv': [0.9068841999999999],\n",
       " 'Bracelets\\\\12_20_41__Bracelets.csv': [0.9176707000000001],\n",
       " 'Bracelets\\\\4_01_24_test_bace_Bracelets.csv': [622.0217],\n",
       " 'Bracelets\\\\4_35_42_test2_bracelet_Bracelets.csv': [71.64976999999999]}"
      ]
     },
     "execution_count": 58,
     "metadata": {},
     "output_type": "execute_result"
    }
   ],
   "source": [
    "visual_total_time"
   ]
  },
  {
   "cell_type": "code",
   "execution_count": 59,
   "metadata": {},
   "outputs": [
    {
     "data": {
      "text/plain": [
       "([141.58334248333333], [220.51881981888852])"
      ]
     },
     "execution_count": 59,
     "metadata": {},
     "output_type": "execute_result"
    }
   ],
   "source": [
    "get_mean_and_std_times(visual_total_time)"
   ]
  },
  {
   "cell_type": "code",
   "execution_count": 64,
   "metadata": {},
   "outputs": [
    {
     "data": {
      "text/plain": [
       "([8.874935, 17.98777, 11.2253625],\n",
       " [15.371838333871295, 31.155731554863227, 19.442898183378386])"
      ]
     },
     "execution_count": 64,
     "metadata": {},
     "output_type": "execute_result"
    }
   ],
   "source": [
    "get_mean_and_std_times(waypoint_times)"
   ]
  },
  {
   "cell_type": "code",
   "execution_count": null,
   "metadata": {},
   "outputs": [
    {
     "name": "stdout",
     "output_type": "stream",
     "text": [
      "> \u001b[1;32m<ipython-input-54-eb05b8730a1a>\u001b[0m(3)\u001b[0;36m<module>\u001b[1;34m()\u001b[0m\n",
      "\u001b[1;32m      1 \u001b[1;33m\u001b[0mvisual_waypoint_times\u001b[0m \u001b[1;33m=\u001b[0m \u001b[0mget_reaching_waypoint_times\u001b[0m\u001b[1;33m(\u001b[0m\u001b[0mvisual_files\u001b[0m\u001b[1;33m)\u001b[0m\u001b[1;33m\u001b[0m\u001b[1;33m\u001b[0m\u001b[0m\n",
      "\u001b[0m\u001b[1;32m      2 \u001b[1;33m\u001b[0mvisual_extraction_contraction_times\u001b[0m \u001b[1;33m=\u001b[0m \u001b[0mget_ext_contr_times\u001b[0m\u001b[1;33m(\u001b[0m\u001b[0mvisual_files\u001b[0m\u001b[1;33m)\u001b[0m\u001b[1;33m\u001b[0m\u001b[1;33m\u001b[0m\u001b[0m\n",
      "\u001b[0m\u001b[1;32m----> 3 \u001b[1;33m\u001b[0mvisual_total_time\u001b[0m \u001b[1;33m=\u001b[0m \u001b[0mget_total_times\u001b[0m\u001b[1;33m(\u001b[0m\u001b[0mbracelets_file\u001b[0m\u001b[1;33m)\u001b[0m\u001b[1;33m\u001b[0m\u001b[1;33m\u001b[0m\u001b[0m\n",
      "\u001b[0m\n"
     ]
    }
   ],
   "source": [
    "%debug"
   ]
  },
  {
   "cell_type": "code",
   "execution_count": 34,
   "metadata": {},
   "outputs": [
    {
     "data": {
      "text/plain": [
       "([4.212435, 21.0254525], [7.2961514435814045, 36.41715198212607])"
      ]
     },
     "execution_count": 34,
     "metadata": {},
     "output_type": "execute_result"
    }
   ],
   "source": [
    "get_mean_and_std_times(extraction_contraction_times)"
   ]
  },
  {
   "cell_type": "code",
   "execution_count": 19,
   "metadata": {},
   "outputs": [
    {
     "name": "stdout",
     "output_type": "stream",
     "text": [
      "> \u001b[1;32m<ipython-input-11-c34aa486824c>\u001b[0m(27)\u001b[0;36mget_mean_and_std_times\u001b[1;34m()\u001b[0m\n",
      "\u001b[1;32m     25 \u001b[1;33m    \u001b[1;32mfor\u001b[0m \u001b[0mtimes_for_1_subj\u001b[0m \u001b[1;32min\u001b[0m \u001b[0mall_times_dict\u001b[0m\u001b[1;33m:\u001b[0m\u001b[1;33m\u001b[0m\u001b[1;33m\u001b[0m\u001b[0m\n",
      "\u001b[0m\u001b[1;32m     26 \u001b[1;33m        \u001b[1;32mfor\u001b[0m \u001b[0mi\u001b[0m \u001b[1;32min\u001b[0m \u001b[0mrange\u001b[0m\u001b[1;33m(\u001b[0m\u001b[0mnb_of_time\u001b[0m\u001b[1;33m)\u001b[0m\u001b[1;33m:\u001b[0m\u001b[1;33m\u001b[0m\u001b[1;33m\u001b[0m\u001b[0m\n",
      "\u001b[0m\u001b[1;32m---> 27 \u001b[1;33m            \u001b[0mtimes_list\u001b[0m\u001b[1;33m[\u001b[0m\u001b[0mi\u001b[0m\u001b[1;33m]\u001b[0m\u001b[1;33m.\u001b[0m\u001b[0mappend\u001b[0m\u001b[1;33m(\u001b[0m\u001b[1;33m(\u001b[0m\u001b[0mall_times_dict\u001b[0m\u001b[1;33m[\u001b[0m\u001b[0mtimes_for_1_subj\u001b[0m\u001b[1;33m]\u001b[0m\u001b[1;33m[\u001b[0m\u001b[0mi\u001b[0m\u001b[1;33m]\u001b[0m\u001b[1;33m)\u001b[0m\u001b[1;33m)\u001b[0m\u001b[1;33m\u001b[0m\u001b[1;33m\u001b[0m\u001b[0m\n",
      "\u001b[0m\u001b[1;32m     28 \u001b[1;33m    \u001b[0marray_list\u001b[0m \u001b[1;33m=\u001b[0m \u001b[1;33m[\u001b[0m\u001b[1;33m]\u001b[0m\u001b[1;33m\u001b[0m\u001b[1;33m\u001b[0m\u001b[0m\n",
      "\u001b[0m\u001b[1;32m     29 \u001b[1;33m    \u001b[1;32mfor\u001b[0m \u001b[0msublist\u001b[0m \u001b[1;32min\u001b[0m \u001b[0mtimes_list\u001b[0m\u001b[1;33m:\u001b[0m\u001b[1;33m\u001b[0m\u001b[1;33m\u001b[0m\u001b[0m\n",
      "\u001b[0m\n"
     ]
    },
    {
     "name": "stdin",
     "output_type": "stream",
     "text": [
      "ipdb>  nb_of_time\n"
     ]
    },
    {
     "name": "stdout",
     "output_type": "stream",
     "text": [
      "3\n"
     ]
    },
    {
     "name": "stdin",
     "output_type": "stream",
     "text": [
      "ipdb>  q\n"
     ]
    }
   ],
   "source": [
    "%debug\n",
    "\n"
   ]
  },
  {
   "cell_type": "code",
   "execution_count": null,
   "metadata": {},
   "outputs": [],
   "source": [
    "plt.plot(t,data['position_x'])\n",
    "plt.plot(t, data['position_y'])\n",
    "plt.plot(t, data['position_z'])"
   ]
  },
  {
   "cell_type": "code",
   "execution_count": null,
   "metadata": {},
   "outputs": [],
   "source": [
    "plt.plot(data['time'])\n"
   ]
  },
  {
   "cell_type": "code",
   "execution_count": null,
   "metadata": {},
   "outputs": [],
   "source": [
    "for x in list(data):\n",
    "    plt.figure()\n",
    "    plt.plot(data[x])\n",
    "    plt.title(x)"
   ]
  },
  {
   "cell_type": "code",
   "execution_count": null,
   "metadata": {},
   "outputs": [],
   "source": []
  }
 ],
 "metadata": {
  "kernelspec": {
   "display_name": "Python 3",
   "language": "python",
   "name": "python3"
  },
  "language_info": {
   "codemirror_mode": {
    "name": "ipython",
    "version": 3
   },
   "file_extension": ".py",
   "mimetype": "text/x-python",
   "name": "python",
   "nbconvert_exporter": "python",
   "pygments_lexer": "ipython3",
   "version": "3.7.5"
  }
 },
 "nbformat": 4,
 "nbformat_minor": 4
}
