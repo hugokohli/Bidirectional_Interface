{
 "cells": [
  {
   "cell_type": "code",
   "execution_count": 1,
   "metadata": {},
   "outputs": [],
   "source": [
    "import numpy as np\n",
    "import pandas as pd\n",
    "import seaborn as sn\n",
    "import json\n",
    "import glob, os\n",
    "import matplotlib.pyplot as plt\n",
    "from mpl_toolkits.mplot3d import Axes3D\n",
    "from scipy import stats\n",
    "\n",
    "%matplotlib notebook\n",
    "plt.rcParams.update({'font.size': 10})"
   ]
  },
  {
   "cell_type": "code",
   "execution_count": 13,
   "metadata": {},
   "outputs": [],
   "source": [
    "def define_plot_pos(ax):\n",
    "    ax.set_xlabel('x (m)')\n",
    "    ax.set_ylabel('y (m)')\n",
    "    ax.set_zlabel('z (m)')\n",
    "    ax.set_xlim(-4,4)\n",
    "    ax.set_ylim(-4,4)\n",
    "    ax.set_zlim(0,6)\n",
    "    plt.legend()\n",
    "    plt.show()"
   ]
  },
  {
   "cell_type": "code",
   "execution_count": 14,
   "metadata": {},
   "outputs": [],
   "source": [
    "def define_plot_col(ax):\n",
    "    plt.xlabel('Time (s)')\n",
    "    plt.ylabel('Collisions (bool)')\n",
    "    plt.legend()\n",
    "    plt.show()"
   ]
  },
  {
   "cell_type": "markdown",
   "metadata": {},
   "source": [
    "# Plots for the haptics experiment"
   ]
  },
  {
   "cell_type": "code",
   "execution_count": 15,
   "metadata": {},
   "outputs": [],
   "source": [
    "def dfFromJSON(file):\n",
    "    with open(file) as f:\n",
    "        temp = []\n",
    "        for line in f:\n",
    "            temp.append(json.loads(line))\n",
    "            \n",
    "    df = pd.io.json.json_normalize(temp[0]['allLogs'])\n",
    "    df.columns = df.columns.map(lambda x: x.split(\"*.\")[-1])\n",
    "    return df"
   ]
  },
  {
   "cell_type": "code",
   "execution_count": 16,
   "metadata": {},
   "outputs": [],
   "source": [
    "def appendToLogs(file, log, _type):\n",
    "    df = dfFromJSON(file)\n",
    "    log[_type].append(df)"
   ]
  },
  {
   "cell_type": "markdown",
   "metadata": {},
   "source": [
    "# Approach wall (X)"
   ]
  },
  {
   "cell_type": "code",
   "execution_count": 20,
   "metadata": {},
   "outputs": [
    {
     "data": {
      "text/plain": [
       "['/Volumes/GoogleDrive/My Drive/Matteo/EPFL/LIS/PhD/Bidirectional_wearable_interface/DATA/Haptics/Haptics_X/sub10_Controller/',\n",
       " '/Volumes/GoogleDrive/My Drive/Matteo/EPFL/LIS/PhD/Bidirectional_wearable_interface/DATA/Haptics/Haptics_X/sub10_MotionCapture/',\n",
       " '/Volumes/GoogleDrive/My Drive/Matteo/EPFL/LIS/PhD/Bidirectional_wearable_interface/DATA/Haptics/Haptics_X/sub2_Controller/',\n",
       " '/Volumes/GoogleDrive/My Drive/Matteo/EPFL/LIS/PhD/Bidirectional_wearable_interface/DATA/Haptics/Haptics_X/sub2_MotionCapture/',\n",
       " '/Volumes/GoogleDrive/My Drive/Matteo/EPFL/LIS/PhD/Bidirectional_wearable_interface/DATA/Haptics/Haptics_X/sub3_Controller/',\n",
       " '/Volumes/GoogleDrive/My Drive/Matteo/EPFL/LIS/PhD/Bidirectional_wearable_interface/DATA/Haptics/Haptics_X/sub3_MotionCapture/',\n",
       " '/Volumes/GoogleDrive/My Drive/Matteo/EPFL/LIS/PhD/Bidirectional_wearable_interface/DATA/Haptics/Haptics_X/sub4_Controller/',\n",
       " '/Volumes/GoogleDrive/My Drive/Matteo/EPFL/LIS/PhD/Bidirectional_wearable_interface/DATA/Haptics/Haptics_X/sub4_MotionCapture/',\n",
       " '/Volumes/GoogleDrive/My Drive/Matteo/EPFL/LIS/PhD/Bidirectional_wearable_interface/DATA/Haptics/Haptics_X/sub5_Controller/',\n",
       " '/Volumes/GoogleDrive/My Drive/Matteo/EPFL/LIS/PhD/Bidirectional_wearable_interface/DATA/Haptics/Haptics_X/sub5_MotionCapture/',\n",
       " '/Volumes/GoogleDrive/My Drive/Matteo/EPFL/LIS/PhD/Bidirectional_wearable_interface/DATA/Haptics/Haptics_X/sub6_Controller/',\n",
       " '/Volumes/GoogleDrive/My Drive/Matteo/EPFL/LIS/PhD/Bidirectional_wearable_interface/DATA/Haptics/Haptics_X/sub6_MotionCapture/',\n",
       " '/Volumes/GoogleDrive/My Drive/Matteo/EPFL/LIS/PhD/Bidirectional_wearable_interface/DATA/Haptics/Haptics_X/sub7_Controller/',\n",
       " '/Volumes/GoogleDrive/My Drive/Matteo/EPFL/LIS/PhD/Bidirectional_wearable_interface/DATA/Haptics/Haptics_X/sub7_MotionCapture/',\n",
       " '/Volumes/GoogleDrive/My Drive/Matteo/EPFL/LIS/PhD/Bidirectional_wearable_interface/DATA/Haptics/Haptics_X/sub8_Controller/',\n",
       " '/Volumes/GoogleDrive/My Drive/Matteo/EPFL/LIS/PhD/Bidirectional_wearable_interface/DATA/Haptics/Haptics_X/sub8_MotionCapture/',\n",
       " '/Volumes/GoogleDrive/My Drive/Matteo/EPFL/LIS/PhD/Bidirectional_wearable_interface/DATA/Haptics/Haptics_X/sub9_Controller/',\n",
       " '/Volumes/GoogleDrive/My Drive/Matteo/EPFL/LIS/PhD/Bidirectional_wearable_interface/DATA/Haptics/Haptics_X/sub9_MotionCapture/']"
      ]
     },
     "execution_count": 20,
     "metadata": {},
     "output_type": "execute_result"
    }
   ],
   "source": [
    "path_to_folder = \"/Volumes/GoogleDrive/My Drive/Matteo/EPFL/LIS/PhD/Bidirectional_wearable_interface/DATA/Haptics/Haptics_X/\"\n",
    "subjects = glob.glob(path_to_folder + \"*/\")\n",
    "\n",
    "logs = {}\n",
    "for curr in subjects:\n",
    "    logs[curr] = []\n",
    "    \n",
    "subjects.sort()\n",
    "\n",
    "subjects"
   ]
  },
  {
   "cell_type": "code",
   "execution_count": 21,
   "metadata": {},
   "outputs": [],
   "source": [
    "# # used to remove outliers\n",
    "\n",
    "# subjects.remove(subjects[5])\n",
    "# subjects.remove(subjects[4])\n",
    "\n",
    "# logs = {}\n",
    "# for curr in subjects:\n",
    "#     logs[curr] = []\n",
    "    \n",
    "# subjects"
   ]
  },
  {
   "cell_type": "code",
   "execution_count": 22,
   "metadata": {},
   "outputs": [],
   "source": [
    "def find_collision(df):\n",
    "    for i in df['collision']:\n",
    "        if i:\n",
    "            return True\n",
    "    return False\n",
    "    \n",
    "#     if any(df['collision']):\n",
    "#         return True\n",
    "#     else:\n",
    "#         return False"
   ]
  },
  {
   "cell_type": "code",
   "execution_count": 23,
   "metadata": {},
   "outputs": [],
   "source": [
    "def find_max_x(df):\n",
    "    \n",
    "    n = max(df['dronePosition.x'])\n",
    "    \n",
    "    return n"
   ]
  },
  {
   "cell_type": "code",
   "execution_count": 24,
   "metadata": {},
   "outputs": [
    {
     "name": "stdout",
     "output_type": "stream",
     "text": [
      "/Volumes/GoogleDrive/My Drive/Matteo/EPFL/LIS/PhD/Bidirectional_wearable_interface/DATA/Haptics/Haptics_X/sub10_Controller/\n",
      "/Volumes/GoogleDrive/My Drive/Matteo/EPFL/LIS/PhD/Bidirectional_wearable_interface/DATA/Haptics/Haptics_X/sub10_MotionCapture/\n",
      "6\n",
      "wrong number of experiments!\n"
     ]
    }
   ],
   "source": [
    "EXP_N = 5\n",
    "\n",
    "interface = ['motion', 'remote']\n",
    "\n",
    "for subject in subjects:\n",
    "    print(subject)\n",
    "    files = glob.glob(subject+\"*.json\")\n",
    "    files.sort()\n",
    "    \n",
    "    if len(files) != EXP_N:\n",
    "        print (len(files))\n",
    "        print('wrong number of experiments!')\n",
    "        break\n",
    "    for file in files:\n",
    "            logs[subject].append(dfFromJSON(file))"
   ]
  },
  {
   "cell_type": "code",
   "execution_count": 11,
   "metadata": {},
   "outputs": [],
   "source": [
    "subs = {}\n",
    "\n",
    "subs['remote'] = [x for x in subjects if 'Controller' in x]\n",
    "subs['motion'] = [x for x in subjects if 'Motion' in x]\n",
    "\n",
    "logs['motion'] = [logs[x] for x in subs['remote']]\n",
    "logs['remote'] = [logs[x] for x in subs['motion']]"
   ]
  },
  {
   "cell_type": "code",
   "execution_count": 12,
   "metadata": {},
   "outputs": [
    {
     "ename": "NameError",
     "evalue": "name 'sub_motion' is not defined",
     "output_type": "error",
     "traceback": [
      "\u001b[0;31m---------------------------------------------------------------------------\u001b[0m",
      "\u001b[0;31mNameError\u001b[0m                                 Traceback (most recent call last)",
      "\u001b[0;32m<ipython-input-12-d7d5acfcc987>\u001b[0m in \u001b[0;36m<module>\u001b[0;34m\u001b[0m\n\u001b[0;32m----> 1\u001b[0;31m \u001b[0msub_motion\u001b[0m\u001b[0;34m\u001b[0m\u001b[0;34m\u001b[0m\u001b[0m\n\u001b[0m",
      "\u001b[0;31mNameError\u001b[0m: name 'sub_motion' is not defined"
     ]
    }
   ],
   "source": [
    "sub_motion"
   ]
  },
  {
   "cell_type": "markdown",
   "metadata": {},
   "source": [
    "# Collisions"
   ]
  },
  {
   "cell_type": "markdown",
   "metadata": {},
   "source": [
    "### Total collisions"
   ]
  },
  {
   "cell_type": "code",
   "execution_count": null,
   "metadata": {},
   "outputs": [],
   "source": [
    "var = {}\n",
    "\n",
    "var['means'] = []\n",
    "var['stds'] = []\n",
    "\n",
    "collisions_motion = 0\n",
    "\n",
    "for inter in interface:\n",
    "    for sub in subs[inter]:\n",
    "        for log_idx, log in enumerate(logs[sub]):\n",
    "            if find_collision(log):\n",
    "                collisions_motion +=1\n",
    "                print('collision detected in subject ' + sub + ', log' + str(log_idx))\n",
    "        \n",
    "    print('total ' + inter + ' collisions = ' + str(collisions_motion))\n",
    "    print('')"
   ]
  },
  {
   "cell_type": "markdown",
   "metadata": {},
   "source": [
    "### Collisions per subject"
   ]
  },
  {
   "cell_type": "code",
   "execution_count": null,
   "metadata": {},
   "outputs": [],
   "source": [
    "var = {}\n",
    "\n",
    "var['means'] = []\n",
    "var['stds'] = []\n",
    "\n",
    "collisions_sub = {}\n",
    "\n",
    "for inter in interface:\n",
    "    collisions_sub[inter] = []\n",
    "    for sub in subs[inter]:\n",
    "        collisions_sub[inter].append(0)\n",
    "        for log_idx, log in enumerate(logs[sub]):\n",
    "            if find_collision(log):\n",
    "                collisions_sub[inter][-1] +=1\n",
    "                print('collision detected in subject ' + sub + ', log' + str(log_idx))\n",
    "        \n",
    "    print('total ' + inter + ' collisions = ' + str(collisions_motion))\n",
    "    print('')\n",
    "    \n",
    "    "
   ]
  },
  {
   "cell_type": "markdown",
   "metadata": {},
   "source": [
    "### Average collisions per subject"
   ]
  },
  {
   "cell_type": "code",
   "execution_count": null,
   "metadata": {},
   "outputs": [],
   "source": [
    "var = {}\n",
    "\n",
    "var['means'] = []\n",
    "var['stds'] = []\n",
    "\n",
    "for sub in subjects:\n",
    "    for inter in interface:\n",
    "        var[i] = []\n",
    "        for j in logs[i]:\n",
    "            for k in j:\n",
    "                if not find_collision(k):\n",
    "                    print(\"No collision\")\n",
    "                    var[i].append(find_max_x(k))\n",
    "        print(i)\n",
    "        print(var[i])\n",
    "\n",
    "        var['means'].append(np.mean(var[i]))\n",
    "        var['stds'].append(np.std(var[i]))\n",
    "\n",
    "        print(var['means'][-1])\n",
    "        print(var['stds'][-1])\n",
    "\n",
    "        print()"
   ]
  },
  {
   "cell_type": "code",
   "execution_count": null,
   "metadata": {},
   "outputs": [],
   "source": [
    "len(var['motion'])"
   ]
  },
  {
   "cell_type": "code",
   "execution_count": null,
   "metadata": {
    "scrolled": true
   },
   "outputs": [],
   "source": [
    "def runBasicAnalysis(f):\n",
    "    \n",
    "    var = {}\n",
    "\n",
    "    var['means'] = []\n",
    "    var['stds'] = []\n",
    "\n",
    "    for i in fields:\n",
    "        var[i] = []\n",
    "        for j in logs[i]:\n",
    "            if not find_collision(j):\n",
    "                print(\"No collision\")\n",
    "                var[i].append(f(j))\n",
    "        print(i)\n",
    "        print(var[i])\n",
    "\n",
    "        var['means'].append(np.mean(var[i]))\n",
    "        var['stds'].append(np.std(var[i]))\n",
    "\n",
    "        print(var['means'][-1])\n",
    "        print(var['stds'][-1])\n",
    "\n",
    "        print()\n",
    "    for i in fields:\n",
    "        for j in fields:\n",
    "            t, p = stats.ttest_ind(var[i],var[j])\n",
    "\n",
    "            print (i,j)\n",
    "            print (p)\n",
    "            print()\n",
    "            \n",
    "    var['diff_mot'] = 1-np.array(var['last_motion'])/np.array(var['first_motion'])\n",
    "    var['diff_rem'] = 1-np.array(var['last_remote'])/np.array(var['first_remote'])\n",
    "\n",
    "    # var['diff_mot'] = np.array(var['last_motion'])-np.array(var['first_motion'])\n",
    "    # var['diff_rem'] = np.array(var['last_remote'])-np.array(var['first_remote'])\n",
    "\n",
    "\n",
    "    print('motion ratio')\n",
    "    print(var['diff_mot'])\n",
    "    print(np.mean(var['diff_mot']))\n",
    "    print(np.std(var['diff_mot']))\n",
    "    print()\n",
    "    print('remote ratio')\n",
    "    print(var['diff_rem'])\n",
    "    print(np.mean(var['diff_rem']))\n",
    "    print(np.std(var['diff_rem']))\n",
    "\n",
    "    t, p = stats.ttest_ind(var['diff_mot'], var['diff_rem'])\n",
    "\n",
    "    print()\n",
    "    print('p = ', p)\n",
    "            \n",
    "    return var"
   ]
  },
  {
   "cell_type": "markdown",
   "metadata": {},
   "source": [
    "# Plot Trajectories"
   ]
  },
  {
   "cell_type": "code",
   "execution_count": null,
   "metadata": {
    "scrolled": true
   },
   "outputs": [],
   "source": [
    "fig = plt.figure(figsize=(6,6))\n",
    "\n",
    "plt.rcParams.update({'font.size': 6})\n",
    "\n",
    "for idx,i in enumerate(fields):\n",
    "    ax = fig.add_subplot(221+idx, projection='3d')\n",
    "    for idx1,log in enumerate(logs[i]):\n",
    "        ax.scatter(log['dronePosition.x'],log['dronePosition.z'],log['dronePosition.y'], s = 1, label=fields[idx] + ' try subject ' + str(idx1))\n",
    "    define_plot_pos(ax)"
   ]
  },
  {
   "cell_type": "markdown",
   "metadata": {},
   "source": [
    "# Collisions"
   ]
  },
  {
   "cell_type": "code",
   "execution_count": null,
   "metadata": {},
   "outputs": [],
   "source": [
    "any(k['collision'])"
   ]
  },
  {
   "cell_type": "code",
   "execution_count": null,
   "metadata": {
    "scrolled": true
   },
   "outputs": [],
   "source": [
    "coll = runBasicAnalysis(compColl)"
   ]
  },
  {
   "cell_type": "markdown",
   "metadata": {},
   "source": [
    "# Time analysis"
   ]
  },
  {
   "cell_type": "code",
   "execution_count": null,
   "metadata": {},
   "outputs": [],
   "source": [
    "def compTime(df):\n",
    "    return df['absoluteTime'].iloc[-1] - df['absoluteTime'].iloc[0]"
   ]
  },
  {
   "cell_type": "code",
   "execution_count": null,
   "metadata": {
    "scrolled": true
   },
   "outputs": [],
   "source": [
    "time = runBasicAnalysis(compTime)"
   ]
  },
  {
   "cell_type": "code",
   "execution_count": null,
   "metadata": {},
   "outputs": [],
   "source": []
  },
  {
   "cell_type": "code",
   "execution_count": null,
   "metadata": {},
   "outputs": [],
   "source": [
    "size = 6\n",
    "\n",
    "fig = plt.figure(figsize=(8, 4))\n",
    "ax = fig.add_subplot(121)\n",
    "ax.bar([0, 1, 2, 3],\n",
    "   time['means'],\n",
    "   yerr=time['stds'])\n",
    "\n",
    "plt.xticks(range(4), fields, rotation = 10)\n",
    "\n",
    "ax = fig.add_subplot(122)\n",
    "ax.bar([0, 1],\n",
    "   [np.mean(time_diff_mot), np.mean(time_diff_rem)],\n",
    "   yerr=[np.std(time_diff_mot), np.std(time_diff_rem)])"
   ]
  },
  {
   "cell_type": "markdown",
   "metadata": {},
   "source": [
    "# Distance Analysis"
   ]
  },
  {
   "cell_type": "code",
   "execution_count": null,
   "metadata": {},
   "outputs": [],
   "source": [
    "def compDist(df):\n",
    "    x = df['dronePosition.x'].values\n",
    "    y = df['dronePosition.y'].values\n",
    "    z = df['dronePosition.z'].values\n",
    "\n",
    "    dx = np.diff(x)\n",
    "    dy = np.diff(y)\n",
    "    dz = np.diff(z)\n",
    "\n",
    "    dd = np.sqrt(dx**2+dy**2+dz**2)\n",
    "    d = np.sum(dd)\n",
    "\n",
    "    return d"
   ]
  },
  {
   "cell_type": "code",
   "execution_count": null,
   "metadata": {
    "scrolled": true
   },
   "outputs": [],
   "source": [
    "dist = runBasicAnalysis(compDist)"
   ]
  },
  {
   "cell_type": "code",
   "execution_count": null,
   "metadata": {},
   "outputs": [],
   "source": [
    "size = 6\n",
    "\n",
    "fig = plt.figure(figsize=(8, 4))\n",
    "ax = fig.add_subplot(121)\n",
    "ax.bar([0, 1, 2, 3],\n",
    "   dist['means'],\n",
    "   yerr=dist['stds'])\n",
    "\n",
    "plt.xticks(range(4), fields, rotation = 10)\n",
    "\n",
    "ax = fig.add_subplot(122)\n",
    "ax.bar([0, 1],\n",
    "   [np.mean(dist['diff_mot']), np.mean(dist['diff_rem'])],\n",
    "   yerr=[np.std(dist['diff_mot']), np.std(dist['diff_rem'])])"
   ]
  },
  {
   "cell_type": "markdown",
   "metadata": {},
   "source": [
    "# Energy Analysis"
   ]
  },
  {
   "cell_type": "code",
   "execution_count": null,
   "metadata": {},
   "outputs": [],
   "source": [
    "def compEnergy(df):\n",
    "    df['controlInput'] = np.abs(np.linalg.norm(np.array([df['controlSpeed.x'],df['controlSpeed.y'],df['controlSpeed.z']]), axis=0))#*df['differentialTime']\n",
    "    return df['controlInput'].sum()/df.shape[1]"
   ]
  },
  {
   "cell_type": "code",
   "execution_count": null,
   "metadata": {
    "scrolled": true
   },
   "outputs": [],
   "source": [
    "energy = runBasicAnalysis(compEnergy)"
   ]
  },
  {
   "cell_type": "code",
   "execution_count": null,
   "metadata": {},
   "outputs": [],
   "source": [
    "size = 6\n",
    "\n",
    "fig = plt.figure(figsize=(8, 4))\n",
    "ax = fig.add_subplot(121)\n",
    "ax.bar([0, 1, 2, 3],\n",
    "   energy['means'],\n",
    "   yerr=energy['stds'])\n",
    "\n",
    "plt.xticks(range(4), fields, rotation = 10)\n",
    "\n",
    "ax = fig.add_subplot(122)\n",
    "ax.bar([0, 1],\n",
    "   [np.mean(energy['diff_mot']), np.mean(energy['diff_rem'])],\n",
    "   yerr=[np.std(energy['diff_mot']), np.std(energy['diff_rem'])])"
   ]
  },
  {
   "cell_type": "code",
   "execution_count": null,
   "metadata": {},
   "outputs": [],
   "source": [
    "def compDEnergy(df):\n",
    "    dEnergy = np.abs(np.diff(df['controlInput']))\n",
    "    return np.sum(dEnergy)"
   ]
  },
  {
   "cell_type": "code",
   "execution_count": null,
   "metadata": {
    "scrolled": true
   },
   "outputs": [],
   "source": [
    "dEnergy = runBasicAnalysis(compDEnergy)"
   ]
  },
  {
   "cell_type": "code",
   "execution_count": null,
   "metadata": {},
   "outputs": [],
   "source": [
    "size = 6\n",
    "\n",
    "fig = plt.figure(figsize=(8, 4))\n",
    "ax = fig.add_subplot(121)\n",
    "ax.bar([0, 1, 2, 3],\n",
    "   dEnergy['means'],\n",
    "   yerr=dEnergy['stds'])\n",
    "\n",
    "plt.xticks(range(4), fields, rotation = 10)\n",
    "\n",
    "ax = fig.add_subplot(122)\n",
    "ax.bar([0, 1],\n",
    "   [np.mean(dEnergy['diff_mot']), np.mean(dEnergy['diff_rem'])],\n",
    "   yerr=[np.std(dEnergy['diff_mot']), np.std(dEnergy['diff_rem'])])"
   ]
  },
  {
   "cell_type": "markdown",
   "metadata": {},
   "source": [
    "# Analyze collisions for learning curve experiment"
   ]
  },
  {
   "cell_type": "code",
   "execution_count": null,
   "metadata": {},
   "outputs": [],
   "source": [
    "av_collisions = {\"Controller_First\" : 0,\n",
    "                      \"Controller_Last\" : 0,\n",
    "                      \"MotionCapture_First\" : 0,\n",
    "                      \"MotionCapture_Last\" : 0}"
   ]
  },
  {
   "cell_type": "code",
   "execution_count": null,
   "metadata": {},
   "outputs": [],
   "source": [
    "# sum number of collisions per type\n",
    "for setup in logs:\n",
    "    print('processing '+setup)\n",
    "    temp = 0\n",
    "    for df in logs[setup]:\n",
    "        temp += np.sum(np.diff(df['collision'])==1)\n",
    "    av_collisions[setup] = temp / len(logs[setup])"
   ]
  },
  {
   "cell_type": "code",
   "execution_count": null,
   "metadata": {},
   "outputs": [],
   "source": [
    "fig = plt.figure()\n",
    "plt.bar(av_collisions.keys(), av_collisions.values(), color='g')\n",
    "plt.ylabel('Mean number of collisions per subject')\n",
    "plt.show()"
   ]
  }
 ],
 "metadata": {
  "kernelspec": {
   "display_name": "Python 3",
   "language": "python",
   "name": "python3"
  },
  "language_info": {
   "codemirror_mode": {
    "name": "ipython",
    "version": 3
   },
   "file_extension": ".py",
   "mimetype": "text/x-python",
   "name": "python",
   "nbconvert_exporter": "python",
   "pygments_lexer": "ipython3",
   "version": "3.7.4"
  },
  "varInspector": {
   "cols": {
    "lenName": 16,
    "lenType": 16,
    "lenVar": 40
   },
   "kernels_config": {
    "python": {
     "delete_cmd_postfix": "",
     "delete_cmd_prefix": "del ",
     "library": "var_list.py",
     "varRefreshCmd": "print(var_dic_list())"
    },
    "r": {
     "delete_cmd_postfix": ") ",
     "delete_cmd_prefix": "rm(",
     "library": "var_list.r",
     "varRefreshCmd": "cat(var_dic_list()) "
    }
   },
   "position": {
    "height": "472.85px",
    "left": "1048.6px",
    "right": "20px",
    "top": "22px",
    "width": "462.8px"
   },
   "types_to_exclude": [
    "module",
    "function",
    "builtin_function_or_method",
    "instance",
    "_Feature"
   ],
   "window_display": false
  }
 },
 "nbformat": 4,
 "nbformat_minor": 4
}
