{
 "cells": [
  {
   "cell_type": "code",
   "execution_count": 1,
   "metadata": {},
   "outputs": [],
   "source": [
    "import numpy as np\n",
    "import pandas as pd\n",
    "import seaborn as sn\n",
    "import json\n",
    "import glob, os\n",
    "import matplotlib.pyplot as plt\n",
    "from mpl_toolkits.mplot3d import Axes3D\n",
    "from scipy import stats\n",
    "\n",
    "%matplotlib notebook\n",
    "plt.rcParams.update({'font.size': 10})"
   ]
  },
  {
   "cell_type": "code",
   "execution_count": 2,
   "metadata": {},
   "outputs": [],
   "source": [
    "def define_plot_pos(ax):\n",
    "    ax.set_xlabel('x (m)')\n",
    "    ax.set_ylabel('y (m)')\n",
    "    ax.set_zlabel('z (m)')\n",
    "    ax.set_xlim(-4,4)\n",
    "    ax.set_ylim(-4,4)\n",
    "    ax.set_zlim(0,6)\n",
    "    plt.legend()\n",
    "    plt.show()"
   ]
  },
  {
   "cell_type": "code",
   "execution_count": 3,
   "metadata": {},
   "outputs": [],
   "source": [
    "def define_plot_col(ax):\n",
    "    plt.xlabel('Time (s)')\n",
    "    plt.ylabel('Collisions (bool)')\n",
    "    plt.legend()\n",
    "    plt.show()"
   ]
  },
  {
   "cell_type": "markdown",
   "metadata": {},
   "source": [
    "# Plots for the haptics experiment"
   ]
  },
  {
   "cell_type": "code",
   "execution_count": 4,
   "metadata": {},
   "outputs": [],
   "source": [
    "def dfFromJSON(file):\n",
    "    with open(file) as f:\n",
    "        temp = []\n",
    "        for line in f:\n",
    "            temp.append(json.loads(line))\n",
    "            \n",
    "    df = pd.io.json.json_normalize(temp[0]['allLogs'])\n",
    "    df.columns = df.columns.map(lambda x: x.split(\"*.\")[-1])\n",
    "    return df"
   ]
  },
  {
   "cell_type": "code",
   "execution_count": 5,
   "metadata": {},
   "outputs": [],
   "source": [
    "def appendToLogs(file, log, _type):\n",
    "    df = dfFromJSON(file)\n",
    "    log[_type].append(df)"
   ]
  },
  {
   "cell_type": "markdown",
   "metadata": {},
   "source": [
    "# Approach wall (X)"
   ]
  },
  {
   "cell_type": "code",
   "execution_count": 18,
   "metadata": {},
   "outputs": [
    {
     "data": {
      "text/plain": [
       "['./Haptics/Haptics_X\\\\sub2_Controller\\\\',\n",
       " './Haptics/Haptics_X\\\\sub2_MotionCapture\\\\',\n",
       " './Haptics/Haptics_X\\\\sub3_Controller\\\\',\n",
       " './Haptics/Haptics_X\\\\sub3_MotionCapture\\\\',\n",
       " './Haptics/Haptics_X\\\\sub4_Controller\\\\',\n",
       " './Haptics/Haptics_X\\\\sub4_MotionCapture\\\\',\n",
       " './Haptics/Haptics_X\\\\sub5_Controller\\\\',\n",
       " './Haptics/Haptics_X\\\\sub5_MotionCapture\\\\',\n",
       " './Haptics/Haptics_X\\\\sub6_Controller\\\\',\n",
       " './Haptics/Haptics_X\\\\sub6_MotionCapture\\\\',\n",
       " './Haptics/Haptics_X\\\\sub7_Controller\\\\',\n",
       " './Haptics/Haptics_X\\\\sub7_MotionCapture\\\\',\n",
       " './Haptics/Haptics_X\\\\sub8_Controller\\\\',\n",
       " './Haptics/Haptics_X\\\\sub8_MotionCapture\\\\']"
      ]
     },
     "execution_count": 18,
     "metadata": {},
     "output_type": "execute_result"
    }
   ],
   "source": [
    "path_to_folder = \"./Haptics/Haptics_X/\"\n",
    "subjects = glob.glob(path_to_folder + \"*/\")\n",
    "\n",
    "logs = {}\n",
    "for curr in subjects:\n",
    "    logs[curr] = {}\n",
    "    \n",
    "subjects.sort()\n",
    "\n",
    "subjects"
   ]
  },
  {
   "cell_type": "code",
   "execution_count": 7,
   "metadata": {},
   "outputs": [],
   "source": [
    "# # used to remove outliers\n",
    "\n",
    "# subjects.remove(subjects[5])\n",
    "# subjects.remove(subjects[4])\n",
    "\n",
    "# logs = {}\n",
    "# for curr in subjects:\n",
    "#     logs[curr] = []\n",
    "    \n",
    "# subjects"
   ]
  },
  {
   "cell_type": "code",
   "execution_count": 23,
   "metadata": {},
   "outputs": [
    {
     "name": "stdout",
     "output_type": "stream",
     "text": [
      "./Haptics/Haptics_X\\sub2_Controller\\\n",
      "./Haptics/Haptics_X\\sub2_MotionCapture\\\n",
      "./Haptics/Haptics_X\\sub3_Controller\\\n",
      "./Haptics/Haptics_X\\sub3_MotionCapture\\\n",
      "./Haptics/Haptics_X\\sub4_Controller\\\n",
      "./Haptics/Haptics_X\\sub4_MotionCapture\\\n",
      "./Haptics/Haptics_X\\sub5_Controller\\\n",
      "./Haptics/Haptics_X\\sub5_MotionCapture\\\n",
      "./Haptics/Haptics_X\\sub6_Controller\\\n",
      "./Haptics/Haptics_X\\sub6_MotionCapture\\\n",
      "./Haptics/Haptics_X\\sub7_Controller\\\n",
      "./Haptics/Haptics_X\\sub7_MotionCapture\\\n",
      "./Haptics/Haptics_X\\sub8_Controller\\\n",
      "./Haptics/Haptics_X\\sub8_MotionCapture\\\n"
     ]
    }
   ],
   "source": [
    "EXP_N = 5\n",
    "\n",
    "fields = ['motion', 'remote']\n",
    "\n",
    "for subject in subjects:\n",
    "    print(subject)\n",
    "    for x in fields:\n",
    "        logs[subject][x] = [] \n",
    "    files = glob.glob(subject+\"*.json\")\n",
    "    files.sort()\n",
    "    \n",
    "    if len(files) != EXP_N:\n",
    "        print (len(files))\n",
    "        print('wrong number of experiments!')\n",
    "        break\n",
    "    for file in files:\n",
    "        if 'Controller' in file:\n",
    "            logs[subject]['remote'].append(dfFromJSON(file))\n",
    "        if 'MOTION' in file:\n",
    "            logs[subject]['motion'].append(dfFromJSON(file))"
   ]
  },
  {
   "cell_type": "code",
   "execution_count": 24,
   "metadata": {},
   "outputs": [],
   "source": [
    "sub_remote = [x for x in subjects if 'Controller' in x]\n",
    "sub_motion = [x for x in subjects if 'Motion' in x]\n",
    "\n",
    "logs['motion'] = [logs[x] for x in sub_motion]\n",
    "logs['remote'] = [logs[x] for x in sub_remote]"
   ]
  },
  {
   "cell_type": "code",
   "execution_count": 14,
   "metadata": {},
   "outputs": [
    {
     "name": "stdout",
     "output_type": "stream",
     "text": [
      "No collision\n",
      "No collision\n",
      "No collision\n",
      "No collision\n",
      "No collision\n",
      "No collision\n",
      "No collision\n",
      "No collision\n",
      "No collision\n",
      "No collision\n",
      "No collision\n",
      "No collision\n",
      "No collision\n",
      "No collision\n",
      "No collision\n",
      "No collision\n",
      "No collision\n",
      "No collision\n",
      "No collision\n",
      "No collision\n",
      "No collision\n",
      "No collision\n",
      "No collision\n",
      "No collision\n",
      "No collision\n",
      "No collision\n",
      "No collision\n",
      "No collision\n",
      "No collision\n",
      "No collision\n",
      "No collision\n",
      "No collision\n",
      "motion\n",
      "[2.203144073486328, 2.172031879425049, 2.367964267730713, 2.2921621799468994, 2.2938807010650635, 2.0830440521240234, 2.3672471046447754, 2.1614696979522705, 2.3489859104156494, 2.1100220680236816, 1.7940592765808105, 2.2595462799072266, 2.281041145324707, 2.32242751121521, 2.179379463195801, 2.3031210899353027, 2.222109794616699, 2.102964162826538, 2.135408878326416, 2.1898622512817383, 2.2468628883361816, 2.1908209323883057, 2.2549567222595215, 2.3733744621276855, 2.2341959476470947, 2.368077039718628, 2.223067283630371, 2.2383840084075928, 2.3013014793395996, 2.1632609367370605, 2.2235822677612305, 2.2708401679992676]\n",
      "2.227456122636795\n",
      "0.11106236626896739\n",
      "\n",
      "No collision\n",
      "No collision\n",
      "No collision\n",
      "No collision\n",
      "No collision\n",
      "No collision\n",
      "No collision\n",
      "No collision\n",
      "No collision\n",
      "No collision\n",
      "No collision\n",
      "No collision\n",
      "No collision\n",
      "No collision\n",
      "No collision\n",
      "No collision\n",
      "No collision\n",
      "No collision\n",
      "No collision\n",
      "No collision\n",
      "No collision\n",
      "No collision\n",
      "No collision\n",
      "No collision\n",
      "No collision\n",
      "remote\n",
      "[1.8836981058120728, 1.7696588039398193, 2.1432104110717773, 2.2038204669952393, 1.4050902128219604, 2.3131282329559326, 2.2018699645996094, 2.285017728805542, 1.6691404581069946, 1.3976796865463257, 2.308835744857788, 2.334655284881592, 1.906630516052246, 2.3718910217285156, 1.0454010963439941, 1.4640271663665771, 1.5928618907928467, 1.5307704210281372, 2.100245714187622, 2.1544477939605713, 1.2697418928146362, 1.5639835596084595, 2.3260042667388916, 2.2673070430755615, 2.049128532409668]\n",
      "1.9023298406600953\n",
      "0.3905203860123052\n",
      "\n"
     ]
    }
   ],
   "source": [
    "var = {}\n",
    "\n",
    "var['means'] = []\n",
    "var['stds'] = []\n",
    "\n",
    "for i in fields:\n",
    "    var[i] = []\n",
    "    for j in logs[i]:\n",
    "        for k in j:\n",
    "            if not find_collision(k):\n",
    "                print(\"No collision\")\n",
    "                var[i].append(find_max_x(k))\n",
    "    print(i)\n",
    "    print(var[i])\n",
    "\n",
    "    var['means'].append(np.mean(var[i]))\n",
    "    var['stds'].append(np.std(var[i]))\n",
    "\n",
    "    print(var['means'][-1])\n",
    "    print(var['stds'][-1])\n",
    "\n",
    "    print()"
   ]
  },
  {
   "cell_type": "code",
   "execution_count": 16,
   "metadata": {},
   "outputs": [
    {
     "data": {
      "text/plain": [
       "32"
      ]
     },
     "execution_count": 16,
     "metadata": {},
     "output_type": "execute_result"
    }
   ],
   "source": [
    "len(var['motion'])"
   ]
  },
  {
   "cell_type": "code",
   "execution_count": null,
   "metadata": {
    "scrolled": true
   },
   "outputs": [],
   "source": [
    "def runBasicAnalysis(f):\n",
    "    \n",
    "    var = {}\n",
    "\n",
    "    var['means'] = []\n",
    "    var['stds'] = []\n",
    "\n",
    "    for i in fields:\n",
    "        var[i] = []\n",
    "        for j in logs[i]:\n",
    "            if not find_collision(j):\n",
    "                print(\"No collision\")\n",
    "                var[i].append(f(j))\n",
    "        print(i)\n",
    "        print(var[i])\n",
    "\n",
    "        var['means'].append(np.mean(var[i]))\n",
    "        var['stds'].append(np.std(var[i]))\n",
    "\n",
    "        print(var['means'][-1])\n",
    "        print(var['stds'][-1])\n",
    "\n",
    "        print()\n",
    "    for i in fields:\n",
    "        for j in fields:\n",
    "            t, p = stats.ttest_ind(var[i],var[j])\n",
    "\n",
    "            print (i,j)\n",
    "            print (p)\n",
    "            print()\n",
    "            \n",
    "    var['diff_mot'] = 1-np.array(var['last_motion'])/np.array(var['first_motion'])\n",
    "    var['diff_rem'] = 1-np.array(var['last_remote'])/np.array(var['first_remote'])\n",
    "\n",
    "    # var['diff_mot'] = np.array(var['last_motion'])-np.array(var['first_motion'])\n",
    "    # var['diff_rem'] = np.array(var['last_remote'])-np.array(var['first_remote'])\n",
    "\n",
    "\n",
    "    print('motion ratio')\n",
    "    print(var['diff_mot'])\n",
    "    print(np.mean(var['diff_mot']))\n",
    "    print(np.std(var['diff_mot']))\n",
    "    print()\n",
    "    print('remote ratio')\n",
    "    print(var['diff_rem'])\n",
    "    print(np.mean(var['diff_rem']))\n",
    "    print(np.std(var['diff_rem']))\n",
    "\n",
    "    t, p = stats.ttest_ind(var['diff_mot'], var['diff_rem'])\n",
    "\n",
    "    print()\n",
    "    print('p = ', p)\n",
    "            \n",
    "    return var"
   ]
  },
  {
   "cell_type": "markdown",
   "metadata": {},
   "source": [
    "# Plot Trajectories"
   ]
  },
  {
   "cell_type": "code",
   "execution_count": null,
   "metadata": {
    "scrolled": true
   },
   "outputs": [],
   "source": [
    "fig = plt.figure(figsize=(6,6))\n",
    "\n",
    "plt.rcParams.update({'font.size': 6})\n",
    "\n",
    "for idx,i in enumerate(fields):\n",
    "    ax = fig.add_subplot(221+idx, projection='3d')\n",
    "    for idx1,log in enumerate(logs[i]):\n",
    "        ax.scatter(log['dronePosition.x'],log['dronePosition.z'],log['dronePosition.y'], s = 1, label=fields[idx] + ' try subject ' + str(idx1))\n",
    "    define_plot_pos(ax)"
   ]
  },
  {
   "cell_type": "markdown",
   "metadata": {},
   "source": [
    "# Collisions"
   ]
  },
  {
   "cell_type": "code",
   "execution_count": 12,
   "metadata": {},
   "outputs": [],
   "source": [
    "def find_max_x(df):\n",
    "    \n",
    "    n = max(df['dronePosition.x'])\n",
    "    \n",
    "    return n"
   ]
  },
  {
   "cell_type": "code",
   "execution_count": 13,
   "metadata": {},
   "outputs": [],
   "source": [
    "def find_collision(df):\n",
    "    for i in df['collision']:\n",
    "        if i:\n",
    "            return True\n",
    "    return False\n",
    "    \n",
    "#     if any(df['collision']):\n",
    "#         return True\n",
    "#     else:\n",
    "#         return False"
   ]
  },
  {
   "cell_type": "code",
   "execution_count": null,
   "metadata": {},
   "outputs": [],
   "source": [
    "any(k['collision'])"
   ]
  },
  {
   "cell_type": "code",
   "execution_count": null,
   "metadata": {
    "scrolled": true
   },
   "outputs": [],
   "source": [
    "coll = runBasicAnalysis(compColl)"
   ]
  },
  {
   "cell_type": "markdown",
   "metadata": {},
   "source": [
    "# Time analysis"
   ]
  },
  {
   "cell_type": "code",
   "execution_count": null,
   "metadata": {},
   "outputs": [],
   "source": [
    "def compTime(df):\n",
    "    return df['absoluteTime'].iloc[-1] - df['absoluteTime'].iloc[0]"
   ]
  },
  {
   "cell_type": "code",
   "execution_count": null,
   "metadata": {
    "scrolled": true
   },
   "outputs": [],
   "source": [
    "time = runBasicAnalysis(compTime)"
   ]
  },
  {
   "cell_type": "code",
   "execution_count": null,
   "metadata": {},
   "outputs": [],
   "source": []
  },
  {
   "cell_type": "code",
   "execution_count": null,
   "metadata": {},
   "outputs": [],
   "source": [
    "size = 6\n",
    "\n",
    "fig = plt.figure(figsize=(8, 4))\n",
    "ax = fig.add_subplot(121)\n",
    "ax.bar([0, 1, 2, 3],\n",
    "   time['means'],\n",
    "   yerr=time['stds'])\n",
    "\n",
    "plt.xticks(range(4), fields, rotation = 10)\n",
    "\n",
    "ax = fig.add_subplot(122)\n",
    "ax.bar([0, 1],\n",
    "   [np.mean(time_diff_mot), np.mean(time_diff_rem)],\n",
    "   yerr=[np.std(time_diff_mot), np.std(time_diff_rem)])"
   ]
  },
  {
   "cell_type": "markdown",
   "metadata": {},
   "source": [
    "# Distance Analysis"
   ]
  },
  {
   "cell_type": "code",
   "execution_count": null,
   "metadata": {},
   "outputs": [],
   "source": [
    "def compDist(df):\n",
    "    x = df['dronePosition.x'].values\n",
    "    y = df['dronePosition.y'].values\n",
    "    z = df['dronePosition.z'].values\n",
    "\n",
    "    dx = np.diff(x)\n",
    "    dy = np.diff(y)\n",
    "    dz = np.diff(z)\n",
    "\n",
    "    dd = np.sqrt(dx**2+dy**2+dz**2)\n",
    "    d = np.sum(dd)\n",
    "\n",
    "    return d"
   ]
  },
  {
   "cell_type": "code",
   "execution_count": null,
   "metadata": {
    "scrolled": true
   },
   "outputs": [],
   "source": [
    "dist = runBasicAnalysis(compDist)"
   ]
  },
  {
   "cell_type": "code",
   "execution_count": null,
   "metadata": {},
   "outputs": [],
   "source": [
    "size = 6\n",
    "\n",
    "fig = plt.figure(figsize=(8, 4))\n",
    "ax = fig.add_subplot(121)\n",
    "ax.bar([0, 1, 2, 3],\n",
    "   dist['means'],\n",
    "   yerr=dist['stds'])\n",
    "\n",
    "plt.xticks(range(4), fields, rotation = 10)\n",
    "\n",
    "ax = fig.add_subplot(122)\n",
    "ax.bar([0, 1],\n",
    "   [np.mean(dist['diff_mot']), np.mean(dist['diff_rem'])],\n",
    "   yerr=[np.std(dist['diff_mot']), np.std(dist['diff_rem'])])"
   ]
  },
  {
   "cell_type": "markdown",
   "metadata": {},
   "source": [
    "# Energy Analysis"
   ]
  },
  {
   "cell_type": "code",
   "execution_count": null,
   "metadata": {},
   "outputs": [],
   "source": [
    "def compEnergy(df):\n",
    "    df['controlInput'] = np.abs(np.linalg.norm(np.array([df['controlSpeed.x'],df['controlSpeed.y'],df['controlSpeed.z']]), axis=0))#*df['differentialTime']\n",
    "    return df['controlInput'].sum()/df.shape[1]"
   ]
  },
  {
   "cell_type": "code",
   "execution_count": null,
   "metadata": {
    "scrolled": true
   },
   "outputs": [],
   "source": [
    "energy = runBasicAnalysis(compEnergy)"
   ]
  },
  {
   "cell_type": "code",
   "execution_count": null,
   "metadata": {},
   "outputs": [],
   "source": [
    "size = 6\n",
    "\n",
    "fig = plt.figure(figsize=(8, 4))\n",
    "ax = fig.add_subplot(121)\n",
    "ax.bar([0, 1, 2, 3],\n",
    "   energy['means'],\n",
    "   yerr=energy['stds'])\n",
    "\n",
    "plt.xticks(range(4), fields, rotation = 10)\n",
    "\n",
    "ax = fig.add_subplot(122)\n",
    "ax.bar([0, 1],\n",
    "   [np.mean(energy['diff_mot']), np.mean(energy['diff_rem'])],\n",
    "   yerr=[np.std(energy['diff_mot']), np.std(energy['diff_rem'])])"
   ]
  },
  {
   "cell_type": "code",
   "execution_count": null,
   "metadata": {},
   "outputs": [],
   "source": [
    "def compDEnergy(df):\n",
    "    dEnergy = np.abs(np.diff(df['controlInput']))\n",
    "    return np.sum(dEnergy)"
   ]
  },
  {
   "cell_type": "code",
   "execution_count": null,
   "metadata": {
    "scrolled": true
   },
   "outputs": [],
   "source": [
    "dEnergy = runBasicAnalysis(compDEnergy)"
   ]
  },
  {
   "cell_type": "code",
   "execution_count": null,
   "metadata": {},
   "outputs": [],
   "source": [
    "size = 6\n",
    "\n",
    "fig = plt.figure(figsize=(8, 4))\n",
    "ax = fig.add_subplot(121)\n",
    "ax.bar([0, 1, 2, 3],\n",
    "   dEnergy['means'],\n",
    "   yerr=dEnergy['stds'])\n",
    "\n",
    "plt.xticks(range(4), fields, rotation = 10)\n",
    "\n",
    "ax = fig.add_subplot(122)\n",
    "ax.bar([0, 1],\n",
    "   [np.mean(dEnergy['diff_mot']), np.mean(dEnergy['diff_rem'])],\n",
    "   yerr=[np.std(dEnergy['diff_mot']), np.std(dEnergy['diff_rem'])])"
   ]
  },
  {
   "cell_type": "markdown",
   "metadata": {},
   "source": [
    "# Analyze collisions for learning curve experiment"
   ]
  },
  {
   "cell_type": "code",
   "execution_count": null,
   "metadata": {},
   "outputs": [],
   "source": [
    "av_collisions = {\"Controller_First\" : 0,\n",
    "                      \"Controller_Last\" : 0,\n",
    "                      \"MotionCapture_First\" : 0,\n",
    "                      \"MotionCapture_Last\" : 0}"
   ]
  },
  {
   "cell_type": "code",
   "execution_count": null,
   "metadata": {},
   "outputs": [],
   "source": [
    "# sum number of collisions per type\n",
    "for setup in logs:\n",
    "    print('processing '+setup)\n",
    "    temp = 0\n",
    "    for df in logs[setup]:\n",
    "        temp += np.sum(np.diff(df['collision'])==1)\n",
    "    av_collisions[setup] = temp / len(logs[setup])"
   ]
  },
  {
   "cell_type": "code",
   "execution_count": null,
   "metadata": {},
   "outputs": [],
   "source": [
    "fig = plt.figure()\n",
    "plt.bar(av_collisions.keys(), av_collisions.values(), color='g')\n",
    "plt.ylabel('Mean number of collisions per subject')\n",
    "plt.show()"
   ]
  }
 ],
 "metadata": {
  "kernelspec": {
   "display_name": "Python 3",
   "language": "python",
   "name": "python3"
  },
  "language_info": {
   "codemirror_mode": {
    "name": "ipython",
    "version": 3
   },
   "file_extension": ".py",
   "mimetype": "text/x-python",
   "name": "python",
   "nbconvert_exporter": "python",
   "pygments_lexer": "ipython3",
   "version": "3.7.3"
  },
  "varInspector": {
   "cols": {
    "lenName": 16,
    "lenType": 16,
    "lenVar": 40
   },
   "kernels_config": {
    "python": {
     "delete_cmd_postfix": "",
     "delete_cmd_prefix": "del ",
     "library": "var_list.py",
     "varRefreshCmd": "print(var_dic_list())"
    },
    "r": {
     "delete_cmd_postfix": ") ",
     "delete_cmd_prefix": "rm(",
     "library": "var_list.r",
     "varRefreshCmd": "cat(var_dic_list()) "
    }
   },
   "position": {
    "height": "472.85px",
    "left": "1048.6px",
    "right": "20px",
    "top": "22px",
    "width": "462.8px"
   },
   "types_to_exclude": [
    "module",
    "function",
    "builtin_function_or_method",
    "instance",
    "_Feature"
   ],
   "window_display": false
  }
 },
 "nbformat": 4,
 "nbformat_minor": 4
}
