{
 "cells": [
  {
   "cell_type": "code",
   "execution_count": 1,
   "metadata": {},
   "outputs": [],
   "source": [
    "import numpy as np\n",
    "import pandas as pd\n",
    "import seaborn as sn\n",
    "import json\n",
    "import glob, os\n",
    "import matplotlib.pyplot as plt\n",
    "from mpl_toolkits.mplot3d import Axes3D\n",
    "from scipy import stats\n",
    "\n",
    "%matplotlib notebook\n",
    "plt.rcParams.update({'font.size': 10})"
   ]
  },
  {
   "cell_type": "code",
   "execution_count": 2,
   "metadata": {},
   "outputs": [],
   "source": [
    "def define_plot_pos(ax):\n",
    "    ax.set_xlabel('x (m)')\n",
    "    ax.set_ylabel('y (m)')\n",
    "    ax.set_zlabel('z (m)')\n",
    "    ax.set_xlim(-4,4)\n",
    "    ax.set_ylim(-4,4)\n",
    "    ax.set_zlim(0,6)\n",
    "    plt.legend()\n",
    "    plt.show()"
   ]
  },
  {
   "cell_type": "code",
   "execution_count": 3,
   "metadata": {},
   "outputs": [],
   "source": [
    "def define_plot_col(ax):\n",
    "    plt.xlabel('Time (s)')\n",
    "    plt.ylabel('Collisions (bool)')\n",
    "    plt.legend()\n",
    "    plt.show()"
   ]
  },
  {
   "cell_type": "markdown",
   "metadata": {},
   "source": [
    "# Plots for the haptics experiment"
   ]
  },
  {
   "cell_type": "code",
   "execution_count": 13,
   "metadata": {},
   "outputs": [],
   "source": [
    "def dfFromJSON(file):\n",
    "    with open(file) as f:\n",
    "        temp = []\n",
    "        for line in f:\n",
    "            temp.append(json.loads(line))\n",
    "            \n",
    "    df = pd.io.json.json_normalize(temp[0]['allLogs'])\n",
    "    df.columns = df.columns.map(lambda x: x.split(\"*.\")[-1])\n",
    "    return df"
   ]
  },
  {
   "cell_type": "code",
   "execution_count": 14,
   "metadata": {},
   "outputs": [],
   "source": [
    "def appendToLogs(file, log, _type):\n",
    "    df = dfFromJSON(file)\n",
    "    log[_type].append(df)"
   ]
  },
  {
   "cell_type": "markdown",
   "metadata": {},
   "source": [
    "# Approach wall (X)"
   ]
  },
  {
   "cell_type": "code",
   "execution_count": 16,
   "metadata": {},
   "outputs": [
    {
     "data": {
      "text/plain": [
       "['./Haptics/Haptics_X\\\\sub2_Controller\\\\',\n",
       " './Haptics/Haptics_X\\\\sub2_MotionCapture\\\\',\n",
       " './Haptics/Haptics_X\\\\sub3_MotionCapture\\\\',\n",
       " './Haptics/Haptics_X\\\\sub4_Controller\\\\',\n",
       " './Haptics/Haptics_X\\\\sub5_Controller\\\\',\n",
       " './Haptics/Haptics_X\\\\sub5_MotionCapture\\\\',\n",
       " './Haptics/Haptics_X\\\\sub6_Controller\\\\',\n",
       " './Haptics/Haptics_X\\\\sub6_MotionCapture\\\\']"
      ]
     },
     "execution_count": 16,
     "metadata": {},
     "output_type": "execute_result"
    }
   ],
   "source": [
    "path_to_folder = \"./Haptics/Haptics_X/\"\n",
    "subjects = glob.glob(path_to_folder + \"*/\")\n",
    "\n",
    "logs = {}\n",
    "for curr in subjects:\n",
    "    logs[curr] = []\n",
    "    \n",
    "subjects"
   ]
  },
  {
   "cell_type": "code",
   "execution_count": null,
   "metadata": {},
   "outputs": [],
   "source": [
    "# # used to remove outliers\n",
    "\n",
    "# subjects.remove(subjects[5])\n",
    "# subjects.remove(subjects[4])\n",
    "\n",
    "# logs = {}\n",
    "# for curr in subjects:\n",
    "#     logs[curr] = []\n",
    "    \n",
    "# subjects"
   ]
  },
  {
   "cell_type": "code",
   "execution_count": 17,
   "metadata": {},
   "outputs": [
    {
     "name": "stdout",
     "output_type": "stream",
     "text": [
      "./Haptics/Haptics_X\\sub2_Controller\\\n",
      "./Haptics/Haptics_X\\sub2_MotionCapture\\\n",
      "./Haptics/Haptics_X\\sub3_MotionCapture\\\n",
      "./Haptics/Haptics_X\\sub4_Controller\\\n",
      "./Haptics/Haptics_X\\sub5_Controller\\\n",
      "./Haptics/Haptics_X\\sub5_MotionCapture\\\n",
      "./Haptics/Haptics_X\\sub6_Controller\\\n",
      "./Haptics/Haptics_X\\sub6_MotionCapture\\\n"
     ]
    }
   ],
   "source": [
    "EXP_N = 5\n",
    "\n",
    "for subject in subjects:\n",
    "    print(subject)\n",
    "    files = glob.glob(subject+\"*.json\")\n",
    "    files.sort()\n",
    "    \n",
    "    if len(files) != EXP_N:\n",
    "        print (len(files))\n",
    "        print('wrong number of experiments!')\n",
    "        break\n",
    "    for file in files:\n",
    "        logs[subject].append(dfFromJSON(file))"
   ]
  },
  {
   "cell_type": "code",
   "execution_count": 19,
   "metadata": {},
   "outputs": [],
   "source": [
    "fields = ['motion', 'remote']\n",
    "\n",
    "sub_remote = [x for x in subjects if 'Controller' in x]\n",
    "sub_motion = [x for x in subjects if 'Motion' in x]\n",
    "\n",
    "logs['motion'] = [logs[x] for x in sub_motion]\n",
    "logs['remote'] = [logs[x] for x in sub_remote]"
   ]
  },
  {
   "cell_type": "code",
   "execution_count": 23,
   "metadata": {
    "collapsed": true,
    "jupyter": {
     "outputs_hidden": true
    }
   },
   "outputs": [
    {
     "data": {
      "text/plain": [
       "[      absoluteTime  differentialTime  desiredYawRate  clutch  frontObstacle  \\\n",
       " 0        12.912371          0.012642       -0.000006   False       2.168453   \n",
       " 1        12.924926          0.012555       -0.000006   False       2.168453   \n",
       " 2        12.937561          0.012635       -0.000006   False       2.168453   \n",
       " 3        12.949740          0.012179       -0.000006   False       2.168453   \n",
       " 4        12.962297          0.012558       -0.000071   False       2.164315   \n",
       " ...            ...               ...             ...     ...            ...   \n",
       " 2848     48.512901          0.012282        0.000013    True       0.282374   \n",
       " 2849     48.525520          0.012616        0.000013    True       0.282374   \n",
       " 2850     48.538235          0.012716        0.000013    True       0.282374   \n",
       " 2851     48.550556          0.012320        0.000014    True       0.282417   \n",
       " 2852     48.563122          0.012566        0.000014    True       0.282417   \n",
       " \n",
       "       backObstacle  leftObstacle  rightObstacle  upObstacle  downObstacle  \\\n",
       " 0         4.283450      4.061525       3.938493    5.320053      0.031539   \n",
       " 1         4.283450      4.061525       3.938493    5.320053      0.031539   \n",
       " 2         4.283450      4.061525       3.938493    5.320053      0.031539   \n",
       " 3         4.283450      4.061525       3.938493    5.320053      0.031539   \n",
       " 4         4.287261      4.062669       3.937331    5.304116      0.047192   \n",
       " ...            ...           ...            ...         ...           ...   \n",
       " 2848      6.167626      4.088868       3.911132    5.052228      0.947772   \n",
       " 2849      6.167626      4.088868       3.911132    5.052228      0.947772   \n",
       " 2850      6.167626      4.088868       3.911132    5.052228      0.947772   \n",
       " 2851      6.167583      4.088895       3.911105    5.052182      0.947819   \n",
       " 2852      6.167583      4.088895       3.911105    5.052182      0.947819   \n",
       " \n",
       "       ...  mocapQuaternion.x  mocapQuaternion.y  mocapQuaternion.z  \\\n",
       " 0     ...           0.623654           0.365832          -0.553811   \n",
       " 1     ...           0.623863           0.365982          -0.553695   \n",
       " 2     ...           0.623817           0.365708          -0.554356   \n",
       " 3     ...           0.623324           0.364505          -0.555963   \n",
       " 4     ...           0.623689           0.364686          -0.555353   \n",
       " ...   ...                ...                ...                ...   \n",
       " 2848  ...           0.678909           0.310750          -0.521972   \n",
       " 2849  ...           0.678226           0.309845          -0.523797   \n",
       " 2850  ...           0.678608           0.308881          -0.524248   \n",
       " 2851  ...           0.678995           0.306823          -0.524659   \n",
       " 2852  ...           0.680444           0.306453          -0.523259   \n",
       " \n",
       "       mocapQuaternion.w  dronePosition.x  dronePosition.y  dronePosition.z  \\\n",
       " 0              0.412937         0.282186         0.681529        -0.061515   \n",
       " 1              0.412642         0.282186         0.681529        -0.061515   \n",
       " 2              0.412068         0.282186         0.681529        -0.061515   \n",
       " 3              0.411713         0.282186         0.681529        -0.061515   \n",
       " 4              0.411824         0.286213         0.697181        -0.062669   \n",
       " ...                 ...              ...              ...              ...   \n",
       " 2848           0.412386         2.167626         0.947772        -0.088867   \n",
       " 2849           0.411877         2.167626         0.947772        -0.088867   \n",
       " 2850           0.411396         2.167626         0.947772        -0.088867   \n",
       " 2851           0.411775         2.167583         0.947819        -0.088894   \n",
       " 2852           0.411439         2.167583         0.947819        -0.088894   \n",
       " \n",
       "       droneSpeed.x  droneSpeed.y  droneSpeed.z  \n",
       " 0         0.092110      0.327341     -0.024115  \n",
       " 1         0.092110      0.327341     -0.024115  \n",
       " 2         0.092110      0.327341     -0.024115  \n",
       " 3         0.092110      0.327341     -0.024115  \n",
       " 4         0.080542      0.313027     -0.023070  \n",
       " ...            ...           ...           ...  \n",
       " 2848     -0.000993      0.001041     -0.000635  \n",
       " 2849     -0.000993      0.001041     -0.000635  \n",
       " 2850     -0.000993      0.001041     -0.000635  \n",
       " 2851     -0.000856      0.000932     -0.000547  \n",
       " 2852     -0.000856      0.000932     -0.000547  \n",
       " \n",
       " [2853 rows x 30 columns],\n",
       "       absoluteTime  differentialTime  desiredYawRate  clutch  frontObstacle  \\\n",
       " 0        55.304710          0.012543        0.000024   False       2.285345   \n",
       " 1        55.317547          0.012836        0.000024   False       2.285345   \n",
       " 2        55.329689          0.012144        0.000024   False       2.285345   \n",
       " 3        55.342064          0.012374        0.000024   False       2.285345   \n",
       " 4        55.354561          0.012497        0.000063   False       2.282613   \n",
       " ...            ...               ...             ...     ...            ...   \n",
       " 2305     84.118225          0.012823        0.000048    True       0.280291   \n",
       " 2306     84.130219          0.011997        0.000048    True       0.280291   \n",
       " 2307     84.142960          0.012740        0.000048    True       0.280291   \n",
       " 2308     84.155342          0.012385        0.000024    True       0.280309   \n",
       " 2309     84.167694          0.012350        0.000024    True       0.280309   \n",
       " \n",
       "       backObstacle  leftObstacle  rightObstacle  upObstacle  downObstacle  \\\n",
       " 0         4.164673      4.019083       3.980932    5.328596      0.021429   \n",
       " 1         4.164673      4.019083       3.980932    5.328596      0.021429   \n",
       " 2         4.164673      4.019083       3.980932    5.328596      0.021429   \n",
       " 3         4.164673      4.019083       3.980932    5.328596      0.021429   \n",
       " 4         4.167392      4.020378       3.979634    5.319360      0.030651   \n",
       " ...            ...           ...            ...         ...           ...   \n",
       " 2305      6.169709      4.118749       3.881252    5.222988      0.777012   \n",
       " 2306      6.169709      4.118749       3.881252    5.222988      0.777012   \n",
       " 2307      6.169709      4.118749       3.881252    5.222988      0.777012   \n",
       " 2308      6.169692      4.118702       3.881299    5.223094      0.776906   \n",
       " 2309      6.169692      4.118702       3.881299    5.223094      0.776906   \n",
       " \n",
       "       ...  mocapQuaternion.x  mocapQuaternion.y  mocapQuaternion.z  \\\n",
       " 0     ...           0.703336           0.335726          -0.504474   \n",
       " 1     ...           0.705335           0.329915          -0.504426   \n",
       " 2     ...           0.704403           0.335661          -0.503544   \n",
       " 3     ...           0.704604           0.335303          -0.504184   \n",
       " 4     ...           0.705911           0.333708          -0.504864   \n",
       " ...   ...                ...                ...                ...   \n",
       " 2305  ...           0.682903           0.337067          -0.464636   \n",
       " 2306  ...           0.682178           0.337252          -0.465079   \n",
       " 2307  ...           0.688662           0.335076          -0.461139   \n",
       " 2308  ...           0.682186           0.337457          -0.464759   \n",
       " 2309  ...           0.681889           0.337476          -0.464832   \n",
       " \n",
       "       mocapQuaternion.w  dronePosition.x  dronePosition.y  dronePosition.z  \\\n",
       " 0              0.371634         0.164661         0.671428        -0.019075   \n",
       " 1              0.373113         0.164661         0.671428        -0.019075   \n",
       " 2              0.370934         0.164661         0.671428        -0.019075   \n",
       " 3              0.370004         0.164661         0.671428        -0.019075   \n",
       " 4              0.368022         0.167388         0.680651        -0.020372   \n",
       " ...                 ...              ...              ...              ...   \n",
       " 2305           0.451822         2.169708         0.777012        -0.118748   \n",
       " 2306           0.452323         2.169708         0.777012        -0.118748   \n",
       " 2307           0.448129         2.169708         0.777012        -0.118748   \n",
       " 2308           0.452487         2.169691         0.776906        -0.118701   \n",
       " 2309           0.452845         2.169691         0.776906        -0.118701   \n",
       " \n",
       "       droneSpeed.x  droneSpeed.y  droneSpeed.z  \n",
       " 0         0.055639      0.193246     -0.024982  \n",
       " 1         0.055639      0.193246     -0.024982  \n",
       " 2         0.055639      0.193246     -0.024982  \n",
       " 3         0.055639      0.193246     -0.024982  \n",
       " 4         0.054542      0.184456     -0.025938  \n",
       " ...            ...           ...           ...  \n",
       " 2305     -0.000401     -0.002371      0.001097  \n",
       " 2306     -0.000401     -0.002371      0.001097  \n",
       " 2307     -0.000401     -0.002371      0.001097  \n",
       " 2308     -0.000345     -0.002122      0.000945  \n",
       " 2309     -0.000345     -0.002122      0.000945  \n",
       " \n",
       " [2310 rows x 30 columns],\n",
       "      absoluteTime  differentialTime  desiredYawRate  clutch  frontObstacle  \\\n",
       " 0       88.011581          0.012416        0.001102   False       2.282619   \n",
       " 1       88.024345          0.012765        0.001102   False       2.282619   \n",
       " 2       88.036636          0.012296        0.001102   False       2.282619   \n",
       " 3       88.049400          0.012764        0.001102   False       2.282619   \n",
       " 4       88.061577          0.012173        0.000251   False       2.277465   \n",
       " ..            ...               ...             ...     ...            ...   \n",
       " 990    100.388107          0.012198        0.000002    True       0.137354   \n",
       " 991    100.400909          0.012801       -0.000078    True       0.137715   \n",
       " 992    100.413437          0.012528       -0.000078    True       0.137715   \n",
       " 993    100.425751          0.012313       -0.000078    True       0.137715   \n",
       " 994    100.438034          0.012283       -0.000078    True       0.137715   \n",
       " \n",
       "      backObstacle  leftObstacle  rightObstacle  upObstacle  downObstacle  ...  \\\n",
       " 0        4.170246      4.015351       3.984872    5.325589      0.026936  ...   \n",
       " 1        4.170246      4.015351       3.984872    5.325589      0.026936  ...   \n",
       " 2        4.170246      4.015351       3.984872    5.325589      0.026936  ...   \n",
       " 3        4.170246      4.015351       3.984872    5.325589      0.026936  ...   \n",
       " 4        4.175735      4.015280       3.984869    5.318050      0.034703  ...   \n",
       " ..            ...           ...            ...         ...           ...  ...   \n",
       " 990      6.312665      3.952772       4.047228    5.116420      0.883597  ...   \n",
       " 991      6.312299      3.952700       4.047300    5.116182      0.883830  ...   \n",
       " 992      6.312299      3.952700       4.047300    5.116182      0.883830  ...   \n",
       " 993      6.312299      3.952700       4.047300    5.116182      0.883830  ...   \n",
       " 994      6.312299      3.952700       4.047300    5.116182      0.883830  ...   \n",
       " \n",
       "      mocapQuaternion.x  mocapQuaternion.y  mocapQuaternion.z  \\\n",
       " 0             0.712370           0.362487          -0.444337   \n",
       " 1             0.712536           0.362772          -0.443551   \n",
       " 2             0.712891           0.364854          -0.442355   \n",
       " 3             0.713516           0.365533          -0.440917   \n",
       " 4             0.712982           0.366822          -0.441219   \n",
       " ..                 ...                ...                ...   \n",
       " 990           0.656810           0.276763          -0.518444   \n",
       " 991           0.656006           0.277256          -0.520575   \n",
       " 992           0.656467           0.276665          -0.519673   \n",
       " 993           0.657734           0.277255          -0.517971   \n",
       " 994           0.659599           0.277943          -0.516182   \n",
       " \n",
       "      mocapQuaternion.w  dronePosition.x  dronePosition.y  dronePosition.z  \\\n",
       " 0             0.404595         0.168394         0.676924        -0.015238   \n",
       " 1             0.404909         0.168394         0.676924        -0.015238   \n",
       " 2             0.403721         0.168394         0.676924        -0.015238   \n",
       " 3             0.403575         0.168394         0.676924        -0.015238   \n",
       " 4             0.403019         0.173664         0.684685        -0.015204   \n",
       " ..                 ...              ...              ...              ...   \n",
       " 990           0.472461         2.312647         0.883594         0.047228   \n",
       " 991           0.470944         2.312285         0.883829         0.047300   \n",
       " 992           0.471643         2.312285         0.883829         0.047300   \n",
       " 993           0.471403         2.312285         0.883829         0.047300   \n",
       " 994           0.470355         2.312285         0.883829         0.047300   \n",
       " \n",
       "      droneSpeed.x  droneSpeed.y  droneSpeed.z  \n",
       " 0        0.091027      0.163772      0.004285  \n",
       " 1        0.091027      0.163772      0.004285  \n",
       " 2        0.091027      0.163772      0.004285  \n",
       " 3        0.091027      0.163772      0.004285  \n",
       " 4        0.105393      0.155233      0.000680  \n",
       " ..            ...           ...           ...  \n",
       " 990     -0.008385      0.005230      0.001675  \n",
       " 991     -0.007227      0.004683      0.001443  \n",
       " 992     -0.007227      0.004683      0.001443  \n",
       " 993     -0.007227      0.004683      0.001443  \n",
       " 994     -0.007227      0.004683      0.001443  \n",
       " \n",
       " [995 rows x 30 columns],\n",
       "      absoluteTime  differentialTime  desiredYawRate  clutch  frontObstacle  \\\n",
       " 0      103.958755          0.012432       -0.000070   False       2.351549   \n",
       " 1      103.971275          0.012520       -0.000070   False       2.351549   \n",
       " 2      103.983627          0.012351       -0.000070   False       2.351549   \n",
       " 3      103.996445          0.012815       -0.000070   False       2.351549   \n",
       " 4      104.008827          0.012380       -0.000024   False       2.347479   \n",
       " ..            ...               ...             ...     ...            ...   \n",
       " 885    115.022408          0.012393       -0.000003    True       0.158964   \n",
       " 886    115.034843          0.012432       -0.000003    True       0.158964   \n",
       " 887    115.047546          0.012704       -0.000003    True       0.158964   \n",
       " 888    115.060173          0.012627        0.000000    True       0.158966   \n",
       " 889    115.073387          0.013214        0.000000    True       0.158966   \n",
       " \n",
       "      backObstacle  leftObstacle  rightObstacle  upObstacle  downObstacle  ...  \\\n",
       " 0        4.098691      4.005663       3.994414    5.310430      0.039822  ...   \n",
       " 1        4.098691      4.005663       3.994414    5.310430      0.039822  ...   \n",
       " 2        4.098691      4.005663       3.994414    5.310430      0.039822  ...   \n",
       " 3        4.098691      4.005663       3.994414    5.310430      0.039822  ...   \n",
       " 4        4.102742      4.005854       3.994229    5.292726      0.057512  ...   \n",
       " ..            ...           ...            ...         ...           ...  ...   \n",
       " 885      6.291036      3.969966       4.030034    5.047427      0.952573  ...   \n",
       " 886      6.291036      3.969966       4.030034    5.047427      0.952573  ...   \n",
       " 887      6.291036      3.969966       4.030034    5.047427      0.952573  ...   \n",
       " 888      6.291035      3.969947       4.030053    5.047519      0.952481  ...   \n",
       " 889      6.291035      3.969947       4.030053    5.047519      0.952481  ...   \n",
       " \n",
       "      mocapQuaternion.x  mocapQuaternion.y  mocapQuaternion.z  \\\n",
       " 0             0.700586           0.362058          -0.473927   \n",
       " 1             0.702450           0.353392          -0.478421   \n",
       " 2             0.697417           0.363313          -0.478126   \n",
       " 3             0.698499           0.366806          -0.472511   \n",
       " 4             0.696892           0.369572          -0.476725   \n",
       " ..                 ...                ...                ...   \n",
       " 885           0.682073           0.286954          -0.499673   \n",
       " 886           0.681845           0.287177          -0.499647   \n",
       " 887           0.683239           0.287031          -0.497256   \n",
       " 888           0.683953           0.286942          -0.496321   \n",
       " 889           0.683985           0.286216          -0.496845   \n",
       " \n",
       "      mocapQuaternion.w  dronePosition.x  dronePosition.y  dronePosition.z  \\\n",
       " 0             0.391774         0.098538         0.689820        -0.005624   \n",
       " 1             0.390885         0.098538         0.689820        -0.005624   \n",
       " 2             0.391164         0.098538         0.689820        -0.005624   \n",
       " 3             0.392792         0.098538         0.689820        -0.005624   \n",
       " 4             0.387933         0.102601         0.707510        -0.005812   \n",
       " ..                 ...              ...              ...              ...   \n",
       " 885           0.450290         2.291036         0.952573         0.030035   \n",
       " 886           0.450522         2.291036         0.952573         0.030035   \n",
       " 887           0.451148         2.291036         0.952573         0.030035   \n",
       " 888           0.451152         2.291034         0.952481         0.030053   \n",
       " 889           0.450989         2.291034         0.952481         0.030053   \n",
       " \n",
       "      droneSpeed.x  droneSpeed.y  droneSpeed.z  \n",
       " 0        0.085341      0.371399     -0.001672  \n",
       " 1        0.085341      0.371399     -0.001672  \n",
       " 2        0.085341      0.371399     -0.001672  \n",
       " 3        0.085341      0.371399     -0.001672  \n",
       " 4        0.081259      0.353797     -0.003757  \n",
       " ..            ...           ...           ...  \n",
       " 885     -0.000029     -0.002046      0.000437  \n",
       " 886     -0.000029     -0.002046      0.000437  \n",
       " 887     -0.000029     -0.002046      0.000437  \n",
       " 888     -0.000025     -0.001831      0.000377  \n",
       " 889     -0.000025     -0.001831      0.000377  \n",
       " \n",
       " [890 rows x 30 columns],\n",
       "       absoluteTime  differentialTime  desiredYawRate  clutch  frontObstacle  \\\n",
       " 0       118.361137          0.012584        0.001414   False       2.372097   \n",
       " 1       118.374039          0.012902        0.001414   False       2.372097   \n",
       " 2       118.385948          0.011907        0.001414   False       2.372097   \n",
       " 3       118.398537          0.012589        0.001414   False       2.372097   \n",
       " 4       118.411057          0.012527        0.001993   False       2.368342   \n",
       " ...            ...               ...             ...     ...            ...   \n",
       " 1646    138.937134          0.012695        0.000724    True       0.158710   \n",
       " 1647    138.949677          0.012541        0.000724    True       0.158710   \n",
       " 1648    138.962051          0.012377       -0.000027    True       0.156137   \n",
       " 1649    138.974548          0.012497       -0.000027    True       0.156137   \n",
       " 1650    138.987167          0.012621       -0.000027    True       0.156137   \n",
       " \n",
       "       backObstacle  leftObstacle  rightObstacle  upObstacle  downObstacle  \\\n",
       " 0         4.080348      4.018532       3.982945    5.312902      0.040115   \n",
       " 1         4.080348      4.018532       3.982945    5.312902      0.040115   \n",
       " 2         4.080348      4.018532       3.982945    5.312902      0.040115   \n",
       " 3         4.080348      4.018532       3.982945    5.312902      0.040115   \n",
       " 4         4.084785      4.020494       3.980833    5.299387      0.054095   \n",
       " ...            ...           ...            ...         ...           ...   \n",
       " 1646      6.292341      3.937906       4.062124    5.081619      0.919381   \n",
       " 1647      6.292341      3.937906       4.062124    5.081619      0.919381   \n",
       " 1648      6.294605      3.937533       4.062486    5.081051      0.919654   \n",
       " 1649      6.294605      3.937533       4.062486    5.081051      0.919654   \n",
       " 1650      6.294605      3.937533       4.062486    5.081051      0.919654   \n",
       " \n",
       "       ...  mocapQuaternion.x  mocapQuaternion.y  mocapQuaternion.z  \\\n",
       " 0     ...           0.732937           0.362630          -0.443072   \n",
       " 1     ...           0.731842           0.366749          -0.444166   \n",
       " 2     ...           0.732476           0.368592          -0.442648   \n",
       " 3     ...           0.734310           0.369662          -0.439907   \n",
       " 4     ...           0.736320           0.370562          -0.436905   \n",
       " ...   ...                ...                ...                ...   \n",
       " 1646  ...           0.708597           0.316247          -0.497614   \n",
       " 1647  ...           0.709322           0.314994          -0.497061   \n",
       " 1648  ...           0.708836           0.315437          -0.496786   \n",
       " 1649  ...           0.707305           0.316365          -0.497828   \n",
       " 1650  ...           0.707298           0.317127          -0.496174   \n",
       " \n",
       "       mocapQuaternion.w  dronePosition.x  dronePosition.y  dronePosition.z  \\\n",
       " 0              0.367411         0.078802         0.690093        -0.017789   \n",
       " 1              0.364169         0.078802         0.690093        -0.017789   \n",
       " 2              0.362880         0.078802         0.690093        -0.017789   \n",
       " 3              0.361416         0.078802         0.690093        -0.017789   \n",
       " 4              0.360043         0.082806         0.704059        -0.019827   \n",
       " ...                 ...              ...              ...              ...   \n",
       " 1646           0.387632         2.291316         0.919228         0.062110   \n",
       " 1647           0.388035         2.291316         0.919228         0.062110   \n",
       " 1648           0.388915         2.293881         0.919546         0.062477   \n",
       " 1649           0.389615         2.293881         0.919546         0.062477   \n",
       " 1650           0.391115         2.293881         0.919546         0.062477   \n",
       " \n",
       "       droneSpeed.x  droneSpeed.y  droneSpeed.z  \n",
       " 0         0.066946      0.292851     -0.031579  \n",
       " 1         0.066946      0.292851     -0.031579  \n",
       " 2         0.066946      0.292851     -0.031579  \n",
       " 3         0.066946      0.292851     -0.031579  \n",
       " 4         0.080083      0.279339     -0.040752  \n",
       " ...            ...           ...           ...  \n",
       " 1646      0.060130      0.006984      0.008691  \n",
       " 1647      0.060130      0.006984      0.008691  \n",
       " 1648      0.051289      0.006362      0.007339  \n",
       " 1649      0.051289      0.006362      0.007339  \n",
       " 1650      0.051289      0.006362      0.007339  \n",
       " \n",
       " [1651 rows x 30 columns]]"
      ]
     },
     "execution_count": 23,
     "metadata": {},
     "output_type": "execute_result"
    }
   ],
   "source": [
    "logs[fields[0]][0]"
   ]
  },
  {
   "cell_type": "code",
   "execution_count": 27,
   "metadata": {},
   "outputs": [
    {
     "ename": "TypeError",
     "evalue": "list indices must be integers or slices, not str",
     "output_type": "error",
     "traceback": [
      "\u001b[1;31m---------------------------------------------------------------------------\u001b[0m",
      "\u001b[1;31mTypeError\u001b[0m                                 Traceback (most recent call last)",
      "\u001b[1;32m<ipython-input-27-0caff66fc56d>\u001b[0m in \u001b[0;36m<module>\u001b[1;34m\u001b[0m\n\u001b[0;32m      4\u001b[0m     \u001b[0mvar\u001b[0m\u001b[1;33m[\u001b[0m\u001b[0mi\u001b[0m\u001b[1;33m]\u001b[0m \u001b[1;33m=\u001b[0m \u001b[1;33m[\u001b[0m\u001b[1;33m]\u001b[0m\u001b[1;33m\u001b[0m\u001b[1;33m\u001b[0m\u001b[0m\n\u001b[0;32m      5\u001b[0m     \u001b[1;32mfor\u001b[0m \u001b[0mj\u001b[0m \u001b[1;32min\u001b[0m \u001b[0mlogs\u001b[0m\u001b[1;33m[\u001b[0m\u001b[0mi\u001b[0m\u001b[1;33m]\u001b[0m\u001b[1;33m:\u001b[0m\u001b[1;33m\u001b[0m\u001b[1;33m\u001b[0m\u001b[0m\n\u001b[1;32m----> 6\u001b[1;33m         \u001b[0mvar\u001b[0m\u001b[1;33m[\u001b[0m\u001b[0mi\u001b[0m\u001b[1;33m]\u001b[0m\u001b[1;33m.\u001b[0m\u001b[0mappend\u001b[0m\u001b[1;33m(\u001b[0m\u001b[0mfind_max_x\u001b[0m\u001b[1;33m(\u001b[0m\u001b[0mj\u001b[0m\u001b[1;33m)\u001b[0m\u001b[1;33m)\u001b[0m\u001b[1;33m\u001b[0m\u001b[1;33m\u001b[0m\u001b[0m\n\u001b[0m\u001b[0;32m      7\u001b[0m     \u001b[0mprint\u001b[0m\u001b[1;33m(\u001b[0m\u001b[0mi\u001b[0m\u001b[1;33m)\u001b[0m\u001b[1;33m\u001b[0m\u001b[1;33m\u001b[0m\u001b[0m\n\u001b[0;32m      8\u001b[0m     \u001b[0mprint\u001b[0m\u001b[1;33m(\u001b[0m\u001b[0mvar\u001b[0m\u001b[1;33m[\u001b[0m\u001b[0mi\u001b[0m\u001b[1;33m]\u001b[0m\u001b[1;33m)\u001b[0m\u001b[1;33m\u001b[0m\u001b[1;33m\u001b[0m\u001b[0m\n",
      "\u001b[1;32m<ipython-input-26-a95187ca4749>\u001b[0m in \u001b[0;36mfind_max_x\u001b[1;34m(df)\u001b[0m\n\u001b[0;32m      1\u001b[0m \u001b[1;32mdef\u001b[0m \u001b[0mfind_max_x\u001b[0m\u001b[1;33m(\u001b[0m\u001b[0mdf\u001b[0m\u001b[1;33m)\u001b[0m\u001b[1;33m:\u001b[0m\u001b[1;33m\u001b[0m\u001b[1;33m\u001b[0m\u001b[0m\n\u001b[0;32m      2\u001b[0m \u001b[1;33m\u001b[0m\u001b[0m\n\u001b[1;32m----> 3\u001b[1;33m     \u001b[0mn\u001b[0m \u001b[1;33m=\u001b[0m \u001b[0mmax\u001b[0m\u001b[1;33m(\u001b[0m\u001b[0mdf\u001b[0m\u001b[1;33m[\u001b[0m\u001b[1;34m'dronePosition.x'\u001b[0m\u001b[1;33m]\u001b[0m\u001b[1;33m)\u001b[0m\u001b[1;33m\u001b[0m\u001b[1;33m\u001b[0m\u001b[0m\n\u001b[0m\u001b[0;32m      4\u001b[0m \u001b[1;33m\u001b[0m\u001b[0m\n\u001b[0;32m      5\u001b[0m     \u001b[1;32mreturn\u001b[0m \u001b[0mn\u001b[0m\u001b[1;33m\u001b[0m\u001b[1;33m\u001b[0m\u001b[0m\n",
      "\u001b[1;31mTypeError\u001b[0m: list indices must be integers or slices, not str"
     ]
    }
   ],
   "source": [
    "var = {}\n",
    "\n",
    "for i in fields:\n",
    "    var[i] = []\n",
    "    for j in logs[i]:\n",
    "        var[i].append(find_max_x(j))\n",
    "    print(i)\n",
    "    print(var[i])\n",
    "\n",
    "    var['means'].append(np.mean(var[i]))\n",
    "    var['stds'].append(np.std(var[i]))\n",
    "\n",
    "    print(var['means'][-1])\n",
    "    print(var['stds'][-1])\n",
    "\n",
    "    print()"
   ]
  },
  {
   "cell_type": "code",
   "execution_count": 30,
   "metadata": {},
   "outputs": [
    {
     "data": {
      "text/plain": [
       "4"
      ]
     },
     "execution_count": 30,
     "metadata": {},
     "output_type": "execute_result"
    }
   ],
   "source": [
    "len(logs['motion'])"
   ]
  },
  {
   "cell_type": "code",
   "execution_count": null,
   "metadata": {
    "scrolled": true
   },
   "outputs": [],
   "source": [
    "def runBasicAnalysis(f):\n",
    "    \n",
    "    var = {}\n",
    "\n",
    "    var['means'] = []\n",
    "    var['stds'] = []\n",
    "\n",
    "    for i in fields:\n",
    "        var[i] = []\n",
    "        for j in logs[i]:\n",
    "            var[i].append(f(j))\n",
    "        print(i)\n",
    "        print(var[i])\n",
    "\n",
    "        var['means'].append(np.mean(var[i]))\n",
    "        var['stds'].append(np.std(var[i]))\n",
    "\n",
    "        print(var['means'][-1])\n",
    "        print(var['stds'][-1])\n",
    "\n",
    "        print()\n",
    "    for i in fields:\n",
    "        for j in fields:\n",
    "            t, p = stats.ttest_ind(var[i],var[j])\n",
    "\n",
    "            print (i,j)\n",
    "            print (p)\n",
    "            print()\n",
    "            \n",
    "    var['diff_mot'] = 1-np.array(var['last_motion'])/np.array(var['first_motion'])\n",
    "    var['diff_rem'] = 1-np.array(var['last_remote'])/np.array(var['first_remote'])\n",
    "\n",
    "    # var['diff_mot'] = np.array(var['last_motion'])-np.array(var['first_motion'])\n",
    "    # var['diff_rem'] = np.array(var['last_remote'])-np.array(var['first_remote'])\n",
    "\n",
    "\n",
    "    print('motion ratio')\n",
    "    print(var['diff_mot'])\n",
    "    print(np.mean(var['diff_mot']))\n",
    "    print(np.std(var['diff_mot']))\n",
    "    print()\n",
    "    print('remote ratio')\n",
    "    print(var['diff_rem'])\n",
    "    print(np.mean(var['diff_rem']))\n",
    "    print(np.std(var['diff_rem']))\n",
    "\n",
    "    t, p = stats.ttest_ind(var['diff_mot'], var['diff_rem'])\n",
    "\n",
    "    print()\n",
    "    print('p = ', p)\n",
    "            \n",
    "    return var"
   ]
  },
  {
   "cell_type": "markdown",
   "metadata": {},
   "source": [
    "# Plot Trajectories"
   ]
  },
  {
   "cell_type": "code",
   "execution_count": null,
   "metadata": {
    "scrolled": true
   },
   "outputs": [],
   "source": [
    "fig = plt.figure(figsize=(6,6))\n",
    "\n",
    "plt.rcParams.update({'font.size': 6})\n",
    "\n",
    "for idx,i in enumerate(fields):\n",
    "    ax = fig.add_subplot(221+idx, projection='3d')\n",
    "    for idx1,log in enumerate(logs[i]):\n",
    "        ax.scatter(log['dronePosition.x'],log['dronePosition.z'],log['dronePosition.y'], s = 1, label=fields[idx] + ' try subject ' + str(idx1))\n",
    "    define_plot_pos(ax)"
   ]
  },
  {
   "cell_type": "markdown",
   "metadata": {},
   "source": [
    "# Collisions"
   ]
  },
  {
   "cell_type": "code",
   "execution_count": 26,
   "metadata": {},
   "outputs": [],
   "source": [
    "def find_max_x(df):\n",
    "    \n",
    "    n = max(df['dronePosition.x'])\n",
    "    \n",
    "    return n"
   ]
  },
  {
   "cell_type": "code",
   "execution_count": null,
   "metadata": {
    "scrolled": true
   },
   "outputs": [],
   "source": [
    "coll = runBasicAnalysis(compColl)"
   ]
  },
  {
   "cell_type": "markdown",
   "metadata": {},
   "source": [
    "# Time analysis"
   ]
  },
  {
   "cell_type": "code",
   "execution_count": null,
   "metadata": {},
   "outputs": [],
   "source": [
    "def compTime(df):\n",
    "    return df['absoluteTime'].iloc[-1] - df['absoluteTime'].iloc[0]"
   ]
  },
  {
   "cell_type": "code",
   "execution_count": null,
   "metadata": {
    "scrolled": true
   },
   "outputs": [],
   "source": [
    "time = runBasicAnalysis(compTime)"
   ]
  },
  {
   "cell_type": "code",
   "execution_count": null,
   "metadata": {},
   "outputs": [],
   "source": []
  },
  {
   "cell_type": "code",
   "execution_count": null,
   "metadata": {},
   "outputs": [],
   "source": [
    "size = 6\n",
    "\n",
    "fig = plt.figure(figsize=(8, 4))\n",
    "ax = fig.add_subplot(121)\n",
    "ax.bar([0, 1, 2, 3],\n",
    "   time['means'],\n",
    "   yerr=time['stds'])\n",
    "\n",
    "plt.xticks(range(4), fields, rotation = 10)\n",
    "\n",
    "ax = fig.add_subplot(122)\n",
    "ax.bar([0, 1],\n",
    "   [np.mean(time_diff_mot), np.mean(time_diff_rem)],\n",
    "   yerr=[np.std(time_diff_mot), np.std(time_diff_rem)])"
   ]
  },
  {
   "cell_type": "markdown",
   "metadata": {},
   "source": [
    "# Distance Analysis"
   ]
  },
  {
   "cell_type": "code",
   "execution_count": null,
   "metadata": {},
   "outputs": [],
   "source": [
    "def compDist(df):\n",
    "    x = df['dronePosition.x'].values\n",
    "    y = df['dronePosition.y'].values\n",
    "    z = df['dronePosition.z'].values\n",
    "\n",
    "    dx = np.diff(x)\n",
    "    dy = np.diff(y)\n",
    "    dz = np.diff(z)\n",
    "\n",
    "    dd = np.sqrt(dx**2+dy**2+dz**2)\n",
    "    d = np.sum(dd)\n",
    "\n",
    "    return d"
   ]
  },
  {
   "cell_type": "code",
   "execution_count": null,
   "metadata": {
    "scrolled": true
   },
   "outputs": [],
   "source": [
    "dist = runBasicAnalysis(compDist)"
   ]
  },
  {
   "cell_type": "code",
   "execution_count": null,
   "metadata": {},
   "outputs": [],
   "source": [
    "size = 6\n",
    "\n",
    "fig = plt.figure(figsize=(8, 4))\n",
    "ax = fig.add_subplot(121)\n",
    "ax.bar([0, 1, 2, 3],\n",
    "   dist['means'],\n",
    "   yerr=dist['stds'])\n",
    "\n",
    "plt.xticks(range(4), fields, rotation = 10)\n",
    "\n",
    "ax = fig.add_subplot(122)\n",
    "ax.bar([0, 1],\n",
    "   [np.mean(dist['diff_mot']), np.mean(dist['diff_rem'])],\n",
    "   yerr=[np.std(dist['diff_mot']), np.std(dist['diff_rem'])])"
   ]
  },
  {
   "cell_type": "markdown",
   "metadata": {},
   "source": [
    "# Energy Analysis"
   ]
  },
  {
   "cell_type": "code",
   "execution_count": null,
   "metadata": {},
   "outputs": [],
   "source": [
    "def compEnergy(df):\n",
    "    df['controlInput'] = np.abs(np.linalg.norm(np.array([df['controlSpeed.x'],df['controlSpeed.y'],df['controlSpeed.z']]), axis=0))#*df['differentialTime']\n",
    "    return df['controlInput'].sum()/df.shape[1]"
   ]
  },
  {
   "cell_type": "code",
   "execution_count": null,
   "metadata": {
    "scrolled": true
   },
   "outputs": [],
   "source": [
    "energy = runBasicAnalysis(compEnergy)"
   ]
  },
  {
   "cell_type": "code",
   "execution_count": null,
   "metadata": {},
   "outputs": [],
   "source": [
    "size = 6\n",
    "\n",
    "fig = plt.figure(figsize=(8, 4))\n",
    "ax = fig.add_subplot(121)\n",
    "ax.bar([0, 1, 2, 3],\n",
    "   energy['means'],\n",
    "   yerr=energy['stds'])\n",
    "\n",
    "plt.xticks(range(4), fields, rotation = 10)\n",
    "\n",
    "ax = fig.add_subplot(122)\n",
    "ax.bar([0, 1],\n",
    "   [np.mean(energy['diff_mot']), np.mean(energy['diff_rem'])],\n",
    "   yerr=[np.std(energy['diff_mot']), np.std(energy['diff_rem'])])"
   ]
  },
  {
   "cell_type": "code",
   "execution_count": null,
   "metadata": {},
   "outputs": [],
   "source": [
    "def compDEnergy(df):\n",
    "    dEnergy = np.abs(np.diff(df['controlInput']))\n",
    "    return np.sum(dEnergy)"
   ]
  },
  {
   "cell_type": "code",
   "execution_count": null,
   "metadata": {
    "scrolled": true
   },
   "outputs": [],
   "source": [
    "dEnergy = runBasicAnalysis(compDEnergy)"
   ]
  },
  {
   "cell_type": "code",
   "execution_count": null,
   "metadata": {},
   "outputs": [],
   "source": [
    "size = 6\n",
    "\n",
    "fig = plt.figure(figsize=(8, 4))\n",
    "ax = fig.add_subplot(121)\n",
    "ax.bar([0, 1, 2, 3],\n",
    "   dEnergy['means'],\n",
    "   yerr=dEnergy['stds'])\n",
    "\n",
    "plt.xticks(range(4), fields, rotation = 10)\n",
    "\n",
    "ax = fig.add_subplot(122)\n",
    "ax.bar([0, 1],\n",
    "   [np.mean(dEnergy['diff_mot']), np.mean(dEnergy['diff_rem'])],\n",
    "   yerr=[np.std(dEnergy['diff_mot']), np.std(dEnergy['diff_rem'])])"
   ]
  },
  {
   "cell_type": "markdown",
   "metadata": {},
   "source": [
    "# Analyze collisions for learning curve experiment"
   ]
  },
  {
   "cell_type": "code",
   "execution_count": null,
   "metadata": {},
   "outputs": [],
   "source": [
    "av_collisions = {\"Controller_First\" : 0,\n",
    "                      \"Controller_Last\" : 0,\n",
    "                      \"MotionCapture_First\" : 0,\n",
    "                      \"MotionCapture_Last\" : 0}"
   ]
  },
  {
   "cell_type": "code",
   "execution_count": null,
   "metadata": {},
   "outputs": [],
   "source": [
    "# sum number of collisions per type\n",
    "for setup in logs:\n",
    "    print('processing '+setup)\n",
    "    temp = 0\n",
    "    for df in logs[setup]:\n",
    "        temp += np.sum(np.diff(df['collision'])==1)\n",
    "    av_collisions[setup] = temp / len(logs[setup])"
   ]
  },
  {
   "cell_type": "code",
   "execution_count": null,
   "metadata": {},
   "outputs": [],
   "source": [
    "fig = plt.figure()\n",
    "plt.bar(av_collisions.keys(), av_collisions.values(), color='g')\n",
    "plt.ylabel('Mean number of collisions per subject')\n",
    "plt.show()"
   ]
  }
 ],
 "metadata": {
  "kernelspec": {
   "display_name": "Python 3",
   "language": "python",
   "name": "python3"
  },
  "language_info": {
   "codemirror_mode": {
    "name": "ipython",
    "version": 3
   },
   "file_extension": ".py",
   "mimetype": "text/x-python",
   "name": "python",
   "nbconvert_exporter": "python",
   "pygments_lexer": "ipython3",
   "version": "3.7.3"
  },
  "varInspector": {
   "cols": {
    "lenName": 16,
    "lenType": 16,
    "lenVar": 40
   },
   "kernels_config": {
    "python": {
     "delete_cmd_postfix": "",
     "delete_cmd_prefix": "del ",
     "library": "var_list.py",
     "varRefreshCmd": "print(var_dic_list())"
    },
    "r": {
     "delete_cmd_postfix": ") ",
     "delete_cmd_prefix": "rm(",
     "library": "var_list.r",
     "varRefreshCmd": "cat(var_dic_list()) "
    }
   },
   "position": {
    "height": "472.85px",
    "left": "1048.6px",
    "right": "20px",
    "top": "22px",
    "width": "462.8px"
   },
   "types_to_exclude": [
    "module",
    "function",
    "builtin_function_or_method",
    "instance",
    "_Feature"
   ],
   "window_display": false
  }
 },
 "nbformat": 4,
 "nbformat_minor": 4
}
