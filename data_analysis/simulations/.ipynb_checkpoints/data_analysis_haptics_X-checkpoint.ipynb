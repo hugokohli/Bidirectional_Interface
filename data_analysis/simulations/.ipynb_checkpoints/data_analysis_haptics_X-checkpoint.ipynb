{
 "cells": [
  {
   "cell_type": "code",
   "execution_count": 1,
   "metadata": {},
   "outputs": [],
   "source": [
    "%load_ext autoreload\n",
    "%autoreload 2\n",
    "\n",
    "import numpy as np\n",
    "import pandas as pd\n",
    "import seaborn as sn\n",
    "import json\n",
    "import glob, os\n",
    "import matplotlib.pyplot as plt\n",
    "import matplotlib as mpl\n",
    "from mpl_toolkits.mplot3d import Axes3D\n",
    "from scipy import stats\n",
    "from numpy.random import seed\n",
    "from scipy.stats import kruskal\n",
    "\n",
    "from termcolor import colored\n",
    "import my_plots\n",
    "from matplotlib.pylab import savefig"
   ]
  },
  {
   "cell_type": "code",
   "execution_count": 47,
   "metadata": {},
   "outputs": [],
   "source": [
    "# plot settings\n",
    "\n",
    "lw = 1.5\n",
    "\n",
    "fs = 13\n",
    "\n",
    "params = {\n",
    "    'axes.labelsize': fs,\n",
    "    'font.size': fs,\n",
    "    'legend.fontsize': fs,\n",
    "    'xtick.labelsize': fs,\n",
    "    'ytick.labelsize': fs,\n",
    "    'text.usetex': False,\n",
    "    'figure.figsize': [4, 4],\n",
    "    'boxplot.boxprops.linewidth' : lw,\n",
    "    'boxplot.whiskerprops.linewidth' : lw,\n",
    "    'boxplot.capprops.linewidth' : lw,\n",
    "    'boxplot.medianprops.linewidth' : lw,\n",
    "    'text.usetex' : True,\n",
    "    'font.family' : 'serif',\n",
    "\n",
    "   }\n",
    "mpl.rcParams.update(params)"
   ]
  },
  {
   "cell_type": "code",
   "execution_count": 3,
   "metadata": {
    "jupyter": {
     "source_hidden": true
    }
   },
   "outputs": [],
   "source": [
    "# plot settings\n",
    "\n",
    "lw = 1.5\n",
    "\n",
    "fs = 13\n",
    "\n",
    "params = {\n",
    "    'axes.labelsize': fs,\n",
    "    'font.size': fs,\n",
    "    'legend.fontsize': fs,\n",
    "    'xtick.labelsize': fs,\n",
    "    'ytick.labelsize': fs,\n",
    "    'text.usetex': False,\n",
    "    'figure.figsize': [6, 3],\n",
    "    'boxplot.boxprops.linewidth' : lw,\n",
    "    'boxplot.whiskerprops.linewidth' : lw,\n",
    "    'boxplot.capprops.linewidth' : lw,\n",
    "    'boxplot.medianprops.linewidth' : lw,\n",
    "    'text.usetex' : True,\n",
    "    'font.family' : 'serif',\n",
    "\n",
    "   }\n",
    "mpl.rcParams.update(params)"
   ]
  },
  {
   "cell_type": "markdown",
   "metadata": {},
   "source": [
    "# Plots for the haptics experiment"
   ]
  },
  {
   "cell_type": "code",
   "execution_count": 4,
   "metadata": {
    "jupyter": {
     "source_hidden": true
    }
   },
   "outputs": [],
   "source": [
    "def dfFromJSON(file):\n",
    "    with open(file) as f:\n",
    "        temp = []\n",
    "        for line in f:\n",
    "            temp.append(json.loads(line))\n",
    "            \n",
    "    df = pd.io.json.json_normalize(temp[0]['allLogs'])\n",
    "    df.columns = df.columns.map(lambda x: x.split(\"*.\")[-1])\n",
    "    return df"
   ]
  },
  {
   "cell_type": "code",
   "execution_count": 5,
   "metadata": {
    "jupyter": {
     "source_hidden": true
    }
   },
   "outputs": [],
   "source": [
    "def appendToLogs(file, log, _type):\n",
    "    df = dfFromJSON(file)\n",
    "    log[_type].append(df)"
   ]
  },
  {
   "cell_type": "code",
   "execution_count": 6,
   "metadata": {
    "jupyter": {
     "source_hidden": true
    }
   },
   "outputs": [
    {
     "data": {
      "text/plain": [
       "['/Volumes/GoogleDrive/My Drive/Matteo/EPFL/LIS/PhD/Bidirectional_wearable_interface/DATA/Haptics/Haptics_X/sub10_Controller/',\n",
       " '/Volumes/GoogleDrive/My Drive/Matteo/EPFL/LIS/PhD/Bidirectional_wearable_interface/DATA/Haptics/Haptics_X/sub10_MotionCapture/',\n",
       " '/Volumes/GoogleDrive/My Drive/Matteo/EPFL/LIS/PhD/Bidirectional_wearable_interface/DATA/Haptics/Haptics_X/sub2_Controller/',\n",
       " '/Volumes/GoogleDrive/My Drive/Matteo/EPFL/LIS/PhD/Bidirectional_wearable_interface/DATA/Haptics/Haptics_X/sub2_MotionCapture/',\n",
       " '/Volumes/GoogleDrive/My Drive/Matteo/EPFL/LIS/PhD/Bidirectional_wearable_interface/DATA/Haptics/Haptics_X/sub3_Controller/',\n",
       " '/Volumes/GoogleDrive/My Drive/Matteo/EPFL/LIS/PhD/Bidirectional_wearable_interface/DATA/Haptics/Haptics_X/sub3_MotionCapture/',\n",
       " '/Volumes/GoogleDrive/My Drive/Matteo/EPFL/LIS/PhD/Bidirectional_wearable_interface/DATA/Haptics/Haptics_X/sub4_Controller/',\n",
       " '/Volumes/GoogleDrive/My Drive/Matteo/EPFL/LIS/PhD/Bidirectional_wearable_interface/DATA/Haptics/Haptics_X/sub4_MotionCapture/',\n",
       " '/Volumes/GoogleDrive/My Drive/Matteo/EPFL/LIS/PhD/Bidirectional_wearable_interface/DATA/Haptics/Haptics_X/sub5_Controller/',\n",
       " '/Volumes/GoogleDrive/My Drive/Matteo/EPFL/LIS/PhD/Bidirectional_wearable_interface/DATA/Haptics/Haptics_X/sub5_MotionCapture/',\n",
       " '/Volumes/GoogleDrive/My Drive/Matteo/EPFL/LIS/PhD/Bidirectional_wearable_interface/DATA/Haptics/Haptics_X/sub6_Controller/',\n",
       " '/Volumes/GoogleDrive/My Drive/Matteo/EPFL/LIS/PhD/Bidirectional_wearable_interface/DATA/Haptics/Haptics_X/sub6_MotionCapture/',\n",
       " '/Volumes/GoogleDrive/My Drive/Matteo/EPFL/LIS/PhD/Bidirectional_wearable_interface/DATA/Haptics/Haptics_X/sub7_Controller/',\n",
       " '/Volumes/GoogleDrive/My Drive/Matteo/EPFL/LIS/PhD/Bidirectional_wearable_interface/DATA/Haptics/Haptics_X/sub7_MotionCapture/',\n",
       " '/Volumes/GoogleDrive/My Drive/Matteo/EPFL/LIS/PhD/Bidirectional_wearable_interface/DATA/Haptics/Haptics_X/sub8_Controller/',\n",
       " '/Volumes/GoogleDrive/My Drive/Matteo/EPFL/LIS/PhD/Bidirectional_wearable_interface/DATA/Haptics/Haptics_X/sub8_MotionCapture/',\n",
       " '/Volumes/GoogleDrive/My Drive/Matteo/EPFL/LIS/PhD/Bidirectional_wearable_interface/DATA/Haptics/Haptics_X/sub9_Controller/',\n",
       " '/Volumes/GoogleDrive/My Drive/Matteo/EPFL/LIS/PhD/Bidirectional_wearable_interface/DATA/Haptics/Haptics_X/sub9_MotionCapture/']"
      ]
     },
     "execution_count": 6,
     "metadata": {},
     "output_type": "execute_result"
    }
   ],
   "source": [
    "path_to_folder = \"/Volumes/GoogleDrive/My Drive/Matteo/EPFL/LIS/PhD/Bidirectional_wearable_interface/DATA/Haptics/Haptics_X/\"\n",
    "subjects = glob.glob(path_to_folder + \"*/\")\n",
    "\n",
    "logs = {}\n",
    "for curr in subjects:\n",
    "    logs[curr] = []\n",
    "    \n",
    "subjects.sort()\n",
    "subjects"
   ]
  },
  {
   "cell_type": "code",
   "execution_count": 7,
   "metadata": {
    "jupyter": {
     "source_hidden": true
    }
   },
   "outputs": [],
   "source": [
    "# # used to remove outliers\n",
    "\n",
    "# subjects.remove(subjects[5])\n",
    "# subjects.remove(subjects[4])\n",
    "\n",
    "# logs = {}\n",
    "# for curr in subjects:\n",
    "#     logs[curr] = []\n",
    "    \n",
    "# subjects"
   ]
  },
  {
   "cell_type": "code",
   "execution_count": 8,
   "metadata": {
    "jupyter": {
     "source_hidden": true
    }
   },
   "outputs": [
    {
     "name": "stdout",
     "output_type": "stream",
     "text": [
      "/Volumes/GoogleDrive/My Drive/Matteo/EPFL/LIS/PhD/Bidirectional_wearable_interface/DATA/Haptics/Haptics_X/sub10_Controller/\n",
      "/Volumes/GoogleDrive/My Drive/Matteo/EPFL/LIS/PhD/Bidirectional_wearable_interface/DATA/Haptics/Haptics_X/sub10_MotionCapture/\n",
      "/Volumes/GoogleDrive/My Drive/Matteo/EPFL/LIS/PhD/Bidirectional_wearable_interface/DATA/Haptics/Haptics_X/sub2_Controller/\n",
      "/Volumes/GoogleDrive/My Drive/Matteo/EPFL/LIS/PhD/Bidirectional_wearable_interface/DATA/Haptics/Haptics_X/sub2_MotionCapture/\n",
      "/Volumes/GoogleDrive/My Drive/Matteo/EPFL/LIS/PhD/Bidirectional_wearable_interface/DATA/Haptics/Haptics_X/sub3_Controller/\n",
      "/Volumes/GoogleDrive/My Drive/Matteo/EPFL/LIS/PhD/Bidirectional_wearable_interface/DATA/Haptics/Haptics_X/sub3_MotionCapture/\n",
      "/Volumes/GoogleDrive/My Drive/Matteo/EPFL/LIS/PhD/Bidirectional_wearable_interface/DATA/Haptics/Haptics_X/sub4_Controller/\n",
      "/Volumes/GoogleDrive/My Drive/Matteo/EPFL/LIS/PhD/Bidirectional_wearable_interface/DATA/Haptics/Haptics_X/sub4_MotionCapture/\n",
      "/Volumes/GoogleDrive/My Drive/Matteo/EPFL/LIS/PhD/Bidirectional_wearable_interface/DATA/Haptics/Haptics_X/sub5_Controller/\n",
      "/Volumes/GoogleDrive/My Drive/Matteo/EPFL/LIS/PhD/Bidirectional_wearable_interface/DATA/Haptics/Haptics_X/sub5_MotionCapture/\n",
      "/Volumes/GoogleDrive/My Drive/Matteo/EPFL/LIS/PhD/Bidirectional_wearable_interface/DATA/Haptics/Haptics_X/sub6_Controller/\n",
      "/Volumes/GoogleDrive/My Drive/Matteo/EPFL/LIS/PhD/Bidirectional_wearable_interface/DATA/Haptics/Haptics_X/sub6_MotionCapture/\n",
      "/Volumes/GoogleDrive/My Drive/Matteo/EPFL/LIS/PhD/Bidirectional_wearable_interface/DATA/Haptics/Haptics_X/sub7_Controller/\n",
      "/Volumes/GoogleDrive/My Drive/Matteo/EPFL/LIS/PhD/Bidirectional_wearable_interface/DATA/Haptics/Haptics_X/sub7_MotionCapture/\n",
      "/Volumes/GoogleDrive/My Drive/Matteo/EPFL/LIS/PhD/Bidirectional_wearable_interface/DATA/Haptics/Haptics_X/sub8_Controller/\n",
      "/Volumes/GoogleDrive/My Drive/Matteo/EPFL/LIS/PhD/Bidirectional_wearable_interface/DATA/Haptics/Haptics_X/sub8_MotionCapture/\n",
      "/Volumes/GoogleDrive/My Drive/Matteo/EPFL/LIS/PhD/Bidirectional_wearable_interface/DATA/Haptics/Haptics_X/sub9_Controller/\n",
      "/Volumes/GoogleDrive/My Drive/Matteo/EPFL/LIS/PhD/Bidirectional_wearable_interface/DATA/Haptics/Haptics_X/sub9_MotionCapture/\n"
     ]
    }
   ],
   "source": [
    "EXP_N_THOMAS = 4\n",
    "EXP_N = 5\n",
    "\n",
    "for subject in subjects:\n",
    "    print(subject)\n",
    "    files = glob.glob(subject+\"*.json\")\n",
    "    files.sort()\n",
    "    \n",
    "    if len(files) != EXP_N and len(files) != EXP_N_THOMAS:\n",
    "        print('wrong number of experiments!')\n",
    "        break\n",
    "    for file in files:\n",
    "        logs[subject].append(dfFromJSON(file))"
   ]
  },
  {
   "cell_type": "code",
   "execution_count": 9,
   "metadata": {
    "jupyter": {
     "source_hidden": true
    }
   },
   "outputs": [],
   "source": [
    "fields = ['first motion', 'last motion', 'first remote', 'last remote']\n",
    "interfaces = ['motion', 'remote']\n",
    "\n",
    "sub_remote = [x for x in subjects if 'Controller' in x]\n",
    "sub_motion = [x for x in subjects if 'Motion' in x]\n",
    "\n",
    "t = [logs[x] for x in sub_motion]\n",
    "logs['motion'] = []\n",
    "for i in t:\n",
    "    for j in i:\n",
    "        logs['motion'].append(j)\n",
    "\n",
    "t = [logs[x] for x in sub_remote]\n",
    "logs['remote'] = []\n",
    "for i in t:\n",
    "    for j in i:\n",
    "        logs['remote'].append(j)\n",
    "\n",
    "logs['first motion'] = [logs[x][0] for x in sub_motion]\n",
    "logs['last motion'] = [logs[x][-1] for x in sub_motion]\n",
    "logs['first remote'] = [logs[x][0] for x in sub_remote]\n",
    "logs['last remote'] = [logs[x][-1] for x in sub_remote]"
   ]
  },
  {
   "cell_type": "code",
   "execution_count": 10,
   "metadata": {
    "scrolled": true
   },
   "outputs": [],
   "source": [
    "def t_test_kruskal(X, Y):\n",
    "    \n",
    "    # Kruskal-Wallis H-test\n",
    "    \n",
    "    # seed the random number generator\n",
    "    seed(1)\n",
    "    \n",
    "    # compare samples\n",
    "    stat, p = kruskal(X, Y)\n",
    "    \n",
    "    return [stat, p]\n",
    "\n",
    "def str_from_p(p):\n",
    "    \n",
    "    if p<0.01:\n",
    "        add_str = ' !!!!!!!!!!'\n",
    "    elif p<0.05:\n",
    "        add_str = ' !!!!!!'\n",
    "    elif p<0.1:\n",
    "        add_str = ' !'\n",
    "    else:\n",
    "        add_str = ''\n",
    "        \n",
    "    return add_str\n",
    "\n",
    "def print_p(p):\n",
    "    \n",
    "    col = None\n",
    "    \n",
    "    if p<0.01:\n",
    "        col = 'green'\n",
    "    elif p<0.05:\n",
    "        col = 'yellow'\n",
    "    elif p<0.1:\n",
    "        col = 'red'\n",
    "        \n",
    "    if col is not None:\n",
    "        print(colored('p = '+ str(p) + str_from_p(p), col))\n",
    "    else:\n",
    "        print('p = '+ str(p) + str_from_p(p))\n",
    "\n",
    "def runBasicAnalysis(f):\n",
    "    \n",
    "    var = {}\n",
    "\n",
    "    var['means'] = []\n",
    "    var['stds'] = []\n",
    "\n",
    "    for i in fields:\n",
    "        var[i] = []\n",
    "        for j in logs[i]:\n",
    "            var[i].append(f(j))\n",
    "        print(i)\n",
    "        print(var[i])\n",
    "\n",
    "        var['means'].append(np.mean(var[i]))\n",
    "        var['stds'].append(np.std(var[i]))\n",
    "\n",
    "        print('mean = ', var['means'][-1])\n",
    "        print('std = ', var['stds'][-1])\n",
    "\n",
    "        print()\n",
    "        \n",
    "            \n",
    "    for idx,i in enumerate(fields):\n",
    "        for j in fields[idx+1:]:\n",
    "            if i != j:\n",
    "                \n",
    "                t, p = t_test_kruskal(var[i],var[j])\n",
    "                \n",
    "                print (i,j)\n",
    "                print_p(p)\n",
    "            \n",
    "    var['diff mot'] = 1-np.array(var['last motion'])/np.array(var['first motion'])\n",
    "    var['diff rem'] = 1-np.array(var['last remote'])/np.array(var['first remote'])\n",
    "\n",
    "    print()\n",
    "    print('motion ratio')\n",
    "    print(var['diff mot'])\n",
    "    print(np.mean(var['diff mot']))\n",
    "    print(np.std(var['diff mot']))\n",
    "    print()\n",
    "    print('remote ratio')\n",
    "    print(var['diff rem'])\n",
    "    print(np.mean(var['diff rem']))\n",
    "    print(np.std(var['diff rem']))\n",
    "\n",
    "    t, p = t_test_kruskal(var['diff mot'], var['diff rem'])\n",
    "\n",
    "    print()\n",
    "    print('p = ', p, str_from_p(p))\n",
    "            \n",
    "    var['diff first'] = 1-np.array(var['first motion'])/np.array(var['first remote'])\n",
    "    var['diff last'] = 1-np.array(var['last motion'])/np.array(var['last remote'])\n",
    "\n",
    "    print()\n",
    "    print('firts ratio')\n",
    "    print(var['diff first'])\n",
    "    print(np.mean(var['diff first']))\n",
    "    print(np.std(var['diff first']))\n",
    "    print()\n",
    "    print('last ratio')\n",
    "    print(var['diff last'])\n",
    "    print(np.mean(var['diff last']))\n",
    "    print(np.std(var['diff last']))\n",
    "\n",
    "    t, p = t_test_kruskal(var['diff first'], var['diff last'])\n",
    "\n",
    "    print()\n",
    "    print('p = ', p, str_from_p(p))\n",
    "            \n",
    "    return var\n",
    "\n",
    "def runHapticsAnalysis(f):\n",
    "    \n",
    "    var = {}\n",
    "\n",
    "    var['means'] = []\n",
    "    var['stds'] = []\n",
    "\n",
    "    for i in interfaces:\n",
    "        var[i] = []\n",
    "        for j in logs[i]:\n",
    "            var[i].append(f(j))\n",
    "        print(i)\n",
    "        print(var[i])\n",
    "\n",
    "        var['means'].append(np.mean(var[i]))\n",
    "        var['stds'].append(np.std(var[i]))\n",
    "\n",
    "        print('mean = ', var['means'][-1])\n",
    "        print('std = ', var['stds'][-1])\n",
    "\n",
    "        print()\n",
    "        \n",
    "            \n",
    "    for idx,i in enumerate(interfaces):\n",
    "        for j in interfaces[idx+1:]:\n",
    "            if i != j:\n",
    "                \n",
    "                t, p = t_test_kruskal(var[i],var[j])\n",
    "                print_p(p)\n",
    "                \n",
    "    return var\n",
    "\n",
    "def basic_plot(var):\n",
    "    \n",
    "    fig = plt.figure(figsize=(12, 4))\n",
    "    ax = fig.add_subplot(131)\n",
    "    ax.bar([0, 1, 2, 3],\n",
    "       var['means'],\n",
    "       yerr=var['stds'])\n",
    "\n",
    "    plt.xticks(range(4), fields, rotation = 10)\n",
    "\n",
    "    ax = fig.add_subplot(132)\n",
    "    ax.bar([0, 1],\n",
    "       [np.mean(var['diff mot']), np.mean(var['diff rem'])],\n",
    "       yerr=[np.std(var['diff mot']), np.std(var['diff rem'])])\n",
    "    \n",
    "    plt.xticks(range(2), ['motion', 'remote'], rotation = 10)\n",
    "\n",
    "    ax = fig.add_subplot(133)\n",
    "    ax.bar([0, 1],\n",
    "       [np.mean(var['diff first']), np.mean(var['diff last'])],\n",
    "       yerr=[np.std(var['diff first']), np.std(var['diff last'])])\n",
    "    \n",
    "    plt.xticks(range(2), ['first', 'last'], rotation = 10)\n",
    "    \n",
    "def basic_box(data, names, col = 'b', leg = False, ax = None, save = False, where = None, y = '', xlim = None, ylim = None, xticks = None, yticks = None, whis = 1.5):\n",
    "\n",
    "    \n",
    "    c0 = np.array([0,0,0])/256\n",
    "    c1 = np.array([150,0,0])/256\n",
    "    c2 = np.array([0,0,100])/256\n",
    "    c3 = np.array([0,100,0])/256\n",
    "\n",
    "    col = [c0, c1, c2, c3]\n",
    "\n",
    "    if ax is None:\n",
    "        plt.figure()\n",
    "        ax = plt.subplot(1, 1, 1)    \n",
    "    \n",
    "    my_plots.boxplot_elegant(ax, data[names[0]], [1], col[0], whis = whis)\n",
    "    my_plots.boxplot_elegant(ax, data[names[1]], [1.4], col[1], whis = whis)\n",
    "    \n",
    "    plt.grid()\n",
    "    ax.spines['right'].set_visible(False)\n",
    "    ax.spines['top'].set_visible(False)\n",
    "    \n",
    "    if xlim is not None:\n",
    "        plt.xlim(xlim)\n",
    "    if ylim is not None:\n",
    "        plt.ylim(ylim)\n",
    "    if xticks is not None:\n",
    "        plt.xticks(xticks)\n",
    "    if yticks is not None:\n",
    "        plt.yticks(yticks)\n",
    "    \n",
    "    plt.xticks([1, 1.4], ['Remote', 'Motion'])\n",
    "    \n",
    "    plt.ylabel(y)\n",
    "\n",
    "    if leg:\n",
    "        for idx,i in enumerate(labels):\n",
    "            ax.scatter(0,0, color = c[idx], label = i)\n",
    "        \n",
    "        plt.legend()\n",
    "\n",
    "    if save:\n",
    "        savefig(where, bbox_inches='tight')\n",
    "        \n",
    "    return ax"
   ]
  },
  {
   "cell_type": "code",
   "execution_count": 11,
   "metadata": {
    "jupyter": {
     "source_hidden": true
    }
   },
   "outputs": [],
   "source": [
    "def moving_average(data_set, periods=3, fill_with_zeros = True):\n",
    "    \n",
    "    if data_set.size < periods:\n",
    "        return data_set\n",
    "    \n",
    "    if isinstance(data_set, pd.DataFrame):\n",
    "        print('a')\n",
    "        data_set.index = range(len(data_set))\n",
    "\n",
    "    weights = np.ones(periods) / periods\n",
    "    \n",
    "    ma = np.convolve(data_set, weights, mode='valid')\n",
    "\n",
    "    if fill_with_zeros:\n",
    "        fill_before = np.ones(int(np.ceil((len(data_set) - len(ma))/2))) * data_set[0]\n",
    "        fill_after = np.ones(int(np.floor((len(data_set) - len(ma))/2))) * data_set[-1]\n",
    "        ma = np.hstack([fill_before, ma, fill_after])\n",
    "    \n",
    "    return ma\n",
    "\n",
    "def filter_position(df, steps):\n",
    "    \n",
    "    l = moving_average(df['dronePosition.x'], periods=steps, fill_with_zeros = False)\n",
    "    df['dronePositionFiltered.x'] = np.append([l[0]]*(steps-1), l)\n",
    "    l = moving_average(df['dronePosition.y'], periods=steps, fill_with_zeros = False)\n",
    "    df['dronePositionFiltered.y'] = np.append([l[0]]*(steps-1), l)\n",
    "    l = moving_average(df['dronePosition.x'], periods=steps, fill_with_zeros = False)\n",
    "    df['dronePositionFiltered.x'] = np.append([l[0]]*(steps-1), l)\n",
    "    return df\n",
    "\n",
    "def running_average(signal, steps):\n",
    "    \n",
    "    l = moving_average(signal, periods=steps, fill_with_zeros = False)\n",
    "    out = np.append([l[0]]*(steps-1), l)\n",
    "    return out"
   ]
  },
  {
   "cell_type": "code",
   "execution_count": 12,
   "metadata": {
    "jupyter": {
     "source_hidden": true
    }
   },
   "outputs": [
    {
     "data": {
      "text/plain": [
       "[<matplotlib.lines.Line2D at 0x1a1b3933d0>]"
      ]
     },
     "execution_count": 12,
     "metadata": {},
     "output_type": "execute_result"
    },
    {
     "data": {
      "image/png": "[encoded data removed]",
      "text/plain": [
       "<Figure size 432x432 with 1 Axes>"
      ]
     },
     "metadata": {
      "needs_background": "light"
     },
     "output_type": "display_data"
    }
   ],
   "source": [
    "logs1 = logs.copy()\n",
    "\n",
    "logs1['first remote'][0]['dronePositionFiltered.x'] = running_average(logs1['first remote'][0]['dronePosition.x'], 15)\n",
    "\n",
    "plt.figure(figsize=(6,6))\n",
    "\n",
    "plt.plot(logs1['first remote'][0]['dronePosition.x'][0:50])\n",
    "plt.plot(logs1['first remote'][0]['dronePositionFiltered.x'][0:50])"
   ]
  },
  {
   "cell_type": "markdown",
   "metadata": {},
   "source": [
    "# Plot Trajectories"
   ]
  },
  {
   "cell_type": "code",
   "execution_count": 48,
   "metadata": {},
   "outputs": [
    {
     "name": "stdout",
     "output_type": "stream",
     "text": [
      "1758\n",
      "2853\n",
      "1816\n",
      "1311\n",
      "1382\n",
      "1783\n",
      "1583\n",
      "713\n",
      "3575\n",
      "2078\n",
      "1651\n",
      "1058\n",
      "552\n",
      "1416\n",
      "696\n",
      "881\n",
      "831\n",
      "1593\n",
      "1525\n",
      "1570\n",
      "836\n",
      "1071\n",
      "734\n",
      "1646\n",
      "1339\n",
      "629\n",
      "1464\n",
      "731\n",
      "631\n",
      "1234\n",
      "937\n",
      "873\n",
      "1517\n",
      "547\n",
      "576\n",
      "828\n"
     ]
    },
    {
     "data": {
      "text/plain": [
       "2853"
      ]
     },
     "execution_count": 48,
     "metadata": {},
     "output_type": "execute_result"
    },
    {
     "data": {
      "image/png": "[encoded data removed]",
      "text/plain": [
       "<Figure size 288x288 with 4 Axes>"
      ]
     },
     "metadata": {
      "needs_background": "light"
     },
     "output_type": "display_data"
    }
   ],
   "source": [
    "plt.figure()\n",
    "\n",
    "for idx,i in enumerate(fields):\n",
    "    ax = plt.subplot(2, 2, 1+idx, projection='3d')\n",
    "    for idx1,log in enumerate(logs[i]):\n",
    "        ax.plot(log['dronePosition.x'],log['dronePosition.z'],log['dronePosition.y'], label = str(idx1))\n",
    "        print(len(log))\n",
    "    plt.legend()\n",
    "    plt.title(fields[idx])\n",
    "#     define_plot_pos(ax)\n",
    "len(logs['first motion'][1])"
   ]
  },
  {
   "cell_type": "code",
   "execution_count": 49,
   "metadata": {},
   "outputs": [
    {
     "data": {
      "image/png": "[encoded data removed]",
      "text/plain": [
       "<Figure size 288x288 with 4 Axes>"
      ]
     },
     "metadata": {
      "needs_background": "light"
     },
     "output_type": "display_data"
    }
   ],
   "source": [
    "plt.figure()\n",
    "\n",
    "for idx,i in enumerate(fields):\n",
    "    ax = plt.subplot(2, 2, 1+idx)\n",
    "    for idx1,log in enumerate(logs[i]):\n",
    "        ax.plot(log['dronePosition.x'])"
   ]
  },
  {
   "cell_type": "markdown",
   "metadata": {},
   "source": [
    "# Time analysis"
   ]
  },
  {
   "cell_type": "code",
   "execution_count": 15,
   "metadata": {
    "jupyter": {
     "source_hidden": true
    }
   },
   "outputs": [],
   "source": [
    "def compTime(df):\n",
    "    return df['absoluteTime'].iloc[-1] - df['absoluteTime'].iloc[0]"
   ]
  },
  {
   "cell_type": "code",
   "execution_count": 16,
   "metadata": {
    "jupyter": {
     "source_hidden": true
    }
   },
   "outputs": [
    {
     "name": "stdout",
     "output_type": "stream",
     "text": [
      "first motion\n",
      "[22.000301361083984, 35.6507511138916, 22.687667846679688, 16.400043487548828, 17.26307487487793, 22.275915145874023, 19.775474548339844, 8.901359558105469, 44.70053195953369]\n",
      "mean =  23.29501332177056\n",
      "std =  10.096388273407083\n",
      "\n",
      "last motion\n",
      "[26.01287841796875, 20.62602996826172, 13.213340759277344, 6.900917053222656, 17.689041137695312, 8.688880920410156, 11.001197814941406, 10.375823974609375, 19.928115844726562]\n",
      "mean =  14.93735843234592\n",
      "std =  6.059048323375995\n",
      "\n",
      "first remote\n",
      "[19.08771324157715, 19.612783432006836, 10.439125061035156, 13.375783920288086, 9.163229942321777, 20.562975883483887, 16.725953102111816, 7.8533172607421875, 18.28772735595703]\n",
      "mean =  15.012067688835991\n",
      "std =  4.6104138497806755\n",
      "\n",
      "last remote\n",
      "[9.1253662109375, 7.89990234375, 15.41375732421875, 11.700714111328125, 10.901214599609375, 18.951248168945312, 6.826324462890625, 7.1886138916015625, 10.350059509277344]\n",
      "mean =  10.928577846950954\n",
      "std =  3.7808282659006567\n",
      "\n",
      "first motion last motion\n",
      "\u001b[31mp = 0.08508907281620419 !\u001b[0m\n",
      "first motion first remote\n",
      "\u001b[33mp = 0.04694472697848194 !!!!!!\u001b[0m\n",
      "first motion last remote\n",
      "\u001b[32mp = 0.004107053847638659 !!!!!!!!!!\u001b[0m\n",
      "last motion first remote\n",
      "p = 0.9647839776414967\n",
      "last motion last remote\n",
      "p = 0.14512035720693314\n",
      "first remote last remote\n",
      "\u001b[31mp = 0.07026567343786677 !\u001b[0m\n",
      "\n",
      "motion ratio\n",
      "[-0.18238737  0.42144192  0.4175981   0.57921349 -0.02467499  0.60994281\n",
      "  0.44369488 -0.16564486  0.55418616]\n",
      "0.2948189050298519\n",
      "0.305969489238405\n",
      "\n",
      "remote ratio\n",
      "[ 0.5219246   0.59720647 -0.47653728  0.12523152 -0.18966944  0.07838008\n",
      "  0.59187232  0.08463982  0.43404343]\n",
      "0.1963435019898193\n",
      "0.3516410723281639\n",
      "\n",
      "p =  0.6911022238448452 \n",
      "\n",
      "firts ratio\n",
      "[-0.15258968 -0.81773032 -1.1733304  -0.22609961 -0.88395085 -0.08330211\n",
      " -0.18232273 -0.13345218 -1.44429125]\n",
      "-0.5663410155185422\n",
      "0.4897220378937792\n",
      "\n",
      "last ratio\n",
      "[-1.850612   -1.61092214  0.14275666  0.41021403 -0.622667    0.54151406\n",
      " -0.61158437 -0.44336921 -0.92541075]\n",
      "-0.5522311918753098\n",
      "0.7868223542166941\n",
      "\n",
      "p =  0.9647839776414967 \n"
     ]
    }
   ],
   "source": [
    "time = runBasicAnalysis(compTime)"
   ]
  },
  {
   "cell_type": "code",
   "execution_count": 17,
   "metadata": {
    "jupyter": {
     "source_hidden": true
    }
   },
   "outputs": [
    {
     "data": {
      "image/png": "[encoded data removed]",
      "text/plain": [
       "<Figure size 864x288 with 3 Axes>"
      ]
     },
     "metadata": {
      "needs_background": "light"
     },
     "output_type": "display_data"
    }
   ],
   "source": [
    "basic_plot(time)"
   ]
  },
  {
   "cell_type": "markdown",
   "metadata": {},
   "source": [
    "# Distance Analysis"
   ]
  },
  {
   "cell_type": "code",
   "execution_count": 18,
   "metadata": {
    "jupyter": {
     "source_hidden": true
    }
   },
   "outputs": [],
   "source": [
    "def compDist(df):\n",
    "    \n",
    "    steps = 10\n",
    "    \n",
    "    df['dronePositionFiltered.x'] = running_average(df['dronePosition.x'], steps)\n",
    "    df['dronePositionFiltered.y'] = running_average(df['dronePosition.y'], steps)\n",
    "    df['dronePositionFiltered.z'] = running_average(df['dronePosition.z'], steps)\n",
    "    \n",
    "    x = df['dronePositionFiltered.x'].values\n",
    "    y = df['dronePositionFiltered.y'].values\n",
    "    z = df['dronePositionFiltered.z'].values\n",
    "\n",
    "    dx = np.diff(x)\n",
    "    dy = np.diff(y)\n",
    "    dz = np.diff(z)\n",
    "\n",
    "    dd = np.sqrt(dx**2+dy**2+dz**2)\n",
    "    d = np.sum(dd)\n",
    "\n",
    "    return d"
   ]
  },
  {
   "cell_type": "code",
   "execution_count": 19,
   "metadata": {
    "jupyter": {
     "source_hidden": true
    }
   },
   "outputs": [
    {
     "name": "stdout",
     "output_type": "stream",
     "text": [
      "first motion\n",
      "[2.4079818339697163, 2.589088615583021, 2.3807381278346518, 2.34209367863503, 2.9097465762959063, 2.3635212335860274, 1.965975510513525, 2.125941518099629, 2.6865766369448583]\n",
      "mean =  2.419073747940262\n",
      "std =  0.26730171373857303\n",
      "\n",
      "last motion\n",
      "[2.537021508613696, 2.3530818200486134, 2.8958131199268005, 2.012719263035822, 2.778885406877052, 2.459157604389951, 1.9273239175408416, 1.9108057002909558, 2.5060811043893576]\n",
      "mean =  2.3756543827903434\n",
      "std =  0.33870661888009745\n",
      "\n",
      "first remote\n",
      "[2.5359704352969734, 2.8140259306016637, 1.706158671744957, 3.8467200680448883, 3.458773606587388, 1.2997789576384269, 4.497230364702236, 3.0520839413484175, 6.240497171917577]\n",
      "mean =  3.2723599053202808\n",
      "std =  1.4071132396834458\n",
      "\n",
      "last remote\n",
      "[1.5860944968702624, 2.769962968170846, 2.789911849585029, 1.9406195586416692, 3.4077103178378767, 2.0583567717297315, 1.3816162455110068, 1.7679396142128745, 3.737611905224182]\n",
      "mean =  2.3822026364203865\n",
      "std =  0.7829812884541837\n",
      "\n",
      "first motion last motion\n",
      "p = 0.8252828980151854\n",
      "first motion first remote\n",
      "p = 0.10234498849921529\n",
      "first motion last remote\n",
      "p = 0.6272069263720175\n",
      "last motion first remote\n",
      "p = 0.10234498849921529\n",
      "last motion last remote\n",
      "p = 0.8252828980151854\n",
      "first remote last remote\n",
      "p = 0.17109825031792897\n",
      "\n",
      "motion ratio\n",
      "[-0.05358831  0.09115439 -0.21635097  0.14063247  0.04497339 -0.04046351\n",
      "  0.01966026  0.10119555  0.06718421]\n",
      "0.01715527607401928\n",
      "0.10215348725006804\n",
      "\n",
      "remote ratio\n",
      "[ 0.37456112  0.01565834 -0.6352007   0.49551318  0.01476341 -0.58362063\n",
      "  0.69278508  0.42074345  0.40107145]\n",
      "0.13291941261401333\n",
      "0.44587141410611814\n",
      "\n",
      "p =  0.3538369006847303 \n",
      "\n",
      "firts ratio\n",
      "[ 0.05046928  0.07993434 -0.39537909  0.39114528  0.1587346  -0.81840244\n",
      "  0.5628475   0.30344592  0.56949317]\n",
      "0.10025428417379484\n",
      "0.42894910894070276\n",
      "\n",
      "last ratio\n",
      "[-0.59953995  0.15050062 -0.03795864 -0.03715293  0.18453004 -0.19471884\n",
      " -0.39497775 -0.08080937  0.3294967 ]\n",
      "-0.07562556808550754\n",
      "0.2741692821860987\n",
      "\n",
      "p =  0.2004110749405393 \n"
     ]
    }
   ],
   "source": [
    "dist = runBasicAnalysis(compDist)"
   ]
  },
  {
   "cell_type": "code",
   "execution_count": 20,
   "metadata": {
    "jupyter": {
     "source_hidden": true
    }
   },
   "outputs": [
    {
     "data": {
      "image/png": "[encoded data removed]",
      "text/plain": [
       "<Figure size 864x288 with 3 Axes>"
      ]
     },
     "metadata": {
      "needs_background": "light"
     },
     "output_type": "display_data"
    }
   ],
   "source": [
    "basic_plot(dist)"
   ]
  },
  {
   "cell_type": "markdown",
   "metadata": {},
   "source": [
    "# Velocity Analysis"
   ]
  },
  {
   "cell_type": "code",
   "execution_count": 21,
   "metadata": {
    "jupyter": {
     "source_hidden": true
    }
   },
   "outputs": [],
   "source": [
    "def compVel(df):\n",
    "    x = df['dronePositionFiltered.x'].values\n",
    "    y = df['dronePositionFiltered.y'].values\n",
    "    z = df['dronePositionFiltered.z'].values\n",
    "    t = df['absoluteTime'].values\n",
    "\n",
    "    dx = np.diff(x)\n",
    "    dy = np.diff(y)\n",
    "    dz = np.diff(z)\n",
    "    dt = np.diff(t)\n",
    "    \n",
    "    vx = np.append([0],dx/dt)\n",
    "    vy = np.append([0],dy/dt)\n",
    "    vz = np.append([0],dz/dt)\n",
    "    \n",
    "    df['droneVelocity.x'] = vx\n",
    "    df['droneVelocity.y'] = vy\n",
    "    df['droneVelocity.z'] = vz\n",
    "    \n",
    "    steps = 20    \n",
    "    \n",
    "    df['droneVelocityFiltered.x'] = running_average(df['droneVelocity.x'], steps)\n",
    "    df['droneVelocityFiltered.y'] = running_average(df['droneVelocity.y'], steps)\n",
    "    df['droneVelocityFiltered.z'] = running_average(df['droneVelocity.z'], steps)\n",
    "\n",
    "    dv = np.sqrt(df['droneVelocityFiltered.x'][100:]**2+df['droneVelocityFiltered.y'][100:]**2+df['droneVelocityFiltered.z'][100:]**2)\n",
    "    \n",
    "    v = np.mean(dv)\n",
    "    \n",
    "    return v"
   ]
  },
  {
   "cell_type": "code",
   "execution_count": 22,
   "metadata": {
    "jupyter": {
     "source_hidden": true
    }
   },
   "outputs": [
    {
     "name": "stdout",
     "output_type": "stream",
     "text": [
      "first motion\n",
      "[0.10356964655114388, 0.06955170680514791, 0.10250299476579317, 0.12814738954785856, 0.15179257308665622, 0.10765755547918565, 0.09936345448087222, 0.15394272870646528, 0.0583970663340777]\n",
      "mean =  0.10832501286191118\n",
      "std =  0.030725966121216277\n",
      "\n",
      "last motion\n",
      "[0.09504662526397992, 0.10193713652535251, 0.20570379545202452, 0.23172362901754426, 0.1403648760316041, 0.31330257404188055, 0.15795292771784286, 0.15253748742827716, 0.1282409083921387]\n",
      "mean =  0.1696455510967383\n",
      "std =  0.06577888869259117\n",
      "\n",
      "first remote\n",
      "[0.12508722048790424, 0.14349253908992596, 0.08859035488010596, 0.2779625152990717, 0.37477132244502787, 0.053293900461312396, 0.2618872986360224, 0.2810607660181142, 0.32222582414980566]\n",
      "mean =  0.21426352682969896\n",
      "std =  0.1069122065121567\n",
      "\n",
      "last remote\n",
      "[0.13049774904734512, 0.38729665948301834, 0.14181825218290417, 0.16189093470720572, 0.32532539267694327, 0.11141940765180677, 0.175603666610264, 0.14184695139941342, 0.26878521131436883]\n",
      "mean =  0.20494269167480775\n",
      "std =  0.09236971918386262\n",
      "\n",
      "first motion last motion\n",
      "\u001b[33mp = 0.04694472697848194 !!!!!!\u001b[0m\n",
      "first motion first remote\n",
      "\u001b[31mp = 0.08508907281620419 !\u001b[0m\n",
      "first motion last remote\n",
      "\u001b[32mp = 0.005410533856084917 !!!!!!!!!!\u001b[0m\n",
      "last motion first remote\n",
      "p = 0.5078006482752742\n",
      "last motion last remote\n",
      "p = 0.3538369006847303\n",
      "first remote last remote\n",
      "p = 0.9647839776414967\n",
      "\n",
      "motion ratio\n",
      "[ 0.08229266 -0.46563098 -1.00680766 -0.80825868  0.07528496 -1.9101773\n",
      " -0.58964811  0.00912834 -1.19601628]\n",
      "-0.6455370073490704\n",
      "0.6300559152546958\n",
      "\n",
      "remote ratio\n",
      "[-0.04325405 -1.69907176 -0.60083174  0.41757998  0.13193627 -1.09065966\n",
      "  0.32946856  0.49531572  0.16584832]\n",
      "-0.21040759499096381\n",
      "0.7160061984694146\n",
      "\n",
      "p =  0.12227667721471425 \n",
      "\n",
      "firts ratio\n",
      "[ 0.17202056  0.51529392 -0.15704463  0.538976    0.59497282 -1.02007274\n",
      "  0.62058697  0.45227955  0.81876975]\n",
      "0.28175357706838644\n",
      "0.5323346134081113\n",
      "\n",
      "last ratio\n",
      "[ 0.27166081  0.73679831 -0.45047476 -0.43135642  0.56854005 -1.81192102\n",
      "  0.10051464 -0.0753667   0.52288704]\n",
      "-0.0631908946084755\n",
      "0.7352413934366204\n",
      "\n",
      "p =  0.26968989984502656 \n"
     ]
    }
   ],
   "source": [
    "vel = runBasicAnalysis(compVel)"
   ]
  },
  {
   "cell_type": "code",
   "execution_count": 23,
   "metadata": {
    "jupyter": {
     "source_hidden": true
    }
   },
   "outputs": [
    {
     "data": {
      "image/png": "[encoded data removed]",
      "text/plain": [
       "<Figure size 864x288 with 3 Axes>"
      ]
     },
     "metadata": {
      "needs_background": "light"
     },
     "output_type": "display_data"
    }
   ],
   "source": [
    "basic_plot(vel)"
   ]
  },
  {
   "cell_type": "markdown",
   "metadata": {},
   "source": [
    "# Acceleration Analysis"
   ]
  },
  {
   "cell_type": "code",
   "execution_count": 24,
   "metadata": {
    "jupyter": {
     "source_hidden": true
    }
   },
   "outputs": [],
   "source": [
    "def compAcc(df):\n",
    "    vx = df['droneVelocityFiltered.x'].values\n",
    "    vy = df['droneVelocityFiltered.y'].values\n",
    "    vz = df['droneVelocityFiltered.z'].values\n",
    "    t = df['absoluteTime'].values\n",
    "    \n",
    "    dvx = np.diff(vx)\n",
    "    dvy = np.diff(vy)\n",
    "    dvz = np.diff(vz)\n",
    "    dt = np.diff(t)\n",
    "    \n",
    "    ax = np.append([0],dvx/dt)\n",
    "    ay = np.append([0],dvy/dt)\n",
    "    az = np.append([0],dvz/dt)\n",
    "    \n",
    "    df['droneAcceleration.x'] = ax\n",
    "    df['droneAcceleration.y'] = ay\n",
    "    df['droneAcceleration.z'] = az\n",
    "    \n",
    "    steps = 30    \n",
    "    \n",
    "    df['droneAccelerationFiltered.x'] = running_average(df['droneAcceleration.x'], steps)\n",
    "    df['droneAccelerationFiltered.y'] = running_average(df['droneAcceleration.y'], steps)\n",
    "    df['droneAccelerationFiltered.z'] = running_average(df['droneAcceleration.z'], steps)\n",
    "\n",
    "    da = np.sqrt(df['droneAccelerationFiltered.x'][100:]**2+df['droneAccelerationFiltered.y'][100:]**2+df['droneAccelerationFiltered.z'][100:]**2)\n",
    "    \n",
    "    a = np.mean(da)\n",
    "\n",
    "    return a"
   ]
  },
  {
   "cell_type": "code",
   "execution_count": 25,
   "metadata": {
    "jupyter": {
     "source_hidden": true
    }
   },
   "outputs": [
    {
     "name": "stdout",
     "output_type": "stream",
     "text": [
      "first motion\n",
      "[0.17393285940636483, 0.0969256037186948, 0.06596567306404282, 0.21592292494618068, 0.22578687860892116, 0.1875843199300657, 0.22094423966490281, 0.2520952497977581, 0.1190573252901416]\n",
      "mean =  0.17313500826967473\n",
      "std =  0.06105591456769086\n",
      "\n",
      "last motion\n",
      "[0.16294241796173092, 0.08938090680498667, 0.22004080637382778, 0.21142379182007437, 0.18324244527714373, 0.4849407815073241, 0.37570676261236546, 0.2047415694642193, 0.2602140071166994]\n",
      "mean =  0.2436259432153746\n",
      "std =  0.11205460919700326\n",
      "\n",
      "first remote\n",
      "[0.1331262110352601, 0.1492487004988407, 0.17349094315566704, 0.3242996240125836, 0.48232448649737336, 0.06830508804109818, 0.27261257175498554, 0.5167404241534947, 0.42089275544042826]\n",
      "mean =  0.28233786717663684\n",
      "std =  0.1540658452750956\n",
      "\n",
      "last remote\n",
      "[0.09919674509577121, 0.49131536528690145, 0.13747411679689114, 0.17280731451646758, 0.3699748028856125, 0.110848200739615, 0.15069045936439093, 0.21491070917790808, 0.4434245451645622]\n",
      "mean =  0.24340469544756893\n",
      "std =  0.14199683265067756\n",
      "\n",
      "first motion last motion\n",
      "p = 0.3538369006847303\n",
      "first motion first remote\n",
      "p = 0.2004110749405393\n",
      "first motion last remote\n",
      "p = 0.6911022238448452\n",
      "last motion first remote\n",
      "p = 0.8252828980151854\n",
      "last motion last remote\n",
      "p = 0.6272069263720175\n",
      "first remote last remote\n",
      "p = 0.6272069263720175\n",
      "\n",
      "motion ratio\n",
      "[ 0.06318784  0.07784008 -2.33568652  0.02083676  0.18842739 -1.58518826\n",
      " -0.70045964  0.18784043 -1.18561946]\n",
      "-0.5854245977700986\n",
      "0.8731404223615712\n",
      "\n",
      "remote ratio\n",
      "[ 0.25486691 -2.29192391  0.20760061  0.46713686  0.23293382 -0.62283959\n",
      "  0.44723584  0.58410316 -0.05353333]\n",
      "-0.08604662388597904\n",
      "0.8497581706248591\n",
      "\n",
      "p =  0.04694472697848194  !!!!!!\n",
      "\n",
      "firts ratio\n",
      "[-0.30652603  0.35057657  0.61977454  0.33418694  0.53187764 -1.74627155\n",
      "  0.18953026  0.51214335  0.71713145]\n",
      "0.13360257478044382\n",
      "0.722408385967945\n",
      "\n",
      "last ratio\n",
      "[-0.64261859  0.81807834 -0.60059807 -0.22346553  0.50471642 -3.3748187\n",
      " -1.49323523  0.04731798  0.41317185]\n",
      "-0.5057168382845089\n",
      "1.2128003124476152\n",
      "\n",
      "p =  0.2004110749405393 \n"
     ]
    }
   ],
   "source": [
    "acc = runBasicAnalysis(compAcc)"
   ]
  },
  {
   "cell_type": "code",
   "execution_count": 26,
   "metadata": {
    "jupyter": {
     "source_hidden": true
    }
   },
   "outputs": [
    {
     "data": {
      "image/png": "[encoded data removed]",
      "text/plain": [
       "<Figure size 864x288 with 3 Axes>"
      ]
     },
     "metadata": {
      "needs_background": "light"
     },
     "output_type": "display_data"
    }
   ],
   "source": [
    "basic_plot(acc)"
   ]
  },
  {
   "cell_type": "markdown",
   "metadata": {},
   "source": [
    "# Jerk Analysis"
   ]
  },
  {
   "cell_type": "code",
   "execution_count": 27,
   "metadata": {
    "jupyter": {
     "source_hidden": true
    }
   },
   "outputs": [],
   "source": [
    "def compJerk(df):\n",
    "    ax = df['droneAccelerationFiltered.x'].values\n",
    "    ay = df['droneAccelerationFiltered.y'].values\n",
    "    az = df['droneAccelerationFiltered.z'].values\n",
    "    t = df['absoluteTime'].values\n",
    "    \n",
    "    dax = np.diff(ax)\n",
    "    day = np.diff(ay)\n",
    "    daz = np.diff(az)\n",
    "    dt = np.diff(t)\n",
    "    \n",
    "    jx = np.append([0],dax/dt)\n",
    "    jy = np.append([0],day/dt)\n",
    "    jz = np.append([0],daz/dt)\n",
    "    \n",
    "    df['droneJerk.x'] = jx\n",
    "    df['droneJerk.y'] = jy\n",
    "    df['droneJerk.z'] = jz\n",
    "    \n",
    "    steps = 40    \n",
    "    \n",
    "    df['droneJerkFiltered.x'] = running_average(df['droneJerk.x'], steps)\n",
    "    df['droneJerkFiltered.y'] = running_average(df['droneJerk.y'], steps)\n",
    "    df['droneJerkFiltered.z'] = running_average(df['droneJerk.z'], steps)\n",
    "\n",
    "    dj = np.sqrt(df['droneJerkFiltered.x'][100:]**2+df['droneJerkFiltered.y'][100:]**2+df['droneJerkFiltered.z'][100:]**2)\n",
    "    \n",
    "    \n",
    "    j = np.mean(dj)\n",
    "\n",
    "    return j"
   ]
  },
  {
   "cell_type": "code",
   "execution_count": 28,
   "metadata": {
    "jupyter": {
     "source_hidden": true
    }
   },
   "outputs": [
    {
     "name": "stdout",
     "output_type": "stream",
     "text": [
      "first motion\n",
      "[0.5171427058429543, 0.24134279638847914, 0.17198254678218716, 0.5222688094425266, 0.5670575858906604, 0.6140193575741348, 0.7741117902798014, 0.6360789837836841, 0.39699313498479777]\n",
      "mean =  0.4934441901076917\n",
      "std =  0.18155631951683765\n",
      "\n",
      "last motion\n",
      "[0.49472332110432865, 0.21906795063752965, 0.44289976548623783, 0.3917727154447385, 0.4733261591658108, 1.2782924426435958, 1.369431913866224, 0.580633790712421, 0.802122094037776]\n",
      "mean =  0.672474461455407\n",
      "std =  0.37805633379966547\n",
      "\n",
      "first remote\n",
      "[0.3161407584489092, 0.31258231458205277, 0.32446444829705057, 0.5428048635775521, 0.9054761828410188, 0.1627988972413741, 0.541713736929568, 1.0844700997555508, 0.9002413079906113]\n",
      "mean =  0.5656325121848541\n",
      "std =  0.30631499988652644\n",
      "\n",
      "last remote\n",
      "[0.19620700796278914, 0.8973295313413955, 0.316988781493281, 0.431903653483512, 0.7389007484128811, 0.18810131404292535, 0.3198207990274152, 0.46115476937489774, 0.8408708784755131]\n",
      "mean =  0.48791972040162335\n",
      "std =  0.25636314709381736\n",
      "\n",
      "first motion last motion\n",
      "p = 0.6911022238448452\n",
      "first motion first remote\n",
      "p = 0.8252828980151854\n",
      "first motion last remote\n",
      "p = 0.8252828980151854\n",
      "last motion first remote\n",
      "p = 0.5659921481957904\n",
      "last motion last remote\n",
      "p = 0.23323022278218208\n",
      "first remote last remote\n",
      "p = 0.5659921481957904\n",
      "\n",
      "motion ratio\n",
      "[ 0.04335241  0.09229547 -1.57525995  0.24986385  0.16529437 -1.08184388\n",
      " -0.76903637  0.08716715 -1.02049361]\n",
      "-0.42318450817584324\n",
      "0.6481287836536683\n",
      "\n",
      "remote ratio\n",
      "[ 0.3793682  -1.87069834  0.02304002  0.20431138  0.18396446 -0.1554213\n",
      "  0.40961291  0.57476488  0.06594946]\n",
      "-0.020567593082579088\n",
      "0.6865683339621693\n",
      "\n",
      "p =  0.17109825031792897 \n",
      "\n",
      "firts ratio\n",
      "[-0.6357989   0.22790643  0.46994949  0.03783322  0.37374655 -2.77164322\n",
      " -0.42900528  0.41346563  0.55901475]\n",
      "-0.19494792679931613\n",
      "0.9902644262481899\n",
      "\n",
      "last ratio\n",
      "[-1.52143553  0.75586678 -0.39720959  0.09291641  0.35941849 -5.79576562\n",
      " -3.28187259 -0.2590866   0.04608173]\n",
      "-1.111231836033926\n",
      "2.013813455040729\n",
      "\n",
      "p =  0.3098795496397732 \n"
     ]
    }
   ],
   "source": [
    "jerk = runBasicAnalysis(compJerk)"
   ]
  },
  {
   "cell_type": "code",
   "execution_count": 29,
   "metadata": {
    "jupyter": {
     "source_hidden": true
    }
   },
   "outputs": [
    {
     "data": {
      "image/png": "[encoded data removed]",
      "text/plain": [
       "<Figure size 864x288 with 3 Axes>"
      ]
     },
     "metadata": {
      "needs_background": "light"
     },
     "output_type": "display_data"
    }
   ],
   "source": [
    "basic_plot(jerk)"
   ]
  },
  {
   "cell_type": "markdown",
   "metadata": {},
   "source": [
    "# Energy Analysis"
   ]
  },
  {
   "cell_type": "code",
   "execution_count": 30,
   "metadata": {
    "jupyter": {
     "source_hidden": true
    }
   },
   "outputs": [],
   "source": [
    "def compEnergy(df):\n",
    "    df['controlInput'] = np.sqrt(df['controlSpeed.x']**2+df['controlSpeed.y']**2+df['controlSpeed.z']**2)\n",
    "    return df['controlInput'].sum()"
   ]
  },
  {
   "cell_type": "code",
   "execution_count": 31,
   "metadata": {
    "jupyter": {
     "source_hidden": true
    }
   },
   "outputs": [
    {
     "name": "stdout",
     "output_type": "stream",
     "text": [
      "first motion\n",
      "[243.1243274890345, 209.67771422483904, 182.5504702478879, 167.2975429030427, 184.51269910999892, 205.61325191221215, 166.5333961262464, 143.7685119150633, 230.0204222347014]\n",
      "mean =  192.56648179589183\n",
      "std =  30.33987565135345\n",
      "\n",
      "last motion\n",
      "[219.9021565260263, 185.40862029799382, 200.24628364926318, 129.3448655033684, 188.11639367871484, 204.31705961678563, 177.2660484036241, 128.15265932388925, 227.667539651227]\n",
      "mean =  184.49129185009917\n",
      "std =  33.40118992684115\n",
      "\n",
      "first remote\n",
      "[167.1979504516408, 224.3749082996611, 125.68073888091487, 180.50981499930447, 223.24627076089996, 83.8546771183392, 237.86760314741616, 232.62020587336923, 506.4204926383469]\n",
      "mean =  220.1969624633214\n",
      "std =  112.70598500266445\n",
      "\n",
      "last remote\n",
      "[110.96964001135002, 232.68918908388008, 156.65052315704526, 113.66020574717948, 224.97132845777475, 123.80334830008707, 86.08801014069732, 104.28704269370274, 292.273913181941]\n",
      "mean =  160.59924453040642\n",
      "std =  67.85428273704566\n",
      "\n",
      "first motion last motion\n",
      "p = 0.7572777496236265\n",
      "first motion first remote\n",
      "p = 0.7572777496236265\n",
      "first motion last remote\n",
      "p = 0.17109825031792897\n",
      "last motion first remote\n",
      "p = 0.5078006482752742\n",
      "last motion last remote\n",
      "p = 0.26968989984502656\n",
      "first remote last remote\n",
      "p = 0.26968989984502656\n",
      "\n",
      "motion ratio\n",
      "[ 0.09551562  0.11574475 -0.09693655  0.22685735 -0.01953088  0.00630403\n",
      " -0.06444745  0.10861803  0.01022902]\n",
      "0.04248376877796865\n",
      "0.09638716855026164\n",
      "\n",
      "remote ratio\n",
      "[ 0.33629785 -0.03705531 -0.24641631  0.37033781 -0.00772715 -0.47640361\n",
      "  0.63808434  0.55168536  0.42286318]\n",
      "0.1724073506823484\n",
      "0.3593456284003765\n",
      "\n",
      "p =  0.4015419876158456 \n",
      "\n",
      "firts ratio\n",
      "[-0.45411069  0.06550284 -0.45249361  0.0731942   0.17350154 -1.45201889\n",
      "  0.29989038  0.38196034  0.54579164]\n",
      "-0.09097580407661275\n",
      "0.5791088669171837\n",
      "\n",
      "last ratio\n",
      "[-0.98164252  0.20319194 -0.27829949 -0.13799605  0.16382059 -0.65033549\n",
      " -1.05912587 -0.22884546  0.22104735]\n",
      "-0.3053538887008364\n",
      "0.46367933658058924\n",
      "\n",
      "p =  0.3098795496397732 \n"
     ]
    }
   ],
   "source": [
    "energy = runBasicAnalysis(compEnergy)"
   ]
  },
  {
   "cell_type": "code",
   "execution_count": 32,
   "metadata": {
    "jupyter": {
     "source_hidden": true
    }
   },
   "outputs": [
    {
     "data": {
      "image/png": "[encoded data removed]",
      "text/plain": [
       "<Figure size 864x288 with 3 Axes>"
      ]
     },
     "metadata": {
      "needs_background": "light"
     },
     "output_type": "display_data"
    }
   ],
   "source": [
    "basic_plot(energy)"
   ]
  },
  {
   "cell_type": "markdown",
   "metadata": {},
   "source": [
    "# Power Analysis"
   ]
  },
  {
   "cell_type": "code",
   "execution_count": 33,
   "metadata": {
    "jupyter": {
     "source_hidden": true
    }
   },
   "outputs": [],
   "source": [
    "def compDEnergy(df):\n",
    "    dEnergy = np.abs(np.diff(df['controlInput']))\n",
    "    return np.sum(dEnergy)"
   ]
  },
  {
   "cell_type": "code",
   "execution_count": 34,
   "metadata": {
    "jupyter": {
     "source_hidden": true
    }
   },
   "outputs": [
    {
     "name": "stdout",
     "output_type": "stream",
     "text": [
      "first motion\n",
      "[29.740507525759536, 6.408908345817616, 3.011200478523178, 4.2531375082289316, 7.047980638370889, 14.367038371975955, 21.568799868958713, 5.19646988769114, 26.286604822390498]\n",
      "mean =  13.09784971641294\n",
      "std =  9.70700342334248\n",
      "\n",
      "last motion\n",
      "[25.731530838678985, 3.5160005296965426, 4.184471892047005, 1.817230842629951, 7.998243510928208, 11.415171872347182, 24.55039350654947, 5.896651601564039, 25.085000019790307]\n",
      "mean =  12.243854957136854\n",
      "std =  9.469869233167747\n",
      "\n",
      "first remote\n",
      "[5.862128287699369, 4.784604734042387, 2.944573632369693, 3.2865052461857482, 8.19942913204454, 2.8915054315485915, 6.929296547648825, 5.799248532667786, 14.182745793367136]\n",
      "mean =  6.0977819263971185\n",
      "std =  3.3411620652324814\n",
      "\n",
      "last remote\n",
      "[3.526863916456883, 5.173738725483439, 4.515315918861191, 3.09001936149437, 6.918121151790032, 3.3341862238187177, 2.5000987728126547, 3.3761062468402017, 7.434161298482252]\n",
      "mean =  4.429845735115527\n",
      "std =  1.647333851867725\n",
      "\n",
      "first motion last motion\n",
      "p = 0.6911022238448452\n",
      "first motion first remote\n",
      "p = 0.12227667721471425\n",
      "first motion last remote\n",
      "\u001b[33mp = 0.03797720355552741 !!!!!!\u001b[0m\n",
      "last motion first remote\n",
      "p = 0.23323022278218208\n",
      "last motion last remote\n",
      "\u001b[31mp = 0.07026567343786677 !\u001b[0m\n",
      "first remote last remote\n",
      "p = 0.4015419876158456\n",
      "\n",
      "motion ratio\n",
      "[ 0.13479853  0.45138855 -0.38963577  0.5727317  -0.13482768  0.20546103\n",
      " -0.13823642 -0.1347418   0.04571168]\n",
      "0.06807220139616105\n",
      "0.2905554884303405\n",
      "\n",
      "remote ratio\n",
      "[ 0.3983646  -0.08133044 -0.53343624  0.05978566  0.15626795 -0.15309699\n",
      "  0.63919876  0.41783729  0.4758306 ]\n",
      "0.15326902112162571\n",
      "0.3495157263188677\n",
      "\n",
      "p =  0.5659921481957904 \n",
      "\n",
      "firts ratio\n",
      "[-4.07332936 -0.33948543 -0.02262699 -0.29412162  0.14043032 -3.9687053\n",
      " -2.1126969   0.10394082 -0.85342142]\n",
      "-1.2688906534672668\n",
      "1.6081905962667928\n",
      "\n",
      "last ratio\n",
      "[-6.29586722  0.32041398  0.07327151  0.41190309 -0.15612944 -2.42367556\n",
      " -8.81976943 -0.74658354 -2.37428783]\n",
      "-2.223413826828591\n",
      "3.078691330324775\n",
      "\n",
      "p =  0.8946258095467479 \n"
     ]
    }
   ],
   "source": [
    "dEnergy = runBasicAnalysis(compDEnergy)"
   ]
  },
  {
   "cell_type": "code",
   "execution_count": 35,
   "metadata": {
    "jupyter": {
     "source_hidden": true
    }
   },
   "outputs": [
    {
     "data": {
      "text/plain": [
       "<BarContainer object of 2 artists>"
      ]
     },
     "execution_count": 35,
     "metadata": {},
     "output_type": "execute_result"
    },
    {
     "data": {
      "image/png": "[encoded data removed]",
      "text/plain": [
       "<Figure size 576x288 with 2 Axes>"
      ]
     },
     "metadata": {
      "needs_background": "light"
     },
     "output_type": "display_data"
    }
   ],
   "source": [
    "size = 6\n",
    "\n",
    "fig = plt.figure(figsize=(8, 4))\n",
    "ax = fig.add_subplot(121)\n",
    "ax.bar([0, 1, 2, 3],\n",
    "   dEnergy['means'],\n",
    "   yerr=dEnergy['stds'])\n",
    "\n",
    "plt.xticks(range(4), fields, rotation = 10)\n",
    "\n",
    "ax = fig.add_subplot(122)\n",
    "ax.bar([0, 1],\n",
    "   [np.mean(dEnergy['diff mot']), np.mean(dEnergy['diff rem'])],\n",
    "   yerr=[np.std(dEnergy['diff mot']), np.std(dEnergy['diff rem'])])"
   ]
  },
  {
   "cell_type": "markdown",
   "metadata": {},
   "source": [
    "# Collision Analysis"
   ]
  },
  {
   "cell_type": "code",
   "execution_count": 36,
   "metadata": {
    "jupyter": {
     "source_hidden": true
    }
   },
   "outputs": [
    {
     "data": {
      "text/html": [
       "<div>\n",
       "<style scoped>\n",
       "    .dataframe tbody tr th:only-of-type {\n",
       "        vertical-align: middle;\n",
       "    }\n",
       "\n",
       "    .dataframe tbody tr th {\n",
       "        vertical-align: top;\n",
       "    }\n",
       "\n",
       "    .dataframe thead th {\n",
       "        text-align: right;\n",
       "    }\n",
       "</style>\n",
       "<table border=\"1\" class=\"dataframe\">\n",
       "  <thead>\n",
       "    <tr style=\"text-align: right;\">\n",
       "      <th></th>\n",
       "      <th>Index</th>\n",
       "      <th>Run</th>\n",
       "      <th>Subject</th>\n",
       "      <th>Interface</th>\n",
       "      <th>Collided</th>\n",
       "    </tr>\n",
       "  </thead>\n",
       "  <tbody>\n",
       "    <tr>\n",
       "      <td>0</td>\n",
       "      <td>NaN</td>\n",
       "      <td>NaN</td>\n",
       "      <td>NaN</td>\n",
       "      <td>NaN</td>\n",
       "      <td>NaN</td>\n",
       "    </tr>\n",
       "    <tr>\n",
       "      <td>1</td>\n",
       "      <td>NaN</td>\n",
       "      <td>NaN</td>\n",
       "      <td>NaN</td>\n",
       "      <td>NaN</td>\n",
       "      <td>NaN</td>\n",
       "    </tr>\n",
       "    <tr>\n",
       "      <td>2</td>\n",
       "      <td>NaN</td>\n",
       "      <td>NaN</td>\n",
       "      <td>NaN</td>\n",
       "      <td>NaN</td>\n",
       "      <td>NaN</td>\n",
       "    </tr>\n",
       "    <tr>\n",
       "      <td>3</td>\n",
       "      <td>NaN</td>\n",
       "      <td>NaN</td>\n",
       "      <td>NaN</td>\n",
       "      <td>NaN</td>\n",
       "      <td>NaN</td>\n",
       "    </tr>\n",
       "    <tr>\n",
       "      <td>4</td>\n",
       "      <td>NaN</td>\n",
       "      <td>NaN</td>\n",
       "      <td>NaN</td>\n",
       "      <td>NaN</td>\n",
       "      <td>NaN</td>\n",
       "    </tr>\n",
       "    <tr>\n",
       "      <td>...</td>\n",
       "      <td>...</td>\n",
       "      <td>...</td>\n",
       "      <td>...</td>\n",
       "      <td>...</td>\n",
       "      <td>...</td>\n",
       "    </tr>\n",
       "    <tr>\n",
       "      <td>95</td>\n",
       "      <td>96.0</td>\n",
       "      <td>1.0</td>\n",
       "      <td>10.0</td>\n",
       "      <td>Remote</td>\n",
       "      <td>1.0</td>\n",
       "    </tr>\n",
       "    <tr>\n",
       "      <td>96</td>\n",
       "      <td>97.0</td>\n",
       "      <td>2.0</td>\n",
       "      <td>10.0</td>\n",
       "      <td>Remote</td>\n",
       "      <td>0.0</td>\n",
       "    </tr>\n",
       "    <tr>\n",
       "      <td>97</td>\n",
       "      <td>98.0</td>\n",
       "      <td>3.0</td>\n",
       "      <td>10.0</td>\n",
       "      <td>Remote</td>\n",
       "      <td>1.0</td>\n",
       "    </tr>\n",
       "    <tr>\n",
       "      <td>98</td>\n",
       "      <td>99.0</td>\n",
       "      <td>4.0</td>\n",
       "      <td>10.0</td>\n",
       "      <td>Remote</td>\n",
       "      <td>0.0</td>\n",
       "    </tr>\n",
       "    <tr>\n",
       "      <td>99</td>\n",
       "      <td>100.0</td>\n",
       "      <td>5.0</td>\n",
       "      <td>10.0</td>\n",
       "      <td>Remote</td>\n",
       "      <td>0.0</td>\n",
       "    </tr>\n",
       "  </tbody>\n",
       "</table>\n",
       "<p>100 rows × 5 columns</p>\n",
       "</div>"
      ],
      "text/plain": [
       "    Index  Run  Subject Interface  Collided\n",
       "0     NaN  NaN      NaN       NaN       NaN\n",
       "1     NaN  NaN      NaN       NaN       NaN\n",
       "2     NaN  NaN      NaN       NaN       NaN\n",
       "3     NaN  NaN      NaN       NaN       NaN\n",
       "4     NaN  NaN      NaN       NaN       NaN\n",
       "..    ...  ...      ...       ...       ...\n",
       "95   96.0  1.0     10.0    Remote       1.0\n",
       "96   97.0  2.0     10.0    Remote       0.0\n",
       "97   98.0  3.0     10.0    Remote       1.0\n",
       "98   99.0  4.0     10.0    Remote       0.0\n",
       "99  100.0  5.0     10.0    Remote       0.0\n",
       "\n",
       "[100 rows x 5 columns]"
      ]
     },
     "execution_count": 36,
     "metadata": {},
     "output_type": "execute_result"
    }
   ],
   "source": [
    "coll_df = pd.read_csv('/Volumes/GoogleDrive/My Drive/Matteo/EPFL/LIS/PhD/Bidirectional_wearable_interface/DATA/Haptics/Haptics_X/Bidir - haptics X collisions - Sheet1.csv')\n",
    "coll_df"
   ]
  },
  {
   "cell_type": "code",
   "execution_count": 37,
   "metadata": {
    "jupyter": {
     "source_hidden": true
    }
   },
   "outputs": [
    {
     "name": "stdout",
     "output_type": "stream",
     "text": [
      "    Index  Run  Subject Interface  Collided\n",
      "10   11.0  1.0      2.0    Motion       0.0\n",
      "11   12.0  2.0      2.0    Motion       0.0\n",
      "12   13.0  3.0      2.0    Motion       0.0\n",
      "13   14.0  4.0      2.0    Motion       0.0\n",
      "14   15.0  5.0      2.0    Motion       0.0\n",
      "20   21.0  1.0      3.0    Motion       0.0\n",
      "21   22.0  2.0      3.0    Motion       0.0\n",
      "22   23.0  3.0      3.0    Motion       0.0\n",
      "23   24.0  4.0      3.0    Motion       0.0\n",
      "24   25.0  5.0      3.0    Motion       0.0\n",
      "30   31.0  1.0      4.0    Motion       0.0\n",
      "31   32.0  2.0      4.0    Motion       0.0\n",
      "32   33.0  3.0      4.0    Motion       0.0\n",
      "33   34.0  4.0      4.0    Motion       1.0\n",
      "34   35.0  5.0      4.0    Motion       0.0\n",
      "40   41.0  1.0      5.0    Motion       0.0\n",
      "41   42.0  2.0      5.0    Motion       1.0\n",
      "42   43.0  3.0      5.0    Motion       0.0\n",
      "43   44.0  4.0      5.0    Motion       0.0\n",
      "44   45.0  5.0      5.0    Motion       0.0\n",
      "50   51.0  1.0      6.0    Motion       0.0\n",
      "51   52.0  2.0      6.0    Motion       0.0\n",
      "52   53.0  3.0      6.0    Motion       0.0\n",
      "53   54.0  4.0      6.0    Motion       0.0\n",
      "54   55.0  5.0      6.0    Motion       0.0\n",
      "60   61.0  1.0      7.0    Motion       0.0\n",
      "61   62.0  2.0      7.0    Motion       0.0\n",
      "62   63.0  3.0      7.0    Motion       0.0\n",
      "63   64.0  4.0      7.0    Motion       0.0\n",
      "64   65.0  5.0      7.0    Motion       0.0\n",
      "70   71.0  1.0      8.0    Motion       0.0\n",
      "71   72.0  2.0      8.0    Motion       0.0\n",
      "72   73.0  3.0      8.0    Motion       0.0\n",
      "73   74.0  4.0      8.0    Motion       0.0\n",
      "74   75.0  5.0      8.0    Motion       0.0\n",
      "80   81.0  1.0      9.0    Motion       0.0\n",
      "81   82.0  2.0      9.0    Motion       0.0\n",
      "82   83.0  3.0      9.0    Motion       1.0\n",
      "83   84.0  4.0      9.0    Motion       0.0\n",
      "84   85.0  5.0      9.0    Motion       0.0\n",
      "90   91.0  1.0     10.0    Motion       0.0\n",
      "91   92.0  2.0     10.0    Motion       0.0\n",
      "92   93.0  3.0     10.0    Motion       0.0\n",
      "93   94.0  4.0     10.0    Motion       1.0\n",
      "94   95.0  5.0     10.0    Motion       0.0\n",
      "    Index  Run  Subject Interface  Collided\n",
      "15   16.0  1.0      2.0    Remote       1.0\n",
      "16   17.0  2.0      2.0    Remote       0.0\n",
      "17   18.0  3.0      2.0    Remote       0.0\n",
      "18   19.0  4.0      2.0    Remote       0.0\n",
      "19   20.0  5.0      2.0    Remote       0.0\n",
      "25   26.0  1.0      3.0    Remote       0.0\n",
      "26   27.0  2.0      3.0    Remote       1.0\n",
      "27   28.0  3.0      3.0    Remote       1.0\n",
      "28   29.0  4.0      3.0    Remote       0.0\n",
      "29   30.0  5.0      3.0    Remote       1.0\n",
      "35   36.0  1.0      4.0    Remote       0.0\n",
      "36   37.0  2.0      4.0    Remote       1.0\n",
      "37   38.0  3.0      4.0    Remote       0.0\n",
      "38   39.0  4.0      4.0    Remote       0.0\n",
      "39   40.0  5.0      4.0    Remote       0.0\n",
      "45   46.0  1.0      5.0    Remote       1.0\n",
      "46   47.0  2.0      5.0    Remote       0.0\n",
      "47   48.0  3.0      5.0    Remote       0.0\n",
      "48   49.0  4.0      5.0    Remote       0.0\n",
      "49   50.0  5.0      5.0    Remote       0.0\n",
      "55   56.0  1.0      6.0    Remote       0.0\n",
      "56   57.0  2.0      6.0    Remote       0.0\n",
      "57   58.0  3.0      6.0    Remote       0.0\n",
      "58   59.0  4.0      6.0    Remote       1.0\n",
      "59   60.0  5.0      6.0    Remote       0.0\n",
      "65   66.0  1.0      7.0    Remote       0.0\n",
      "66   67.0  2.0      7.0    Remote       1.0\n",
      "67   68.0  3.0      7.0    Remote       0.0\n",
      "68   69.0  4.0      7.0    Remote       0.0\n",
      "69   70.0  5.0      7.0    Remote       1.0\n",
      "75   76.0  1.0      8.0    Remote       1.0\n",
      "76   77.0  2.0      8.0    Remote       0.0\n",
      "77   78.0  3.0      8.0    Remote       1.0\n",
      "78   79.0  4.0      8.0    Remote       0.0\n",
      "79   80.0  5.0      8.0    Remote       0.0\n",
      "85   86.0  1.0      9.0    Remote       1.0\n",
      "86   87.0  2.0      9.0    Remote       1.0\n",
      "87   88.0  3.0      9.0    Remote       1.0\n",
      "88   89.0  4.0      9.0    Remote       0.0\n",
      "89   90.0  5.0      9.0    Remote       1.0\n",
      "95   96.0  1.0     10.0    Remote       1.0\n",
      "96   97.0  2.0     10.0    Remote       0.0\n",
      "97   98.0  3.0     10.0    Remote       1.0\n",
      "98   99.0  4.0     10.0    Remote       0.0\n",
      "99  100.0  5.0     10.0    Remote       0.0\n"
     ]
    }
   ],
   "source": [
    "coll = {}\n",
    "\n",
    "coll['motion'] = coll_df[coll_df['Interface']=='Motion']\n",
    "coll['remote'] = coll_df[coll_df['Interface']=='Remote']\n",
    "\n",
    "\n",
    "coll['first motion'] = coll['motion'][coll['motion']['Run']==1]\n",
    "coll['last motion'] = coll['motion'][coll['motion']['Run']==5]\n",
    "coll['first remote'] = coll['remote'][coll['remote']['Run']==1]\n",
    "coll['last remote'] = coll['remote'][coll['remote']['Run']==5]\n",
    "# logs['last motion'] = [logs[x][-1] for x in sub_motion]\n",
    "# logs['first remote'] = [logs[x][0] for x in sub_remote]\n",
    "# logs['last remote'] = [logs[x][-1] for x in sub_remote]\n",
    "print(coll['motion'])\n",
    "print(coll['remote'])"
   ]
  },
  {
   "cell_type": "code",
   "execution_count": 38,
   "metadata": {},
   "outputs": [
    {
     "name": "stdout",
     "output_type": "stream",
     "text": [
      "\n",
      "consider all runs\n",
      "\n",
      "mean motion =  0.4444444444444444\n",
      "std motion =  0.4969039949999533\n",
      "mean remote =  1.8888888888888888\n",
      "std remote =  0.9938079899999066\n",
      "\n",
      "total motion =  4.0\n",
      "total remote =  17.0\n",
      "\n",
      "\u001b[32mp = 0.0023307281594675327 !!!!!!!!!!\u001b[0m\n",
      "\n",
      "consider first runs\n",
      "\n",
      "mean motion =  0.0\n",
      "std motion =  0.0\n",
      "mean remote =  0.5555555555555556\n",
      "std remote =  0.4969039949999533\n",
      "\n",
      "total motion =  0.0\n",
      "total remote =  5.0\n",
      "\n",
      "\u001b[33mp = 0.010556660425736162 !!!!!!\u001b[0m\n",
      "\n",
      "consider last runs\n",
      "\n",
      "mean motion =  0.0\n",
      "std motion =  0.0\n",
      "mean remote =  0.3333333333333333\n",
      "std remote =  0.4714045207910317\n",
      "\n",
      "total motion =  0.0\n",
      "total remote =  3.0\n",
      "\n",
      "\u001b[31mp = 0.06519641907813 !\u001b[0m\n"
     ]
    },
    {
     "data": {
      "text/plain": [
       "Text(0.5, 1.0, 'Collisions - last run')"
      ]
     },
     "execution_count": 38,
     "metadata": {},
     "output_type": "execute_result"
    },
    {
     "data": {
      "image/png": "[encoded data removed]",
      "text/plain": [
       "<Figure size 864x288 with 3 Axes>"
      ]
     },
     "metadata": {
      "needs_background": "light"
     },
     "output_type": "display_data"
    }
   ],
   "source": [
    "def compute_mean_std_collisions(data_m, data_r):\n",
    "    \n",
    "    coll_per_sub_m = []\n",
    "    \n",
    "    for sub in np.unique(data_m['Subject']):\n",
    "        sub_coll = data_m[data_m['Subject']==sub]\n",
    "        \n",
    "        coll_per_sub_m.append(sub_coll['Collided'].sum())\n",
    "        \n",
    "    coll_per_sub_r = []\n",
    "    \n",
    "    for sub in np.unique(data_r['Subject']):\n",
    "        sub_coll = data_r[data_r['Subject']==sub]\n",
    "        \n",
    "        coll_per_sub_r.append(sub_coll['Collided'].sum())\n",
    "    \n",
    "    mean_m = np.mean(coll_per_sub_m)\n",
    "    std_m = np.std(coll_per_sub_m)\n",
    "    mean_r = np.mean(coll_per_sub_r)\n",
    "    std_r = np.std(coll_per_sub_r)\n",
    "\n",
    "    print('mean motion = ', mean_m)\n",
    "    print('std motion = ', std_m)\n",
    "    print('mean remote = ', mean_r)\n",
    "    print('std remote = ', std_r)\n",
    "    print('')\n",
    "    print('total motion = ', np.sum(coll_per_sub_m))\n",
    "    print('total remote = ', np.sum(coll_per_sub_r))\n",
    "    print('')\n",
    "\n",
    "    t, p = t_test_kruskal(coll_per_sub_m, coll_per_sub_r)\n",
    "\n",
    "    print_p(p)\n",
    "    \n",
    "    return [coll_per_sub_m, coll_per_sub_r]\n",
    "\n",
    "print('')\n",
    "print('consider all runs')\n",
    "print('')\n",
    "all_m, all_r = compute_mean_std_collisions(coll['motion'], coll['remote'])\n",
    "    \n",
    "print('')\n",
    "print('consider first runs')\n",
    "print('')\n",
    "first_m, first_r = compute_mean_std_collisions(coll['first motion'], coll['first remote'])\n",
    "    \n",
    "print('')\n",
    "print('consider last runs')\n",
    "print('')\n",
    "last_m, last_r = compute_mean_std_collisions(coll['last motion'], coll['last remote'])\n",
    "\n",
    "\n",
    "    \n",
    "fig = plt.figure(figsize=(12, 4))\n",
    "ax = fig.add_subplot(131)\n",
    "ax.bar([0, 1],\n",
    "   [np.mean(all_m), np.mean(all_r)],\n",
    "      yerr = [np.std(all_m), np.std(all_r)])\n",
    "\n",
    "plt.xticks(range(2), ['motion', 'remote'])\n",
    "plt.ylim([0, 5])\n",
    "plt.title('Total collisions')\n",
    "\n",
    "ax = fig.add_subplot(132)\n",
    "ax.bar([0, 1],\n",
    "   [np.mean(first_m), np.mean(first_r)],\n",
    "      yerr = [np.std(first_m), np.std(first_r)])\n",
    "\n",
    "plt.xticks(range(2), ['motion', 'remote'])\n",
    "plt.ylim([0, 5])\n",
    "plt.title('Collisions - first run')\n",
    "\n",
    "ax = fig.add_subplot(133)\n",
    "ax.bar([0, 1],\n",
    "   [np.mean(last_m), np.mean(last_r)],\n",
    "      yerr = [np.std(last_m), np.std(last_r)])\n",
    "\n",
    "plt.xticks(range(2), ['motion', 'remote'])\n",
    "plt.ylim([0, 5])\n",
    "plt.title('Total collisions')\n",
    "plt.title('Collisions - last run')"
   ]
  },
  {
   "cell_type": "code",
   "execution_count": 50,
   "metadata": {},
   "outputs": [
    {
     "data": {
      "image/png": "[encoded data removed]",
      "text/plain": [
       "<Figure size 288x288 with 1 Axes>"
      ]
     },
     "metadata": {
      "needs_background": "light"
     },
     "output_type": "display_data"
    }
   ],
   "source": [
    "\n",
    "c1 = 'b'\n",
    "c2 = 'r'\n",
    "\n",
    "fig = plt.figure()\n",
    "ax = fig.add_subplot(111)\n",
    "ax.bar([1],\n",
    "   [np.mean(all_r),],\n",
    "      yerr = [np.std(all_r)], color =c1, ecolor = c1, width=0.5 )\n",
    "ax.bar([2],\n",
    "   [np.mean(all_m)],\n",
    "      yerr = [np.std(all_m)], color =c2, ecolor = c2, width=0.5 )\n",
    "\n",
    "plt.xticks([1,2], ['remote', 'motion'])\n",
    "plt.yticks([1,2,3,4,5])\n",
    "plt.ylim([0, 5])\n",
    "plt.xlim([0.5, 2.5])\n",
    "plt.ylabel('Total collisions')\n",
    "plt.grid()\n",
    "        \n",
    "ax.spines['right'].set_visible(False)\n",
    "ax.spines['top'].set_visible(False)\n",
    "\n",
    "savefig('collisions_X.pdf', bbox_inches='tight')"
   ]
  },
  {
   "cell_type": "markdown",
   "metadata": {},
   "source": [
    "## <span style=\"color:red\">HERE RESULTS</span>"
   ]
  },
  {
   "cell_type": "markdown",
   "metadata": {},
   "source": [
    "# Approach wall Analysis"
   ]
  },
  {
   "cell_type": "code",
   "execution_count": 40,
   "metadata": {},
   "outputs": [],
   "source": [
    "def comp_max_dist(df):\n",
    "    \n",
    "    return np.max(df['dronePosition.x'])"
   ]
  },
  {
   "cell_type": "code",
   "execution_count": 41,
   "metadata": {},
   "outputs": [
    {
     "name": "stdout",
     "output_type": "stream",
     "text": [
      "motion\n",
      "[2.166543960571289, 2.3427584171295166, 2.3182642459869385, 2.6193010807037354, 2.1527178287506104, 2.203144073486328, 2.172031879425049, 2.367964267730713, 2.2921621799468994, 2.2938807010650635, 2.0830440521240234, 2.3672471046447754, 2.1614696979522705, 2.3489859104156494, 2.1100220680236816, 1.7940592765808105, 2.562236785888672, 2.2595462799072266, 2.438251256942749, 2.281041145324707, 2.32242751121521, 2.406738758087158, 2.179379463195801, 2.3031210899353027, 2.222109794616699, 2.102964162826538, 2.135408878326416, 2.1898622512817383, 2.2468628883361816, 2.1908209323883057, 2.2549567222595215, 2.3733744621276855, 2.2341959476470947, 2.368077039718628, 2.223067283630371, 2.2383840084075928, 2.3013014793395996, 2.1632609367370605, 2.2235822677612305, 2.2708401679992676, 2.336261749267578, 2.345310688018799, 2.409379482269287, 2.3194692134857178, 2.3210558891296387]\n",
      "mean =  2.267041895124647\n",
      "std =  0.131088157209038\n",
      "\n",
      "remote\n",
      "[2.5452990531921387, 2.35636305809021, 2.4467203617095947, 2.1429738998413086, 1.9959169626235962, 2.4113423824310303, 1.8836981058120728, 1.7696588039398193, 2.1432104110717773, 2.2038204669952393, 1.4050902128219604, 2.415755271911621, 2.5481977462768555, 2.3131282329559326, 2.6274783611297607, 2.2018699645996094, 2.5144894123077393, 2.285017728805542, 1.6691404581069946, 1.3976796865463257, 2.4715840816497803, 2.308835744857788, 2.334655284881592, 1.906630516052246, 2.3718910217285156, 1.0454010963439941, 1.4640271663665771, 1.5928618907928467, 2.5829100608825684, 1.5307704210281372, 2.100245714187622, 2.4239933490753174, 2.1544477939605713, 1.2697418928146362, 1.5639835596084595, 2.5023741722106934, 2.3260042667388916, 2.6995902061462402, 2.2673070430755615, 2.049128532409668, 2.6225969791412354, 2.4838342666625977, 2.5159153938293457, 2.1735522747039795, 2.3502466678619385]\n",
      "mean =  2.1419862217373318\n",
      "std =  0.4113322742129244\n",
      "\n",
      "p = 0.8243786816798566\n"
     ]
    }
   ],
   "source": [
    "x_max = runHapticsAnalysis(comp_max_dist)"
   ]
  },
  {
   "cell_type": "code",
   "execution_count": 42,
   "metadata": {},
   "outputs": [],
   "source": [
    "dist_obstacle = 2.5\n",
    "collider = 0.07\n",
    "\n",
    "x_collision = dist_obstacle - collider"
   ]
  },
  {
   "cell_type": "code",
   "execution_count": 43,
   "metadata": {},
   "outputs": [
    {
     "name": "stdout",
     "output_type": "stream",
     "text": [
      "\n",
      "motion remote\n",
      "\u001b[33mp = 0.013680226226984397 !!!!!!\u001b[0m\n"
     ]
    },
    {
     "data": {
      "text/plain": [
       "Text(0.5, 1.0, 'Distances')"
      ]
     },
     "execution_count": 43,
     "metadata": {},
     "output_type": "execute_result"
    },
    {
     "data": {
      "image/png": "[encoded data removed]",
      "text/plain": [
       "<Figure size 288x288 with 1 Axes>"
      ]
     },
     "metadata": {
      "needs_background": "light"
     },
     "output_type": "display_data"
    }
   ],
   "source": [
    "distances = {}\n",
    "\n",
    "for i in interfaces:\n",
    "    distances[i] = x_collision - np.array(x_max[i])\n",
    "    distances[i] = distances[i][np.where(distances[i]>0)]\n",
    "    \n",
    "print()\n",
    "            \n",
    "for idx,i in enumerate(interfaces):\n",
    "    for j in interfaces[idx+1:]:\n",
    "        if i != j:\n",
    "\n",
    "            t, p = t_test_kruskal(distances[i],distances[j])\n",
    "\n",
    "            print (i,j)\n",
    "            print_p(p)\n",
    "        \n",
    "fig = plt.figure(figsize=(4, 4))\n",
    "ax = fig.add_subplot(111)\n",
    "ax.bar([0, 1],\n",
    "   [np.mean(distances['motion']), np.mean(distances['remote'])],\n",
    "      yerr = [np.std(distances['motion']), np.std(distances['remote'])])\n",
    "\n",
    "plt.xticks(range(2), ['motion', 'remote'])\n",
    "plt.ylim([0, 1])\n",
    "plt.title('Distances')"
   ]
  },
  {
   "cell_type": "code",
   "execution_count": 44,
   "metadata": {},
   "outputs": [
    {
     "data": {
      "image/png": "[encoded data removed]",
      "text/plain": [
       "<Figure size 2160x2160 with 1 Axes>"
      ]
     },
     "metadata": {
      "needs_background": "light"
     },
     "output_type": "display_data"
    }
   ],
   "source": [
    "c1 = 'b'\n",
    "c2 = 'r'\n",
    "\n",
    "fig = plt.figure()\n",
    "ax = fig.add_subplot(111)\n",
    "ax.bar([1],\n",
    "   [np.mean(distances['remote']),],\n",
    "      yerr = [np.std(distances['remote'])], color =c1, ecolor = c1, width=0.5 )\n",
    "ax.bar([2],\n",
    "   [np.mean(distances['motion'])],\n",
    "      yerr = [np.std(distances['motion'])], color =c2, ecolor = c2, width=0.5 )\n",
    "\n",
    "plt.xticks([1,2], ['remote', 'motion'])\n",
    "plt.yticks([0,0.5,1])\n",
    "plt.ylim([0, 1])\n",
    "plt.xlim([0.5, 2.5])\n",
    "plt.ylabel('Distance from wall [m]')\n",
    "plt.grid()\n",
    "        \n",
    "ax.spines['right'].set_visible(False)\n",
    "ax.spines['top'].set_visible(False)\n",
    "\n",
    "savefig('distances_X.pdf', bbox_inches='tight')"
   ]
  },
  {
   "cell_type": "markdown",
   "metadata": {},
   "source": [
    "## <span style=\"color:red\">HERE RESULTS</span>"
   ]
  }
 ],
 "metadata": {
  "kernelspec": {
   "display_name": "Python 3",
   "language": "python",
   "name": "python3"
  },
  "language_info": {
   "codemirror_mode": {
    "name": "ipython",
    "version": 3
   },
   "file_extension": ".py",
   "mimetype": "text/x-python",
   "name": "python",
   "nbconvert_exporter": "python",
   "pygments_lexer": "ipython3",
   "version": "3.7.4"
  },
  "varInspector": {
   "cols": {
    "lenName": 16,
    "lenType": 16,
    "lenVar": 40
   },
   "kernels_config": {
    "python": {
     "delete_cmd_postfix": "",
     "delete_cmd_prefix": "del ",
     "library": "var_list.py",
     "varRefreshCmd": "print(var_dic_list())"
    },
    "r": {
     "delete_cmd_postfix": ") ",
     "delete_cmd_prefix": "rm(",
     "library": "var_list.r",
     "varRefreshCmd": "cat(var_dic_list()) "
    }
   },
   "position": {
    "height": "472.85px",
    "left": "1048.6px",
    "right": "20px",
    "top": "22px",
    "width": "462.8px"
   },
   "types_to_exclude": [
    "module",
    "function",
    "builtin_function_or_method",
    "instance",
    "_Feature"
   ],
   "window_display": false
  }
 },
 "nbformat": 4,
 "nbformat_minor": 4
}
