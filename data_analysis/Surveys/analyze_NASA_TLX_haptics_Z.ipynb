{
 "cells": [
  {
   "cell_type": "markdown",
   "metadata": {},
   "source": [
    "# Analyse survey"
   ]
  },
  {
   "cell_type": "markdown",
   "metadata": {},
   "source": [
    "## Imports"
   ]
  },
  {
   "cell_type": "code",
   "execution_count": 13,
   "metadata": {},
   "outputs": [],
   "source": [
    "# -*- coding: utf-8 -*-\n",
    "\"\"\"\n",
    "Created on Fri Nov 16 13:02:17 2018\n",
    "\n",
    "@author: macchini\n",
    "\"\"\"\n",
    "\n",
    "import os,sys\n",
    "sys.path.insert(1, os.path.join(sys.path[0], '..'))\n",
    "\n",
    "import my_plots\n",
    "import numpy as np\n",
    "import pandas as pd\n",
    "import matplotlib.pyplot as plt\n",
    "import matplotlib as mpl\n",
    "import utils\n",
    "\n",
    "from numpy.random import seed\n",
    "from numpy.random import randn\n",
    "from scipy.stats import kruskal\n",
    "\n",
    "from statistics import print_p"
   ]
  },
  {
   "cell_type": "markdown",
   "metadata": {},
   "source": [
    "## Load file and create dataframe"
   ]
  },
  {
   "cell_type": "code",
   "execution_count": 14,
   "metadata": {},
   "outputs": [],
   "source": [
    "folder = './Data'\n",
    "\n",
    "files = os.listdir(folder)\n",
    "\n",
    "csv_1 = 'NASA_TLX_haptics_1.csv'\n",
    "csv_2 = 'NASA_TLX_haptics_2.csv'\n",
    "csv_3 = 'NASA_TLX_haptics_3.csv'"
   ]
  },
  {
   "cell_type": "code",
   "execution_count": 22,
   "metadata": {
    "scrolled": true
   },
   "outputs": [],
   "source": [
    "answers_df_1 = pd.read_csv(os.path.join(folder, csv_1))\n",
    "answers_df_2 = pd.read_csv(os.path.join(folder, csv_2))\n",
    "answers_df_3 = pd.read_csv(os.path.join(folder, csv_3))\n",
    "\n",
    "answers_df = pd.concat([answers_df_1, answers_df_2, answers_df_3])\n",
    "\n",
    "\n",
    "# Separate hardware and simulation experiments\n",
    "answers_df_hw = answers_df[answers_df['subject number'] >= 100]\n",
    "answers_df = answers_df[answers_df['subject number'] < 100]"
   ]
  },
  {
   "cell_type": "markdown",
   "metadata": {},
   "source": [
    "## Separate dataframe depending on interface/run"
   ]
  },
  {
   "cell_type": "code",
   "execution_count": 23,
   "metadata": {},
   "outputs": [],
   "source": [
    "types = ['remote', 'motion']\n",
    "\n",
    "# Separate answers depending on interface and run\n",
    "answers = {}\n",
    "answers[types[0]] = answers_df[answers_df['Interface'] == 'Remote']\n",
    "answers[types[1]] = answers_df[answers_df['Interface'] == 'Motion']\n",
    "\n",
    "answers_hw = {}\n",
    "answers_hw[types[0]] = answers_df_hw[answers_df_hw['Interface'] == 'Remote']\n",
    "answers_hw[types[1]] = answers_df_hw[answers_df_hw['Interface'] == 'Motion']"
   ]
  },
  {
   "cell_type": "markdown",
   "metadata": {},
   "source": [
    "## Separate questions"
   ]
  },
  {
   "cell_type": "code",
   "execution_count": 24,
   "metadata": {},
   "outputs": [],
   "source": [
    "data = {}\n",
    "data_hw = {}\n",
    "\n",
    "mentally_demanding = 'How mentally demanding was the test?'\n",
    "physically_demanding = 'How physically demanding was the test?'\n",
    "pace = 'How hurried or rushed was the pace of the task?'\n",
    "successful = 'How successful were you in accomplishing what you were asked to do?'\n",
    "insecure = 'How insecure, discouraged, irritated, stresses, and annoyed were you?'\n",
    "\n",
    "questions = [mentally_demanding, physically_demanding, pace, successful, insecure]\n",
    "\n",
    "for i in types:\n",
    "    data[i] = {}\n",
    "    data_hw[i] = {}\n",
    "    for q in questions:\n",
    "        data[i][q] = answers[i][q].values\n",
    "        data_hw[i][q] = answers_hw[i][q].values"
   ]
  },
  {
   "cell_type": "markdown",
   "metadata": {},
   "source": [
    "## Compute mean and average"
   ]
  },
  {
   "cell_type": "code",
   "execution_count": 25,
   "metadata": {},
   "outputs": [
    {
     "name": "stdout",
     "output_type": "stream",
     "text": [
      "{'remote': {'How mentally demanding was the test?': [2.357142857142857, 0.8949974347244047], 'How physically demanding was the test?': [1.2142857142857142, 0.410325903324145], 'How hurried or rushed was the pace of the task?': [1.3214285714285714, 0.6575697371257846], 'How successful were you in accomplishing what you were asked to do?': [2.5357142857142856, 0.7310531960878115], 'How insecure, discouraged, irritated, stresses, and annoyed were you?': [1.6428571428571428, 0.9340497736158585]}, 'motion': {'How mentally demanding was the test?': [2.0, 0.9837387536759294], 'How physically demanding was the test?': [1.5806451612903225, 0.7523808896574581], 'How hurried or rushed was the pace of the task?': [1.3548387096774193, 0.8249491517770594], 'How successful were you in accomplishing what you were asked to do?': [3.870967741935484, 0.7509965630208268], 'How insecure, discouraged, irritated, stresses, and annoyed were you?': [1.096774193548387, 0.29565004483586066]}}\n"
     ]
    }
   ],
   "source": [
    "stats = {}\n",
    "stats_hw = {}\n",
    "\n",
    "mean_index = 0\n",
    "std_index = 1\n",
    "\n",
    "for i in types:\n",
    "    stats[i] = {}\n",
    "    stats_hw[i] = {}\n",
    "    for q in questions:\n",
    "        stats[i][q] = [0, 0]\n",
    "        stats[i][q][mean_index] = np.mean(data[i][q])\n",
    "        stats[i][q][std_index] = np.std(data[i][q])\n",
    "        \n",
    "        stats_hw[i][q] = [0, 0]\n",
    "        stats_hw[i][q][mean_index] = np.mean(data_hw[i][q])\n",
    "        stats_hw[i][q][std_index] = np.std(data_hw[i][q])\n",
    "        \n",
    "print(stats)"
   ]
  },
  {
   "cell_type": "markdown",
   "metadata": {},
   "source": [
    "## Results"
   ]
  },
  {
   "cell_type": "markdown",
   "metadata": {},
   "source": [
    "Stats (similarly for stats_hw for the hardware experiments) is a nested dictionnary containing the mean and std for each question of the survey, separated depending on the interface (remote or motion) and run (first or last)\n",
    "\n",
    "data (similarly data_hw) can be used to create boxplot for the distribution of answers."
   ]
  },
  {
   "cell_type": "code",
   "execution_count": 26,
   "metadata": {},
   "outputs": [],
   "source": [
    "def t_test_kruskal(X, Y):\n",
    "    \n",
    "    # Kruskal-Wallis H-test\n",
    "    \n",
    "    # seed the random number generator\n",
    "    seed(1)\n",
    "    \n",
    "    # compare samples\n",
    "    stat, p = kruskal(X, Y)\n",
    "    \n",
    "    return [stat, p]"
   ]
  },
  {
   "cell_type": "code",
   "execution_count": 27,
   "metadata": {},
   "outputs": [
    {
     "name": "stdout",
     "output_type": "stream",
     "text": [
      "\n",
      "\n",
      "remote motion How mentally demanding was the test?\n",
      "p = 0.12542957764898166\n",
      "remote motion How physically demanding was the test?\n",
      "\u001b[33mp = 0.04031242700616708 !!!!!!\u001b[0m\n",
      "remote motion How hurried or rushed was the pace of the task?\n",
      "p = 0.5815264895493811\n",
      "remote motion How successful were you in accomplishing what you were asked to do?\n",
      "\u001b[32mp = 1.0636481155072526e-07 !!!!!!!!!!\u001b[0m\n",
      "remote motion How insecure, discouraged, irritated, stresses, and annoyed were you?\n",
      "\u001b[32mp = 0.0054911772204626706 !!!!!!!!!!\u001b[0m\n",
      "\n"
     ]
    }
   ],
   "source": [
    "for idx,i in enumerate(types):\n",
    "    print()\n",
    "    for j in types[idx+1:]:\n",
    "        print()\n",
    "        for q in questions:\n",
    "            if i != j:\n",
    "                # also, compare only first-last for same interface or first-first, last-last for different ones\n",
    "\n",
    "                t, p = t_test_kruskal(data[i][q],data[j][q])\n",
    "                print(i,j,q)\n",
    "                print_p(p)"
   ]
  },
  {
   "cell_type": "markdown",
   "metadata": {},
   "source": [
    "### remote-first motion-first How physically demanding was the test? p =  0.0488888176268915\n",
    "### remote-last motion-last How physically demanding was the test? p =  0.23390621098854886\n",
    "### remote-last motion-last How mentally demanding was the test? p =  0.01913961955875495\n",
    "### motion-first remote-first How mentally demanding was the test? p =  0.03344653009997241"
   ]
  },
  {
   "cell_type": "code",
   "execution_count": 28,
   "metadata": {},
   "outputs": [
    {
     "name": "stdout",
     "output_type": "stream",
     "text": [
      "remote\n",
      "{'How mentally demanding was the test?': [2.357142857142857, 0.8949974347244047], 'How physically demanding was the test?': [1.2142857142857142, 0.410325903324145], 'How hurried or rushed was the pace of the task?': [1.3214285714285714, 0.6575697371257846], 'How successful were you in accomplishing what you were asked to do?': [2.5357142857142856, 0.7310531960878115], 'How insecure, discouraged, irritated, stresses, and annoyed were you?': [1.6428571428571428, 0.9340497736158585]}\n",
      "[2.357142857142857, 1.2142857142857142, 1.3214285714285714, 2.5357142857142856, 1.6428571428571428]\n",
      "[0.8949974347244047, 0.410325903324145, 0.6575697371257846, 0.7310531960878115, 0.9340497736158585]\n",
      "motion\n",
      "{'How mentally demanding was the test?': [2.0, 0.9837387536759294], 'How physically demanding was the test?': [1.5806451612903225, 0.7523808896574581], 'How hurried or rushed was the pace of the task?': [1.3548387096774193, 0.8249491517770594], 'How successful were you in accomplishing what you were asked to do?': [3.870967741935484, 0.7509965630208268], 'How insecure, discouraged, irritated, stresses, and annoyed were you?': [1.096774193548387, 0.29565004483586066]}\n",
      "[2.0, 1.5806451612903225, 1.3548387096774193, 3.870967741935484, 1.096774193548387]\n",
      "[0.9837387536759294, 0.7523808896574581, 0.8249491517770594, 0.7509965630208268, 0.29565004483586066]\n"
     ]
    },
    {
     "data": {
      "image/png": "[encoded data removed]",
      "text/plain": [
       "<Figure size 1152x288 with 2 Axes>"
      ]
     },
     "metadata": {
      "needs_background": "light"
     },
     "output_type": "display_data"
    }
   ],
   "source": [
    "plt.figure(figsize=(16,4))\n",
    "\n",
    "for idx, s in enumerate(stats):\n",
    "    print(s)\n",
    "    print(stats[s])\n",
    "    \n",
    "    means = [stats[s][q][0] for q in questions]\n",
    "    stds = [stats[s][q][1] for q in questions]\n",
    "    \n",
    "    print(means)\n",
    "    print(stds)\n",
    "    \n",
    "    ax = plt.subplot(141+idx)\n",
    "    \n",
    "    ax.bar([0, 1, 2, 3, 4],\n",
    "       means,\n",
    "       yerr=stds)\n",
    "    plt.title(s)\n",
    "    plt.ylim(0, 5)"
   ]
  },
  {
   "cell_type": "code",
   "execution_count": null,
   "metadata": {},
   "outputs": [],
   "source": []
  },
  {
   "cell_type": "code",
   "execution_count": null,
   "metadata": {},
   "outputs": [],
   "source": []
  }
 ],
 "metadata": {
  "kernelspec": {
   "display_name": "Python 3",
   "language": "python",
   "name": "python3"
  },
  "language_info": {
   "codemirror_mode": {
    "name": "ipython",
    "version": 3
   },
   "file_extension": ".py",
   "mimetype": "text/x-python",
   "name": "python",
   "nbconvert_exporter": "python",
   "pygments_lexer": "ipython3",
   "version": "3.7.4"
  }
 },
 "nbformat": 4,
 "nbformat_minor": 4
}
