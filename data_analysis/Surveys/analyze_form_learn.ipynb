{
 "cells": [
  {
   "cell_type": "markdown",
   "metadata": {},
   "source": [
    "# Analyse survey"
   ]
  },
  {
   "cell_type": "markdown",
   "metadata": {},
   "source": [
    "## Imports"
   ]
  },
  {
   "cell_type": "code",
   "execution_count": 2,
   "metadata": {},
   "outputs": [],
   "source": [
    "# -*- coding: utf-8 -*-\n",
    "\"\"\"\n",
    "Created on Fri Nov 16 13:02:17 2018\n",
    "\n",
    "@author: macchini\n",
    "\"\"\"\n",
    "\n",
    "import os,sys\n",
    "sys.path.insert(1, os.path.join(sys.path[0], '..'))\n",
    "\n",
    "import my_plots\n",
    "import numpy as np\n",
    "import pandas as pd\n",
    "import matplotlib.pyplot as plt\n",
    "import matplotlib as mpl\n",
    "import utils\n",
    "\n",
    "from numpy.random import seed\n",
    "from numpy.random import randn\n",
    "from scipy.stats import kruskal\n",
    "\n",
    "from collections import Counter"
   ]
  },
  {
   "cell_type": "markdown",
   "metadata": {},
   "source": [
    "## Load file and create dataframe"
   ]
  },
  {
   "cell_type": "code",
   "execution_count": 3,
   "metadata": {},
   "outputs": [
    {
     "name": "stdout",
     "output_type": "stream",
     "text": [
      "['NASA_TLX_haptics_1.csv', 'NASA_TLX_haptics_2.csv', 'NASA_TLX_haptics_3.csv', 'Bidirectional Interface - haptics.csv', 'NASA_TLX_learn.csv', 'Bidirectional Interface - learning.csv']\n"
     ]
    }
   ],
   "source": [
    "folder = './Data'\n",
    "\n",
    "files = os.listdir(folder)\n",
    "\n",
    "surveys = [x for x in files if '.csv' in x]\n",
    "print(surveys)\n",
    "\n",
    "csv = surveys[5]"
   ]
  },
  {
   "cell_type": "code",
   "execution_count": 70,
   "metadata": {
    "scrolled": true
   },
   "outputs": [
    {
     "data": {
      "text/html": [
       "<div>\n",
       "<style scoped>\n",
       "    .dataframe tbody tr th:only-of-type {\n",
       "        vertical-align: middle;\n",
       "    }\n",
       "\n",
       "    .dataframe tbody tr th {\n",
       "        vertical-align: top;\n",
       "    }\n",
       "\n",
       "    .dataframe thead th {\n",
       "        text-align: right;\n",
       "    }\n",
       "</style>\n",
       "<table border=\"1\" class=\"dataframe\">\n",
       "  <thead>\n",
       "    <tr style=\"text-align: right;\">\n",
       "      <th></th>\n",
       "      <th>Horodateur</th>\n",
       "      <th>Age</th>\n",
       "      <th>Gender</th>\n",
       "      <th>How experienced are you with the use of remote controllers?</th>\n",
       "      <th>How experienced are you with the use of remote controllers for controlling drones?</th>\n",
       "      <th>Which interface was easier to use in the FIRST run?</th>\n",
       "      <th>Which interface was easier to use in the LAST run?</th>\n",
       "      <th>Which interface did you prefer?</th>\n",
       "      <th>Why?</th>\n",
       "      <th>Please give your personal feedback/impressions</th>\n",
       "    </tr>\n",
       "  </thead>\n",
       "  <tbody>\n",
       "    <tr>\n",
       "      <td>8</td>\n",
       "      <td>2019/08/07 6:02:22 PM UTC+2</td>\n",
       "      <td>29</td>\n",
       "      <td>Female</td>\n",
       "      <td>9</td>\n",
       "      <td>5</td>\n",
       "      <td>Equivalent</td>\n",
       "      <td>Wearable</td>\n",
       "      <td>Werable</td>\n",
       "      <td>more fun, more intuitive (I did not have to th...</td>\n",
       "      <td>I think that the gain of the wearable can be t...</td>\n",
       "    </tr>\n",
       "    <tr>\n",
       "      <td>9</td>\n",
       "      <td>2019/08/08 11:07:35 AM UTC+2</td>\n",
       "      <td>30</td>\n",
       "      <td>Male</td>\n",
       "      <td>8</td>\n",
       "      <td>7</td>\n",
       "      <td>Wearable</td>\n",
       "      <td>Wearable</td>\n",
       "      <td>Werable</td>\n",
       "      <td>The joystick had a mapping of the inputs/outpu...</td>\n",
       "      <td>In my opinion, the main problem related to the...</td>\n",
       "    </tr>\n",
       "    <tr>\n",
       "      <td>10</td>\n",
       "      <td>2019/08/08 2:43:16 PM UTC+2</td>\n",
       "      <td>24</td>\n",
       "      <td>Female</td>\n",
       "      <td>2</td>\n",
       "      <td>1</td>\n",
       "      <td>Wearable</td>\n",
       "      <td>Wearable</td>\n",
       "      <td>Werable</td>\n",
       "      <td>Was easy to use</td>\n",
       "      <td>Nice</td>\n",
       "    </tr>\n",
       "    <tr>\n",
       "      <td>11</td>\n",
       "      <td>2019/08/08 3:25:25 PM UTC+2</td>\n",
       "      <td>21</td>\n",
       "      <td>Male</td>\n",
       "      <td>10</td>\n",
       "      <td>1</td>\n",
       "      <td>Remote controller</td>\n",
       "      <td>Remote controller</td>\n",
       "      <td>Remote controller</td>\n",
       "      <td>I have much more experience with the remote co...</td>\n",
       "      <td>in the experiment, give more feedback about pa...</td>\n",
       "    </tr>\n",
       "    <tr>\n",
       "      <td>12</td>\n",
       "      <td>2019/08/08 3:51:25 PM UTC+2</td>\n",
       "      <td>30</td>\n",
       "      <td>Male</td>\n",
       "      <td>10</td>\n",
       "      <td>7</td>\n",
       "      <td>Wearable</td>\n",
       "      <td>Wearable</td>\n",
       "      <td>Werable</td>\n",
       "      <td>I had an easier time understanding the control...</td>\n",
       "      <td>I never got the hang of the controller.</td>\n",
       "    </tr>\n",
       "    <tr>\n",
       "      <td>17</td>\n",
       "      <td>2019/08/28 10:36:38 AM UTC+2</td>\n",
       "      <td>28</td>\n",
       "      <td>Male</td>\n",
       "      <td>8</td>\n",
       "      <td>9</td>\n",
       "      <td>Remote controller</td>\n",
       "      <td>Wearable</td>\n",
       "      <td>Werable</td>\n",
       "      <td>Because with the wearable you could make much ...</td>\n",
       "      <td>I found the task easier with multiple tries an...</td>\n",
       "    </tr>\n",
       "    <tr>\n",
       "      <td>18</td>\n",
       "      <td>2019/08/28 12:53:38 PM UTC+2</td>\n",
       "      <td>31</td>\n",
       "      <td>Male</td>\n",
       "      <td>5</td>\n",
       "      <td>1</td>\n",
       "      <td>Remote controller</td>\n",
       "      <td>Wearable</td>\n",
       "      <td>Werable</td>\n",
       "      <td>It seemed to be more natural after a while</td>\n",
       "      <td>I prefer the wearable but it needs some effort...</td>\n",
       "    </tr>\n",
       "    <tr>\n",
       "      <td>19</td>\n",
       "      <td>2019/08/28 2:28:56 PM UTC+2</td>\n",
       "      <td>25</td>\n",
       "      <td>Female</td>\n",
       "      <td>5</td>\n",
       "      <td>1</td>\n",
       "      <td>Wearable</td>\n",
       "      <td>Wearable</td>\n",
       "      <td>Werable</td>\n",
       "      <td>It's easier to use it and to learn. The moveme...</td>\n",
       "      <td>The test starts on the right and my impression...</td>\n",
       "    </tr>\n",
       "    <tr>\n",
       "      <td>20</td>\n",
       "      <td>2019/08/28 3:02:28 PM UTC+2</td>\n",
       "      <td>24</td>\n",
       "      <td>Male</td>\n",
       "      <td>10</td>\n",
       "      <td>3</td>\n",
       "      <td>Remote controller</td>\n",
       "      <td>Equivalent</td>\n",
       "      <td>Werable</td>\n",
       "      <td>Wearable is much more fun to use</td>\n",
       "      <td>Wearable seemed more precise and definitely mo...</td>\n",
       "    </tr>\n",
       "    <tr>\n",
       "      <td>21</td>\n",
       "      <td>2019/08/28 4:23:22 PM UTC+2</td>\n",
       "      <td>24</td>\n",
       "      <td>Male</td>\n",
       "      <td>7</td>\n",
       "      <td>1</td>\n",
       "      <td>Wearable</td>\n",
       "      <td>Wearable</td>\n",
       "      <td>Werable</td>\n",
       "      <td>more intuitive and more fun</td>\n",
       "      <td>the controller had some inertia that took some...</td>\n",
       "    </tr>\n",
       "  </tbody>\n",
       "</table>\n",
       "</div>"
      ],
      "text/plain": [
       "                      Horodateur  Age  Gender  \\\n",
       "8    2019/08/07 6:02:22 PM UTC+2   29  Female   \n",
       "9   2019/08/08 11:07:35 AM UTC+2   30    Male   \n",
       "10   2019/08/08 2:43:16 PM UTC+2   24  Female   \n",
       "11   2019/08/08 3:25:25 PM UTC+2   21    Male   \n",
       "12   2019/08/08 3:51:25 PM UTC+2   30    Male   \n",
       "17  2019/08/28 10:36:38 AM UTC+2   28    Male   \n",
       "18  2019/08/28 12:53:38 PM UTC+2   31    Male   \n",
       "19   2019/08/28 2:28:56 PM UTC+2   25  Female   \n",
       "20   2019/08/28 3:02:28 PM UTC+2   24    Male   \n",
       "21   2019/08/28 4:23:22 PM UTC+2   24    Male   \n",
       "\n",
       "    How experienced are you with the use of remote controllers?  \\\n",
       "8                                                   9             \n",
       "9                                                   8             \n",
       "10                                                  2             \n",
       "11                                                 10             \n",
       "12                                                 10             \n",
       "17                                                  8             \n",
       "18                                                  5             \n",
       "19                                                  5             \n",
       "20                                                 10             \n",
       "21                                                  7             \n",
       "\n",
       "    How experienced are you with the use of remote controllers for controlling drones?  \\\n",
       "8                                                   5                                    \n",
       "9                                                   7                                    \n",
       "10                                                  1                                    \n",
       "11                                                  1                                    \n",
       "12                                                  7                                    \n",
       "17                                                  9                                    \n",
       "18                                                  1                                    \n",
       "19                                                  1                                    \n",
       "20                                                  3                                    \n",
       "21                                                  1                                    \n",
       "\n",
       "   Which interface was easier to use in the FIRST run?  \\\n",
       "8                                          Equivalent    \n",
       "9                                            Wearable    \n",
       "10                                           Wearable    \n",
       "11                                  Remote controller    \n",
       "12                                           Wearable    \n",
       "17                                  Remote controller    \n",
       "18                                  Remote controller    \n",
       "19                                           Wearable    \n",
       "20                                  Remote controller    \n",
       "21                                           Wearable    \n",
       "\n",
       "   Which interface was easier to use in the LAST run?  \\\n",
       "8                                            Wearable   \n",
       "9                                            Wearable   \n",
       "10                                           Wearable   \n",
       "11                                  Remote controller   \n",
       "12                                           Wearable   \n",
       "17                                           Wearable   \n",
       "18                                           Wearable   \n",
       "19                                           Wearable   \n",
       "20                                         Equivalent   \n",
       "21                                           Wearable   \n",
       "\n",
       "   Which interface did you prefer?  \\\n",
       "8                          Werable   \n",
       "9                          Werable   \n",
       "10                         Werable   \n",
       "11               Remote controller   \n",
       "12                         Werable   \n",
       "17                         Werable   \n",
       "18                         Werable   \n",
       "19                         Werable   \n",
       "20                         Werable   \n",
       "21                         Werable   \n",
       "\n",
       "                                                 Why?  \\\n",
       "8   more fun, more intuitive (I did not have to th...   \n",
       "9   The joystick had a mapping of the inputs/outpu...   \n",
       "10                                    Was easy to use   \n",
       "11  I have much more experience with the remote co...   \n",
       "12  I had an easier time understanding the control...   \n",
       "17  Because with the wearable you could make much ...   \n",
       "18        It seemed to be more natural after a while    \n",
       "19  It's easier to use it and to learn. The moveme...   \n",
       "20                   Wearable is much more fun to use   \n",
       "21                        more intuitive and more fun   \n",
       "\n",
       "       Please give your personal feedback/impressions  \n",
       "8   I think that the gain of the wearable can be t...  \n",
       "9   In my opinion, the main problem related to the...  \n",
       "10                                               Nice  \n",
       "11  in the experiment, give more feedback about pa...  \n",
       "12            I never got the hang of the controller.  \n",
       "17  I found the task easier with multiple tries an...  \n",
       "18  I prefer the wearable but it needs some effort...  \n",
       "19  The test starts on the right and my impression...  \n",
       "20  Wearable seemed more precise and definitely mo...  \n",
       "21  the controller had some inertia that took some...  "
      ]
     },
     "execution_count": 70,
     "metadata": {},
     "output_type": "execute_result"
    }
   ],
   "source": [
    "answers_df = pd.read_csv(os.path.join(folder, csv))\n",
    "\n",
    "answers_df_sim = answers_df.iloc[[8,9,10,11,12,17,18,19,20,21]]\n",
    "answers_df_sim\n",
    "\n",
    "answers_df_hw = answers_df.iloc[[13,14,15,16]]\n",
    "answers_df_sim"
   ]
  },
  {
   "cell_type": "markdown",
   "metadata": {},
   "source": [
    "## Separate questions"
   ]
  },
  {
   "cell_type": "code",
   "execution_count": 51,
   "metadata": {},
   "outputs": [],
   "source": [
    "data_sim = {}\n",
    "data_hw = {}\n",
    "\n",
    "\n",
    "age = 'Age'\n",
    "gender = 'Gender'\n",
    "experience_controller = 'How experienced are you with the use of remote controllers?'\n",
    "experience_controller_drone = 'How experienced are you with the use of remote controllers for controlling drones?'\n",
    "easier_first = 'Which interface was easier to use in the FIRST run?'\n",
    "easier_last = 'Which interface was easier to use in the LAST run?'\n",
    "prefered = 'Which interface did you prefer?'\n",
    "\n",
    "questions = [age, gender, experience_controller, experience_controller_drone, easier_first, easier_last, prefered]\n",
    "\n",
    "for q in questions:\n",
    "    data_sim[q] = answers_df_sim[q].values\n",
    "for q in questions:\n",
    "    data_hw[q] = answers_df_hw[q].values"
   ]
  },
  {
   "cell_type": "markdown",
   "metadata": {},
   "source": [
    "## Compute mean and average"
   ]
  },
  {
   "cell_type": "code",
   "execution_count": 61,
   "metadata": {},
   "outputs": [
    {
     "name": "stdout",
     "output_type": "stream",
     "text": [
      "{'Age': [26.6, 3.2310988842807027], 'How experienced are you with the use of remote controllers?': [7.4, 2.5377155080899043], 'How experienced are you with the use of remote controllers for controlling drones?': [3.6, 2.973213749463701]}\n",
      "{'Age': [28.25, 3.766629793329841], 'How experienced are you with the use of remote controllers?': [6.75, 2.384848003542364], 'How experienced are you with the use of remote controllers for controlling drones?': [4.25, 3.491060010942235]}\n"
     ]
    }
   ],
   "source": [
    "def compute_stats(data):\n",
    "\n",
    "    stats = {}\n",
    "\n",
    "    mean_index = 0\n",
    "    std_index = 1\n",
    "\n",
    "    for q in [age, experience_controller, experience_controller_drone]:\n",
    "        stats[q] = [0, 0]\n",
    "        stats[q][mean_index] = np.mean(data[q])\n",
    "        stats[q][std_index] = np.std(data[q])\n",
    "\n",
    "    print(stats)\n",
    "    return stats\n",
    "\n",
    "stats_sim = compute_stats(data_sim)\n",
    "stats_hw = compute_stats(data_hw)"
   ]
  },
  {
   "cell_type": "markdown",
   "metadata": {},
   "source": [
    "## Results"
   ]
  },
  {
   "cell_type": "markdown",
   "metadata": {},
   "source": [
    "Stats (similarly for stats_hw for the hardware experiments) is a nested dictionnary containing the mean and std for each question of the survey, separated depending on the interface (remote or motion) and run (first or last)\n",
    "\n",
    "data (similarly data_hw) can be used to create boxplot for the distribution of answers."
   ]
  },
  {
   "cell_type": "code",
   "execution_count": 62,
   "metadata": {},
   "outputs": [
    {
     "data": {
      "text/plain": [
       "{'whiskers': [<matplotlib.lines.Line2D at 0x1a26849510>,\n",
       "  <matplotlib.lines.Line2D at 0x1a26849a50>],\n",
       " 'caps': [<matplotlib.lines.Line2D at 0x1a26849f50>,\n",
       "  <matplotlib.lines.Line2D at 0x1a2501d490>],\n",
       " 'boxes': [<matplotlib.lines.Line2D at 0x1a2682e890>],\n",
       " 'medians': [<matplotlib.lines.Line2D at 0x1a2501d9d0>],\n",
       " 'fliers': [<matplotlib.lines.Line2D at 0x1a2501ded0>],\n",
       " 'means': []}"
      ]
     },
     "execution_count": 62,
     "metadata": {},
     "output_type": "execute_result"
    },
    {
     "data": {
      "image/png": "[encoded data removed]",
      "text/plain": [
       "<Figure size 432x288 with 1 Axes>"
      ]
     },
     "metadata": {
      "needs_background": "light"
     },
     "output_type": "display_data"
    },
    {
     "data": {
      "image/png": "[encoded data removed]",
      "text/plain": [
       "<Figure size 432x288 with 1 Axes>"
      ]
     },
     "metadata": {
      "needs_background": "light"
     },
     "output_type": "display_data"
    }
   ],
   "source": [
    "plt.boxplot(data_sim[age])\n",
    "\n",
    "plt.figure()\n",
    "plt.boxplot(data_hw[age])"
   ]
  },
  {
   "cell_type": "code",
   "execution_count": 68,
   "metadata": {},
   "outputs": [
    {
     "data": {
      "image/png": "[encoded data removed]",
      "text/plain": [
       "<Figure size 864x864 with 3 Axes>"
      ]
     },
     "metadata": {},
     "output_type": "display_data"
    },
    {
     "data": {
      "image/png": "[encoded data removed]",
      "text/plain": [
       "<Figure size 864x864 with 3 Axes>"
      ]
     },
     "metadata": {},
     "output_type": "display_data"
    }
   ],
   "source": [
    "def plot_pies(data):\n",
    "    \n",
    "    plt.figure(figsize = (12,12))\n",
    "\n",
    "    gender_pie_data = Counter(data[gender])\n",
    "    easier_first_pie_data = Counter(data[easier_first])\n",
    "    easier_last_pie_data = Counter(data[easier_last])\n",
    "    prefered_pie_data = Counter(data[prefered])\n",
    "\n",
    "#     ax1 = plt.subplot(221)\n",
    "#     ax1.pie(gender_pie_data.values(), labels=gender_pie_data.keys(), autopct='%1.1f%%', startangle=90)\n",
    "#     ax1.axis('equal')  # Equal aspect ratio ensures that pie is drawn as a circle.\n",
    "#     ax1.set_title(gender)\n",
    "\n",
    "    ax1 = plt.subplot(221)\n",
    "    ax1.pie(easier_first_pie_data.values(), labels=easier_first_pie_data.keys(), autopct='%1.1f%%', startangle=90)\n",
    "    ax1.axis('equal')  # Equal aspect ratio ensures that pie is drawn as a circle.\n",
    "    ax1.set_title(easier_first)\n",
    "\n",
    "    ax1 = plt.subplot(222)\n",
    "    ax1.pie(easier_last_pie_data.values(), labels=easier_last_pie_data.keys(), autopct='%1.1f%%', startangle=90)\n",
    "    ax1.axis('equal')  # Equal aspect ratio ensures that pie is drawn as a circle.\n",
    "    ax1.set_title(easier_last)\n",
    "\n",
    "    ax1 = plt.subplot(212)\n",
    "    ax1.pie(prefered_pie_data.values(), labels=prefered_pie_data.keys(), autopct='%1.1f%%', startangle=90)\n",
    "    ax1.axis('equal')  # Equal aspect ratio ensures that pie is drawn as a circle.\n",
    "    ax1.set_title(prefered)\n",
    "\n",
    "    plt.show()\n",
    "    \n",
    "plot_pies(data_sim)\n",
    "plot_pies(data_hw)"
   ]
  },
  {
   "cell_type": "code",
   "execution_count": 58,
   "metadata": {},
   "outputs": [
    {
     "ename": "KeyError",
     "evalue": "'Gender'",
     "output_type": "error",
     "traceback": [
      "\u001b[0;31m---------------------------------------------------------------------------\u001b[0m",
      "\u001b[0;31mKeyError\u001b[0m                                  Traceback (most recent call last)",
      "\u001b[0;32m<ipython-input-58-1b7ddff74eb7>\u001b[0m in \u001b[0;36m<module>\u001b[0;34m\u001b[0m\n\u001b[0;32m----> 1\u001b[0;31m \u001b[0mgender_pie_data\u001b[0m \u001b[0;34m=\u001b[0m \u001b[0mCounter\u001b[0m\u001b[0;34m(\u001b[0m\u001b[0mdata\u001b[0m\u001b[0;34m[\u001b[0m\u001b[0mgender\u001b[0m\u001b[0;34m]\u001b[0m\u001b[0;34m)\u001b[0m\u001b[0;34m\u001b[0m\u001b[0;34m\u001b[0m\u001b[0m\n\u001b[0m\u001b[1;32m      2\u001b[0m \u001b[0measier_first_pie_data\u001b[0m \u001b[0;34m=\u001b[0m \u001b[0mCounter\u001b[0m\u001b[0;34m(\u001b[0m\u001b[0mdata\u001b[0m\u001b[0;34m[\u001b[0m\u001b[0measier_first\u001b[0m\u001b[0;34m]\u001b[0m\u001b[0;34m)\u001b[0m\u001b[0;34m\u001b[0m\u001b[0;34m\u001b[0m\u001b[0m\n\u001b[1;32m      3\u001b[0m \u001b[0measier_last_pie_data\u001b[0m \u001b[0;34m=\u001b[0m \u001b[0mCounter\u001b[0m\u001b[0;34m(\u001b[0m\u001b[0mdata\u001b[0m\u001b[0;34m[\u001b[0m\u001b[0measier_last\u001b[0m\u001b[0;34m]\u001b[0m\u001b[0;34m)\u001b[0m\u001b[0;34m\u001b[0m\u001b[0;34m\u001b[0m\u001b[0m\n\u001b[1;32m      4\u001b[0m \u001b[0mprefered_pie_data\u001b[0m \u001b[0;34m=\u001b[0m \u001b[0mCounter\u001b[0m\u001b[0;34m(\u001b[0m\u001b[0mdata\u001b[0m\u001b[0;34m[\u001b[0m\u001b[0mprefered\u001b[0m\u001b[0;34m]\u001b[0m\u001b[0;34m)\u001b[0m\u001b[0;34m\u001b[0m\u001b[0;34m\u001b[0m\u001b[0m\n\u001b[1;32m      5\u001b[0m \u001b[0;34m\u001b[0m\u001b[0m\n",
      "\u001b[0;31mKeyError\u001b[0m: 'Gender'"
     ]
    }
   ],
   "source": [
    "gender_pie_data = Counter(data[gender])\n",
    "easier_first_pie_data = Counter(data[easier_first])\n",
    "easier_last_pie_data = Counter(data[easier_last])\n",
    "prefered_pie_data = Counter(data[prefered])\n",
    "\n",
    "fig1, ax1 = plt.subplots()\n",
    "ax1.pie(gender_pie_data.values(), labels=gender_pie_data.keys(), autopct='%1.1f%%', startangle=90)\n",
    "ax1.axis('equal')  # Equal aspect ratio ensures that pie is drawn as a circle.\n",
    "ax1.set_title(gender)\n",
    "\n",
    "fig1, ax1 = plt.subplots()\n",
    "ax1.pie(easier_first_pie_data.values(), labels=easier_first_pie_data.keys(), autopct='%1.1f%%', startangle=90)\n",
    "ax1.axis('equal')  # Equal aspect ratio ensures that pie is drawn as a circle.\n",
    "ax1.set_title(easier_first)\n",
    "\n",
    "fig1, ax1 = plt.subplots()\n",
    "ax1.pie(easier_last_pie_data.values(), labels=easier_last_pie_data.keys(), autopct='%1.1f%%', startangle=90)\n",
    "ax1.axis('equal')  # Equal aspect ratio ensures that pie is drawn as a circle.\n",
    "ax1.set_title(easier_last)\n",
    "\n",
    "fig1, ax1 = plt.subplots()\n",
    "ax1.pie(prefered_pie_data.values(), labels=prefered_pie_data.keys(), autopct='%1.1f%%', startangle=90)\n",
    "ax1.axis('equal')  # Equal aspect ratio ensures that pie is drawn as a circle.\n",
    "ax1.set_title(prefered)\n",
    "\n",
    "plt.show()"
   ]
  },
  {
   "cell_type": "code",
   "execution_count": null,
   "metadata": {},
   "outputs": [],
   "source": []
  },
  {
   "cell_type": "code",
   "execution_count": null,
   "metadata": {},
   "outputs": [],
   "source": []
  }
 ],
 "metadata": {
  "kernelspec": {
   "display_name": "Python 3",
   "language": "python",
   "name": "python3"
  },
  "language_info": {
   "codemirror_mode": {
    "name": "ipython",
    "version": 3
   },
   "file_extension": ".py",
   "mimetype": "text/x-python",
   "name": "python",
   "nbconvert_exporter": "python",
   "pygments_lexer": "ipython3",
   "version": "3.7.4"
  }
 },
 "nbformat": 4,
 "nbformat_minor": 4
}
