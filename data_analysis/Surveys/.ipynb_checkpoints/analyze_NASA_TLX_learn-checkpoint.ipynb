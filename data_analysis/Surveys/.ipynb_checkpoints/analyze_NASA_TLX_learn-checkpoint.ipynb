{
 "cells": [
  {
   "cell_type": "markdown",
   "metadata": {},
   "source": [
    "# Analyse survey"
   ]
  },
  {
   "cell_type": "markdown",
   "metadata": {},
   "source": [
    "## Imports"
   ]
  },
  {
   "cell_type": "code",
   "execution_count": 1,
   "metadata": {},
   "outputs": [],
   "source": [
    "# -*- coding: utf-8 -*-\n",
    "\"\"\"\n",
    "Created on Fri Nov 16 13:02:17 2018\n",
    "\n",
    "@author: macchini\n",
    "\"\"\"\n",
    "\n",
    "import os,sys\n",
    "sys.path.insert(1, os.path.join(sys.path[0], '..'))\n",
    "\n",
    "import my_plots\n",
    "import numpy as np\n",
    "import pandas as pd\n",
    "import matplotlib.pyplot as plt\n",
    "import matplotlib as mpl\n",
    "import utils\n",
    "\n",
    "from numpy.random import seed\n",
    "from numpy.random import randn\n",
    "from scipy.stats import kruskal\n",
    "\n",
    "from statistics import print_p"
   ]
  },
  {
   "cell_type": "markdown",
   "metadata": {},
   "source": [
    "## Load file and create dataframe"
   ]
  },
  {
   "cell_type": "code",
   "execution_count": 2,
   "metadata": {},
   "outputs": [],
   "source": [
    "folder = './Data'\n",
    "\n",
    "files = os.listdir(folder)\n",
    "\n",
    "csv = 'NASA_TLX_learn.csv'"
   ]
  },
  {
   "cell_type": "code",
   "execution_count": 3,
   "metadata": {
    "scrolled": true
   },
   "outputs": [],
   "source": [
    "answers_df = pd.read_csv(os.path.join(folder, csv))\n",
    "\n",
    "# Separate hardware and simulation experiments\n",
    "answers_df_hw = answers_df[answers_df['subject number'] >= 100]\n",
    "answers_df = answers_df[answers_df['subject number'] < 100]"
   ]
  },
  {
   "cell_type": "markdown",
   "metadata": {},
   "source": [
    "## Separate dataframe depending on interface/run"
   ]
  },
  {
   "cell_type": "code",
   "execution_count": 4,
   "metadata": {},
   "outputs": [],
   "source": [
    "types = ['remote-first', 'remote-last', 'motion-first', 'motion-last']\n",
    "\n",
    "# Separate answers depending on interface and run\n",
    "answers = {}\n",
    "answers[types[0]] = answers_df[answers_df['Interface'] == 'Remote']\n",
    "answers[types[0]] = answers[types[0]][answers[types[0]]['Run'] == 'First']\n",
    "answers[types[1]] = answers_df[answers_df['Interface'] == 'Remote']\n",
    "answers[types[1]] = answers[types[1]][answers[types[1]]['Run'] == 'Last']\n",
    "answers[types[2]] = answers_df[answers_df['Interface'] == 'Motion']\n",
    "answers[types[2]] = answers[types[2]][answers[types[2]]['Run'] == 'First']\n",
    "answers[types[3]] = answers_df[answers_df['Interface'] == 'Motion']\n",
    "answers[types[3]] = answers[types[3]][answers[types[3]]['Run'] == 'Last']\n",
    "\n",
    "answers_hw = {}\n",
    "answers_hw[types[0]] = answers_df_hw[answers_df_hw['Interface'] == 'Remote']\n",
    "answers_hw[types[0]] = answers_hw[types[0]][answers_hw[types[0]]['Run'] == 'First']\n",
    "answers_hw[types[1]] = answers_df_hw[answers_df_hw['Interface'] == 'Remote']\n",
    "answers_hw[types[1]] = answers_hw[types[1]][answers_hw[types[1]]['Run'] == 'Last']\n",
    "answers_hw[types[2]] = answers_df_hw[answers_df_hw['Interface'] == 'Motion']\n",
    "answers_hw[types[2]] = answers_hw[types[2]][answers_hw[types[2]]['Run'] == 'First']\n",
    "answers_hw[types[3]] = answers_df_hw[answers_df_hw['Interface'] == 'Motion']\n",
    "answers_hw[types[3]] = answers_hw[types[3]][answers_hw[types[3]]['Run'] == 'Last']"
   ]
  },
  {
   "cell_type": "markdown",
   "metadata": {},
   "source": [
    "## Separate questions"
   ]
  },
  {
   "cell_type": "code",
   "execution_count": 5,
   "metadata": {},
   "outputs": [],
   "source": [
    "data = {}\n",
    "data_hw = {}\n",
    "\n",
    "mentally_demanding = 'How mentally demanding was the test?'\n",
    "physically_demanding = 'How physically demanding was the test?'\n",
    "pace = 'How hurried or rushed was the pace of the task?'\n",
    "successful = 'How successful were you in accomplishing what you were asked to do?'\n",
    "insecure = 'How insecure, discouraged, irritated, stresses, and annoyed were you?'\n",
    "\n",
    "questions = [mentally_demanding, physically_demanding, pace, successful, insecure]\n",
    "\n",
    "for i in types:\n",
    "    data[i] = {}\n",
    "    data_hw[i] = {}\n",
    "    for q in questions:\n",
    "        data[i][q] = answers[i][q].values\n",
    "        data_hw[i][q] = answers_hw[i][q].values"
   ]
  },
  {
   "cell_type": "markdown",
   "metadata": {},
   "source": [
    "## Compute mean and average"
   ]
  },
  {
   "cell_type": "code",
   "execution_count": 6,
   "metadata": {},
   "outputs": [
    {
     "name": "stdout",
     "output_type": "stream",
     "text": [
      "{'remote-first': {'How mentally demanding was the test?': [3.0, 1.0954451150103321], 'How physically demanding was the test?': [1.1, 0.3], 'How hurried or rushed was the pace of the task?': [2.2, 1.2489995996796797], 'How successful were you in accomplishing what you were asked to do?': [3.3, 1.2688577540449522], 'How insecure, discouraged, irritated, stresses, and annoyed were you?': [2.1, 1.044030650891055]}, 'remote-last': {'How mentally demanding was the test?': [2.7, 0.9], 'How physically demanding was the test?': [1.1, 0.3], 'How hurried or rushed was the pace of the task?': [2.4, 1.42828568570857], 'How successful were you in accomplishing what you were asked to do?': [3.5, 0.806225774829855], 'How insecure, discouraged, irritated, stresses, and annoyed were you?': [1.7, 1.004987562112089]}, 'motion-first': {'How mentally demanding was the test?': [2.1, 0.5385164807134505], 'How physically demanding was the test?': [1.7, 0.7810249675906655], 'How hurried or rushed was the pace of the task?': [1.7, 0.9], 'How successful were you in accomplishing what you were asked to do?': [3.4, 0.8], 'How insecure, discouraged, irritated, stresses, and annoyed were you?': [1.6, 0.66332495807108]}, 'motion-last': {'How mentally demanding was the test?': [1.7, 0.6403124237432849], 'How physically demanding was the test?': [1.6, 1.0198039027185568], 'How hurried or rushed was the pace of the task?': [1.8, 1.2489995996796797], 'How successful were you in accomplishing what you were asked to do?': [3.8, 0.7483314773547882], 'How insecure, discouraged, irritated, stresses, and annoyed were you?': [1.2, 0.4]}}\n"
     ]
    }
   ],
   "source": [
    "stats = {}\n",
    "stats_hw = {}\n",
    "\n",
    "mean_index = 0\n",
    "std_index = 1\n",
    "\n",
    "for i in types:\n",
    "    stats[i] = {}\n",
    "    stats_hw[i] = {}\n",
    "    for q in questions:\n",
    "        stats[i][q] = [0, 0]\n",
    "        stats[i][q][mean_index] = np.mean(data[i][q])\n",
    "        stats[i][q][std_index] = np.std(data[i][q])\n",
    "        \n",
    "        stats_hw[i][q] = [0, 0]\n",
    "        stats_hw[i][q][mean_index] = np.mean(data_hw[i][q])\n",
    "        stats_hw[i][q][std_index] = np.std(data_hw[i][q])\n",
    "        \n",
    "print(stats)"
   ]
  },
  {
   "cell_type": "markdown",
   "metadata": {},
   "source": [
    "## Results"
   ]
  },
  {
   "cell_type": "markdown",
   "metadata": {},
   "source": [
    "Stats (similarly for stats_hw for the hardware experiments) is a nested dictionnary containing the mean and std for each question of the survey, separated depending on the interface (remote or motion) and run (first or last)\n",
    "\n",
    "data (similarly data_hw) can be used to create boxplot for the distribution of answers."
   ]
  },
  {
   "cell_type": "code",
   "execution_count": 7,
   "metadata": {},
   "outputs": [],
   "source": [
    "def t_test_kruskal(X, Y):\n",
    "    \n",
    "    # Kruskal-Wallis H-test\n",
    "    \n",
    "    # seed the random number generator\n",
    "    seed(1)\n",
    "    \n",
    "    # compare samples\n",
    "    stat, p = kruskal(X, Y)\n",
    "    \n",
    "    return [stat, p]"
   ]
  },
  {
   "cell_type": "code",
   "execution_count": 8,
   "metadata": {},
   "outputs": [
    {
     "name": "stdout",
     "output_type": "stream",
     "text": [
      "\n",
      "\n",
      "remote-first remote-last How mentally demanding was the test?\n",
      "p = 0.3819481156357243\n",
      "remote-first remote-last How physically demanding was the test?\n",
      "p = 1.0\n",
      "remote-first remote-last How hurried or rushed was the pace of the task?\n",
      "p = 0.8131265746121165\n",
      "remote-first remote-last How successful were you in accomplishing what you were asked to do?\n",
      "p = 0.6095403306113734\n",
      "remote-first remote-last How insecure, discouraged, irritated, stresses, and annoyed were you?\n",
      "p = 0.29059351739551387\n",
      "\n",
      "remote-first motion-first How mentally demanding was the test?\n",
      "\u001b[33mp = 0.03344653009997241 !!!!!!\u001b[0m\n",
      "remote-first motion-first How physically demanding was the test?\n",
      "\u001b[33mp = 0.0488888176268915 !!!!!!\u001b[0m\n",
      "remote-first motion-first How hurried or rushed was the pace of the task?\n",
      "p = 0.38833837171788765\n",
      "remote-first motion-first How successful were you in accomplishing what you were asked to do?\n",
      "p = 0.7760053230332041\n",
      "remote-first motion-first How insecure, discouraged, irritated, stresses, and annoyed were you?\n",
      "p = 0.30423105299989817\n",
      "\n",
      "remote-first motion-last How mentally demanding was the test?\n",
      "\u001b[33mp = 0.012412856066191072 !!!!!!\u001b[0m\n",
      "remote-first motion-last How physically demanding was the test?\n",
      "p = 0.23390621098854886\n",
      "remote-first motion-last How hurried or rushed was the pace of the task?\n",
      "p = 0.3699459148876547\n",
      "remote-first motion-last How successful were you in accomplishing what you were asked to do?\n",
      "p = 0.2968094407158727\n",
      "remote-first motion-last How insecure, discouraged, irritated, stresses, and annoyed were you?\n",
      "\u001b[33mp = 0.02180173863525487 !!!!!!\u001b[0m\n",
      "\n",
      "\n",
      "remote-last motion-first How mentally demanding was the test?\n",
      "p = 0.10066124949591836\n",
      "remote-last motion-first How physically demanding was the test?\n",
      "\u001b[33mp = 0.0488888176268915 !!!!!!\u001b[0m\n",
      "remote-last motion-first How hurried or rushed was the pace of the task?\n",
      "p = 0.27243710640966434\n",
      "remote-last motion-first How successful were you in accomplishing what you were asked to do?\n",
      "p = 0.5652305873935878\n",
      "remote-last motion-first How insecure, discouraged, irritated, stresses, and annoyed were you?\n",
      "p = 0.8995882025786872\n",
      "\n",
      "remote-last motion-last How mentally demanding was the test?\n",
      "\u001b[33mp = 0.01913961955875495 !!!!!!\u001b[0m\n",
      "remote-last motion-last How physically demanding was the test?\n",
      "p = 0.23390621098854886\n",
      "remote-last motion-last How hurried or rushed was the pace of the task?\n",
      "p = 0.3297192973126754\n",
      "remote-last motion-last How successful were you in accomplishing what you were asked to do?\n",
      "p = 0.6160414893647401\n",
      "remote-last motion-last How insecure, discouraged, irritated, stresses, and annoyed were you?\n",
      "p = 0.2606686561673763\n",
      "\n",
      "\n",
      "motion-first motion-last How mentally demanding was the test?\n",
      "p = 0.15436991516197082\n",
      "motion-first motion-last How physically demanding was the test?\n",
      "p = 0.5476447812030009\n",
      "motion-first motion-last How hurried or rushed was the pace of the task?\n",
      "p = 0.9657417838594877\n",
      "motion-first motion-last How successful were you in accomplishing what you were asked to do?\n",
      "p = 0.29059351739551387\n",
      "motion-first motion-last How insecure, discouraged, irritated, stresses, and annoyed were you?\n",
      "p = 0.1482858780554419\n",
      "\n"
     ]
    }
   ],
   "source": [
    "for idx,i in enumerate(types):\n",
    "    print()\n",
    "    for j in types[idx+1:]:\n",
    "        print()\n",
    "        for q in questions:\n",
    "            if i != j:\n",
    "                # also, compare only first-last for same interface or first-first, last-last for different ones\n",
    "\n",
    "                t, p = t_test_kruskal(data[i][q],data[j][q])\n",
    "                print(i,j,q)\n",
    "                print_p(p)"
   ]
  },
  {
   "cell_type": "markdown",
   "metadata": {},
   "source": [
    "### remote-first motion-first How physically demanding was the test? p =  0.0488888176268915\n",
    "### remote-last motion-last How physically demanding was the test? p =  0.23390621098854886\n",
    "### remote-last motion-last How mentally demanding was the test? p =  0.01913961955875495\n",
    "### motion-first remote-first How mentally demanding was the test? p =  0.03344653009997241"
   ]
  },
  {
   "cell_type": "code",
   "execution_count": 9,
   "metadata": {},
   "outputs": [
    {
     "name": "stdout",
     "output_type": "stream",
     "text": [
      "{'How mentally demanding was the test?': [3.0, 1.0954451150103321], 'How physically demanding was the test?': [1.1, 0.3], 'How hurried or rushed was the pace of the task?': [2.2, 1.2489995996796797], 'How successful were you in accomplishing what you were asked to do?': [3.3, 1.2688577540449522], 'How insecure, discouraged, irritated, stresses, and annoyed were you?': [2.1, 1.044030650891055]}\n",
      "[3.0, 1.1, 2.2, 3.3, 2.1]\n",
      "[1.0954451150103321, 0.3, 1.2489995996796797, 1.2688577540449522, 1.044030650891055]\n",
      "{'How mentally demanding was the test?': [2.7, 0.9], 'How physically demanding was the test?': [1.1, 0.3], 'How hurried or rushed was the pace of the task?': [2.4, 1.42828568570857], 'How successful were you in accomplishing what you were asked to do?': [3.5, 0.806225774829855], 'How insecure, discouraged, irritated, stresses, and annoyed were you?': [1.7, 1.004987562112089]}\n",
      "[2.7, 1.1, 2.4, 3.5, 1.7]\n",
      "[0.9, 0.3, 1.42828568570857, 0.806225774829855, 1.004987562112089]\n",
      "{'How mentally demanding was the test?': [2.1, 0.5385164807134505], 'How physically demanding was the test?': [1.7, 0.7810249675906655], 'How hurried or rushed was the pace of the task?': [1.7, 0.9], 'How successful were you in accomplishing what you were asked to do?': [3.4, 0.8], 'How insecure, discouraged, irritated, stresses, and annoyed were you?': [1.6, 0.66332495807108]}\n",
      "[2.1, 1.7, 1.7, 3.4, 1.6]\n",
      "[0.5385164807134505, 0.7810249675906655, 0.9, 0.8, 0.66332495807108]\n",
      "{'How mentally demanding was the test?': [1.7, 0.6403124237432849], 'How physically demanding was the test?': [1.6, 1.0198039027185568], 'How hurried or rushed was the pace of the task?': [1.8, 1.2489995996796797], 'How successful were you in accomplishing what you were asked to do?': [3.8, 0.7483314773547882], 'How insecure, discouraged, irritated, stresses, and annoyed were you?': [1.2, 0.4]}\n",
      "[1.7, 1.6, 1.8, 3.8, 1.2]\n",
      "[0.6403124237432849, 1.0198039027185568, 1.2489995996796797, 0.7483314773547882, 0.4]\n"
     ]
    },
    {
     "data": {
      "image/png": "[encoded data removed]",
      "text/plain": [
       "<Figure size 1152x288 with 4 Axes>"
      ]
     },
     "metadata": {
      "needs_background": "light"
     },
     "output_type": "display_data"
    }
   ],
   "source": [
    "plt.figure(figsize=(16,4))\n",
    "\n",
    "for idx, s in enumerate(stats):\n",
    "    print(stats[s])\n",
    "    \n",
    "    means = [stats[s][q][0] for q in questions]\n",
    "    stds = [stats[s][q][1] for q in questions]\n",
    "    \n",
    "    print(means)\n",
    "    print(stds)\n",
    "    \n",
    "    ax = plt.subplot(141+idx)\n",
    "    \n",
    "    ax.bar([0, 1, 2, 3, 4],\n",
    "       means,\n",
    "       yerr=stds)\n",
    "    plt.title(s)"
   ]
  },
  {
   "cell_type": "code",
   "execution_count": null,
   "metadata": {},
   "outputs": [],
   "source": []
  },
  {
   "cell_type": "code",
   "execution_count": null,
   "metadata": {},
   "outputs": [],
   "source": []
  }
 ],
 "metadata": {
  "kernelspec": {
   "display_name": "Python 3",
   "language": "python",
   "name": "python3"
  },
  "language_info": {
   "codemirror_mode": {
    "name": "ipython",
    "version": 3
   },
   "file_extension": ".py",
   "mimetype": "text/x-python",
   "name": "python",
   "nbconvert_exporter": "python",
   "pygments_lexer": "ipython3",
   "version": "3.7.4"
  }
 },
 "nbformat": 4,
 "nbformat_minor": 4
}
