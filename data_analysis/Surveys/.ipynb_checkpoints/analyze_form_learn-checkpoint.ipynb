{
 "cells": [
  {
   "cell_type": "markdown",
   "metadata": {},
   "source": [
    "# Analyse survey"
   ]
  },
  {
   "cell_type": "markdown",
   "metadata": {},
   "source": [
    "## Imports"
   ]
  },
  {
   "cell_type": "code",
   "execution_count": 1,
   "metadata": {},
   "outputs": [],
   "source": [
    "# -*- coding: utf-8 -*-\n",
    "\"\"\"\n",
    "Created on Fri Nov 16 13:02:17 2018\n",
    "\n",
    "@author: macchini\n",
    "\"\"\"\n",
    "%load_ext autoreload\n",
    "%autoreload 2\n",
    "\n",
    "import os,sys\n",
    "sys.path.insert(1, os.path.join(sys.path[0], '..'))\n",
    "\n",
    "import my_plots\n",
    "import numpy as np\n",
    "import pandas as pd\n",
    "import matplotlib.pyplot as plt\n",
    "import matplotlib as mpl\n",
    "import utils\n",
    "\n",
    "from numpy.random import seed\n",
    "from numpy.random import randn\n",
    "from scipy.stats import kruskal\n",
    "\n",
    "from collections import Counter\n",
    "from matplotlib.pylab import savefig"
   ]
  },
  {
   "cell_type": "markdown",
   "metadata": {},
   "source": [
    "## Load file and create dataframe"
   ]
  },
  {
   "cell_type": "code",
   "execution_count": 2,
   "metadata": {
    "jupyter": {
     "source_hidden": true
    }
   },
   "outputs": [],
   "source": [
    "folder = './Data'\n",
    "\n",
    "csv = 'Bidirectional Interface - learning.csv'"
   ]
  },
  {
   "cell_type": "code",
   "execution_count": 3,
   "metadata": {
    "jupyter": {
     "source_hidden": true
    },
    "scrolled": true
   },
   "outputs": [],
   "source": [
    "answers_df = pd.read_csv(os.path.join(folder, csv))\n",
    "\n",
    "answers_df_sim = answers_df.iloc[[8,9,11,12,17,18,19,20,21]]\n",
    "answers_df_sim\n",
    "\n",
    "answers_df_hw = answers_df.iloc[[13,14,15,16]]\n",
    "# answers_df_sim"
   ]
  },
  {
   "cell_type": "markdown",
   "metadata": {},
   "source": [
    "## Separate questions"
   ]
  },
  {
   "cell_type": "code",
   "execution_count": 4,
   "metadata": {
    "jupyter": {
     "source_hidden": true
    }
   },
   "outputs": [],
   "source": [
    "data_sim = {}\n",
    "data_hw = {}\n",
    "\n",
    "\n",
    "age = 'Age'\n",
    "gender = 'Gender'\n",
    "experience_controller = 'How experienced are you with the use of remote controllers?'\n",
    "experience_controller_drone = 'How experienced are you with the use of remote controllers for controlling drones?'\n",
    "easier_first = 'Which interface was easier to use in the FIRST run?'\n",
    "easier_last = 'Which interface was easier to use in the LAST run?'\n",
    "prefered = 'Which interface did you prefer?'\n",
    "why = 'Why?'\n",
    "feedback = 'Please give your personal feedback/impressions'\n",
    "\n",
    "questions = [age, gender, experience_controller, experience_controller_drone, easier_first, easier_last, prefered, why, feedback]\n",
    "\n",
    "for q in questions:\n",
    "    data_sim[q] = answers_df_sim[q].values\n",
    "for q in questions:\n",
    "    data_hw[q] = answers_df_hw[q].values"
   ]
  },
  {
   "cell_type": "markdown",
   "metadata": {},
   "source": [
    "## Compute mean and average"
   ]
  },
  {
   "cell_type": "code",
   "execution_count": 5,
   "metadata": {
    "jupyter": {
     "source_hidden": true
    }
   },
   "outputs": [],
   "source": [
    "def compute_stats(data):\n",
    "\n",
    "    stats = {}\n",
    "\n",
    "    mean_index = 0\n",
    "    std_index = 1\n",
    "\n",
    "    for q in [age, experience_controller, experience_controller_drone]:\n",
    "        stats[q] = [0, 0]\n",
    "        stats[q][mean_index] = np.mean(data[q])\n",
    "        stats[q][std_index] = np.std(data[q])\n",
    "\n",
    "    return stats\n",
    "\n",
    "stats_sim = compute_stats(data_sim)\n",
    "stats_hw = compute_stats(data_hw)"
   ]
  },
  {
   "cell_type": "markdown",
   "metadata": {},
   "source": [
    "## Results"
   ]
  },
  {
   "cell_type": "code",
   "execution_count": 6,
   "metadata": {
    "jupyter": {
     "source_hidden": true
    }
   },
   "outputs": [],
   "source": [
    "# Stats (similarly for stats_hw for the hardware experiments) is a nested dictionnary containing the mean and std for each question of the survey, separated depending on the interface (remote or motion) and run (first or last)\n",
    "\n",
    "# data (similarly data_hw) can be used to create boxplot for the distribution of answers."
   ]
  },
  {
   "cell_type": "code",
   "execution_count": null,
   "metadata": {},
   "outputs": [],
   "source": [
    "resp_data = {}\n",
    "\n",
    "resp_data[easier_first] = Counter(data_sim[easier_first])\n",
    "resp_data[easier_last] = Counter(data_sim[easier_last])\n",
    "resp_data[prefered] = Counter(data_sim[prefered])\n",
    "\n",
    "resp_data[prefered]['Equvalent'] = 0\n",
    "\n",
    "fig = plt.figure(figsize = (12,4))\n",
    "\n",
    "qs = ['QL 1', 'QL 2', 'QL 3']\n",
    "\n",
    "c1 = 'g'\n",
    "c2 = 'b'\n",
    "c3 = 'r'\n",
    "\n",
    "c = [c1, c2, c3]\n",
    "\n",
    "for jdx, j in enumerate(resp_data):\n",
    "    \n",
    "    ax = fig.add_subplot(1, len(resp_data), 1+jdx)\n",
    "\n",
    "    options = []\n",
    "    resp = []\n",
    "\n",
    "    for i in sorted(resp_data[j]):\n",
    "        options.append(i)\n",
    "        resp.append(resp_data[j][i])\n",
    "\n",
    "    for idx, i in enumerate(options):\n",
    "        \n",
    "        lab = i if 'We' not in i else 'Motion-based'\n",
    "        \n",
    "        plt.bar(1+idx, resp[idx], label = lab, color = c[idx])\n",
    "\n",
    "    plt.legend()  \n",
    "    plt.grid()    \n",
    "    plt.ylim(0,10)\n",
    "    plt.xticks([2],[qs[jdx]], axes=ax)\n",
    "    ax.spines['right'].set_visible(False)\n",
    "    ax.spines['top'].set_visible(False)\n",
    "    \n",
    "\n",
    "savefig('learn_quest.pdf', bbox_inches='tight')"
   ]
  },
  {
   "cell_type": "markdown",
   "metadata": {},
   "source": [
    "## <span style=\"color:red\">Interesting subjective feedback</span>"
   ]
  },
  {
   "cell_type": "markdown",
   "metadata": {},
   "source": [
    "# Questionnaires"
   ]
  },
  {
   "cell_type": "code",
   "execution_count": 8,
   "metadata": {
    "jupyter": {
     "source_hidden": true
    }
   },
   "outputs": [
    {
     "name": "stdout",
     "output_type": "stream",
     "text": [
      "SIMULATION\n",
      "-----------\n",
      "Why?\n",
      "-----------\n",
      "\n",
      "more fun, more intuitive (I did not have to think to the right handle to move as from the beginning)\n",
      "\n",
      "The joystick had a mapping of the inputs/outputs which is not what I am used to with drones. Therefore, I needed to get used to it and then the task got easier. Instead, with the wearable, I expected immediately that if I moved my hand up the drone would go up etc.\n",
      "\n",
      "I have much more experience with the remote control through video games and it was the first time I used motion control.\n",
      "\n",
      "I had an easier time understanding the controls of the wearable than I did of the video game controller\n",
      "\n",
      "Because with the wearable you could make much more smooth and precise movement than the remote controller which it felt like drone kept overshooting the position I wanted it to be in. \n",
      "\n",
      "It seemed to be more natural after a while \n",
      "\n",
      "It's easier to use it and to learn. The movements are smoother\n",
      "\n",
      "Wearable is much more fun to use\n",
      "\n",
      "more intuitive and more fun\n",
      "\n",
      "-----------\n",
      "Please give your personal feedback/impressions\n",
      "-----------\n",
      "\n",
      "I think that the gain of the wearable can be tuned better, but it seems very promosing :)\n",
      "\n",
      "In my opinion, the main problem related to the wearable interface is getting used to the clutch and how its use impacts the task completion. \n",
      "\n",
      "in the experiment, give more feedback about passing the gates. If a gate is successfully crossed, maybe change its colour to green\n",
      "\n",
      "I never got the hang of the controller.\n",
      "\n",
      "I found the task easier with multiple tries and this made using the remote easier as I used it after the wearable. I think the wearable is much more accurate and intuitive but if one wanted to maximize the speed at which you could complete the course, I believe the remote control would be easier with more practice, as you don`t need to keep re-clicking.\n",
      "\n",
      "I prefer the wearable but it needs some effort for training and then it seems better choice\n",
      "\n",
      "The test starts on the right and my impression was that it was more difficut to controle it in the sides\n",
      "\n",
      "Wearable seemed more precise and definitely more fun, but a bit too tiring for me\n",
      "\n",
      "the controller had some inertia that took some mental effort to take into account. The wearable controller is cool but I to move the drone on longer distances I had to do repetitive movements which took some time\n",
      "\n"
     ]
    }
   ],
   "source": [
    "why_answers = data_sim[why]\n",
    "\n",
    "print('SIMULATION')\n",
    "print('-----------')\n",
    "print(why)\n",
    "print('-----------')\n",
    "print()\n",
    "\n",
    "for w in why_answers:\n",
    "    print(w)\n",
    "    print()\n",
    "    \n",
    "print('-----------')\n",
    "print(feedback)\n",
    "print('-----------')\n",
    "print()\n",
    "\n",
    "feed_answers = data_sim[feedback]\n",
    "\n",
    "for f in feed_answers:\n",
    "    print(f)\n",
    "    print()"
   ]
  },
  {
   "cell_type": "markdown",
   "metadata": {},
   "source": [
    "## <span style=\"color:blue\">Need to check out these</span>"
   ]
  },
  {
   "cell_type": "markdown",
   "metadata": {},
   "source": [
    "# Backup - pie charts"
   ]
  },
  {
   "cell_type": "code",
   "execution_count": 9,
   "metadata": {
    "jupyter": {
     "source_hidden": true
    }
   },
   "outputs": [
    {
     "data": {
      "image/png": "[encoded data removed]",
      "text/plain": [
       "<Figure size 864x864 with 3 Axes>"
      ]
     },
     "metadata": {},
     "output_type": "display_data"
    },
    {
     "data": {
      "image/png": "[encoded data removed]",
      "text/plain": [
       "<Figure size 864x864 with 3 Axes>"
      ]
     },
     "metadata": {},
     "output_type": "display_data"
    }
   ],
   "source": [
    "def plot_pies(data):\n",
    "    \n",
    "    plt.figure(figsize = (12,12))\n",
    "\n",
    "    gender_pie_data = Counter(data[gender])\n",
    "    easier_first_pie_data = Counter(data[easier_first])\n",
    "    easier_last_pie_data = Counter(data[easier_last])\n",
    "    prefered_pie_data = Counter(data[prefered])\n",
    "\n",
    "#     ax1 = plt.subplot(221)\n",
    "#     ax1.pie(gender_pie_data.values(), labels=gender_pie_data.keys(), autopct='%1.1f%%', startangle=90)\n",
    "#     ax1.axis('equal')  # Equal aspect ratio ensures that pie is drawn as a circle.\n",
    "#     ax1.set_title(gender)\n",
    "\n",
    "    ax1 = plt.subplot(231)\n",
    "    ax1.pie(easier_first_pie_data.values(), labels=easier_first_pie_data.keys(), autopct='%1.1f%%', startangle=90)\n",
    "    ax1.axis('equal')  # Equal aspect ratio ensures that pie is drawn as a circle.\n",
    "    ax1.set_title(easier_first)\n",
    "\n",
    "    ax1 = plt.subplot(232)\n",
    "    ax1.pie(easier_last_pie_data.values(), labels=easier_last_pie_data.keys(), autopct='%1.1f%%', startangle=90)\n",
    "    ax1.axis('equal')  # Equal aspect ratio ensures that pie is drawn as a circle.\n",
    "    ax1.set_title(easier_last)\n",
    "\n",
    "    ax1 = plt.subplot(233)\n",
    "    ax1.pie(prefered_pie_data.values(), labels=prefered_pie_data.keys(), autopct='%1.1f%%', startangle=90)\n",
    "    ax1.axis('equal')  # Equal aspect ratio ensures that pie is drawn as a circle.\n",
    "    ax1.set_title(prefered)\n",
    "\n",
    "    plt.show()\n",
    "    \n",
    "plot_pies(data_sim)\n",
    "plot_pies(data_hw)"
   ]
  },
  {
   "cell_type": "code",
   "execution_count": null,
   "metadata": {
    "jupyter": {
     "source_hidden": true
    }
   },
   "outputs": [],
   "source": []
  }
 ],
 "metadata": {
  "kernelspec": {
   "display_name": "Python 3",
   "language": "python",
   "name": "python3"
  },
  "language_info": {
   "codemirror_mode": {
    "name": "ipython",
    "version": 3
   },
   "file_extension": ".py",
   "mimetype": "text/x-python",
   "name": "python",
   "nbconvert_exporter": "python",
   "pygments_lexer": "ipython3",
   "version": "3.7.4"
  }
 },
 "nbformat": 4,
 "nbformat_minor": 4
}
