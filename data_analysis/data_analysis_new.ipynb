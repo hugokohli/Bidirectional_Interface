{
 "cells": [
  {
   "cell_type": "code",
   "execution_count": 4,
   "metadata": {},
   "outputs": [],
   "source": [
    "import numpy as np\n",
    "import pandas as pd\n",
    "import seaborn as sn\n",
    "import json\n",
    "import glob, os\n",
    "import matplotlib.pyplot as plt\n",
    "from mpl_toolkits.mplot3d import Axes3D\n",
    "\n",
    "%matplotlib notebook\n",
    "plt.rcParams.update({'font.size': 10})"
   ]
  },
  {
   "cell_type": "code",
   "execution_count": 5,
   "metadata": {},
   "outputs": [],
   "source": [
    "def define_plot_pos(ax):\n",
    "    ax.set_xlabel('x (m)')\n",
    "    ax.set_ylabel('y (m)')\n",
    "    ax.set_zlabel('z (m)')\n",
    "    ax.set_xlim(-4,4)\n",
    "    ax.set_ylim(-4,4)\n",
    "    ax.set_zlim(0,6)\n",
    "    plt.legend()\n",
    "    plt.show()"
   ]
  },
  {
   "cell_type": "code",
   "execution_count": 7,
   "metadata": {},
   "outputs": [],
   "source": [
    "def define_plot_col(ax):\n",
    "    plt.xlabel('Time (s)')\n",
    "    plt.ylabel('Collisions (bool)')\n",
    "    plt.legend()\n",
    "    plt.show()"
   ]
  },
  {
   "cell_type": "markdown",
   "metadata": {},
   "source": [
    "# Plots for the learning curve experiment"
   ]
  },
  {
   "cell_type": "code",
   "execution_count": 8,
   "metadata": {},
   "outputs": [],
   "source": [
    "def dfFromJSON(file):\n",
    "    with open(file) as f:\n",
    "        temp = []\n",
    "        for line in f:\n",
    "            temp.append(json.loads(line))\n",
    "            \n",
    "    df = pd.io.json.json_normalize(temp[0]['allLogs'])\n",
    "    df.columns = df.columns.map(lambda x: x.split(\"*.\")[-1])\n",
    "    return df"
   ]
  },
  {
   "cell_type": "code",
   "execution_count": 9,
   "metadata": {},
   "outputs": [],
   "source": [
    "def appendToLogs(file, log, _type):\n",
    "    df = dfFromJSON(file)\n",
    "    log[_type].append(df)"
   ]
  },
  {
   "cell_type": "code",
   "execution_count": 10,
   "metadata": {},
   "outputs": [],
   "source": [
    "def compTime(df):\n",
    "    return df['absoluteTime'].iloc[-1] - df['absoluteTime'].iloc[0]"
   ]
  },
  {
   "cell_type": "code",
   "execution_count": 11,
   "metadata": {},
   "outputs": [],
   "source": [
    "path_to_folder = \"./Learning_Curve/\"\n",
    "subjects = glob.glob(path_to_folder + \"*/\")\n",
    "\n",
    "logs = {}\n",
    "for curr in subjects:\n",
    "    logs[curr] = []"
   ]
  },
  {
   "cell_type": "code",
   "execution_count": 12,
   "metadata": {},
   "outputs": [
    {
     "name": "stdout",
     "output_type": "stream",
     "text": [
      "./Learning_Curve\\sub01_Controller\\\n",
      "./Learning_Curve\\sub01_MotionCapture\\\n",
      "./Learning_Curve\\sub02_Controller\\\n",
      "./Learning_Curve\\sub02_MotionCapture\\\n",
      "./Learning_Curve\\sub03_Controller\\\n",
      "./Learning_Curve\\sub03_MotionCapture\\\n",
      "./Learning_Curve\\sub04_Controller\\\n",
      "./Learning_Curve\\sub04_MotionCapture\\\n",
      "./Learning_Curve\\sub05_Controller\\\n",
      "./Learning_Curve\\sub05_MotionCapture\\\n"
     ]
    }
   ],
   "source": [
    "EXP_N = 5\n",
    "\n",
    "for subject in subjects:\n",
    "    print(subject)\n",
    "    files = glob.glob(subject+\"*.json\")\n",
    "    files.sort()\n",
    "    \n",
    "    if len(files) != EXP_N:\n",
    "        print('wrong number of experiments!')\n",
    "        break\n",
    "    for file in files:\n",
    "        logs[subject].append(dfFromJSON(file))"
   ]
  },
  {
   "cell_type": "code",
   "execution_count": 31,
   "metadata": {},
   "outputs": [
    {
     "name": "stdout",
     "output_type": "stream",
     "text": [
      "first_motion\n",
      "[26.73883819580078, 56.83778762817383, 108.18965148925781, 52.7387809753418, 37.28846740722656]\n",
      "56.35870513916016\n",
      "28.074154859673175\n",
      "last_motion\n",
      "[18.48773193359375, 42.438934326171875, 87.2391357421875, 55.088836669921875, 34.08905029296875]\n",
      "47.46873779296875\n",
      "23.168789873738124\n",
      "first_remote\n",
      "[36.68891906738281, 73.68862915039062, 216.49090766906738, 39.73820495605469, 39.23795127868652]\n",
      "81.1689224243164\n",
      "69.02343930554017\n",
      "last_remote\n",
      "[25.53936767578125, 29.975521087646484, 85.63897705078125, 25.188079833984375, 48.438262939453125]\n",
      "42.956041717529295\n",
      "22.9757378039666\n"
     ]
    }
   ],
   "source": [
    "fields = ['first_motion', 'last_motion', 'first_remote', 'last_remote']\n",
    "\n",
    "sub_remote = [x for x in subjects if 'Controller' in x]\n",
    "sub_motion = [x for x in subjects if 'Motion' in x]\n",
    "\n",
    "logs['first_motion'] = [logs[x][0] for x in sub_motion]\n",
    "logs['last_motion'] = [logs[x][-1] for x in sub_motion]\n",
    "logs['first_remote'] = [logs[x][0] for x in sub_remote]\n",
    "logs['last_remote'] = [logs[x][-1] for x in sub_remote]\n",
    "\n",
    "\n",
    "time = {}\n",
    "for i in fields:\n",
    "    time[i] = []\n",
    "    for j in logs[i]:\n",
    "        time[i].append(compTime(j))\n",
    "    print(i)\n",
    "    print(time[i])\n",
    "    print(np.mean(time[i]))\n",
    "    print(np.std(time[i]))"
   ]
  },
  {
   "cell_type": "code",
   "execution_count": 10,
   "metadata": {},
   "outputs": [
    {
     "ename": "NameError",
     "evalue": "name 'first_runs' is not defined",
     "output_type": "error",
     "traceback": [
      "\u001b[1;31m---------------------------------------------------------------------------\u001b[0m",
      "\u001b[1;31mNameError\u001b[0m                                 Traceback (most recent call last)",
      "\u001b[1;32m<ipython-input-10-e0eb09680e3c>\u001b[0m in \u001b[0;36m<module>\u001b[1;34m()\u001b[0m\n\u001b[0;32m      4\u001b[0m \u001b[1;33m\u001b[0m\u001b[0m\n\u001b[0;32m      5\u001b[0m \u001b[0max\u001b[0m \u001b[1;33m=\u001b[0m \u001b[0mfig\u001b[0m\u001b[1;33m.\u001b[0m\u001b[0madd_subplot\u001b[0m\u001b[1;33m(\u001b[0m\u001b[1;36m221\u001b[0m\u001b[1;33m,\u001b[0m \u001b[0mprojection\u001b[0m\u001b[1;33m=\u001b[0m\u001b[1;34m'3d'\u001b[0m\u001b[1;33m)\u001b[0m\u001b[1;33m\u001b[0m\u001b[0m\n\u001b[1;32m----> 6\u001b[1;33m \u001b[1;32mfor\u001b[0m \u001b[0midx\u001b[0m\u001b[1;33m,\u001b[0m\u001b[0mlog\u001b[0m \u001b[1;32min\u001b[0m \u001b[0menumerate\u001b[0m\u001b[1;33m(\u001b[0m\u001b[0mfirst_runs\u001b[0m\u001b[1;33m)\u001b[0m\u001b[1;33m:\u001b[0m\u001b[1;33m\u001b[0m\u001b[0m\n\u001b[0m\u001b[0;32m      7\u001b[0m     \u001b[0max\u001b[0m\u001b[1;33m.\u001b[0m\u001b[0mscatter\u001b[0m\u001b[1;33m(\u001b[0m\u001b[0mlog\u001b[0m\u001b[1;33m[\u001b[0m\u001b[1;34m'dronePosition.x'\u001b[0m\u001b[1;33m]\u001b[0m\u001b[1;33m,\u001b[0m\u001b[0mlog\u001b[0m\u001b[1;33m[\u001b[0m\u001b[1;34m'dronePosition.z'\u001b[0m\u001b[1;33m]\u001b[0m\u001b[1;33m,\u001b[0m\u001b[0mlog\u001b[0m\u001b[1;33m[\u001b[0m\u001b[1;34m'dronePosition.y'\u001b[0m\u001b[1;33m]\u001b[0m\u001b[1;33m,\u001b[0m \u001b[0ms\u001b[0m \u001b[1;33m=\u001b[0m \u001b[1;36m1\u001b[0m\u001b[1;33m,\u001b[0m \u001b[0mlabel\u001b[0m\u001b[1;33m=\u001b[0m\u001b[1;34m'Controller, first try subject '\u001b[0m\u001b[1;33m+\u001b[0m\u001b[0mstr\u001b[0m\u001b[1;33m(\u001b[0m\u001b[0midx\u001b[0m\u001b[1;33m)\u001b[0m\u001b[1;33m)\u001b[0m\u001b[1;33m\u001b[0m\u001b[0m\n\u001b[0;32m      8\u001b[0m \u001b[0mdefine_plot_pos\u001b[0m\u001b[1;33m(\u001b[0m\u001b[0max\u001b[0m\u001b[1;33m)\u001b[0m\u001b[1;33m\u001b[0m\u001b[0m\n",
      "\u001b[1;31mNameError\u001b[0m: name 'first_runs' is not defined"
     ]
    },
    {
     "data": {
      "image/png": "[encoded data removed]",
      "text/plain": [
       "<Figure size 720x720 with 1 Axes>"
      ]
     },
     "metadata": {
      "needs_background": "light"
     },
     "output_type": "display_data"
    }
   ],
   "source": [
    "fig = plt.figure(figsize=(10,10))\n",
    "\n",
    "plt.rcParams.update({'font.size': 8})\n",
    "\n",
    "ax = fig.add_subplot(221, projection='3d')\n",
    "for idx,log in enumerate(first_runs):\n",
    "    ax.scatter(log['dronePosition.x'],log['dronePosition.z'],log['dronePosition.y'], s = 1, label='Controller, first try subject '+str(idx))\n",
    "define_plot_pos(ax)\n",
    "fig = plt.figure(figsize=(10,10))\n",
    "ax = fig.add_subplot(222, projection='3d')\n",
    "for idx,log in enumerate(last_runs):\n",
    "    ax.scatter(log['dronePosition.x'],log['dronePosition.z'],log['dronePosition.y'], s = 1, label='Controller, last try subject '+str(idx))\n",
    "define_plot_pos(ax)"
   ]
  },
  {
   "cell_type": "markdown",
   "metadata": {},
   "source": [
    "# Analyze control input for learning curve experiment"
   ]
  },
  {
   "cell_type": "code",
   "execution_count": null,
   "metadata": {},
   "outputs": [],
   "source": [
    "# add control input column\n",
    "for setup in logs:\n",
    "    print('processing '+setup)\n",
    "    for df in logs[setup]:\n",
    "        df['controlInput'] = np.abs(np.linalg.norm(np.array([df['controlSpeed.x'],df['controlSpeed.y'],df['controlSpeed.z']]), axis=0))#*df['differentialTime']"
   ]
  },
  {
   "cell_type": "code",
   "execution_count": null,
   "metadata": {},
   "outputs": [],
   "source": [
    "for setup in logs:\n",
    "    print('processing '+setup)\n",
    "    for df in logs[setup]:\n",
    "        print(df['controlInput'].sum())"
   ]
  },
  {
   "cell_type": "code",
   "execution_count": null,
   "metadata": {},
   "outputs": [],
   "source": [
    "def define_ctr_plot(ax):\n",
    "    ax.set_ylim((-0.5,5))\n",
    "    plt.xlabel('Time (s)')\n",
    "    plt.ylabel('Control input u(t)')\n",
    "    plt.legend()\n",
    "    plt.show()"
   ]
  },
  {
   "cell_type": "code",
   "execution_count": null,
   "metadata": {},
   "outputs": [],
   "source": [
    "\"\"\"fig = plt.figure(figsize=(10,10))\n",
    "\n",
    "# define the subject\n",
    "n=1\n",
    "\n",
    "ax = fig.add_subplot(221)\n",
    "ax.plot(logs['MotionCapture_First'][n]['absoluteTime'], logs['MotionCapture_First'][n]['controlInput'], label='MotionCapture first try, subject '+str(n))\n",
    "define_ctr_plot(ax)\n",
    "ax = fig.add_subplot(222)\n",
    "ax.plot(logs['Controller_First'][n]['absoluteTime'], logs['Controller_First'][n]['controlInput'],label='Controller first try, subject '+str(n))\n",
    "define_ctr_plot(ax)\n",
    "ax = fig.add_subplot(223)\n",
    "ax.plot(logs['MotionCapture_Last'][n]['absoluteTime'], logs['MotionCapture_Last'][n]['controlInput'],label='MotionCapture last try, subject '+str(n))\n",
    "define_ctr_plot(ax)\n",
    "ax = fig.add_subplot(224)\n",
    "ax.plot(logs['Controller_Last'][n]['absoluteTime'], logs['Controller_Last'][n]['controlInput'],label='Controller last try, subject '+str(n))\n",
    "define_ctr_plot(ax)\"\"\"\n",
    "\n",
    "fig = plt.figure(figsize=(5,5))\n",
    "\n",
    "# define the subject\n",
    "n=1\n",
    "\n",
    "#ax = fig.add_subplot(111)\n",
    "#ax.plot(logs['MotionCapture_First'][n]['absoluteTime'], logs['MotionCapture_First'][n]['controlInput'], label='MotionCapture first try, subject '+str(n))\n",
    "#ax.plot(logs['Controller_First'][n]['absoluteTime'], logs['Controller_First'][n]['controlInput'],label='Controller first try, subject '+str(n))\n",
    "#define_ctr_plot(ax)\n",
    "#plt.savefig('learn_first_try_subject1.jpg')\n",
    "ax = fig.add_subplot(111)\n",
    "ax.plot(logs['MotionCapture_Last'][n]['absoluteTime'], logs['MotionCapture_Last'][n]['controlInput'],label='MotionCapture last try, subject '+str(n))\n",
    "define_ctr_plot(ax)\n",
    "ax.plot(logs['Controller_Last'][n]['absoluteTime'], logs['Controller_Last'][n]['controlInput'],label='Controller last try, subject '+str(n))\n",
    "define_ctr_plot(ax)\n",
    "plt.savefig('learn_last_try_subject1.jpg')"
   ]
  },
  {
   "cell_type": "markdown",
   "metadata": {},
   "source": [
    "# Analyze collisions for learning curve experiment"
   ]
  },
  {
   "cell_type": "code",
   "execution_count": null,
   "metadata": {},
   "outputs": [],
   "source": [
    "av_collisions = {\"Controller_First\" : 0,\n",
    "                      \"Controller_Last\" : 0,\n",
    "                      \"MotionCapture_First\" : 0,\n",
    "                      \"MotionCapture_Last\" : 0}"
   ]
  },
  {
   "cell_type": "code",
   "execution_count": null,
   "metadata": {},
   "outputs": [],
   "source": [
    "# sum number of collisions per type\n",
    "for setup in logs:\n",
    "    print('processing '+setup)\n",
    "    temp = 0\n",
    "    for df in logs[setup]:\n",
    "        temp += np.sum(np.diff(df['collision'])==1)\n",
    "    av_collisions[setup] = temp / len(logs[setup])"
   ]
  },
  {
   "cell_type": "code",
   "execution_count": null,
   "metadata": {},
   "outputs": [],
   "source": [
    "fig = plt.figure()\n",
    "plt.bar(av_collisions.keys(), av_collisions.values(), color='g')\n",
    "plt.ylabel('Mean number of collisions per subject')\n",
    "plt.show()"
   ]
  }
 ],
 "metadata": {
  "kernelspec": {
   "display_name": "Python 3",
   "language": "python",
   "name": "python3"
  },
  "language_info": {
   "codemirror_mode": {
    "name": "ipython",
    "version": 3
   },
   "file_extension": ".py",
   "mimetype": "text/x-python",
   "name": "python",
   "nbconvert_exporter": "python",
   "pygments_lexer": "ipython3",
   "version": "3.7.3"
  },
  "varInspector": {
   "cols": {
    "lenName": 16,
    "lenType": 16,
    "lenVar": 40
   },
   "kernels_config": {
    "python": {
     "delete_cmd_postfix": "",
     "delete_cmd_prefix": "del ",
     "library": "var_list.py",
     "varRefreshCmd": "print(var_dic_list())"
    },
    "r": {
     "delete_cmd_postfix": ") ",
     "delete_cmd_prefix": "rm(",
     "library": "var_list.r",
     "varRefreshCmd": "cat(var_dic_list()) "
    }
   },
   "position": {
    "height": "472.85px",
    "left": "1066.6px",
    "right": "20px",
    "top": "7px",
    "width": "462.8px"
   },
   "types_to_exclude": [
    "module",
    "function",
    "builtin_function_or_method",
    "instance",
    "_Feature"
   ],
   "window_display": false
  }
 },
 "nbformat": 4,
 "nbformat_minor": 2
}
