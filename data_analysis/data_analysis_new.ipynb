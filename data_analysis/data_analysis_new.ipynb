{
 "cells": [
  {
   "cell_type": "code",
   "execution_count": 1,
   "metadata": {},
   "outputs": [],
   "source": [
    "import numpy as np\n",
    "import pandas as pd\n",
    "import seaborn as sn\n",
    "import json\n",
    "import glob, os\n",
    "import matplotlib.pyplot as plt\n",
    "from mpl_toolkits.mplot3d import Axes3D\n",
    "from scipy import stats\n",
    "\n",
    "%matplotlib notebook\n",
    "plt.rcParams.update({'font.size': 10})"
   ]
  },
  {
   "cell_type": "code",
   "execution_count": 2,
   "metadata": {},
   "outputs": [],
   "source": [
    "def define_plot_pos(ax):\n",
    "    ax.set_xlabel('x (m)')\n",
    "    ax.set_ylabel('y (m)')\n",
    "    ax.set_zlabel('z (m)')\n",
    "    ax.set_xlim(-4,4)\n",
    "    ax.set_ylim(-4,4)\n",
    "    ax.set_zlim(0,6)\n",
    "    plt.legend()\n",
    "    plt.show()"
   ]
  },
  {
   "cell_type": "code",
   "execution_count": 3,
   "metadata": {},
   "outputs": [],
   "source": [
    "def define_plot_col(ax):\n",
    "    plt.xlabel('Time (s)')\n",
    "    plt.ylabel('Collisions (bool)')\n",
    "    plt.legend()\n",
    "    plt.show()"
   ]
  },
  {
   "cell_type": "markdown",
   "metadata": {},
   "source": [
    "# Plots for the learning curve experiment"
   ]
  },
  {
   "cell_type": "code",
   "execution_count": 4,
   "metadata": {},
   "outputs": [],
   "source": [
    "def dfFromJSON(file):\n",
    "    with open(file) as f:\n",
    "        temp = []\n",
    "        for line in f:\n",
    "            temp.append(json.loads(line))\n",
    "            \n",
    "    df = pd.io.json.json_normalize(temp[0]['allLogs'])\n",
    "    df.columns = df.columns.map(lambda x: x.split(\"*.\")[-1])\n",
    "    return df"
   ]
  },
  {
   "cell_type": "code",
   "execution_count": 5,
   "metadata": {},
   "outputs": [],
   "source": [
    "def appendToLogs(file, log, _type):\n",
    "    df = dfFromJSON(file)\n",
    "    log[_type].append(df)"
   ]
  },
  {
   "cell_type": "code",
   "execution_count": 6,
   "metadata": {},
   "outputs": [
    {
     "data": {
      "text/plain": [
       "['./Learning_Curve\\\\sub01_Controller\\\\',\n",
       " './Learning_Curve\\\\sub01_MotionCapture\\\\',\n",
       " './Learning_Curve\\\\sub02_Controller\\\\',\n",
       " './Learning_Curve\\\\sub02_MotionCapture\\\\',\n",
       " './Learning_Curve\\\\sub03_Controller\\\\',\n",
       " './Learning_Curve\\\\sub03_MotionCapture\\\\',\n",
       " './Learning_Curve\\\\sub04_Controller\\\\',\n",
       " './Learning_Curve\\\\sub04_MotionCapture\\\\',\n",
       " './Learning_Curve\\\\sub05_Controller\\\\',\n",
       " './Learning_Curve\\\\sub05_MotionCapture\\\\']"
      ]
     },
     "execution_count": 6,
     "metadata": {},
     "output_type": "execute_result"
    }
   ],
   "source": [
    "path_to_folder = \"./Learning_Curve/\"\n",
    "subjects = glob.glob(path_to_folder + \"*/\")\n",
    "\n",
    "logs = {}\n",
    "for curr in subjects:\n",
    "    logs[curr] = []\n",
    "    \n",
    "subjects"
   ]
  },
  {
   "cell_type": "code",
   "execution_count": 7,
   "metadata": {},
   "outputs": [],
   "source": [
    "# # used to remove outliers\n",
    "\n",
    "# subjects.remove(subjects[5])\n",
    "# subjects.remove(subjects[4])\n",
    "\n",
    "# logs = {}\n",
    "# for curr in subjects:\n",
    "#     logs[curr] = []\n",
    "    \n",
    "# subjects"
   ]
  },
  {
   "cell_type": "code",
   "execution_count": 8,
   "metadata": {},
   "outputs": [
    {
     "name": "stdout",
     "output_type": "stream",
     "text": [
      "./Learning_Curve\\sub01_Controller\\\n",
      "./Learning_Curve\\sub01_MotionCapture\\\n",
      "./Learning_Curve\\sub02_Controller\\\n",
      "./Learning_Curve\\sub02_MotionCapture\\\n",
      "./Learning_Curve\\sub03_Controller\\\n",
      "./Learning_Curve\\sub03_MotionCapture\\\n",
      "./Learning_Curve\\sub04_Controller\\\n",
      "./Learning_Curve\\sub04_MotionCapture\\\n",
      "./Learning_Curve\\sub05_Controller\\\n",
      "./Learning_Curve\\sub05_MotionCapture\\\n"
     ]
    }
   ],
   "source": [
    "EXP_N = 5\n",
    "\n",
    "for subject in subjects:\n",
    "    print(subject)\n",
    "    files = glob.glob(subject+\"*.json\")\n",
    "    files.sort()\n",
    "    \n",
    "    if len(files) != EXP_N:\n",
    "        print('wrong number of experiments!')\n",
    "        break\n",
    "    for file in files:\n",
    "        logs[subject].append(dfFromJSON(file))"
   ]
  },
  {
   "cell_type": "code",
   "execution_count": 9,
   "metadata": {},
   "outputs": [],
   "source": [
    "fields = ['first_motion', 'last_motion', 'first_remote', 'last_remote']\n",
    "\n",
    "sub_remote = [x for x in subjects if 'Controller' in x]\n",
    "sub_motion = [x for x in subjects if 'Motion' in x]\n",
    "\n",
    "logs['first_motion'] = [logs[x][0] for x in sub_motion]\n",
    "logs['last_motion'] = [logs[x][-1] for x in sub_motion]\n",
    "logs['first_remote'] = [logs[x][0] for x in sub_remote]\n",
    "logs['last_remote'] = [logs[x][-1] for x in sub_remote]"
   ]
  },
  {
   "cell_type": "code",
   "execution_count": 32,
   "metadata": {
    "scrolled": true
   },
   "outputs": [],
   "source": [
    "def runBasicAnalysis(f):\n",
    "    \n",
    "    var = {}\n",
    "\n",
    "    var['means'] = []\n",
    "    var['stds'] = []\n",
    "\n",
    "    for i in fields:\n",
    "        var[i] = []\n",
    "        for j in logs[i]:\n",
    "            var[i].append(f(j))\n",
    "        print(i)\n",
    "        print(var[i])\n",
    "\n",
    "        var['means'].append(np.mean(var[i]))\n",
    "        var['stds'].append(np.std(var[i]))\n",
    "\n",
    "        print(var['means'][-1])\n",
    "        print(var['stds'][-1])\n",
    "\n",
    "        print()\n",
    "    for i in fields:\n",
    "        for j in fields:\n",
    "            t, p = stats.ttest_ind(var[i],var[j])\n",
    "\n",
    "            print (i,j)\n",
    "            print (p)\n",
    "            print()\n",
    "            \n",
    "    var['diff_mot'] = 1-np.array(var['last_motion'])/np.array(var['first_motion'])\n",
    "    var['diff_rem'] = 1-np.array(var['last_remote'])/np.array(var['first_remote'])\n",
    "\n",
    "    # var['diff_mot'] = np.array(var['last_motion'])-np.array(var['first_motion'])\n",
    "    # var['diff_rem'] = np.array(var['last_remote'])-np.array(var['first_remote'])\n",
    "\n",
    "\n",
    "    print('motion ratio')\n",
    "    print(var['diff_mot'])\n",
    "    print(np.mean(var['diff_mot']))\n",
    "    print(np.std(var['diff_mot']))\n",
    "    print()\n",
    "    print('remote ratio')\n",
    "    print(var['diff_rem'])\n",
    "    print(np.mean(var['diff_rem']))\n",
    "    print(np.std(var['diff_rem']))\n",
    "\n",
    "    t, p = stats.ttest_ind(var['diff_mot'], var['diff_rem'])\n",
    "\n",
    "    print()\n",
    "    print('p = ', p)\n",
    "            \n",
    "    return var"
   ]
  },
  {
   "cell_type": "markdown",
   "metadata": {},
   "source": [
    "# Plot Trajectories"
   ]
  },
  {
   "cell_type": "code",
   "execution_count": 28,
   "metadata": {
    "scrolled": true
   },
   "outputs": [
    {
     "data": {
      "image/png": "[encoded data removed]",
      "text/plain": [
       "<Figure size 432x432 with 1 Axes>"
      ]
     },
     "metadata": {
      "needs_background": "light"
     },
     "output_type": "display_data"
    },
    {
     "name": "stderr",
     "output_type": "stream",
     "text": [
      "No handles with labels found to put in legend.\n"
     ]
    },
    {
     "data": {
      "image/png": "[encoded data removed]",
      "text/plain": [
       "<Figure size 432x288 with 1 Axes>"
      ]
     },
     "metadata": {
      "needs_background": "light"
     },
     "output_type": "display_data"
    },
    {
     "name": "stderr",
     "output_type": "stream",
     "text": [
      "No handles with labels found to put in legend.\n"
     ]
    },
    {
     "data": {
      "image/png": "[encoded data removed]",
      "text/plain": [
       "<Figure size 432x288 with 1 Axes>"
      ]
     },
     "metadata": {
      "needs_background": "light"
     },
     "output_type": "display_data"
    },
    {
     "name": "stderr",
     "output_type": "stream",
     "text": [
      "No handles with labels found to put in legend.\n"
     ]
    },
    {
     "data": {
      "image/png": "[encoded data removed]",
      "text/plain": [
       "<Figure size 432x288 with 1 Axes>"
      ]
     },
     "metadata": {
      "needs_background": "light"
     },
     "output_type": "display_data"
    }
   ],
   "source": [
    "fig = plt.figure(figsize=(6,6))\n",
    "\n",
    "plt.rcParams.update({'font.size': 6})\n",
    "\n",
    "for idx,i in enumerate(fields):\n",
    "    ax = fig.add_subplot(221+idx, projection='3d')\n",
    "    for idx1,log in enumerate(logs[i]):\n",
    "        ax.scatter(log['dronePosition.x'],log['dronePosition.z'],log['dronePosition.y'], s = 1, label=fields[idx] + ' try subject ' + str(idx1))\n",
    "    define_plot_pos(ax)"
   ]
  },
  {
   "cell_type": "markdown",
   "metadata": {},
   "source": [
    "# Collisions"
   ]
  },
  {
   "cell_type": "code",
   "execution_count": 11,
   "metadata": {},
   "outputs": [],
   "source": [
    "def compColl(df):\n",
    "    n = 0\n",
    "    \n",
    "    n += np.sum(np.diff(df['collision'])==1)\n",
    "    \n",
    "    return n"
   ]
  },
  {
   "cell_type": "code",
   "execution_count": 41,
   "metadata": {
    "scrolled": true
   },
   "outputs": [
    {
     "name": "stdout",
     "output_type": "stream",
     "text": [
      "first_motion\n",
      "[0, 0, 9, 8, 4]\n",
      "4.2\n",
      "3.815756805667783\n",
      "\n",
      "last_motion\n",
      "[0, 0, 0, 18, 2]\n",
      "4.0\n",
      "7.042726744663604\n",
      "\n",
      "first_remote\n",
      "[0, 0, 44, 5, 2]\n",
      "10.2\n",
      "16.99882348870062\n",
      "\n",
      "last_remote\n",
      "[2, 0, 5, 4, 22]\n",
      "6.6\n",
      "7.889233169326409\n",
      "\n",
      "first_motion first_motion\n",
      "1.0\n",
      "\n",
      "first_motion last_motion\n",
      "0.9613963943074308\n",
      "\n",
      "first_motion first_remote\n",
      "0.5104326953613093\n",
      "\n",
      "first_motion last_remote\n",
      "0.5988271366972893\n",
      "\n",
      "last_motion first_motion\n",
      "0.9613963943074308\n",
      "\n",
      "last_motion last_motion\n",
      "1.0\n",
      "\n",
      "last_motion first_remote\n",
      "0.5193597745521724\n",
      "\n",
      "last_motion last_remote\n",
      "0.6361343098301989\n",
      "\n",
      "first_remote first_motion\n",
      "0.5104326953613093\n",
      "\n",
      "first_remote last_motion\n",
      "0.5193597745521724\n",
      "\n",
      "first_remote first_remote\n",
      "1.0\n",
      "\n",
      "first_remote last_remote\n",
      "0.7108422705693709\n",
      "\n",
      "last_remote first_motion\n",
      "0.5988271366972893\n",
      "\n",
      "last_remote last_motion\n",
      "0.6361343098301989\n",
      "\n",
      "last_remote first_remote\n",
      "0.7108422705693709\n",
      "\n",
      "last_remote last_remote\n",
      "1.0\n",
      "\n",
      "motion ratio\n",
      "[  nan   nan  1.   -1.25  0.5 ]\n",
      "nan\n",
      "nan\n",
      "\n",
      "remote ratio\n",
      "[        -inf          nan   0.88636364   0.2        -10.        ]\n",
      "nan\n",
      "nan\n",
      "\n",
      "p =  nan\n"
     ]
    },
    {
     "name": "stderr",
     "output_type": "stream",
     "text": [
      "C:\\Users\\SymbioticDrone\\.conda\\envs\\bidir\\lib\\site-packages\\ipykernel_launcher.py:30: RuntimeWarning: invalid value encountered in true_divide\n",
      "C:\\Users\\SymbioticDrone\\.conda\\envs\\bidir\\lib\\site-packages\\ipykernel_launcher.py:31: RuntimeWarning: divide by zero encountered in true_divide\n",
      "C:\\Users\\SymbioticDrone\\.conda\\envs\\bidir\\lib\\site-packages\\ipykernel_launcher.py:31: RuntimeWarning: invalid value encountered in true_divide\n",
      "C:\\Users\\SymbioticDrone\\.conda\\envs\\bidir\\lib\\site-packages\\scipy\\stats\\_distn_infrastructure.py:901: RuntimeWarning: invalid value encountered in greater\n",
      "  return (a < x) & (x < b)\n",
      "C:\\Users\\SymbioticDrone\\.conda\\envs\\bidir\\lib\\site-packages\\scipy\\stats\\_distn_infrastructure.py:901: RuntimeWarning: invalid value encountered in less\n",
      "  return (a < x) & (x < b)\n",
      "C:\\Users\\SymbioticDrone\\.conda\\envs\\bidir\\lib\\site-packages\\scipy\\stats\\_distn_infrastructure.py:1892: RuntimeWarning: invalid value encountered in less_equal\n",
      "  cond2 = cond0 & (x <= _a)\n"
     ]
    }
   ],
   "source": [
    "coll = runBasicAnalysis(compColl)"
   ]
  },
  {
   "cell_type": "markdown",
   "metadata": {},
   "source": [
    "# Time analysis"
   ]
  },
  {
   "cell_type": "code",
   "execution_count": 13,
   "metadata": {},
   "outputs": [],
   "source": [
    "def compTime(df):\n",
    "    return df['absoluteTime'].iloc[-1] - df['absoluteTime'].iloc[0]"
   ]
  },
  {
   "cell_type": "code",
   "execution_count": 34,
   "metadata": {
    "scrolled": true
   },
   "outputs": [
    {
     "name": "stdout",
     "output_type": "stream",
     "text": [
      "first_motion\n",
      "[26.73883819580078, 56.83778762817383, 108.18965148925781, 52.7387809753418, 37.28846740722656]\n",
      "56.35870513916016\n",
      "28.074154859673175\n",
      "\n",
      "last_motion\n",
      "[18.48773193359375, 42.438934326171875, 87.2391357421875, 55.088836669921875, 34.08905029296875]\n",
      "47.46873779296875\n",
      "23.168789873738124\n",
      "\n",
      "first_remote\n",
      "[36.68891906738281, 73.68862915039062, 216.49090766906738, 39.73820495605469, 39.23795127868652]\n",
      "81.1689224243164\n",
      "69.02343930554017\n",
      "\n",
      "last_remote\n",
      "[25.53936767578125, 29.975521087646484, 85.63897705078125, 25.188079833984375, 48.438262939453125]\n",
      "42.956041717529295\n",
      "22.9757378039666\n",
      "\n",
      "first_motion first_motion\n",
      "1.0\n",
      "\n",
      "first_motion last_motion\n",
      "0.6383303500312638\n",
      "\n",
      "first_motion first_remote\n",
      "0.5241968078029884\n",
      "\n",
      "first_motion last_remote\n",
      "0.48108144589275037\n",
      "\n",
      "last_motion first_motion\n",
      "0.6383303500312638\n",
      "\n",
      "last_motion last_motion\n",
      "1.0\n",
      "\n",
      "last_motion first_remote\n",
      "0.381665805604571\n",
      "\n",
      "last_motion last_remote\n",
      "0.7890968189010922\n",
      "\n",
      "first_remote first_motion\n",
      "0.5241968078029884\n",
      "\n",
      "first_remote last_motion\n",
      "0.381665805604571\n",
      "\n",
      "first_remote first_remote\n",
      "1.0\n",
      "\n",
      "first_remote last_remote\n",
      "0.32415298424603634\n",
      "\n",
      "last_remote first_motion\n",
      "0.48108144589275037\n",
      "\n",
      "last_remote last_motion\n",
      "0.7890968189010922\n",
      "\n",
      "last_remote first_remote\n",
      "0.32415298424603634\n",
      "\n",
      "last_remote last_remote\n",
      "1.0\n",
      "\n",
      "motion ratio\n",
      "[ 0.30858133  0.2533324   0.19364621 -0.0445603   0.08580179]\n",
      "0.15936028624364995\n",
      "0.12591080961267762\n",
      "\n",
      "remote ratio\n",
      "[ 0.30389425  0.59321375  0.60442229  0.36614953 -0.23447482]\n",
      "0.3266409994438796\n",
      "0.30500910891250715\n",
      "\n",
      "p =  0.34031148204942907\n"
     ]
    },
    {
     "data": {
      "text/plain": [
       "<BarContainer object of 2 artists>"
      ]
     },
     "execution_count": 34,
     "metadata": {},
     "output_type": "execute_result"
    },
    {
     "data": {
      "image/png": "[encoded data removed]",
      "text/plain": [
       "<Figure size 576x288 with 2 Axes>"
      ]
     },
     "metadata": {
      "needs_background": "light"
     },
     "output_type": "display_data"
    }
   ],
   "source": [
    "time = runBasicAnalysis(compTime)"
   ]
  },
  {
   "cell_type": "code",
   "execution_count": 31,
   "metadata": {},
   "outputs": [
    {
     "name": "stdout",
     "output_type": "stream",
     "text": [
      "motion ratio\n",
      "[ 0.30858133  0.2533324   0.19364621 -0.0445603   0.08580179]\n",
      "0.15936028624364995\n",
      "0.12591080961267762\n",
      "\n",
      "remote ratio\n",
      "[ 0.30389425  0.59321375  0.60442229  0.36614953 -0.23447482]\n",
      "0.3266409994438796\n",
      "0.30500910891250715\n",
      "\n",
      "p =  0.34031148204942907\n"
     ]
    }
   ],
   "source": []
  },
  {
   "cell_type": "code",
   "execution_count": 35,
   "metadata": {
    "scrolled": false
   },
   "outputs": [
    {
     "data": {
      "text/plain": [
       "<BarContainer object of 2 artists>"
      ]
     },
     "execution_count": 35,
     "metadata": {},
     "output_type": "execute_result"
    },
    {
     "data": {
      "image/png": "[encoded data removed]",
      "text/plain": [
       "<Figure size 576x288 with 2 Axes>"
      ]
     },
     "metadata": {
      "needs_background": "light"
     },
     "output_type": "display_data"
    }
   ],
   "source": [
    "size = 6\n",
    "\n",
    "fig = plt.figure(figsize=(8, 4))\n",
    "ax = fig.add_subplot(121)\n",
    "ax.bar([0, 1, 2, 3],\n",
    "   time['means'],\n",
    "   yerr=time['stds'])\n",
    "\n",
    "plt.xticks(range(4), fields, rotation = 10)\n",
    "\n",
    "ax = fig.add_subplot(122)\n",
    "ax.bar([0, 1],\n",
    "   [np.mean(time_diff_mot), np.mean(time_diff_rem)],\n",
    "   yerr=[np.std(time_diff_mot), np.std(time_diff_rem)])"
   ]
  },
  {
   "cell_type": "markdown",
   "metadata": {},
   "source": [
    "# Distance Analysis"
   ]
  },
  {
   "cell_type": "code",
   "execution_count": 17,
   "metadata": {},
   "outputs": [],
   "source": [
    "def compDist(df):\n",
    "    x = df['dronePosition.x'].values\n",
    "    y = df['dronePosition.y'].values\n",
    "    z = df['dronePosition.z'].values\n",
    "\n",
    "    dx = np.diff(x)\n",
    "    dy = np.diff(y)\n",
    "    dz = np.diff(z)\n",
    "\n",
    "    dd = np.sqrt(dx**2+dy**2+dz**2)\n",
    "    d = np.sum(dd)\n",
    "\n",
    "    return d"
   ]
  },
  {
   "cell_type": "code",
   "execution_count": 48,
   "metadata": {
    "scrolled": true
   },
   "outputs": [
    {
     "name": "stdout",
     "output_type": "stream",
     "text": [
      "first_motion\n",
      "[16.053804174306094, 41.36193720640945, 23.939916037526565, 22.414105877627115, 18.058243756456637]\n",
      "24.365601410465175\n",
      "8.963634388020512\n",
      "\n",
      "last_motion\n",
      "[13.36830039996769, 18.969954646929708, 26.745523663438007, 26.065930820392886, 22.15887051552975]\n",
      "21.46171600925161\n",
      "4.925762736278642\n",
      "\n",
      "first_remote\n",
      "[22.431195229861675, 47.653193732780935, 106.53574981271089, 27.390669342297787, 26.560770421352082]\n",
      "46.11431570780068\n",
      "31.454488096079242\n",
      "\n",
      "last_remote\n",
      "[16.36552673939378, 18.975108878019675, 28.69784644520929, 16.63350523746471, 39.47326759826643]\n",
      "24.029050979670778\n",
      "8.936302472883918\n",
      "\n",
      "first_motion first_motion\n",
      "1.0\n",
      "\n",
      "first_motion last_motion\n",
      "0.5857254334795899\n",
      "\n",
      "first_motion first_remote\n",
      "0.22021002058312822\n",
      "\n",
      "first_motion last_remote\n",
      "0.9588929802101428\n",
      "\n",
      "last_motion first_motion\n",
      "0.5857254334795899\n",
      "\n",
      "last_motion last_motion\n",
      "1.0\n",
      "\n",
      "last_motion first_remote\n",
      "0.1600610837900003\n",
      "\n",
      "last_motion last_remote\n",
      "0.6283804040018935\n",
      "\n",
      "first_remote first_motion\n",
      "0.22021002058312822\n",
      "\n",
      "first_remote last_motion\n",
      "0.1600610837900003\n",
      "\n",
      "first_remote first_remote\n",
      "1.0\n",
      "\n",
      "first_remote last_remote\n",
      "0.21371779843133643\n",
      "\n",
      "last_remote first_motion\n",
      "0.9588929802101428\n",
      "\n",
      "last_remote last_motion\n",
      "0.6283804040018935\n",
      "\n",
      "last_remote first_remote\n",
      "0.21371779843133643\n",
      "\n",
      "last_remote last_remote\n",
      "1.0\n",
      "\n",
      "motion ratio\n",
      "[ 0.16728146  0.54136687 -0.11719371 -0.1629253  -0.22707783]\n",
      "0.04029029799104165\n",
      "0.28453048876360365\n",
      "\n",
      "remote ratio\n",
      "[ 0.27041218  0.60180824  0.73062708  0.39273097 -0.4861492 ]\n",
      "0.30188585543945035\n",
      "0.4252093935627351\n",
      "\n",
      "p =  0.3364191683136452\n"
     ]
    }
   ],
   "source": [
    "dist = runBasicAnalysis(compDist)"
   ]
  },
  {
   "cell_type": "code",
   "execution_count": 50,
   "metadata": {},
   "outputs": [
    {
     "data": {
      "text/plain": [
       "<BarContainer object of 2 artists>"
      ]
     },
     "execution_count": 50,
     "metadata": {},
     "output_type": "execute_result"
    },
    {
     "data": {
      "image/png": "[encoded data removed]",
      "text/plain": [
       "<Figure size 576x288 with 2 Axes>"
      ]
     },
     "metadata": {
      "needs_background": "light"
     },
     "output_type": "display_data"
    }
   ],
   "source": [
    "size = 6\n",
    "\n",
    "fig = plt.figure(figsize=(8, 4))\n",
    "ax = fig.add_subplot(121)\n",
    "ax.bar([0, 1, 2, 3],\n",
    "   dist['means'],\n",
    "   yerr=dist['stds'])\n",
    "\n",
    "plt.xticks(range(4), fields, rotation = 10)\n",
    "\n",
    "ax = fig.add_subplot(122)\n",
    "ax.bar([0, 1],\n",
    "   [np.mean(dist['diff_mot']), np.mean(dist['diff_rem'])],\n",
    "   yerr=[np.std(dist['diff_mot']), np.std(dist['diff_rem'])])"
   ]
  },
  {
   "cell_type": "markdown",
   "metadata": {},
   "source": [
    "# Energy Analysis"
   ]
  },
  {
   "cell_type": "code",
   "execution_count": 46,
   "metadata": {},
   "outputs": [],
   "source": [
    "def compEnergy(df):\n",
    "    df['controlInput'] = np.abs(np.linalg.norm(np.array([df['controlSpeed.x'],df['controlSpeed.y'],df['controlSpeed.z']]), axis=0))#*df['differentialTime']\n",
    "    return df['controlInput'].sum()/df.shape[1]"
   ]
  },
  {
   "cell_type": "code",
   "execution_count": 47,
   "metadata": {
    "scrolled": true
   },
   "outputs": [
    {
     "name": "stdout",
     "output_type": "stream",
     "text": [
      "first_motion\n",
      "[39.986809181976845, 90.10932193752976, 58.129583091957, 57.57083761924372, 48.33891012163767]\n",
      "58.82709239046899\n",
      "17.003533864389233\n",
      "\n",
      "last_motion\n",
      "[30.89370844420996, 50.69601680891306, 66.75253299728755, 77.57227426692354, 60.38886050051367]\n",
      "57.26067860356956\n",
      "15.816154020913396\n",
      "\n",
      "first_remote\n",
      "[49.80949699325341, 94.01344146382796, 215.85141989721816, 67.49605366932255, 66.38905774785047]\n",
      "98.71189395429452\n",
      "60.256755384933875\n",
      "\n",
      "last_remote\n",
      "[37.95559249547812, 40.996812319475545, 59.325529449885295, 39.22921448139685, 98.23554372624483]\n",
      "55.14853849449613\n",
      "22.905156171369335\n",
      "\n",
      "first_motion first_motion\n",
      "1.0\n",
      "\n",
      "first_motion last_motion\n",
      "0.8960182582689197\n",
      "\n",
      "first_motion first_remote\n",
      "0.23840119408026636\n",
      "\n",
      "first_motion last_remote\n",
      "0.8029918108245386\n",
      "\n",
      "last_motion first_motion\n",
      "0.8960182582689197\n",
      "\n",
      "last_motion last_motion\n",
      "1.0\n",
      "\n",
      "last_motion first_remote\n",
      "0.219951967244055\n",
      "\n",
      "last_motion last_remote\n",
      "0.8831331724249967\n",
      "\n",
      "first_remote first_motion\n",
      "0.23840119408026636\n",
      "\n",
      "first_remote last_motion\n",
      "0.219951967244055\n",
      "\n",
      "first_remote first_remote\n",
      "1.0\n",
      "\n",
      "first_remote last_remote\n",
      "0.21348503898197577\n",
      "\n",
      "last_remote first_motion\n",
      "0.8029918108245386\n",
      "\n",
      "last_remote last_motion\n",
      "0.8831331724249967\n",
      "\n",
      "last_remote first_remote\n",
      "0.21348503898197577\n",
      "\n",
      "last_remote last_remote\n",
      "1.0\n",
      "\n",
      "motion ratio\n",
      "[ 0.22740251  0.43739431 -0.14834013 -0.34742306 -0.24928056]\n",
      "-0.016049384603228002\n",
      "0.2988598826119816\n",
      "\n",
      "remote ratio\n",
      "[ 0.23798483  0.56392605  0.72515571  0.41879247 -0.4796948 ]\n",
      "0.29323285285463374\n",
      "0.4185849712937757\n",
      "\n",
      "p =  0.2634875682276433\n"
     ]
    }
   ],
   "source": [
    "energy = runBasicAnalysis(compEnergy)"
   ]
  },
  {
   "cell_type": "code",
   "execution_count": 51,
   "metadata": {},
   "outputs": [
    {
     "data": {
      "text/plain": [
       "<BarContainer object of 2 artists>"
      ]
     },
     "execution_count": 51,
     "metadata": {},
     "output_type": "execute_result"
    },
    {
     "data": {
      "image/png": "[encoded data removed]",
      "text/plain": [
       "<Figure size 576x288 with 2 Axes>"
      ]
     },
     "metadata": {
      "needs_background": "light"
     },
     "output_type": "display_data"
    }
   ],
   "source": [
    "size = 6\n",
    "\n",
    "fig = plt.figure(figsize=(8, 4))\n",
    "ax = fig.add_subplot(121)\n",
    "ax.bar([0, 1, 2, 3],\n",
    "   energy['means'],\n",
    "   yerr=energy['stds'])\n",
    "\n",
    "plt.xticks(range(4), fields, rotation = 10)\n",
    "\n",
    "ax = fig.add_subplot(122)\n",
    "ax.bar([0, 1],\n",
    "   [np.mean(energy['diff_mot']), np.mean(energy['diff_rem'])],\n",
    "   yerr=[np.std(energy['diff_mot']), np.std(energy['diff_rem'])])"
   ]
  },
  {
   "cell_type": "code",
   "execution_count": 56,
   "metadata": {},
   "outputs": [],
   "source": [
    "def compDEnergy(df):\n",
    "    dEnergy = np.abs(np.diff(df['controlInput']))\n",
    "    return np.sum(dEnergy)"
   ]
  },
  {
   "cell_type": "code",
   "execution_count": 57,
   "metadata": {
    "scrolled": true
   },
   "outputs": [
    {
     "name": "stdout",
     "output_type": "stream",
     "text": [
      "first_motion\n",
      "[63.89708104891014, 140.81729030211548, 132.6097309121168, 161.96121083294986, 73.19188788080086]\n",
      "114.49544019537863\n",
      "38.833346715287426\n",
      "\n",
      "last_motion\n",
      "[37.69626524692417, 91.0589173332078, 168.15078105373863, 189.60518874651882, 114.75514273677597]\n",
      "120.25325902343309\n",
      "54.40966617027013\n",
      "\n",
      "first_remote\n",
      "[36.25574636062577, 56.51785748187329, 136.3057476224725, 42.77649556192982, 39.10303337568175]\n",
      "62.19177608051662\n",
      "37.703567271340305\n",
      "\n",
      "last_remote\n",
      "[24.458194125910843, 29.334643758668413, 45.97804557594216, 25.211552041192338, 49.580605748153786]\n",
      "34.9126082499735\n",
      "10.696850077767344\n",
      "\n",
      "first_motion first_motion\n",
      "1.0\n",
      "\n",
      "first_motion last_motion\n",
      "0.8675034708990068\n",
      "\n",
      "first_motion first_remote\n",
      "0.08935100929681747\n",
      "\n",
      "first_motion last_remote\n",
      "0.0042270302204176335\n",
      "\n",
      "last_motion first_motion\n",
      "0.8675034708990068\n",
      "\n",
      "last_motion last_motion\n",
      "1.0\n",
      "\n",
      "last_motion first_remote\n",
      "0.11747648168386045\n",
      "\n",
      "last_motion last_remote\n",
      "0.015161767676107116\n",
      "\n",
      "first_remote first_motion\n",
      "0.08935100929681747\n",
      "\n",
      "first_remote last_motion\n",
      "0.11747648168386045\n",
      "\n",
      "first_remote first_remote\n",
      "1.0\n",
      "\n",
      "first_remote last_remote\n",
      "0.20137208437943346\n",
      "\n",
      "last_remote first_motion\n",
      "0.0042270302204176335\n",
      "\n",
      "last_remote last_motion\n",
      "0.015161767676107116\n",
      "\n",
      "last_remote first_remote\n",
      "0.20137208437943346\n",
      "\n",
      "last_remote last_remote\n",
      "1.0\n",
      "\n",
      "motion ratio\n",
      "[ 0.41004715  0.35335414 -0.26801238 -0.17068271 -0.56786696]\n",
      "-0.048632152120136427\n",
      "0.37539538917332493\n",
      "\n",
      "remote ratio\n",
      "[ 0.32539813  0.48096681  0.66268447  0.41062138 -0.26794782]\n",
      "0.3223445955202065\n",
      "0.31535360536615104\n",
      "\n",
      "p =  0.16865026984475273\n"
     ]
    }
   ],
   "source": [
    "dEnergy = runBasicAnalysis(compDEnergy)"
   ]
  },
  {
   "cell_type": "code",
   "execution_count": 58,
   "metadata": {},
   "outputs": [
    {
     "data": {
      "text/plain": [
       "<BarContainer object of 2 artists>"
      ]
     },
     "execution_count": 58,
     "metadata": {},
     "output_type": "execute_result"
    },
    {
     "data": {
      "image/png": "[encoded data removed]",
      "text/plain": [
       "<Figure size 576x288 with 2 Axes>"
      ]
     },
     "metadata": {
      "needs_background": "light"
     },
     "output_type": "display_data"
    }
   ],
   "source": [
    "size = 6\n",
    "\n",
    "fig = plt.figure(figsize=(8, 4))\n",
    "ax = fig.add_subplot(121)\n",
    "ax.bar([0, 1, 2, 3],\n",
    "   dEnergy['means'],\n",
    "   yerr=dEnergy['stds'])\n",
    "\n",
    "plt.xticks(range(4), fields, rotation = 10)\n",
    "\n",
    "ax = fig.add_subplot(122)\n",
    "ax.bar([0, 1],\n",
    "   [np.mean(dEnergy['diff_mot']), np.mean(dEnergy['diff_rem'])],\n",
    "   yerr=[np.std(dEnergy['diff_mot']), np.std(dEnergy['diff_rem'])])"
   ]
  },
  {
   "cell_type": "markdown",
   "metadata": {},
   "source": [
    "# Analyze collisions for learning curve experiment"
   ]
  },
  {
   "cell_type": "code",
   "execution_count": null,
   "metadata": {},
   "outputs": [],
   "source": [
    "av_collisions = {\"Controller_First\" : 0,\n",
    "                      \"Controller_Last\" : 0,\n",
    "                      \"MotionCapture_First\" : 0,\n",
    "                      \"MotionCapture_Last\" : 0}"
   ]
  },
  {
   "cell_type": "code",
   "execution_count": null,
   "metadata": {},
   "outputs": [],
   "source": [
    "# sum number of collisions per type\n",
    "for setup in logs:\n",
    "    print('processing '+setup)\n",
    "    temp = 0\n",
    "    for df in logs[setup]:\n",
    "        temp += np.sum(np.diff(df['collision'])==1)\n",
    "    av_collisions[setup] = temp / len(logs[setup])"
   ]
  },
  {
   "cell_type": "code",
   "execution_count": null,
   "metadata": {},
   "outputs": [],
   "source": [
    "fig = plt.figure()\n",
    "plt.bar(av_collisions.keys(), av_collisions.values(), color='g')\n",
    "plt.ylabel('Mean number of collisions per subject')\n",
    "plt.show()"
   ]
  }
 ],
 "metadata": {
  "kernelspec": {
   "display_name": "Python 3",
   "language": "python",
   "name": "python3"
  },
  "language_info": {
   "codemirror_mode": {
    "name": "ipython",
    "version": 3
   },
   "file_extension": ".py",
   "mimetype": "text/x-python",
   "name": "python",
   "nbconvert_exporter": "python",
   "pygments_lexer": "ipython3",
   "version": "3.7.3"
  },
  "varInspector": {
   "cols": {
    "lenName": 16,
    "lenType": 16,
    "lenVar": 40
   },
   "kernels_config": {
    "python": {
     "delete_cmd_postfix": "",
     "delete_cmd_prefix": "del ",
     "library": "var_list.py",
     "varRefreshCmd": "print(var_dic_list())"
    },
    "r": {
     "delete_cmd_postfix": ") ",
     "delete_cmd_prefix": "rm(",
     "library": "var_list.r",
     "varRefreshCmd": "cat(var_dic_list()) "
    }
   },
   "position": {
    "height": "472.85px",
    "left": "1048.6px",
    "right": "20px",
    "top": "22px",
    "width": "462.8px"
   },
   "types_to_exclude": [
    "module",
    "function",
    "builtin_function_or_method",
    "instance",
    "_Feature"
   ],
   "window_display": false
  }
 },
 "nbformat": 4,
 "nbformat_minor": 2
}
