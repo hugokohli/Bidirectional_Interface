{
 "cells": [
  {
   "cell_type": "code",
   "execution_count": 1,
   "metadata": {},
   "outputs": [
    {
     "ename": "ModuleNotFoundError",
     "evalue": "No module named 'my_plots'",
     "output_type": "error",
     "traceback": [
      "\u001b[0;31m---------------------------------------------------------------------------\u001b[0m",
      "\u001b[0;31mModuleNotFoundError\u001b[0m                       Traceback (most recent call last)",
      "\u001b[0;32m<ipython-input-1-770fec7af873>\u001b[0m in \u001b[0;36m<module>\u001b[0;34m\u001b[0m\n\u001b[1;32m     15\u001b[0m \u001b[0;34m\u001b[0m\u001b[0m\n\u001b[1;32m     16\u001b[0m \u001b[0;32mfrom\u001b[0m \u001b[0mtermcolor\u001b[0m \u001b[0;32mimport\u001b[0m \u001b[0mcolored\u001b[0m\u001b[0;34m\u001b[0m\u001b[0;34m\u001b[0m\u001b[0m\n\u001b[0;32m---> 17\u001b[0;31m \u001b[0;32mimport\u001b[0m \u001b[0mmy_plots\u001b[0m\u001b[0;34m\u001b[0m\u001b[0;34m\u001b[0m\u001b[0m\n\u001b[0m\u001b[1;32m     18\u001b[0m \u001b[0;32mfrom\u001b[0m \u001b[0mmatplotlib\u001b[0m\u001b[0;34m.\u001b[0m\u001b[0mpylab\u001b[0m \u001b[0;32mimport\u001b[0m \u001b[0msavefig\u001b[0m\u001b[0;34m\u001b[0m\u001b[0;34m\u001b[0m\u001b[0m\n",
      "\u001b[0;31mModuleNotFoundError\u001b[0m: No module named 'my_plots'"
     ]
    }
   ],
   "source": [
    "%load_ext autoreload\n",
    "%autoreload 2\n",
    "\n",
    "import os,sys\n",
    "sys.path.insert(1, os.path.join(sys.path[0], '..'))\n",
    "\n",
    "import numpy as np\n",
    "import pandas as pd\n",
    "import seaborn as sn\n",
    "import json\n",
    "import glob, os\n",
    "import matplotlib.pyplot as plt\n",
    "import matplotlib as mpl\n",
    "from mpl_toolkits.mplot3d import Axes3D\n",
    "from scipy import stats\n",
    "from numpy.random import seed\n",
    "from scipy.stats import kruskal\n",
    "\n",
    "from termcolor import colored\n",
    "import my_plots\n",
    "from matplotlib.pylab import savefig"
   ]
  },
  {
   "cell_type": "code",
   "execution_count": null,
   "metadata": {
    "jupyter": {
     "source_hidden": true
    }
   },
   "outputs": [],
   "source": [
    "# plot settings\n",
    "\n",
    "lw = 1.5\n",
    "\n",
    "fs = 13\n",
    "\n",
    "params = {\n",
    "    'axes.labelsize': fs,\n",
    "    'font.size': fs,\n",
    "    'legend.fontsize': fs,\n",
    "    'xtick.labelsize': fs,\n",
    "    'ytick.labelsize': fs,\n",
    "    'text.usetex': False,\n",
    "    'figure.figsize': [4, 4],\n",
    "    'boxplot.boxprops.linewidth' : lw,\n",
    "    'boxplot.whiskerprops.linewidth' : lw,\n",
    "    'boxplot.capprops.linewidth' : lw,\n",
    "    'boxplot.medianprops.linewidth' : lw,\n",
    "    'text.usetex' : True,\n",
    "    'font.family' : 'serif',\n",
    "\n",
    "   }\n",
    "mpl.rcParams.update(params)"
   ]
  },
  {
   "cell_type": "code",
   "execution_count": null,
   "metadata": {
    "jupyter": {
     "source_hidden": true
    }
   },
   "outputs": [],
   "source": [
    "# plot settings\n",
    "\n",
    "lw = 1.5\n",
    "\n",
    "fs = 13\n",
    "\n",
    "params = {\n",
    "    'axes.labelsize': fs,\n",
    "    'font.size': fs,\n",
    "    'legend.fontsize': fs,\n",
    "    'xtick.labelsize': fs,\n",
    "    'ytick.labelsize': fs,\n",
    "    'text.usetex': False,\n",
    "    'figure.figsize': [6, 3],\n",
    "    'boxplot.boxprops.linewidth' : lw,\n",
    "    'boxplot.whiskerprops.linewidth' : lw,\n",
    "    'boxplot.capprops.linewidth' : lw,\n",
    "    'boxplot.medianprops.linewidth' : lw,\n",
    "    'text.usetex' : True,\n",
    "    'font.family' : 'serif',\n",
    "\n",
    "   }\n",
    "mpl.rcParams.update(params)"
   ]
  },
  {
   "cell_type": "markdown",
   "metadata": {},
   "source": [
    "# Plots for the haptics experiment"
   ]
  },
  {
   "cell_type": "code",
   "execution_count": null,
   "metadata": {
    "jupyter": {
     "source_hidden": true
    }
   },
   "outputs": [],
   "source": [
    "def dfFromJSON(file):\n",
    "    with open(file) as f:\n",
    "        temp = []\n",
    "        for line in f:\n",
    "            temp.append(json.loads(line))\n",
    "            \n",
    "    df = pd.io.json.json_normalize(temp[0]['allLogs'])\n",
    "    df.columns = df.columns.map(lambda x: x.split(\"*.\")[-1])\n",
    "    return df"
   ]
  },
  {
   "cell_type": "code",
   "execution_count": null,
   "metadata": {
    "jupyter": {
     "source_hidden": true
    }
   },
   "outputs": [],
   "source": [
    "def appendToLogs(file, log, _type):\n",
    "    df = dfFromJSON(file)\n",
    "    log[_type].append(df)"
   ]
  },
  {
   "cell_type": "code",
   "execution_count": null,
   "metadata": {
    "jupyter": {
     "source_hidden": true
    }
   },
   "outputs": [],
   "source": [
    "path_to_folder = \"/Volumes/GoogleDrive/My Drive/Matteo/EPFL/LIS/PhD/Bidirectional_wearable_interface/DATA/Haptics/Haptics_X/\"\n",
    "subjects = glob.glob(path_to_folder + \"*/\")\n",
    "\n",
    "logs = {}\n",
    "for curr in subjects:\n",
    "    logs[curr] = []\n",
    "    \n",
    "subjects.sort()\n",
    "subjects"
   ]
  },
  {
   "cell_type": "code",
   "execution_count": null,
   "metadata": {
    "jupyter": {
     "source_hidden": true
    }
   },
   "outputs": [],
   "source": [
    "# # used to remove outliers\n",
    "\n",
    "# subjects.remove(subjects[5])\n",
    "# subjects.remove(subjects[4])\n",
    "\n",
    "# logs = {}\n",
    "# for curr in subjects:\n",
    "#     logs[curr] = []\n",
    "    \n",
    "# subjects"
   ]
  },
  {
   "cell_type": "code",
   "execution_count": null,
   "metadata": {
    "jupyter": {
     "source_hidden": true
    }
   },
   "outputs": [],
   "source": [
    "EXP_N_THOMAS = 4\n",
    "EXP_N = 5\n",
    "\n",
    "for subject in subjects:\n",
    "    print(subject)\n",
    "    files = glob.glob(subject+\"*.json\")\n",
    "    files.sort()\n",
    "    \n",
    "    if len(files) != EXP_N and len(files) != EXP_N_THOMAS:\n",
    "        print('wrong number of experiments!')\n",
    "        break\n",
    "    for file in files:\n",
    "        logs[subject].append(dfFromJSON(file))"
   ]
  },
  {
   "cell_type": "code",
   "execution_count": null,
   "metadata": {
    "jupyter": {
     "source_hidden": true
    }
   },
   "outputs": [],
   "source": [
    "fields = ['first motion', 'last motion', 'first remote', 'last remote']\n",
    "interfaces = ['motion', 'remote']\n",
    "\n",
    "sub_remote = [x for x in subjects if 'Controller' in x]\n",
    "sub_motion = [x for x in subjects if 'Motion' in x]\n",
    "\n",
    "t = [logs[x] for x in sub_motion]\n",
    "logs['motion'] = []\n",
    "for i in t:\n",
    "    for j in i:\n",
    "        logs['motion'].append(j)\n",
    "\n",
    "t = [logs[x] for x in sub_remote]\n",
    "logs['remote'] = []\n",
    "for i in t:\n",
    "    for j in i:\n",
    "        logs['remote'].append(j)\n",
    "\n",
    "logs['first motion'] = [logs[x][0] for x in sub_motion]\n",
    "logs['last motion'] = [logs[x][-1] for x in sub_motion]\n",
    "logs['first remote'] = [logs[x][0] for x in sub_remote]\n",
    "logs['last remote'] = [logs[x][-1] for x in sub_remote]"
   ]
  },
  {
   "cell_type": "code",
   "execution_count": null,
   "metadata": {
    "scrolled": true
   },
   "outputs": [],
   "source": [
    "def t_test_kruskal(X, Y):\n",
    "    \n",
    "    # Kruskal-Wallis H-test\n",
    "    \n",
    "    # seed the random number generator\n",
    "    seed(1)\n",
    "    \n",
    "    # compare samples\n",
    "    stat, p = kruskal(X, Y)\n",
    "    \n",
    "    return [stat, p]\n",
    "\n",
    "def str_from_p(p):\n",
    "    \n",
    "    if p<0.01:\n",
    "        add_str = ' !!!!!!!!!!'\n",
    "    elif p<0.05:\n",
    "        add_str = ' !!!!!!'\n",
    "    elif p<0.1:\n",
    "        add_str = ' !'\n",
    "    else:\n",
    "        add_str = ''\n",
    "        \n",
    "    return add_str\n",
    "\n",
    "def print_p(p):\n",
    "    \n",
    "    col = None\n",
    "    \n",
    "    if p<0.01:\n",
    "        col = 'green'\n",
    "    elif p<0.05:\n",
    "        col = 'yellow'\n",
    "    elif p<0.1:\n",
    "        col = 'red'\n",
    "        \n",
    "    if col is not None:\n",
    "        print(colored('p = '+ str(p) + str_from_p(p), col))\n",
    "    else:\n",
    "        print('p = '+ str(p) + str_from_p(p))\n",
    "\n",
    "def runBasicAnalysis(f):\n",
    "    \n",
    "    var = {}\n",
    "\n",
    "    var['means'] = []\n",
    "    var['stds'] = []\n",
    "\n",
    "    for i in fields:\n",
    "        var[i] = []\n",
    "        for j in logs[i]:\n",
    "            var[i].append(f(j))\n",
    "        print(i)\n",
    "        print(var[i])\n",
    "\n",
    "        var['means'].append(np.mean(var[i]))\n",
    "        var['stds'].append(np.std(var[i]))\n",
    "\n",
    "        print('mean = ', var['means'][-1])\n",
    "        print('std = ', var['stds'][-1])\n",
    "\n",
    "        print()\n",
    "        \n",
    "            \n",
    "    for idx,i in enumerate(fields):\n",
    "        for j in fields[idx+1:]:\n",
    "            if i != j:\n",
    "                \n",
    "                t, p = t_test_kruskal(var[i],var[j])\n",
    "                \n",
    "                print (i,j)\n",
    "                print_p(p)\n",
    "            \n",
    "    var['diff mot'] = 1-np.array(var['last motion'])/np.array(var['first motion'])\n",
    "    var['diff rem'] = 1-np.array(var['last remote'])/np.array(var['first remote'])\n",
    "\n",
    "    print()\n",
    "    print('motion ratio')\n",
    "    print(var['diff mot'])\n",
    "    print(np.mean(var['diff mot']))\n",
    "    print(np.std(var['diff mot']))\n",
    "    print()\n",
    "    print('remote ratio')\n",
    "    print(var['diff rem'])\n",
    "    print(np.mean(var['diff rem']))\n",
    "    print(np.std(var['diff rem']))\n",
    "\n",
    "    t, p = t_test_kruskal(var['diff mot'], var['diff rem'])\n",
    "\n",
    "    print()\n",
    "    print('p = ', p, str_from_p(p))\n",
    "            \n",
    "    var['diff first'] = 1-np.array(var['first motion'])/np.array(var['first remote'])\n",
    "    var['diff last'] = 1-np.array(var['last motion'])/np.array(var['last remote'])\n",
    "\n",
    "    print()\n",
    "    print('firts ratio')\n",
    "    print(var['diff first'])\n",
    "    print(np.mean(var['diff first']))\n",
    "    print(np.std(var['diff first']))\n",
    "    print()\n",
    "    print('last ratio')\n",
    "    print(var['diff last'])\n",
    "    print(np.mean(var['diff last']))\n",
    "    print(np.std(var['diff last']))\n",
    "\n",
    "    t, p = t_test_kruskal(var['diff first'], var['diff last'])\n",
    "\n",
    "    print()\n",
    "    print('p = ', p, str_from_p(p))\n",
    "            \n",
    "    return var\n",
    "\n",
    "def runHapticsAnalysis(f):\n",
    "    \n",
    "    var = {}\n",
    "\n",
    "    var['means'] = []\n",
    "    var['stds'] = []\n",
    "\n",
    "    for i in interfaces:\n",
    "        var[i] = []\n",
    "        for j in logs[i]:\n",
    "            var[i].append(f(j))\n",
    "        print(i)\n",
    "        print(var[i])\n",
    "\n",
    "        var['means'].append(np.mean(var[i]))\n",
    "        var['stds'].append(np.std(var[i]))\n",
    "\n",
    "        print('mean = ', var['means'][-1])\n",
    "        print('std = ', var['stds'][-1])\n",
    "\n",
    "        print()\n",
    "        \n",
    "            \n",
    "    for idx,i in enumerate(interfaces):\n",
    "        for j in interfaces[idx+1:]:\n",
    "            if i != j:\n",
    "                \n",
    "                t, p = t_test_kruskal(var[i],var[j])\n",
    "                print_p(p)\n",
    "                \n",
    "    return var\n",
    "\n",
    "def basic_plot(var):\n",
    "    \n",
    "    fig = plt.figure(figsize=(12, 4))\n",
    "    ax = fig.add_subplot(131)\n",
    "    ax.bar([0, 1, 2, 3],\n",
    "       var['means'],\n",
    "       yerr=var['stds'])\n",
    "\n",
    "    plt.xticks(range(4), fields, rotation = 10)\n",
    "\n",
    "    ax = fig.add_subplot(132)\n",
    "    ax.bar([0, 1],\n",
    "       [np.mean(var['diff mot']), np.mean(var['diff rem'])],\n",
    "       yerr=[np.std(var['diff mot']), np.std(var['diff rem'])])\n",
    "    \n",
    "    plt.xticks(range(2), ['motion', 'remote'], rotation = 10)\n",
    "\n",
    "    ax = fig.add_subplot(133)\n",
    "    ax.bar([0, 1],\n",
    "       [np.mean(var['diff first']), np.mean(var['diff last'])],\n",
    "       yerr=[np.std(var['diff first']), np.std(var['diff last'])])\n",
    "    \n",
    "    plt.xticks(range(2), ['first', 'last'], rotation = 10)\n",
    "    \n",
    "def basic_box(data, names, col = 'b', leg = False, ax = None, save = False, where = None, y = '', xlim = None, ylim = None, xticks = None, yticks = None, whis = 1.5):\n",
    "\n",
    "    \n",
    "    c0 = np.array([0,0,0])/256\n",
    "    c1 = np.array([150,0,0])/256\n",
    "    c2 = np.array([0,0,100])/256\n",
    "    c3 = np.array([0,100,0])/256\n",
    "\n",
    "    col = [c0, c1, c2, c3]\n",
    "\n",
    "    if ax is None:\n",
    "        plt.figure()\n",
    "        ax = plt.subplot(1, 1, 1)    \n",
    "    \n",
    "    my_plots.boxplot_elegant(ax, data[names[0]], [1], col[0], whis = whis)\n",
    "    my_plots.boxplot_elegant(ax, data[names[1]], [1.4], col[1], whis = whis)\n",
    "    \n",
    "    plt.grid()\n",
    "    ax.spines['right'].set_visible(False)\n",
    "    ax.spines['top'].set_visible(False)\n",
    "    \n",
    "    if xlim is not None:\n",
    "        plt.xlim(xlim)\n",
    "    if ylim is not None:\n",
    "        plt.ylim(ylim)\n",
    "    if xticks is not None:\n",
    "        plt.xticks(xticks)\n",
    "    if yticks is not None:\n",
    "        plt.yticks(yticks)\n",
    "    \n",
    "    plt.xticks([1, 1.4], ['Remote', 'Motion'])\n",
    "    \n",
    "    plt.ylabel(y)\n",
    "\n",
    "    if leg:\n",
    "        for idx,i in enumerate(labels):\n",
    "            ax.scatter(0,0, color = c[idx], label = i)\n",
    "        \n",
    "        plt.legend()\n",
    "\n",
    "    if save:\n",
    "        savefig(where, bbox_inches='tight')\n",
    "        \n",
    "    return ax"
   ]
  },
  {
   "cell_type": "code",
   "execution_count": null,
   "metadata": {
    "jupyter": {
     "source_hidden": true
    }
   },
   "outputs": [],
   "source": [
    "def moving_average(data_set, periods=3, fill_with_zeros = True):\n",
    "    \n",
    "    if data_set.size < periods:\n",
    "        return data_set\n",
    "    \n",
    "    if isinstance(data_set, pd.DataFrame):\n",
    "        print('a')\n",
    "        data_set.index = range(len(data_set))\n",
    "\n",
    "    weights = np.ones(periods) / periods\n",
    "    \n",
    "    ma = np.convolve(data_set, weights, mode='valid')\n",
    "\n",
    "    if fill_with_zeros:\n",
    "        fill_before = np.ones(int(np.ceil((len(data_set) - len(ma))/2))) * data_set[0]\n",
    "        fill_after = np.ones(int(np.floor((len(data_set) - len(ma))/2))) * data_set[-1]\n",
    "        ma = np.hstack([fill_before, ma, fill_after])\n",
    "    \n",
    "    return ma\n",
    "\n",
    "def filter_position(df, steps):\n",
    "    \n",
    "    l = moving_average(df['dronePosition.x'], periods=steps, fill_with_zeros = False)\n",
    "    df['dronePositionFiltered.x'] = np.append([l[0]]*(steps-1), l)\n",
    "    l = moving_average(df['dronePosition.y'], periods=steps, fill_with_zeros = False)\n",
    "    df['dronePositionFiltered.y'] = np.append([l[0]]*(steps-1), l)\n",
    "    l = moving_average(df['dronePosition.x'], periods=steps, fill_with_zeros = False)\n",
    "    df['dronePositionFiltered.x'] = np.append([l[0]]*(steps-1), l)\n",
    "    return df\n",
    "\n",
    "def running_average(signal, steps):\n",
    "    \n",
    "    l = moving_average(signal, periods=steps, fill_with_zeros = False)\n",
    "    out = np.append([l[0]]*(steps-1), l)\n",
    "    return out"
   ]
  },
  {
   "cell_type": "code",
   "execution_count": null,
   "metadata": {
    "jupyter": {
     "source_hidden": true
    }
   },
   "outputs": [],
   "source": [
    "logs1 = logs.copy()\n",
    "\n",
    "logs1['first remote'][0]['dronePositionFiltered.x'] = running_average(logs1['first remote'][0]['dronePosition.x'], 15)\n",
    "\n",
    "plt.figure(figsize=(6,6))\n",
    "\n",
    "plt.plot(logs1['first remote'][0]['dronePosition.x'][0:50])\n",
    "plt.plot(logs1['first remote'][0]['dronePositionFiltered.x'][0:50])"
   ]
  },
  {
   "cell_type": "markdown",
   "metadata": {},
   "source": [
    "# Plot Trajectories"
   ]
  },
  {
   "cell_type": "code",
   "execution_count": null,
   "metadata": {
    "jupyter": {
     "source_hidden": true
    }
   },
   "outputs": [],
   "source": [
    "plt.figure()\n",
    "\n",
    "for idx,i in enumerate(fields):\n",
    "    ax = plt.subplot(2, 2, 1+idx, projection='3d')\n",
    "    for idx1,log in enumerate(logs[i]):\n",
    "        ax.plot(log['dronePosition.x'],log['dronePosition.z'],log['dronePosition.y'], label = str(idx1))\n",
    "        print(len(log))\n",
    "    plt.legend()\n",
    "    plt.title(fields[idx])\n",
    "#     define_plot_pos(ax)\n",
    "len(logs['first motion'][1])"
   ]
  },
  {
   "cell_type": "code",
   "execution_count": null,
   "metadata": {
    "jupyter": {
     "source_hidden": true
    }
   },
   "outputs": [],
   "source": [
    "plt.figure()\n",
    "\n",
    "for idx,i in enumerate(fields):\n",
    "    ax = plt.subplot(2, 2, 1+idx)\n",
    "    for idx1,log in enumerate(logs[i]):\n",
    "        ax.plot(log['dronePosition.x'])"
   ]
  },
  {
   "cell_type": "markdown",
   "metadata": {},
   "source": [
    "# Collision Analysis"
   ]
  },
  {
   "cell_type": "code",
   "execution_count": null,
   "metadata": {},
   "outputs": [],
   "source": [
    "coll_df = pd.read_csv('/Volumes/GoogleDrive/My Drive/Matteo/EPFL/LIS/PhD/Bidirectional_wearable_interface/DATA/Bidir - haptics X HW - Sheet1.csv')\n",
    "\n",
    "dist = coll_df.copy().Distance.values[:]\n",
    "\n",
    "dist[dist>0] = 0\n",
    "dist[dist<0] = 1\n",
    "\n",
    "coll_df['Collided'] = dist\n",
    "\n",
    "coll_df"
   ]
  },
  {
   "cell_type": "code",
   "execution_count": null,
   "metadata": {},
   "outputs": [],
   "source": [
    "coll = {}\n",
    "\n",
    "coll['motion'] = coll_df[coll_df['Interface']=='Motion']\n",
    "coll['remote'] = coll_df[coll_df['Interface']=='Remote']\n",
    "\n",
    "\n",
    "coll['first motion'] = coll['motion'][coll['motion']['Run']==1]\n",
    "coll['last motion'] = coll['motion'][coll['motion']['Run']==5]\n",
    "coll['first remote'] = coll['remote'][coll['remote']['Run']==1]\n",
    "coll['last remote'] = coll['remote'][coll['remote']['Run']==5]\n",
    "# logs['last motion'] = [logs[x][-1] for x in sub_motion]\n",
    "# logs['first remote'] = [logs[x][0] for x in sub_remote]\n",
    "# logs['last remote'] = [logs[x][-1] for x in sub_remote]\n",
    "print(coll['motion'])\n",
    "print(coll['remote'])"
   ]
  },
  {
   "cell_type": "code",
   "execution_count": null,
   "metadata": {},
   "outputs": [],
   "source": [
    "def compute_mean_std_collisions(data_m, data_r):\n",
    "    \n",
    "    coll_per_sub_m = []\n",
    "    \n",
    "    for sub in np.unique(data_m['Subject']):\n",
    "        sub_coll = data_m[data_m['Subject']==sub]\n",
    "        \n",
    "        coll_per_sub_m.append(sub_coll['Collided'].sum())\n",
    "        \n",
    "    coll_per_sub_r = []\n",
    "    \n",
    "    for sub in np.unique(data_r['Subject']):\n",
    "        sub_coll = data_r[data_r['Subject']==sub]\n",
    "        \n",
    "        coll_per_sub_r.append(sub_coll['Collided'].sum())\n",
    "    \n",
    "    mean_m = np.mean(coll_per_sub_m)\n",
    "    std_m = np.std(coll_per_sub_m)\n",
    "    mean_r = np.mean(coll_per_sub_r)\n",
    "    std_r = np.std(coll_per_sub_r)\n",
    "\n",
    "    print('mean motion = ', mean_m)\n",
    "    print('std motion = ', std_m)\n",
    "    print('mean remote = ', mean_r)\n",
    "    print('std remote = ', std_r)\n",
    "    print('')\n",
    "    print('total motion = ', np.sum(coll_per_sub_m))\n",
    "    print('total remote = ', np.sum(coll_per_sub_r))\n",
    "    print('')\n",
    "\n",
    "    t, p = t_test_kruskal(coll_per_sub_m, coll_per_sub_r)\n",
    "\n",
    "    print_p(p)\n",
    "    \n",
    "    return [coll_per_sub_m, coll_per_sub_r]\n",
    "\n",
    "print('')\n",
    "print('consider all runs')\n",
    "print('')\n",
    "all_m, all_r = compute_mean_std_collisions(coll['motion'], coll['remote'])\n",
    "    \n",
    "print('')\n",
    "print('consider first runs')\n",
    "print('')\n",
    "first_m, first_r = compute_mean_std_collisions(coll['first motion'], coll['first remote'])\n",
    "    \n",
    "print('')\n",
    "print('consider last runs')\n",
    "print('')\n",
    "last_m, last_r = compute_mean_std_collisions(coll['last motion'], coll['last remote'])\n",
    "\n",
    "\n",
    "    \n",
    "fig = plt.figure(figsize=(12, 4))\n",
    "ax = fig.add_subplot(131)\n",
    "ax.bar([0, 1],\n",
    "   [np.mean(all_m), np.mean(all_r)],\n",
    "      yerr = [np.std(all_m), np.std(all_r)])\n",
    "\n",
    "plt.xticks(range(2), ['motion', 'remote'])\n",
    "plt.ylim([0, 5])\n",
    "plt.title('Total collisions')\n",
    "\n",
    "ax = fig.add_subplot(132)\n",
    "ax.bar([0, 1],\n",
    "   [np.mean(first_m), np.mean(first_r)],\n",
    "      yerr = [np.std(first_m), np.std(first_r)])\n",
    "\n",
    "plt.xticks(range(2), ['motion', 'remote'])\n",
    "plt.ylim([0, 5])\n",
    "plt.title('Collisions - first run')\n",
    "\n",
    "ax = fig.add_subplot(133)\n",
    "ax.bar([0, 1],\n",
    "   [np.mean(last_m), np.mean(last_r)],\n",
    "      yerr = [np.std(last_m), np.std(last_r)])\n",
    "\n",
    "plt.xticks(range(2), ['motion', 'remote'])\n",
    "plt.ylim([0, 5])\n",
    "plt.title('Total collisions')\n",
    "plt.title('Collisions - last run')"
   ]
  },
  {
   "cell_type": "code",
   "execution_count": null,
   "metadata": {
    "jupyter": {
     "source_hidden": true
    }
   },
   "outputs": [],
   "source": [
    "\n",
    "c1 = 'b'\n",
    "c2 = 'r'\n",
    "\n",
    "fig = plt.figure()\n",
    "ax = fig.add_subplot(111)\n",
    "ax.bar([1],\n",
    "   [np.mean(all_r),],\n",
    "      yerr = [np.std(all_r)], color =c1, ecolor = c1, width=0.5 )\n",
    "ax.bar([2],\n",
    "   [np.mean(all_m)],\n",
    "      yerr = [np.std(all_m)], color =c2, ecolor = c2, width=0.5 )\n",
    "\n",
    "plt.xticks([1,2], ['remote', 'motion'])\n",
    "plt.yticks([1,2,3,4,5])\n",
    "plt.ylim([0, 5])\n",
    "plt.xlim([0.5, 2.5])\n",
    "plt.ylabel('Total collisions')\n",
    "plt.grid()\n",
    "        \n",
    "ax.spines['right'].set_visible(False)\n",
    "ax.spines['top'].set_visible(False)\n",
    "\n",
    "savefig('collisions_X.pdf', bbox_inches='tight')"
   ]
  },
  {
   "cell_type": "markdown",
   "metadata": {},
   "source": [
    "## <span style=\"color:red\">HERE RESULTS</span>"
   ]
  },
  {
   "cell_type": "markdown",
   "metadata": {},
   "source": [
    "# Approach wall Analysis"
   ]
  },
  {
   "cell_type": "code",
   "execution_count": null,
   "metadata": {},
   "outputs": [],
   "source": [
    "def comp_max_dist(df):\n",
    "    \n",
    "    return np.max(df['dronePosition.x'])"
   ]
  },
  {
   "cell_type": "code",
   "execution_count": null,
   "metadata": {},
   "outputs": [],
   "source": [
    "x_max = {}\n",
    "\n",
    "\n",
    "x_max['motion'] = coll['motion']['Distance'].values/100\n",
    "x_max['remote'] = coll['remote']['Distance'].values/100\n",
    "\n",
    "x_max['motion'] = x_max['motion'][x_max['motion']>0]\n",
    "x_max['remote'] = x_max['remote'][x_max['remote']>0]\n",
    "\n",
    "\n",
    "t, p = t_test_kruskal(x_max['motion'], x_max['remote'])\n",
    "\n",
    "print_p(p)"
   ]
  },
  {
   "cell_type": "code",
   "execution_count": null,
   "metadata": {},
   "outputs": [],
   "source": [
    "dist_obstacle = 2.5\n",
    "collider = 0.07\n",
    "\n",
    "x_collision = dist_obstacle - collider"
   ]
  },
  {
   "cell_type": "code",
   "execution_count": null,
   "metadata": {},
   "outputs": [],
   "source": [
    "interfaces = ['remote', 'motion']\n",
    "\n",
    "distances = {}\n",
    "\n",
    "for i in interfaces:\n",
    "    distances[i] = np.array(x_max[i])\n",
    "    distances[i] = distances[i][np.where(distances[i]>0)]\n",
    "    \n",
    "print()\n",
    "            \n",
    "for idx,i in enumerate(interfaces):\n",
    "    for j in interfaces[idx+1:]:\n",
    "        if i != j:\n",
    "\n",
    "            t, p = t_test_kruskal(distances[i],distances[j])\n",
    "\n",
    "            print (i,j)\n",
    "            print_p(p)\n",
    "        \n",
    "fig = plt.figure(figsize=(4, 4))\n",
    "ax = fig.add_subplot(111)\n",
    "ax.bar([0, 1],\n",
    "   [np.mean(distances['motion']), np.mean(distances['remote'])],\n",
    "      yerr = [np.std(distances['motion']), np.std(distances['remote'])])\n",
    "\n",
    "plt.xticks(range(2), ['motion', 'remote'])\n",
    "plt.ylim([0, 1])\n",
    "plt.title('Distances')"
   ]
  },
  {
   "cell_type": "code",
   "execution_count": null,
   "metadata": {
    "jupyter": {
     "source_hidden": true
    }
   },
   "outputs": [],
   "source": [
    "c1 = 'b'\n",
    "c2 = 'r'\n",
    "\n",
    "fig = plt.figure()\n",
    "ax = fig.add_subplot(111)\n",
    "ax.bar([1],\n",
    "   [np.mean(distances['remote']),],\n",
    "      yerr = [np.std(distances['remote'])], color =c1, ecolor = c1, width=0.5 )\n",
    "ax.bar([2],\n",
    "   [np.mean(distances['motion'])],\n",
    "      yerr = [np.std(distances['motion'])], color =c2, ecolor = c2, width=0.5 )\n",
    "\n",
    "plt.xticks([1,2], ['remote', 'motion'])\n",
    "plt.yticks([0,0.5,1])\n",
    "plt.ylim([0, 1])\n",
    "plt.xlim([0.5, 2.5])\n",
    "plt.ylabel('Distance from wall [m]')\n",
    "plt.grid()\n",
    "        \n",
    "ax.spines['right'].set_visible(False)\n",
    "ax.spines['top'].set_visible(False)\n",
    "\n",
    "savefig('distances_X.pdf', bbox_inches='tight')"
   ]
  },
  {
   "cell_type": "markdown",
   "metadata": {},
   "source": [
    "## <span style=\"color:red\">HERE RESULTS</span>"
   ]
  }
 ],
 "metadata": {
  "kernelspec": {
   "display_name": "Python 3",
   "language": "python",
   "name": "python3"
  },
  "language_info": {
   "codemirror_mode": {
    "name": "ipython",
    "version": 3
   },
   "file_extension": ".py",
   "mimetype": "text/x-python",
   "name": "python",
   "nbconvert_exporter": "python",
   "pygments_lexer": "ipython3",
   "version": "3.7.4"
  },
  "varInspector": {
   "cols": {
    "lenName": 16,
    "lenType": 16,
    "lenVar": 40
   },
   "kernels_config": {
    "python": {
     "delete_cmd_postfix": "",
     "delete_cmd_prefix": "del ",
     "library": "var_list.py",
     "varRefreshCmd": "print(var_dic_list())"
    },
    "r": {
     "delete_cmd_postfix": ") ",
     "delete_cmd_prefix": "rm(",
     "library": "var_list.r",
     "varRefreshCmd": "cat(var_dic_list()) "
    }
   },
   "position": {
    "height": "472.85px",
    "left": "1048.6px",
    "right": "20px",
    "top": "22px",
    "width": "462.8px"
   },
   "types_to_exclude": [
    "module",
    "function",
    "builtin_function_or_method",
    "instance",
    "_Feature"
   ],
   "window_display": false
  }
 },
 "nbformat": 4,
 "nbformat_minor": 4
}
