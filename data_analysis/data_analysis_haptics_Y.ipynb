{
 "cells": [
  {
   "cell_type": "code",
   "execution_count": 1,
   "metadata": {},
   "outputs": [],
   "source": [
    "%load_ext autoreload\n",
    "%autoreload 2\n",
    "\n",
    "import numpy as np\n",
    "import pandas as pd\n",
    "import seaborn as sn\n",
    "import json\n",
    "import glob, os\n",
    "import matplotlib.pyplot as plt\n",
    "import matplotlib as mpl\n",
    "from matplotlib.patches import Ellipse\n",
    "import matplotlib.transforms as transforms\n",
    "from mpl_toolkits.mplot3d import Axes3D\n",
    "from scipy import stats\n",
    "from numpy.random import seed\n",
    "from scipy.stats import kruskal\n",
    "from scipy.stats import levene\n",
    "\n",
    "from termcolor import colored\n",
    "import my_plots\n",
    "from matplotlib.pylab import savefig"
   ]
  },
  {
   "cell_type": "code",
   "execution_count": 2,
   "metadata": {
    "jupyter": {
     "source_hidden": true
    }
   },
   "outputs": [],
   "source": [
    "# plot settings\n",
    "\n",
    "lw = 1.5\n",
    "\n",
    "fs = 13\n",
    "\n",
    "params = {\n",
    "    'axes.labelsize': fs,\n",
    "    'font.size': fs,\n",
    "    'legend.fontsize': fs,\n",
    "    'xtick.labelsize': fs,\n",
    "    'ytick.labelsize': fs,\n",
    "    'text.usetex': False,\n",
    "    'figure.figsize': [6, 6],\n",
    "    'boxplot.boxprops.linewidth' : lw,\n",
    "    'boxplot.whiskerprops.linewidth' : lw,\n",
    "    'boxplot.capprops.linewidth' : lw,\n",
    "    'boxplot.medianprops.linewidth' : lw,\n",
    "    'text.usetex' : True,\n",
    "    'font.family' : 'serif',\n",
    "\n",
    "   }\n",
    "mpl.rcParams.update(params)"
   ]
  },
  {
   "cell_type": "code",
   "execution_count": 3,
   "metadata": {
    "jupyter": {
     "source_hidden": true
    }
   },
   "outputs": [],
   "source": [
    "def dfFromJSON(file):\n",
    "    with open(file) as f:\n",
    "        temp = []\n",
    "        for line in f:\n",
    "            temp.append(json.loads(line))\n",
    "            \n",
    "    df = pd.io.json.json_normalize(temp[0]['allLogs'])\n",
    "    df.columns = df.columns.map(lambda x: x.split(\"*.\")[-1])\n",
    "    return df"
   ]
  },
  {
   "cell_type": "code",
   "execution_count": 4,
   "metadata": {
    "jupyter": {
     "source_hidden": true
    }
   },
   "outputs": [],
   "source": [
    "def appendToLogs(file, log, _type):\n",
    "    df = dfFromJSON(file)\n",
    "    log[_type].append(df)"
   ]
  },
  {
   "cell_type": "markdown",
   "metadata": {},
   "source": [
    "# Import data"
   ]
  },
  {
   "cell_type": "code",
   "execution_count": 5,
   "metadata": {
    "jupyter": {
     "source_hidden": true
    }
   },
   "outputs": [],
   "source": [
    "path_to_folder = \"/Volumes/GoogleDrive/My Drive/Matteo/EPFL/LIS/PhD/Bidirectional_wearable_interface/DATA/Haptics/Haptics_Y/\"\n",
    "subjects = glob.glob(path_to_folder + \"*/\")\n",
    "\n",
    "logs = {}\n",
    "for curr in subjects:\n",
    "    logs[curr] = []\n",
    "    \n",
    "subjects.sort()"
   ]
  },
  {
   "cell_type": "markdown",
   "metadata": {},
   "source": [
    "## Remove outliers"
   ]
  },
  {
   "cell_type": "code",
   "execution_count": 6,
   "metadata": {
    "jupyter": {
     "source_hidden": true
    }
   },
   "outputs": [],
   "source": [
    "# # used to remove outliers\n",
    "\n",
    "# subjects.remove(subjects[5])\n",
    "# subjects.remove(subjects[4])\n",
    "\n",
    "# logs = {}\n",
    "# for curr in subjects:\n",
    "#     logs[curr] = []\n",
    "    \n",
    "# subjects"
   ]
  },
  {
   "cell_type": "code",
   "execution_count": 7,
   "metadata": {
    "jupyter": {
     "source_hidden": true
    }
   },
   "outputs": [
    {
     "name": "stdout",
     "output_type": "stream",
     "text": [
      ".\n",
      ".\n",
      ".\n",
      ".\n",
      ".\n",
      ".\n",
      ".\n",
      ".\n",
      ".\n",
      ".\n",
      ".\n",
      ".\n",
      ".\n",
      ".\n",
      ".\n",
      ".\n",
      ".\n",
      ".\n",
      ".\n",
      ".\n",
      ".\n",
      ".\n",
      ".\n",
      ".\n",
      ".\n",
      ".\n",
      ".\n",
      ".\n",
      ".\n",
      ".\n",
      ".\n",
      ".\n",
      ".\n",
      ".\n",
      ".\n",
      ".\n",
      ".\n",
      ".\n",
      ".\n",
      ".\n",
      ".\n",
      ".\n",
      ".\n",
      ".\n",
      ".\n",
      ".\n",
      ".\n",
      ".\n",
      ".\n",
      ".\n",
      ".\n",
      ".\n",
      ".\n",
      ".\n",
      ".\n",
      ".\n",
      ".\n",
      ".\n",
      ".\n",
      ".\n",
      ".\n",
      ".\n",
      ".\n",
      ".\n",
      ".\n",
      ".\n",
      ".\n",
      ".\n",
      ".\n",
      ".\n",
      ".\n",
      ".\n",
      ".\n",
      ".\n",
      ".\n",
      ".\n",
      ".\n",
      ".\n",
      ".\n",
      ".\n",
      ".\n",
      ".\n",
      ".\n",
      ".\n",
      ".\n",
      ".\n",
      ".\n",
      ".\n",
      ".\n",
      ".\n"
     ]
    }
   ],
   "source": [
    "EXP_N_THOMAS = 4\n",
    "EXP_N = 5\n",
    "\n",
    "for subject in subjects:\n",
    "#     print(subject)\n",
    "    files = glob.glob(subject+\"*.json\")\n",
    "    files.sort()\n",
    "    \n",
    "    if len(files) != EXP_N and len(files) != EXP_N_THOMAS:\n",
    "        print(subject)\n",
    "        print('wrong number of experiments!')\n",
    "        break\n",
    "    for file in files:\n",
    "        print('.')\n",
    "        logs[subject].append(dfFromJSON(file))"
   ]
  },
  {
   "cell_type": "code",
   "execution_count": 8,
   "metadata": {
    "jupyter": {
     "source_hidden": true
    }
   },
   "outputs": [],
   "source": [
    "fields = ['first motion', 'last motion', 'first remote', 'last remote']\n",
    "interfaces = ['motion', 'remote']\n",
    "\n",
    "sub_remote = [x for x in subjects if 'Controller' in x]\n",
    "sub_motion = [x for x in subjects if 'Motion' in x]\n",
    "\n",
    "t = [logs[x] for x in sub_motion]\n",
    "logs['motion'] = []\n",
    "for i in t:\n",
    "    for j in i:\n",
    "        logs['motion'].append(j)\n",
    "\n",
    "t = [logs[x] for x in sub_remote]\n",
    "logs['remote'] = []\n",
    "for i in t:\n",
    "    for j in i:\n",
    "        logs['remote'].append(j)\n",
    "\n",
    "logs['first motion'] = [logs[x][0] for x in sub_motion]\n",
    "logs['last motion'] = [logs[x][-1] for x in sub_motion]\n",
    "logs['first remote'] = [logs[x][0] for x in sub_remote]\n",
    "logs['last remote'] = [logs[x][-1] for x in sub_remote]"
   ]
  },
  {
   "cell_type": "markdown",
   "metadata": {},
   "source": [
    "# Analysis scripts"
   ]
  },
  {
   "cell_type": "code",
   "execution_count": 9,
   "metadata": {
    "jupyter": {
     "source_hidden": true
    },
    "scrolled": true
   },
   "outputs": [],
   "source": [
    "def t_test_kruskal(X, Y):\n",
    "    \n",
    "    # Kruskal-Wallis H-test\n",
    "    \n",
    "    # seed the random number generator\n",
    "    seed(1)\n",
    "    \n",
    "    # compare samples\n",
    "    stat, p = kruskal(X, Y)\n",
    "    \n",
    "    return [stat, p]\n",
    "\n",
    "def t_test_levene(X, Y):\n",
    "    \n",
    "    # Kruskal-Wallis H-test\n",
    "    \n",
    "    # seed the random number generator\n",
    "    seed(1)\n",
    "    \n",
    "    # compare samples\n",
    "    stat, p = levene(X, Y)\n",
    "    \n",
    "    return [stat, p]\n",
    "\n",
    "def str_from_p(p):\n",
    "    \n",
    "    if p<0.01:\n",
    "        add_str = ' !!!!!!!!!!'\n",
    "    elif p<0.05:\n",
    "        add_str = ' !!!!!!'\n",
    "    elif p<0.1:\n",
    "        add_str = ' !'\n",
    "    else:\n",
    "        add_str = ''\n",
    "        \n",
    "    return add_str\n",
    "\n",
    "def print_p(p):\n",
    "    \n",
    "    col = None\n",
    "    \n",
    "    if p<0.01:\n",
    "        col = 'green'\n",
    "    elif p<0.05:\n",
    "        col = 'yellow'\n",
    "    elif p<0.1:\n",
    "        col = 'red'\n",
    "        \n",
    "    if col is not None:\n",
    "        print(colored('p = '+ str(p) + str_from_p(p), col))\n",
    "    else:\n",
    "        print('p = '+ str(p) + str_from_p(p))\n",
    "\n",
    "def runBasicAnalysis(f):\n",
    "    \n",
    "    var = {}\n",
    "\n",
    "    var['means'] = []\n",
    "    var['stds'] = []\n",
    "\n",
    "    for i in fields:\n",
    "        var[i] = []\n",
    "        for j in logs[i]:\n",
    "            var[i].append(f(j))\n",
    "        print(i)\n",
    "        print(var[i])\n",
    "\n",
    "        var['means'].append(np.mean(var[i]))\n",
    "        var['stds'].append(np.std(var[i]))\n",
    "\n",
    "        print('mean = ', var['means'][-1])\n",
    "        print('std = ', var['stds'][-1])\n",
    "\n",
    "        print()\n",
    "        \n",
    "            \n",
    "    for idx,i in enumerate(fields):\n",
    "        for j in fields[idx+1:]:\n",
    "            if i != j:\n",
    "                \n",
    "                t, p = t_test_kruskal(var[i],var[j])\n",
    "                \n",
    "                print (i,j)\n",
    "                print_p(p)\n",
    "            \n",
    "    var['diff mot'] = 1-np.array(var['last motion'])/np.array(var['first motion'])\n",
    "    var['diff rem'] = 1-np.array(var['last remote'])/np.array(var['first remote'])\n",
    "\n",
    "    print()\n",
    "    print('motion ratio')\n",
    "    print(var['diff mot'])\n",
    "    print(np.mean(var['diff mot']))\n",
    "    print(np.std(var['diff mot']))\n",
    "    print()\n",
    "    print('remote ratio')\n",
    "    print(var['diff rem'])\n",
    "    print(np.mean(var['diff rem']))\n",
    "    print(np.std(var['diff rem']))\n",
    "\n",
    "    t, p = t_test_kruskal(var['diff mot'], var['diff rem'])\n",
    "\n",
    "    print()\n",
    "    print('p = ', p, str_from_p(p))\n",
    "            \n",
    "    var['diff first'] = 1-np.array(var['first motion'])/np.array(var['first remote'])\n",
    "    var['diff last'] = 1-np.array(var['last motion'])/np.array(var['last remote'])\n",
    "\n",
    "    print()\n",
    "    print('firts ratio')\n",
    "    print(var['diff first'])\n",
    "    print(np.mean(var['diff first']))\n",
    "    print(np.std(var['diff first']))\n",
    "    print()\n",
    "    print('last ratio')\n",
    "    print(var['diff last'])\n",
    "    print(np.mean(var['diff last']))\n",
    "    print(np.std(var['diff last']))\n",
    "\n",
    "    t, p = t_test_kruskal(var['diff first'], var['diff last'])\n",
    "\n",
    "    print()\n",
    "    print('p = ', p, str_from_p(p))\n",
    "            \n",
    "    return var\n",
    "\n",
    "def runHapticsXAnalysis(f):\n",
    "    \n",
    "    var = {}\n",
    "\n",
    "    var['means'] = []\n",
    "    var['stds'] = []\n",
    "\n",
    "    for i in interfaces:\n",
    "        var[i] = []\n",
    "        for j in logs[i]:\n",
    "            var[i].append(f(j))\n",
    "        print(i)\n",
    "        print(var[i])\n",
    "\n",
    "        var['means'].append(np.mean(var[i]))\n",
    "        var['stds'].append(np.std(var[i]))\n",
    "\n",
    "        print('mean = ', var['means'][-1])\n",
    "        print('std = ', var['stds'][-1])\n",
    "\n",
    "        print()\n",
    "        \n",
    "            \n",
    "    for idx,i in enumerate(interfaces):\n",
    "        for j in interfaces[idx+1:]:\n",
    "            if i != j:\n",
    "                \n",
    "                t, p = t_test_kruskal(var[i],var[j])\n",
    "                print_p(p)\n",
    "                \n",
    "    return var\n",
    "\n",
    "def runHapticsYAnalysis(f):\n",
    "    \n",
    "    varX = {}\n",
    "    varZ = {}\n",
    "\n",
    "    varX['means'] = []\n",
    "    varX['stds'] = []\n",
    "    varZ['means'] = []\n",
    "    varZ['stds'] = []\n",
    "\n",
    "    for i in interfaces:\n",
    "        varX[i] = []\n",
    "        varZ[i] = []\n",
    "        for j in logs[i]:\n",
    "            varX[i].append(f(j)[0])\n",
    "            varZ[i].append(f(j)[1])\n",
    "        print(i)\n",
    "        print(varX[i])\n",
    "        print(varZ[i])\n",
    "\n",
    "        varX['means'].append(np.mean(varX[i]))\n",
    "        varX['stds'].append(np.std(varX[i]))\n",
    "        varZ['means'].append(np.mean(varZ[i]))\n",
    "        varZ['stds'].append(np.std(varZ[i]))\n",
    "\n",
    "        print('mean = ', varX['means'][-1])\n",
    "        print('std = ', varX['stds'][-1])\n",
    "        print('mean = ', varZ['means'][-1])\n",
    "        print('std = ', varZ['stds'][-1])\n",
    "\n",
    "        print()\n",
    "        \n",
    "            \n",
    "    for idx,i in enumerate(interfaces):\n",
    "        for j in interfaces[idx+1:]:\n",
    "            if i != j:\n",
    "                \n",
    "                tX, pX = t_test_kruskal(varX[i],varX[j])\n",
    "                tY, pY = t_test_kruskal(varZ[i],varZ[j])\n",
    "                \n",
    "                print('')\n",
    "                print(i,j, ' X')\n",
    "                print_p(pX)\n",
    "                print('')\n",
    "                print(i,j, ' Y')\n",
    "                print_p(pY)\n",
    "                \n",
    "    return [varX, varZ]\n",
    "\n",
    "def basic_plot(var):\n",
    "    \n",
    "    fig = plt.figure(figsize=(12, 4))\n",
    "    ax = fig.add_subplot(131)\n",
    "    ax.bar([0, 1, 2, 3],\n",
    "       var['means'],\n",
    "       yerr=var['stds'])\n",
    "\n",
    "    plt.xticks(range(4), fields, rotation = 10)\n",
    "\n",
    "    ax = fig.add_subplot(132)\n",
    "    ax.bar([0, 1],\n",
    "       [np.mean(var['diff mot']), np.mean(var['diff rem'])],\n",
    "       yerr=[np.std(var['diff mot']), np.std(var['diff rem'])])\n",
    "    \n",
    "    plt.xticks(range(2), ['motion', 'remote'], rotation = 10)\n",
    "\n",
    "    ax = fig.add_subplot(133)\n",
    "    ax.bar([0, 1],\n",
    "       [np.mean(var['diff first']), np.mean(var['diff last'])],\n",
    "       yerr=[np.std(var['diff first']), np.std(var['diff last'])])\n",
    "    \n",
    "    plt.xticks(range(2), ['first', 'last'], rotation = 10)"
   ]
  },
  {
   "cell_type": "code",
   "execution_count": 10,
   "metadata": {
    "jupyter": {
     "source_hidden": true
    }
   },
   "outputs": [],
   "source": [
    "def moving_average(data_set, periods=3, fill_with_zeros = True):\n",
    "    \n",
    "    if data_set.size < periods:\n",
    "        return data_set\n",
    "    \n",
    "    if isinstance(data_set, pd.DataFrame):\n",
    "        print('a')\n",
    "        data_set.index = range(len(data_set))\n",
    "\n",
    "    weights = np.ones(periods) / periods\n",
    "    \n",
    "    ma = np.convolve(data_set, weights, mode='valid')\n",
    "\n",
    "    if fill_with_zeros:\n",
    "        fill_before = np.ones(int(np.ceil((len(data_set) - len(ma))/2))) * data_set[0]\n",
    "        fill_after = np.ones(int(np.floor((len(data_set) - len(ma))/2))) * data_set[-1]\n",
    "        ma = np.hstack([fill_before, ma, fill_after])\n",
    "    \n",
    "    return ma\n",
    "\n",
    "def filter_position(df, steps):\n",
    "    \n",
    "    l = moving_average(df['dronePosition.x'], periods=steps, fill_with_zeros = False)\n",
    "    df['dronePositionFiltered.x'] = np.append([l[0]]*(steps-1), l)\n",
    "    l = moving_average(df['dronePosition.y'], periods=steps, fill_with_zeros = False)\n",
    "    df['dronePositionFiltered.y'] = np.append([l[0]]*(steps-1), l)\n",
    "    l = moving_average(df['dronePosition.x'], periods=steps, fill_with_zeros = False)\n",
    "    df['dronePositionFiltered.x'] = np.append([l[0]]*(steps-1), l)\n",
    "    return df\n",
    "\n",
    "def running_average(signal, steps):\n",
    "    \n",
    "    l = moving_average(signal, periods=steps, fill_with_zeros = False)\n",
    "    out = np.append([l[0]]*(steps-1), l)\n",
    "    return out"
   ]
  },
  {
   "cell_type": "markdown",
   "metadata": {},
   "source": [
    "# Plot Trajectories"
   ]
  },
  {
   "cell_type": "code",
   "execution_count": 11,
   "metadata": {
    "jupyter": {
     "source_hidden": true
    }
   },
   "outputs": [
    {
     "data": {
      "image/png": "[encoded data removed]",
      "text/plain": [
       "<Figure size 720x720 with 4 Axes>"
      ]
     },
     "metadata": {
      "needs_background": "light"
     },
     "output_type": "display_data"
    }
   ],
   "source": [
    "mpl.rcParams.update(params)\n",
    "\n",
    "plt.figure(figsize = [10,10])\n",
    "\n",
    "for idx,i in enumerate(fields):\n",
    "    ax = plt.subplot(2, 2, 1+idx, projection='3d')\n",
    "    for idx1,log in enumerate(logs[i]):\n",
    "        ax.plot(log['dronePosition.x'],log['dronePosition.z'],log['dronePosition.y'], label = str(idx1))\n",
    "#         print(len(log))\n",
    "    plt.legend()\n",
    "    plt.title(fields[idx])\n",
    "#     define_plot_pos(ax)"
   ]
  },
  {
   "cell_type": "markdown",
   "metadata": {},
   "source": [
    "# Time analysis"
   ]
  },
  {
   "cell_type": "code",
   "execution_count": 12,
   "metadata": {
    "jupyter": {
     "source_hidden": true
    }
   },
   "outputs": [
    {
     "name": "stdout",
     "output_type": "stream",
     "text": [
      "first motion\n",
      "[28.649944305419922, 24.625800132751465, 25.264503479003906, 5.387521743774414, 26.888071060180664, 22.351208686828613, 19.700337409973145, 9.877029418945312, 34.67607498168945]\n",
      "mean =  21.93561013539632\n",
      "std =  8.658104840090244\n",
      "\n",
      "last motion\n",
      "[40.601287841796875, 27.728118896484375, 543.729736328125, 11.437896728515625, 17.663665771484375, 29.352088928222656, 17.726730346679688, 19.064971923828125, 19.538848876953125]\n",
      "mean =  80.76037173800998\n",
      "std =  163.88446233830376\n",
      "\n",
      "first remote\n",
      "[9.950272560119629, 16.689370155334473, 35.801780700683594, 20.225828170776367, 16.25072956085205, 16.113847732543945, 22.938923835754395, 11.452423095703125, 25.050647735595703]\n",
      "mean =  19.385980394151474\n",
      "std =  7.413785789851415\n",
      "\n",
      "last remote\n",
      "[12.163619995117188, 16.626541137695312, 29.01397705078125, 15.400901794433594, 14.088851928710938, 27.290252685546875, 23.176742553710938, 22.214157104492188, 14.86419677734375]\n",
      "mean =  19.42658233642578\n",
      "std =  5.789774587039535\n",
      "\n",
      "first motion last motion\n",
      "p = 0.8252828980151854\n",
      "first motion first remote\n",
      "p = 0.4015419876158456\n",
      "first motion last remote\n",
      "p = 0.45291248342491597\n",
      "last motion first remote\n",
      "p = 0.2004110749405393\n",
      "last motion last remote\n",
      "p = 0.2004110749405393\n",
      "first remote last remote\n",
      "p = 0.9647839776414967\n",
      "\n",
      "motion ratio\n",
      "[ -0.41715067  -0.12597839 -20.5214891   -1.12303491   0.34306683\n",
      "  -0.31322155   0.10018138  -0.93023338   0.43653228]\n",
      "-2.505703057686053\n",
      "6.388856712439669\n",
      "\n",
      "remote ratio\n",
      "[-0.22244089  0.00376461  0.18959402  0.23855272  0.13303265 -0.69359008\n",
      " -0.01036747 -0.93969057  0.40663423]\n",
      "-0.09939008543415026\n",
      "0.42172714396374905\n",
      "\n",
      "p =  0.3538369006847303 \n",
      "\n",
      "firts ratio\n",
      "[-1.87931251 -0.47553802  0.29432271  0.73363159 -0.65457624 -0.38708079\n",
      "  0.14118301  0.13755986 -0.38423866]\n",
      "-0.27489433910864114\n",
      "0.7045477130553258\n",
      "\n",
      "last ratio\n",
      "[ -2.33792801  -0.66770218 -17.74026906   0.25732292  -0.25373351\n",
      "  -0.07555211   0.23515005   0.14176478  -0.31449073]\n",
      "-2.3061597596002192\n",
      "5.508318208240984\n",
      "\n",
      "p =  0.7572777496236265 \n"
     ]
    },
    {
     "data": {
      "image/png": "[encoded data removed]",
      "text/plain": [
       "<Figure size 864x288 with 3 Axes>"
      ]
     },
     "metadata": {
      "needs_background": "light"
     },
     "output_type": "display_data"
    }
   ],
   "source": [
    "def compTime(df):\n",
    "    return df['absoluteTime'].iloc[-1] - df['absoluteTime'].iloc[0]\n",
    "time = runBasicAnalysis(compTime)\n",
    "basic_plot(time)"
   ]
  },
  {
   "cell_type": "markdown",
   "metadata": {},
   "source": [
    "# Distance Analysis"
   ]
  },
  {
   "cell_type": "code",
   "execution_count": 13,
   "metadata": {
    "jupyter": {
     "source_hidden": true
    }
   },
   "outputs": [
    {
     "name": "stdout",
     "output_type": "stream",
     "text": [
      "first motion\n",
      "[5.098863687054418, 4.157523464442666, 4.148447016616543, 1.8649499232741085, 5.964647896592706, 4.847376895381771, 3.573238318376739, 4.858727736218353, 3.64910077179558]\n",
      "mean =  4.2403195233058755\n",
      "std =  1.1011896202909544\n",
      "\n",
      "last motion\n",
      "[5.186894038785164, 4.102428808017276, 4.96348219541103, 2.4882942602992117, 4.986377730232071, 8.080246262103865, 3.863677384941039, 4.784862384043054, 2.979403609375167]\n",
      "mean =  4.603962963689764\n",
      "std =  1.51464628605283\n",
      "\n",
      "first remote\n",
      "[4.992961404643115, 4.87813108389816, 7.9022419239030395, 5.01434952431377, 6.570326794488793, 4.907003095605582, 3.8979491078753767, 5.8418664881787965, 6.024891713019608]\n",
      "mean =  5.558857903991804\n",
      "std =  1.1093265874415132\n",
      "\n",
      "last remote\n",
      "[4.633908962380151, 5.492032067633237, 8.365070138503187, 5.909480085395697, 5.439478758457503, 5.710626364461825, 6.2372107582272385, 9.067731028319752, 4.589068559674238]\n",
      "mean =  6.160511858116981\n",
      "std =  1.4662878884899697\n",
      "\n",
      "first motion last motion\n",
      "p = 0.7572777496236265\n",
      "first motion first remote\n",
      "\u001b[33mp = 0.02434092004399161 !!!!!!\u001b[0m\n",
      "first motion last remote\n",
      "\u001b[33mp = 0.011848940928347505 !!!!!!\u001b[0m\n",
      "last motion first remote\n",
      "p = 0.10234498849921529\n",
      "last motion last remote\n",
      "\u001b[33mp = 0.02434092004399161 !!!!!!\u001b[0m\n",
      "first remote last remote\n",
      "p = 0.5078006482752742\n",
      "\n",
      "motion ratio\n",
      "[-0.0172647   0.0132518  -0.19646754 -0.33424186  0.16401139 -0.66693171\n",
      " -0.08128175  0.01520261  0.18352389]\n",
      "-0.10224420909699382\n",
      "0.251423148037489\n",
      "\n",
      "remote ratio\n",
      "[ 0.07191172 -0.12584758 -0.05856923 -0.17851379  0.17211443 -0.16377069\n",
      " -0.60012627 -0.55219758  0.23831518]\n",
      "-0.13296486771422814\n",
      "0.27396301005349283\n",
      "\n",
      "p =  0.8946258095467479 \n",
      "\n",
      "firts ratio\n",
      "[-0.02121031  0.14772207  0.4750291   0.6280774   0.09218398  0.01215125\n",
      "  0.08330298  0.16829189  0.39432924]\n",
      "0.2199863994865542\n",
      "0.21246229582840392\n",
      "\n",
      "last ratio\n",
      "[-0.11933447  0.25302169  0.40664189  0.57893178  0.08329861 -0.41494921\n",
      "  0.38054404  0.47231977  0.35076071]\n",
      "0.22124831302365677\n",
      "0.29968081114285494\n",
      "\n",
      "p =  0.8946258095467479 \n"
     ]
    },
    {
     "data": {
      "image/png": "[encoded data removed]",
      "text/plain": [
       "<Figure size 864x288 with 3 Axes>"
      ]
     },
     "metadata": {
      "needs_background": "light"
     },
     "output_type": "display_data"
    }
   ],
   "source": [
    "def compDist(df):\n",
    "    \n",
    "    steps = 10\n",
    "    \n",
    "    df['dronePositionFiltered.x'] = running_average(df['dronePosition.x'], steps)\n",
    "    df['dronePositionFiltered.y'] = running_average(df['dronePosition.y'], steps)\n",
    "    df['dronePositionFiltered.z'] = running_average(df['dronePosition.z'], steps)\n",
    "    \n",
    "    x = df['dronePositionFiltered.x'].values\n",
    "    y = df['dronePositionFiltered.y'].values\n",
    "    z = df['dronePositionFiltered.z'].values\n",
    "\n",
    "    dx = np.diff(x)\n",
    "    dy = np.diff(y)\n",
    "    dz = np.diff(z)\n",
    "\n",
    "    dd = np.sqrt(dx**2+dy**2+dz**2)\n",
    "    d = np.sum(dd)\n",
    "\n",
    "    return d\n",
    "\n",
    "dist = runBasicAnalysis(compDist)\n",
    "basic_plot(dist)"
   ]
  },
  {
   "cell_type": "markdown",
   "metadata": {},
   "source": [
    "# Velocity Analysis"
   ]
  },
  {
   "cell_type": "code",
   "execution_count": 14,
   "metadata": {
    "jupyter": {
     "source_hidden": true
    }
   },
   "outputs": [
    {
     "name": "stdout",
     "output_type": "stream",
     "text": [
      "first motion\n",
      "[0.16670769214327658, 0.15444131929484067, 0.1522259428224899, 0.31081427924418026, 0.17339110366309832, 0.21628032774812062, 0.1645653304755632, 0.4658359097220933, 0.10180964321074738]\n",
      "mean =  0.21178572759160116\n",
      "std =  0.10489930680005666\n",
      "\n",
      "last motion\n",
      "[0.11315042012906794, 0.1245361670722627, 0.005686258027801018, 0.16689511572244495, 0.27331753853850066, 0.26967946212066274, 0.21864408634788524, 0.20157279981544973, 0.1436362162763452]\n",
      "mean =  0.16856867378338\n",
      "std =  0.07955270059385125\n",
      "\n",
      "first remote\n",
      "[0.43662315949168923, 0.2576084152766314, 0.21752311106886968, 0.25260561680406024, 0.36698445882399633, 0.28395295326891806, 0.15599656682275584, 0.43469785448682546, 0.2333825960660968]\n",
      "mean =  0.2932638591233159\n",
      "std =  0.09259591021431052\n",
      "\n",
      "last remote\n",
      "[0.3645480848359363, 0.27879900469078706, 0.2787208107675681, 0.3877250213019388, 0.34124055320823604, 0.19270856954700508, 0.271426170187324, 0.37365037706451465, 0.2613116368089173]\n",
      "mean =  0.30557002537913636\n",
      "std =  0.06095085414247106\n",
      "\n",
      "first motion last motion\n",
      "p = 0.6272069263720175\n",
      "first motion first remote\n",
      "\u001b[31mp = 0.0576307243947688 !\u001b[0m\n",
      "first motion last remote\n",
      "\u001b[33mp = 0.02434092004399161 !!!!!!\u001b[0m\n",
      "last motion first remote\n",
      "\u001b[33mp = 0.019283369986269606 !!!!!!\u001b[0m\n",
      "last motion last remote\n",
      "\u001b[32mp = 0.0030951933102601006 !!!!!!!!!!\u001b[0m\n",
      "first remote last remote\n",
      "p = 0.5659921481957904\n",
      "\n",
      "motion ratio\n",
      "[ 0.32126455  0.1936344   0.96264593  0.4630391  -0.57630659 -0.24689779\n",
      " -0.32861573  0.56728797 -0.41083115]\n",
      "0.10502452279163801\n",
      "0.4915056477299041\n",
      "\n",
      "remote ratio\n",
      "[ 0.16507387 -0.08225892 -0.28133884 -0.53490261  0.07014985  0.32133627\n",
      " -0.73994964  0.14043657 -0.11967062]\n",
      "-0.11790267374980913\n",
      "0.3272657527640079\n",
      "\n",
      "p =  0.3538369006847303 \n",
      "\n",
      "firts ratio\n",
      "[ 0.61818862  0.4004803   0.30018497 -0.23043297  0.52752467  0.23832337\n",
      " -0.05492918 -0.07163149  0.56376506]\n",
      "0.25460814965656936\n",
      "0.29123946844407744\n",
      "\n",
      "last ratio\n",
      "[ 0.68961455  0.55331201  0.97959873  0.56955289  0.19904731 -0.39941603\n",
      "  0.19446203  0.46053099  0.45032599]\n",
      "0.41078094037415525\n",
      "0.3649822700016944\n",
      "\n",
      "p =  0.3538369006847303 \n"
     ]
    },
    {
     "data": {
      "image/png": "[encoded data removed]",
      "text/plain": [
       "<Figure size 864x288 with 3 Axes>"
      ]
     },
     "metadata": {
      "needs_background": "light"
     },
     "output_type": "display_data"
    }
   ],
   "source": [
    "def compVel(df):\n",
    "    x = df['dronePositionFiltered.x'].values\n",
    "    y = df['dronePositionFiltered.y'].values\n",
    "    z = df['dronePositionFiltered.z'].values\n",
    "    t = df['absoluteTime'].values\n",
    "\n",
    "    dx = np.diff(x)\n",
    "    dy = np.diff(y)\n",
    "    dz = np.diff(z)\n",
    "    dt = np.diff(t)\n",
    "    \n",
    "    vx = np.append([0],dx/dt)\n",
    "    vy = np.append([0],dy/dt)\n",
    "    vz = np.append([0],dz/dt)\n",
    "    \n",
    "    df['droneVelocity.x'] = vx\n",
    "    df['droneVelocity.y'] = vy\n",
    "    df['droneVelocity.z'] = vz\n",
    "    \n",
    "    steps = 20    \n",
    "    \n",
    "    df['droneVelocityFiltered.x'] = running_average(df['droneVelocity.x'], steps)\n",
    "    df['droneVelocityFiltered.y'] = running_average(df['droneVelocity.y'], steps)\n",
    "    df['droneVelocityFiltered.z'] = running_average(df['droneVelocity.z'], steps)\n",
    "\n",
    "    dv = np.sqrt(df['droneVelocityFiltered.x'][100:]**2+df['droneVelocityFiltered.y'][100:]**2+df['droneVelocityFiltered.z'][100:]**2)\n",
    "    \n",
    "    v = np.mean(dv)\n",
    "    \n",
    "    return v\n",
    "\n",
    "vel = runBasicAnalysis(compVel)\n",
    "basic_plot(vel)"
   ]
  },
  {
   "cell_type": "markdown",
   "metadata": {},
   "source": [
    "# Acceleration Analysis"
   ]
  },
  {
   "cell_type": "code",
   "execution_count": 15,
   "metadata": {
    "jupyter": {
     "source_hidden": true
    }
   },
   "outputs": [
    {
     "name": "stdout",
     "output_type": "stream",
     "text": [
      "first motion\n",
      "[0.32515280376563455, 0.13626843234121394, 0.17835389696060375, 0.22544927085225464, 0.34197980596928124, 0.4317578644098495, 0.3814614387876449, 0.6609436086040491, 0.20006463647526831]\n",
      "mean =  0.32015908424064443\n",
      "std =  0.1528123568727218\n",
      "\n",
      "last motion\n",
      "[0.22735718381419032, 0.19910352944340431, 0.008210842761670455, 0.17608185699990345, 0.47676944673481947, 0.5278289590374845, 0.4793943698111598, 0.2770301973386681, 0.23422211560875303]\n",
      "mean =  0.28955538906111705\n",
      "std =  0.16164502933757816\n",
      "\n",
      "first remote\n",
      "[0.42667150003425264, 0.23780413184458032, 0.25116665008073713, 0.27157838041788057, 0.44382079673342345, 0.2933684444050458, 0.17539074665406637, 0.5848233665005743, 0.2638212868204532]\n",
      "mean =  0.32760503372122374\n",
      "std =  0.12244602121112522\n",
      "\n",
      "last remote\n",
      "[0.3024526595399755, 0.30787136089064404, 0.29664530781107934, 0.31540356953942644, 0.41535482178037575, 0.2665788095782897, 0.2948284444111627, 0.5097614956220475, 0.31632623079710037]\n",
      "mean =  0.33613585555223346\n",
      "std =  0.07248078978363434\n",
      "\n",
      "first motion last motion\n",
      "p = 0.8946258095467479\n",
      "first motion first remote\n",
      "p = 0.7572777496236265\n",
      "first motion last remote\n",
      "p = 0.8252828980151854\n",
      "last motion first remote\n",
      "p = 0.5078006482752742\n",
      "last motion last remote\n",
      "p = 0.2004110749405393\n",
      "first remote last remote\n",
      "p = 0.23323022278218208\n",
      "\n",
      "motion ratio\n",
      "[ 0.30076819 -0.46111264  0.9539632   0.21897349 -0.39414503 -0.22251151\n",
      " -0.25673088  0.58085653 -0.17073222]\n",
      "0.06103656970599255\n",
      "0.4552006401230783\n",
      "\n",
      "remote ratio\n",
      "[ 0.29113461 -0.29464261 -0.18106965 -0.16137216  0.06413844  0.09131737\n",
      " -0.68098061  0.12834964 -0.19901709]\n",
      "-0.10468244945536055\n",
      "0.27162958982926216\n",
      "\n",
      "p =  0.6911022238448452 \n",
      "\n",
      "firts ratio\n",
      "[ 0.23793175  0.42697197  0.28989817  0.1698556   0.22946422 -0.47172565\n",
      " -1.1749234  -0.13015937  0.24166606]\n",
      "-0.020113405338167894\n",
      "0.48064024097829733\n",
      "\n",
      "last ratio\n",
      "[ 0.24828836  0.35328986  0.97232101  0.44172522 -0.14786063 -0.98001094\n",
      " -0.62601126  0.45654939  0.25955519]\n",
      "0.10864957929676083\n",
      "0.5647741062124136\n",
      "\n",
      "p =  0.26968989984502656 \n"
     ]
    },
    {
     "data": {
      "image/png": "[encoded data removed]",
      "text/plain": [
       "<Figure size 864x288 with 3 Axes>"
      ]
     },
     "metadata": {
      "needs_background": "light"
     },
     "output_type": "display_data"
    }
   ],
   "source": [
    "def compAcc(df):\n",
    "    vx = df['droneVelocityFiltered.x'].values\n",
    "    vy = df['droneVelocityFiltered.y'].values\n",
    "    vz = df['droneVelocityFiltered.z'].values\n",
    "    t = df['absoluteTime'].values\n",
    "    \n",
    "    dvx = np.diff(vx)\n",
    "    dvy = np.diff(vy)\n",
    "    dvz = np.diff(vz)\n",
    "    dt = np.diff(t)\n",
    "    \n",
    "    ax = np.append([0],dvx/dt)\n",
    "    ay = np.append([0],dvy/dt)\n",
    "    az = np.append([0],dvz/dt)\n",
    "    \n",
    "    df['droneAcceleration.x'] = ax\n",
    "    df['droneAcceleration.y'] = ay\n",
    "    df['droneAcceleration.z'] = az\n",
    "    \n",
    "    steps = 30    \n",
    "    \n",
    "    df['droneAccelerationFiltered.x'] = running_average(df['droneAcceleration.x'], steps)\n",
    "    df['droneAccelerationFiltered.y'] = running_average(df['droneAcceleration.y'], steps)\n",
    "    df['droneAccelerationFiltered.z'] = running_average(df['droneAcceleration.z'], steps)\n",
    "\n",
    "    da = np.sqrt(df['droneAccelerationFiltered.x'][100:]**2+df['droneAccelerationFiltered.y'][100:]**2+df['droneAccelerationFiltered.z'][100:]**2)\n",
    "    \n",
    "    a = np.mean(da)\n",
    "\n",
    "    return a\n",
    "\n",
    "acc = runBasicAnalysis(compAcc)\n",
    "basic_plot(acc)"
   ]
  },
  {
   "cell_type": "markdown",
   "metadata": {},
   "source": [
    "# Jerk Analysis"
   ]
  },
  {
   "cell_type": "code",
   "execution_count": 16,
   "metadata": {
    "jupyter": {
     "source_hidden": true
    }
   },
   "outputs": [
    {
     "name": "stdout",
     "output_type": "stream",
     "text": [
      "first motion\n",
      "[0.868232121309506, 0.27861313599631293, 0.39567153179775216, 0.40867013648147177, 0.8578315732871354, 1.2698941554784569, 1.2062331484744966, 1.6499121620160968, 0.6779271155960485]\n",
      "mean =  0.8458872311596974\n",
      "std =  0.4346892333295164\n",
      "\n",
      "last motion\n",
      "[0.6156727651655887, 0.5381729742706597, 0.01979790916294642, 0.3930798218694013, 1.3933953958077974, 1.431158438004284, 1.4918864552853972, 0.6749690111309502, 0.7314492416199125]\n",
      "mean =  0.8099535569241042\n",
      "std =  0.4859647319680146\n",
      "\n",
      "first remote\n",
      "[0.7383713761031163, 0.4212543279550694, 0.5154417508852206, 0.6177704053122548, 0.8513082934912841, 0.5371788912132884, 0.3926890729764551, 1.2023067287318652, 0.5864135952891789]\n",
      "mean =  0.6514149379953037\n",
      "std =  0.23753578246818033\n",
      "\n",
      "last remote\n",
      "[0.5566432866715202, 0.5960698732737837, 0.6566775244705224, 0.8055531442375994, 0.8571889693918429, 0.57539635627744, 0.6152943972582787, 1.0066845912138818, 0.5997880806736051]\n",
      "mean =  0.696588469274275\n",
      "std =  0.14748767228763984\n",
      "\n",
      "first motion last motion\n",
      "p = 0.8252828980151854\n",
      "first motion first remote\n",
      "p = 0.3538369006847303\n",
      "first motion last remote\n",
      "p = 0.45291248342491597\n",
      "last motion first remote\n",
      "p = 0.45291248342491597\n",
      "last motion last remote\n",
      "p = 0.7572777496236265\n",
      "first remote last remote\n",
      "p = 0.3098795496397732\n",
      "\n",
      "motion ratio\n",
      "[ 0.29088921 -0.93161379  0.94996378  0.0381489  -0.62432281 -0.12699033\n",
      " -0.23681434  0.59090609 -0.07894968]\n",
      "-0.014309219184503749\n",
      "0.5448704357456748\n",
      "\n",
      "remote ratio\n",
      "[ 0.24612017 -0.41498813 -0.27400918 -0.30396849 -0.00690781 -0.07114476\n",
      " -0.56687425  0.16270568 -0.02280726]\n",
      "-0.13909711474928127\n",
      "0.2537682931658898\n",
      "\n",
      "p =  0.6272069263720175 \n",
      "\n",
      "firts ratio\n",
      "[-0.17587457  0.33861063  0.23236422  0.3384757  -0.00766265 -1.36400606\n",
      " -2.07172578 -0.37228889 -0.15605627]\n",
      "-0.35979596422320165\n",
      "0.7792190717682186\n",
      "\n",
      "last ratio\n",
      "[-0.10604543  0.09713106  0.9698514   0.51203738 -0.62554051 -1.48725669\n",
      " -1.42467096  0.32951292 -0.2195128 ]\n",
      "-0.21716595929782076\n",
      "0.7880150857729701\n",
      "\n",
      "p =  0.8252828980151854 \n"
     ]
    },
    {
     "data": {
      "image/png": "[encoded data removed]",
      "text/plain": [
       "<Figure size 864x288 with 3 Axes>"
      ]
     },
     "metadata": {
      "needs_background": "light"
     },
     "output_type": "display_data"
    }
   ],
   "source": [
    "def compJerk(df):\n",
    "    ax = df['droneAccelerationFiltered.x'].values\n",
    "    ay = df['droneAccelerationFiltered.y'].values\n",
    "    az = df['droneAccelerationFiltered.z'].values\n",
    "    t = df['absoluteTime'].values\n",
    "    \n",
    "    dax = np.diff(ax)\n",
    "    day = np.diff(ay)\n",
    "    daz = np.diff(az)\n",
    "    dt = np.diff(t)\n",
    "    \n",
    "    jx = np.append([0],dax/dt)\n",
    "    jy = np.append([0],day/dt)\n",
    "    jz = np.append([0],daz/dt)\n",
    "    \n",
    "    df['droneJerk.x'] = jx\n",
    "    df['droneJerk.y'] = jy\n",
    "    df['droneJerk.z'] = jz\n",
    "    \n",
    "    steps = 40    \n",
    "    \n",
    "    df['droneJerkFiltered.x'] = running_average(df['droneJerk.x'], steps)\n",
    "    df['droneJerkFiltered.y'] = running_average(df['droneJerk.y'], steps)\n",
    "    df['droneJerkFiltered.z'] = running_average(df['droneJerk.z'], steps)\n",
    "\n",
    "    dj = np.sqrt(df['droneJerkFiltered.x'][100:]**2+df['droneJerkFiltered.y'][100:]**2+df['droneJerkFiltered.z'][100:]**2)\n",
    "    \n",
    "    \n",
    "    j = np.mean(dj)\n",
    "\n",
    "    return j\n",
    "\n",
    "jerk = runBasicAnalysis(compJerk)\n",
    "basic_plot(jerk)"
   ]
  },
  {
   "cell_type": "markdown",
   "metadata": {},
   "source": [
    "# Energy Analysis"
   ]
  },
  {
   "cell_type": "code",
   "execution_count": 17,
   "metadata": {
    "jupyter": {
     "source_hidden": true
    }
   },
   "outputs": [
    {
     "name": "stdout",
     "output_type": "stream",
     "text": [
      "first motion\n",
      "[284.38103733211983, 185.81123336681736, 202.30224338905035, 92.02629231511257, 305.824406340474, 305.2165193679148, 211.7866450690766, 241.6964431959001, 251.57742533398425]\n",
      "mean =  231.18024952338334\n",
      "std =  64.15458838623402\n",
      "\n",
      "last motion\n",
      "[328.11489685756345, 193.66537262157533, 273.8598023190073, 108.44135567459989, 267.2434894766178, 669.7877780308264, 199.93364303098588, 272.58759977636436, 181.21129773000206]\n",
      "mean =  277.2050261686158\n",
      "std =  151.83707939050635\n",
      "\n",
      "first remote\n",
      "[168.6204502571526, 163.78120110166137, 256.528325530028, 162.23870323191827, 216.44169457004227, 126.70861680908115, 132.65163638780882, 272.72252994006266, 325.27571075141776]\n",
      "mean =  202.7743187310192\n",
      "std =  64.98623903353634\n",
      "\n",
      "last remote\n",
      "[162.87879844196772, 204.23449477486312, 309.6249764834771, 253.22868635320182, 266.7132310330948, 280.86678246851983, 239.24612431882173, 281.8297989282766, 248.30335593387517]\n",
      "mean =  249.65847208178866\n",
      "std =  41.650461633258715\n",
      "\n",
      "first motion last motion\n",
      "p = 0.8946258095467479\n",
      "first motion first remote\n",
      "p = 0.3538369006847303\n",
      "first motion last remote\n",
      "p = 0.6272069263720175\n",
      "last motion first remote\n",
      "p = 0.2004110749405393\n",
      "last motion last remote\n",
      "p = 0.8946258095467479\n",
      "first remote last remote\n",
      "p = 0.14512035720693314\n",
      "\n",
      "motion ratio\n",
      "[-0.15378613 -0.04226945 -0.35371609 -0.17837363  0.12615382 -1.19446765\n",
      "  0.05596671 -0.12780973  0.27969969]\n",
      "-0.17651138442638178\n",
      "0.40032347388366296\n",
      "\n",
      "remote ratio\n",
      "[ 0.03405074 -0.24699595 -0.20698163 -0.56084018 -0.23226364 -1.21663522\n",
      " -0.80356708 -0.0333939   0.23663727]\n",
      "-0.3366655099551946\n",
      "0.42641094094320675\n",
      "\n",
      "p =  0.26968989984502656 \n",
      "\n",
      "firts ratio\n",
      "[-0.6865157  -0.13450892  0.21138438  0.43277226 -0.41296439 -1.40880634\n",
      " -0.59656263  0.1137643   0.22657175]\n",
      "-0.25054058730892315\n",
      "0.5509461863912536\n",
      "\n",
      "last ratio\n",
      "[-1.01447272  0.05174994  0.11551127  0.57176512 -0.00198812 -1.38471695\n",
      "  0.16431815  0.03279355  0.27020198]\n",
      "-0.13275975466915052\n",
      "0.5992583173400455\n",
      "\n",
      "p =  0.6272069263720175 \n"
     ]
    },
    {
     "data": {
      "image/png": "[encoded data removed]",
      "text/plain": [
       "<Figure size 864x288 with 3 Axes>"
      ]
     },
     "metadata": {
      "needs_background": "light"
     },
     "output_type": "display_data"
    }
   ],
   "source": [
    "def compEnergy(df):\n",
    "    df['controlInput'] = np.sqrt(df['controlSpeed.x']**2+df['controlSpeed.y']**2+df['controlSpeed.z']**2)\n",
    "    return df['controlInput'].sum()\n",
    "\n",
    "energy = runBasicAnalysis(compEnergy)\n",
    "basic_plot(energy)"
   ]
  },
  {
   "cell_type": "markdown",
   "metadata": {},
   "source": [
    "# Power Analysis"
   ]
  },
  {
   "cell_type": "code",
   "execution_count": 18,
   "metadata": {
    "jupyter": {
     "source_hidden": true
    }
   },
   "outputs": [
    {
     "name": "stdout",
     "output_type": "stream",
     "text": [
      "first motion\n",
      "[29.279463707967828, 7.78547994345891, 4.997590440576815, 1.9018079443014941, 19.507293535757867, 24.6786501562533, 24.266486090193162, 11.878154782896086, 26.04214195002001]\n",
      "mean =  16.704118727936162\n",
      "std =  9.620357896634264\n",
      "\n",
      "last motion\n",
      "[34.8724644654678, 10.285467368276214, 9.762697106917548, 3.360647294454775, 17.251815405725765, 32.947677847077586, 20.288081594778212, 13.177371101720388, 13.797333813399337]\n",
      "mean =  17.30483955531307\n",
      "std =  9.956332257621735\n",
      "\n",
      "first remote\n",
      "[4.720277387357631, 4.067306362645802, 7.208436436587596, 4.878230874474367, 5.689337954671332, 3.6628680432307354, 4.494647596803654, 6.843471994197072, 9.686612506614622]\n",
      "mean =  5.694576572953646\n",
      "std =  1.8067609862164669\n",
      "\n",
      "last remote\n",
      "[5.502442168071719, 4.65334844734449, 9.172103541761757, 7.143759684636431, 7.255393839119461, 9.811063243250572, 6.827921039027211, 8.132814915280308, 6.828175950911643]\n",
      "mean =  7.258558092155955\n",
      "std =  1.5346440016060103\n",
      "\n",
      "first motion last motion\n",
      "p = 0.8946258095467479\n",
      "first motion first remote\n",
      "\u001b[33mp = 0.019283369986269606 !!!!!!\u001b[0m\n",
      "first motion last remote\n",
      "\u001b[31mp = 0.07026567343786677 !\u001b[0m\n",
      "last motion first remote\n",
      "\u001b[32mp = 0.005410533856084917 !!!!!!!!!!\u001b[0m\n",
      "last motion last remote\n",
      "\u001b[32mp = 0.007076645010569817 !!!!!!!!!!\u001b[0m\n",
      "first remote last remote\n",
      "\u001b[31mp = 0.08508907281620419 !\u001b[0m\n",
      "\n",
      "motion ratio\n",
      "[-0.19102128 -0.32110897 -0.95348083 -0.76708027  0.1156223  -0.33506807\n",
      "  0.16394646 -0.10937863  0.47019205]\n",
      "-0.21415302664346594\n",
      "0.4229455017855346\n",
      "\n",
      "remote ratio\n",
      "[-0.16570314 -0.14408604 -0.27241235 -0.46441607 -0.27526153 -1.67851944\n",
      " -0.51912267 -0.18840479  0.29509145]\n",
      "-0.37920384180232136\n",
      "0.5087248972284839\n",
      "\n",
      "p =  0.6272069263720175 \n",
      "\n",
      "firts ratio\n",
      "[-5.20291167 -0.91416118  0.30670257  0.61014392 -2.42874579 -5.73752094\n",
      " -4.39897413 -0.7356913  -1.6884674 ]\n",
      "-2.2432917680151587\n",
      "2.227160397226842\n",
      "\n",
      "last ratio\n",
      "[-5.33763398 -1.21033681 -0.0643902   0.52956882 -1.37779172 -2.35821684\n",
      " -1.97134098 -0.62027185 -1.02064708]\n",
      "-1.4923400725863845\n",
      "1.5975074520585295\n",
      "\n",
      "p =  0.6272069263720175 \n"
     ]
    },
    {
     "data": {
      "image/png": "[encoded data removed]",
      "text/plain": [
       "<Figure size 864x288 with 3 Axes>"
      ]
     },
     "metadata": {
      "needs_background": "light"
     },
     "output_type": "display_data"
    }
   ],
   "source": [
    "def compDEnergy(df):\n",
    "    dEnergy = np.abs(np.diff(df['controlInput']))\n",
    "    return np.sum(dEnergy)\n",
    "\n",
    "dEnergy = runBasicAnalysis(compDEnergy)\n",
    "basic_plot(dEnergy)"
   ]
  },
  {
   "cell_type": "markdown",
   "metadata": {},
   "source": [
    "# Collision Analysis"
   ]
  },
  {
   "cell_type": "code",
   "execution_count": 19,
   "metadata": {
    "jupyter": {
     "source_hidden": true
    }
   },
   "outputs": [],
   "source": [
    "coll_df = pd.read_csv('/Volumes/GoogleDrive/My Drive/Matteo/EPFL/LIS/PhD/Bidirectional_wearable_interface/DATA/Haptics/Bidir - haptics ZY collisions - Sheet1.csv')"
   ]
  },
  {
   "cell_type": "code",
   "execution_count": 20,
   "metadata": {
    "jupyter": {
     "source_hidden": true
    }
   },
   "outputs": [],
   "source": [
    "coll = {}\n",
    "\n",
    "coll['motion'] = coll_df[coll_df['Interface']=='Motion']\n",
    "coll['remote'] = coll_df[coll_df['Interface']=='Remote']\n",
    "\n",
    "\n",
    "coll['first motion'] = coll['motion'][coll['motion']['Run']==1]\n",
    "coll['last motion'] = coll['motion'][coll['motion']['Run']==5]\n",
    "coll['first remote'] = coll['remote'][coll['remote']['Run']==1]\n",
    "coll['last remote'] = coll['remote'][coll['remote']['Run']==5]\n"
   ]
  },
  {
   "cell_type": "code",
   "execution_count": 21,
   "metadata": {},
   "outputs": [
    {
     "name": "stdout",
     "output_type": "stream",
     "text": [
      "\n",
      "consider all runs\n",
      "\n",
      "mean motion =  2.3333333333333335\n",
      "std motion =  0.816496580927726\n",
      "mean remote =  2.5555555555555554\n",
      "std remote =  0.8314794192830981\n",
      "\n",
      "total motion =  21.0\n",
      "total remote =  23.0\n",
      "\n",
      "p = 0.5087764159758276\n",
      "\n",
      "consider first runs\n",
      "\n",
      "mean motion =  0.5555555555555556\n",
      "std motion =  0.4969039949999533\n",
      "mean remote =  0.4444444444444444\n",
      "std remote =  0.4969039949999533\n",
      "\n",
      "total motion =  5.0\n",
      "total remote =  4.0\n",
      "\n",
      "p = 0.6468641853669347\n",
      "\n",
      "consider last runs\n",
      "\n",
      "mean motion =  0.3333333333333333\n",
      "std motion =  0.4714045207910317\n",
      "mean remote =  0.6666666666666666\n",
      "std remote =  0.4714045207910317\n",
      "\n",
      "total motion =  3.0\n",
      "total remote =  6.0\n",
      "\n",
      "p = 0.1693272972120591\n",
      "\n",
      "consider diff runs\n",
      "\n",
      "[1.0, 0.0, 1.0, 0.0, 0.0, 1.0, 0.0, 1.0, 1.0]\n",
      "mean motion =  0.2222222222222222\n",
      "std motion =  0.7856742013183863\n",
      "mean remote =  -0.2222222222222222\n",
      "std remote =  0.41573970964154905\n",
      "\n",
      "total motion =  2.0\n",
      "total remote =  -2.0\n",
      "\n",
      "p = 0.16932729721205866\n"
     ]
    },
    {
     "data": {
      "text/plain": [
       "Text(0.5, 1.0, 'Collisions - different first-last')"
      ]
     },
     "execution_count": 21,
     "metadata": {},
     "output_type": "execute_result"
    },
    {
     "data": {
      "image/png": "[encoded data removed]",
      "text/plain": [
       "<Figure size 864x288 with 3 Axes>"
      ]
     },
     "metadata": {
      "needs_background": "light"
     },
     "output_type": "display_data"
    },
    {
     "data": {
      "image/png": "[encoded data removed]",
      "text/plain": [
       "<Figure size 288x288 with 1 Axes>"
      ]
     },
     "metadata": {
      "needs_background": "light"
     },
     "output_type": "display_data"
    }
   ],
   "source": [
    "def compute_mean_std_collisions(data_m, data_r):\n",
    "    \n",
    "    coll_per_sub_m = []\n",
    "    \n",
    "    for sub in np.unique(data_m['Subject']):\n",
    "        sub_coll = data_m[data_m['Subject']==sub]\n",
    "        \n",
    "        coll_per_sub_m.append(sub_coll['Collided Y'].sum())\n",
    "        \n",
    "    coll_per_sub_r = []\n",
    "    \n",
    "    for sub in np.unique(data_r['Subject']):\n",
    "        sub_coll = data_r[data_r['Subject']==sub]\n",
    "        \n",
    "        coll_per_sub_r.append(sub_coll['Collided Y'].sum())\n",
    "    \n",
    "    mean_m = np.mean(coll_per_sub_m)\n",
    "    std_m = np.std(coll_per_sub_m)\n",
    "    mean_r = np.mean(coll_per_sub_r)\n",
    "    std_r = np.std(coll_per_sub_r)\n",
    "\n",
    "    print('mean motion = ', mean_m)\n",
    "    print('std motion = ', std_m)\n",
    "    print('mean remote = ', mean_r)\n",
    "    print('std remote = ', std_r)\n",
    "    print('')\n",
    "    print('total motion = ', np.sum(coll_per_sub_m))\n",
    "    print('total remote = ', np.sum(coll_per_sub_r))\n",
    "    print('')\n",
    "\n",
    "    t, p = t_test_kruskal(coll_per_sub_m, coll_per_sub_r)\n",
    "\n",
    "    print_p(p)\n",
    "    \n",
    "    return [coll_per_sub_m, coll_per_sub_r]\n",
    "\n",
    "def compute_mean_std_collisions_diff(data_m, data_r):\n",
    "    \n",
    "    coll_per_sub_m_init = []\n",
    "    coll_per_sub_m_fin = []\n",
    "    \n",
    "    for sub in np.unique(data_m['Subject']):\n",
    "        sub_coll = data_m[data_m['Subject']==sub]\n",
    "        \n",
    "        coll_per_sub_m_init.append(sub_coll['Collided Y'].values[0])\n",
    "        coll_per_sub_m_fin.append(sub_coll['Collided Y'].values[-1])\n",
    "        \n",
    "    coll_per_sub_r_init = []\n",
    "    coll_per_sub_r_fin = []\n",
    "    \n",
    "    for sub in np.unique(data_r['Subject']):\n",
    "        sub_coll = data_r[data_r['Subject']==sub]\n",
    "        \n",
    "        coll_per_sub_r_init.append(sub_coll['Collided Y'].values[0])\n",
    "        coll_per_sub_r_fin.append(sub_coll['Collided Y'].values[-1])\n",
    "        \n",
    "    diff_m = np.array(coll_per_sub_m_init) - np.array(coll_per_sub_m_fin)\n",
    "    diff_r = np.array(coll_per_sub_r_init) - np.array(coll_per_sub_r_fin)\n",
    "    \n",
    "    mean_m = np.mean(diff_m)\n",
    "    std_m = np.std(diff_m)\n",
    "    mean_r = np.mean(diff_r)\n",
    "    std_r = np.std(diff_r)\n",
    "    \n",
    "    print(coll_per_sub_m_init)\n",
    "\n",
    "    print('mean motion = ', mean_m)\n",
    "    print('std motion = ', std_m)\n",
    "    print('mean remote = ', mean_r)\n",
    "    print('std remote = ', std_r)\n",
    "    print('')\n",
    "    print('total motion = ', np.sum(diff_m))\n",
    "    print('total remote = ', np.sum(diff_r))\n",
    "    print('')\n",
    "\n",
    "    t, p = t_test_kruskal(diff_m, diff_r)\n",
    "\n",
    "    print_p(p)\n",
    "    \n",
    "    return [diff_m, diff_r]\n",
    "\n",
    "print('')\n",
    "print('consider all runs')\n",
    "print('')\n",
    "all_m, all_r = compute_mean_std_collisions(coll['motion'], coll['remote'])\n",
    "    \n",
    "print('')\n",
    "print('consider first runs')\n",
    "print('')\n",
    "first_m, first_r = compute_mean_std_collisions(coll['first motion'], coll['first remote'])\n",
    "    \n",
    "print('')\n",
    "print('consider last runs')\n",
    "print('')\n",
    "last_m, last_r = compute_mean_std_collisions(coll['last motion'], coll['last remote'])\n",
    "    \n",
    "print('')\n",
    "print('consider diff runs')\n",
    "print('')\n",
    "diff_m, diff_r = compute_mean_std_collisions_diff(coll['motion'], coll['remote'])\n",
    "\n",
    "\n",
    "    \n",
    "fig = plt.figure(figsize=(12, 4))\n",
    "ax = fig.add_subplot(131)\n",
    "ax.bar([0, 1],\n",
    "   [np.mean(all_m), np.mean(all_r)],\n",
    "      yerr = [np.std(all_m), np.std(all_r)])\n",
    "\n",
    "plt.xticks(range(2), ['motion', 'remote'])\n",
    "plt.ylim([0, 5])\n",
    "plt.title('Total collisions')\n",
    "\n",
    "ax = fig.add_subplot(132)\n",
    "ax.bar([0, 1],\n",
    "   [np.mean(first_m), np.mean(first_r)],\n",
    "      yerr = [np.std(first_m), np.std(first_r)])\n",
    "\n",
    "plt.xticks(range(2), ['motion', 'remote'])\n",
    "plt.ylim([0, 5])\n",
    "plt.title('Collisions - first run')\n",
    "\n",
    "ax = fig.add_subplot(133)\n",
    "ax.bar([0, 1],\n",
    "   [np.mean(last_m), np.mean(last_r)],\n",
    "      yerr = [np.std(last_m), np.std(last_r)])\n",
    "\n",
    "plt.xticks(range(2), ['motion', 'remote'])\n",
    "plt.ylim([0, 5])\n",
    "plt.title('Total collisions')\n",
    "plt.title('Collisions - last run')\n",
    "\n",
    "fig = plt.figure(figsize=(4, 4))\n",
    "ax = fig.add_subplot(111)\n",
    "ax.bar([0, 1],\n",
    "   [np.mean(diff_m), np.mean(diff_r)],\n",
    "      yerr = [np.std(diff_m), np.std(diff_r)])\n",
    "\n",
    "plt.xticks(range(2), ['motion', 'remote'])\n",
    "plt.title('Total collisions')\n",
    "plt.title('Collisions - different first-last')"
   ]
  },
  {
   "cell_type": "code",
   "execution_count": 22,
   "metadata": {},
   "outputs": [
    {
     "data": {
      "image/png": "[encoded data removed]",
      "text/plain": [
       "<Figure size 288x288 with 1 Axes>"
      ]
     },
     "metadata": {
      "needs_background": "light"
     },
     "output_type": "display_data"
    }
   ],
   "source": [
    "\n",
    "c1 = 'b'\n",
    "c2 = 'r'\n",
    "\n",
    "fig = plt.figure(figsize=(4, 4))\n",
    "ax = fig.add_subplot(111)\n",
    "ax.bar([1],\n",
    "   [np.mean(all_r),],\n",
    "      yerr = [np.std(all_r)], color =c1, ecolor = c1, width=0.5 )\n",
    "ax.bar([2],\n",
    "   [np.mean(all_m)],\n",
    "      yerr = [np.std(all_m)], color =c2, ecolor = c2, width=0.5 )\n",
    "\n",
    "plt.xticks([1,2], ['remote', 'motion'])\n",
    "plt.ylim([0, 5])\n",
    "plt.xlim([0.5, 2.5])\n",
    "plt.ylabel('Total collisions')\n",
    "plt.grid()\n",
    "\n",
    "        \n",
    "ax.spines['right'].set_visible(False)\n",
    "ax.spines['top'].set_visible(False)\n",
    "\n",
    "savefig('collisions_Y.pdf', bbox_inches='tight')"
   ]
  },
  {
   "cell_type": "markdown",
   "metadata": {},
   "source": [
    "## <span style=\"color:red\">HERE RESULTS</span>"
   ]
  },
  {
   "cell_type": "markdown",
   "metadata": {},
   "source": [
    "# Go-through passing Analysis"
   ]
  },
  {
   "cell_type": "code",
   "execution_count": 23,
   "metadata": {
    "jupyter": {
     "source_hidden": true
    }
   },
   "outputs": [
    {
     "name": "stdout",
     "output_type": "stream",
     "text": [
      "motion\n",
      "[2.423576593399048, 1.7832410335540771, 2.1033689975738525, 1.9765089750289917, 2.127129077911377, 1.8418307304382324, 1.9783519506454468, 1.8418278694152832, 1.8899714946746826, 1.8052246570587158, 2.018615961074829, 1.7538827657699585, 2.130727767944336, 1.9600868225097656, 1.8177858591079712, 1.3802027702331543, 1.7220653295516968, 1.798635482788086, 1.435656189918518, 1.5754591226577759, 2.0775678157806396, 2.0952205657958984, 2.1907029151916504, 1.8785805702209473, 1.9131425619125366, 1.7291945219039917, 1.7932817935943604, 1.6271581649780273, 1.6876198053359985, 1.7679576873779297, 1.722852349281311, 2.2923216819763184, 1.9924442768096924, 1.898862361907959, 1.9804110527038574, 1.6771869659423828, 1.4988813400268555, 1.7466046810150146, 1.6523685455322266, 1.760744571685791, 1.9300199747085571, 1.7226362228393555, 1.896193027496338, 1.8455902338027954, 1.8749381303787231]\n",
      "[-0.03784526512026787, 0.006329774856567383, -0.0055482471361756325, 0.01635921187698841, -0.10162082314491272, -0.0043600089848041534, -0.06917233765125275, -0.013039445504546165, -0.04901188611984253, 0.04959403723478317, 0.06854972243309021, -0.02356412261724472, 0.011642602272331715, 0.019023016095161438, 0.04872258007526398, 0.1777384877204895, 0.01669497787952423, 0.010546937584877014, 0.04175445809960365, -0.0013639696408063173, 0.07340018451213837, 0.11045035719871521, 0.07082342356443405, 0.03879200294613838, 0.11244837939739227, -0.018794041126966476, -0.032652683556079865, 0.005175350699573755, -0.1250610053539276, -0.04258812963962555, 0.04489639773964882, -0.054386261850595474, -0.19545291364192963, 0.018769802525639534, -0.014549003913998604, 0.07221662998199463, 0.10117913037538528, 0.016885433346033096, 0.06736572831869125, 0.0698620155453682, -0.03477587178349495, 0.0970693975687027, 0.01363525539636612, 0.018492093309760094, 0.02169567532837391]\n",
      "mean =  1.8581473615434434\n",
      "std =  0.2079106812880978\n",
      "mean =  0.013251712157701453\n",
      "std =  0.06533015555860092\n",
      "\n",
      "remote\n",
      "[2.1151838302612305, 2.0660486221313477, 2.4395718574523926, 2.6045851707458496, 1.8627535104751587, 1.99359929561615, 2.402263641357422, 2.1383700370788574, 0.16112461686134338, 2.337723970413208, 2.5814201831817627, 2.744375228881836, 2.623523473739624, 2.320629596710205, 2.759626865386963, 1.9661352634429932, 1.3485743999481201, 1.6870092153549194, 1.7811652421951294, 3.1405680179595947, 0.0, 2.4706177711486816, 1.9630039930343628, 2.0723133087158203, 2.4057137966156006, 1.5534275770187378, 1.9040135145187378, 1.7775475978851318, 2.3921868801116943, 1.4498802423477173, 1.5492974519729614, 1.7588517665863037, 1.994396448135376, 1.9721603393554688, 2.320448160171509, 1.9495741128921509, 2.0774948596954346, 1.5417308807373047, 2.052039384841919, 2.1797876358032227, 1.9786614179611206, 2.22151780128479, 1.805817723274231, 1.975893497467041, 1.975893497467041]\n",
      "[1.2584416708705248e-07, 1.2310982810959104e-07, 1.4548153615123738e-07, 1.6021509452457394e-07, 1.108036471464402e-07, 1.1882804784590917e-07, 0.0031064474023878574, 1.27456445397911e-07, 1.3650860886116334e-08, 1.3932591969023633e-07, 1.538614924356807e-07, 1.635720110471084e-07, 1.563731188980455e-07, 1.3832027434546035e-07, 0.0013334404211491346, 0.017185552045702934, 0.02424491196870804, 0.06091582775115967, 0.07704432308673859, 1.8180992356064962e-07, 0.0, 1.4557619465449534e-07, 1.1724819870551073e-07, 1.2303840435379243e-07, -0.059735070914030075, 9.264439881917497e-08, 1.1293673907175616e-07, 1.0628637880927272e-07, 1.450718229989434e-07, 8.61413482766693e-08, 0.03152817115187645, 0.08231601864099503, 1.1886927353543797e-07, 1.1764701923766552e-07, 0.04074816033244133, 0.033376503735780716, 1.2224843715102907e-07, 8.521951855300358e-08, 1.1530894994393748e-07, 1.2848674657561787e-07, 0.055561959743499756, 0.0017470750026404858, -0.0008523331489413977, 1.1809027711251474e-07, 1.1809027711251474e-07]\n",
      "mean =  2.009256037738588\n",
      "std =  0.5560756608901004\n",
      "mean =  0.008189437750588013\n",
      "std =  0.02344103127651982\n",
      "\n",
      "\n",
      "motion remote  X\n",
      "\u001b[32mp = 0.0036242570469141723 !!!!!!!!!!\u001b[0m\n",
      "\n",
      "motion remote  Y\n",
      "p = 0.3189528276841774\n"
     ]
    }
   ],
   "source": [
    "def comp_max_dist(df):\n",
    "    \n",
    "    dist_obstacle = 2\n",
    "    collider = 0.5+0.5\n",
    "\n",
    "    y_cross = dist_obstacle + collider\n",
    "    \n",
    "    y = df['dronePosition.y']\n",
    "    \n",
    "    \n",
    "#     print()\n",
    "    for idx,i in enumerate(y):\n",
    "        if idx>0:\n",
    "            if y[idx-1]>y_cross and y[idx]<y_cross:\n",
    "#                 print(idx)\n",
    "                break\n",
    "                \n",
    "    \n",
    "    return [df['dronePosition.x'][idx], df['dronePosition.z'][idx]]\n",
    "\n",
    "cross_ret = runHapticsYAnalysis(comp_max_dist)"
   ]
  },
  {
   "cell_type": "code",
   "execution_count": 24,
   "metadata": {
    "jupyter": {
     "source_hidden": true
    }
   },
   "outputs": [],
   "source": [
    "coord = ['X', 'Z']\n",
    "cross = {}\n",
    "\n",
    "cross_dic = {'X':cross_ret[0], 'Z':cross_ret[1]}\n",
    "center = {'X':2, 'Z':0}\n",
    "\n",
    "for c in coord:\n",
    "    cross[c] = {}\n",
    "    for i in interfaces:\n",
    "        cross[c][i] = np.array(cross_dic[c][i]) - center[c]"
   ]
  },
  {
   "cell_type": "code",
   "execution_count": 33,
   "metadata": {},
   "outputs": [
    {
     "data": {
      "image/png": "[encoded data removed]",
      "text/plain": [
       "<Figure size 432x432 with 1 Axes>"
      ]
     },
     "metadata": {},
     "output_type": "display_data"
    }
   ],
   "source": [
    "fig = plt.figure()\n",
    "ax = fig.add_subplot(111)\n",
    "\n",
    "\n",
    "ax.scatter(cross['Z']['remote'], cross['X']['remote'], color = 'b', label = 'remote')\n",
    "ax.scatter(cross['Z']['motion'], cross['X']['motion'], color = 'r', label = 'motion')\n",
    "\n",
    "l = 0.2\n",
    "ax.plot([-l, -l], [-l, l] ,'k')\n",
    "ax.plot([l, l], [-l, l] ,'k')\n",
    "ax.plot([-l, l], [-l, -l] ,'k')\n",
    "ax.plot([-l, l], [l, l] ,'k')\n",
    "l = 0.5\n",
    "ax.plot([-l, -l], [-l, l] ,'k')\n",
    "ax.plot([l, l], [-l, l] ,'k')\n",
    "ax.plot([-l, l], [-l, -l] ,'k')\n",
    "ax.plot([-l, l], [l, l] ,'k')\n",
    "\n",
    "plt.xlim([-0.6, 0.6])\n",
    "plt.ylim([-0.6, 0.6])\n",
    "\n",
    "plt.xlabel('Z [m]')\n",
    "plt.ylabel('X [m]')\n",
    "\n",
    "plt.xlabel('')\n",
    "plt.ylabel('')\n",
    "plt.xticks([])\n",
    "plt.yticks([])\n",
    "\n",
    "plt.legend(loc = 'upper right')\n",
    "\n",
    "ellipse = Ellipse((np.mean(cross['Z']['remote']), np.mean(cross['X']['remote'])), width=np.std(cross['Z']['remote'])*2,\n",
    "        height=np.std(cross['X']['remote'])*2,\n",
    "        alpha=0.3,\n",
    "        facecolor='b', zorder=-2)\n",
    "ax.add_patch(ellipse)\n",
    "\n",
    "\n",
    "ellipse = Ellipse((np.mean(cross['Z']['motion']), np.mean(cross['X']['motion'])), width=np.std(cross['Z']['motion'])*2,\n",
    "        height=np.std(cross['X']['motion'])*2,\n",
    "        alpha=0.5,\n",
    "        facecolor='r', zorder=-1)\n",
    "ax.add_patch(ellipse)\n",
    "        \n",
    "ax.spines['right'].set_visible(False)\n",
    "ax.spines['top'].set_visible(False)\n",
    "ax.spines['left'].set_visible(False)\n",
    "ax.spines['bottom'].set_visible(False)\n",
    "\n",
    "savefig('cross_Y.pdf', bbox_inches='tight')"
   ]
  },
  {
   "cell_type": "code",
   "execution_count": 26,
   "metadata": {},
   "outputs": [
    {
     "name": "stdout",
     "output_type": "stream",
     "text": [
      "0.009256037738588121\n",
      "0.5560756608901005\n",
      "-0.14185263845655655\n",
      "0.2079106812880978\n",
      "\u001b[32mp = 0.002348588062020376 !!!!!!!!!!\u001b[0m\n",
      "0.008189437750588013\n",
      "0.02344103127651982\n",
      "0.013251712157701453\n",
      "0.06533015555860092\n",
      "\u001b[32mp = 6.046822195401048e-06 !!!!!!!!!!\u001b[0m\n"
     ]
    },
    {
     "data": {
      "image/png": "[encoded data removed]",
      "text/plain": [
       "<Figure size 216x216 with 1 Axes>"
      ]
     },
     "metadata": {
      "needs_background": "light"
     },
     "output_type": "display_data"
    },
    {
     "data": {
      "image/png": "[encoded data removed]",
      "text/plain": [
       "<Figure size 216x216 with 1 Axes>"
      ]
     },
     "metadata": {
      "needs_background": "light"
     },
     "output_type": "display_data"
    }
   ],
   "source": [
    "\n",
    "for c in coord:\n",
    "\n",
    "    print(np.mean(cross[c]['remote']))\n",
    "    print(np.std(cross[c]['remote']))\n",
    "    print(np.mean(cross[c]['motion']))\n",
    "    print(np.std(cross[c]['motion']))\n",
    "\n",
    "    fig = plt.figure(figsize=[3,3])\n",
    "    ax = fig.add_subplot(111)\n",
    "\n",
    "    ax.bar([0,1], \n",
    "            [np.mean(cross[c]['remote']), np.mean(cross[c]['motion'])],\n",
    "          yerr = [np.std(cross[c]['remote']), np.std(cross[c]['motion'])])\n",
    "    plt.title('deviation on ' + c)\n",
    "\n",
    "    print_p(t_test_levene(cross[c]['remote'], cross[c]['motion'])[1])"
   ]
  },
  {
   "cell_type": "markdown",
   "metadata": {},
   "source": [
    "# TEST"
   ]
  }
 ],
 "metadata": {
  "kernelspec": {
   "display_name": "Python 3",
   "language": "python",
   "name": "python3"
  },
  "language_info": {
   "codemirror_mode": {
    "name": "ipython",
    "version": 3
   },
   "file_extension": ".py",
   "mimetype": "text/x-python",
   "name": "python",
   "nbconvert_exporter": "python",
   "pygments_lexer": "ipython3",
   "version": "3.7.4"
  },
  "varInspector": {
   "cols": {
    "lenName": 16,
    "lenType": 16,
    "lenVar": 40
   },
   "kernels_config": {
    "python": {
     "delete_cmd_postfix": "",
     "delete_cmd_prefix": "del ",
     "library": "var_list.py",
     "varRefreshCmd": "print(var_dic_list())"
    },
    "r": {
     "delete_cmd_postfix": ") ",
     "delete_cmd_prefix": "rm(",
     "library": "var_list.r",
     "varRefreshCmd": "cat(var_dic_list()) "
    }
   },
   "position": {
    "height": "472.85px",
    "left": "1048.6px",
    "right": "20px",
    "top": "22px",
    "width": "462.8px"
   },
   "types_to_exclude": [
    "module",
    "function",
    "builtin_function_or_method",
    "instance",
    "_Feature"
   ],
   "window_display": false
  }
 },
 "nbformat": 4,
 "nbformat_minor": 4
}
