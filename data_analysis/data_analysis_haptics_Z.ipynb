{
 "cells": [
  {
   "cell_type": "code",
   "execution_count": 117,
   "metadata": {},
   "outputs": [
    {
     "name": "stdout",
     "output_type": "stream",
     "text": [
      "The autoreload extension is already loaded. To reload it, use:\n",
      "  %reload_ext autoreload\n"
     ]
    }
   ],
   "source": [
    "%load_ext autoreload\n",
    "%autoreload 2\n",
    "\n",
    "import numpy as np\n",
    "import pandas as pd\n",
    "import seaborn as sn\n",
    "import json\n",
    "import glob, os\n",
    "import matplotlib.pyplot as plt\n",
    "import matplotlib as mpl\n",
    "from matplotlib.patches import Ellipse\n",
    "import matplotlib.transforms as transforms\n",
    "from mpl_toolkits.mplot3d import Axes3D\n",
    "from scipy import stats\n",
    "from numpy.random import seed\n",
    "from scipy.stats import kruskal\n",
    "from scipy.stats import levene\n",
    "\n",
    "from termcolor import colored\n",
    "import my_plots"
   ]
  },
  {
   "cell_type": "code",
   "execution_count": 79,
   "metadata": {
    "collapsed": true,
    "jupyter": {
     "outputs_hidden": true,
     "source_hidden": true
    }
   },
   "outputs": [],
   "source": [
    "# plot settings\n",
    "\n",
    "lw = 1.5\n",
    "\n",
    "fs = 13\n",
    "\n",
    "params = {\n",
    "    'axes.labelsize': fs,\n",
    "    'font.size': fs,\n",
    "    'legend.fontsize': fs,\n",
    "    'xtick.labelsize': fs,\n",
    "    'ytick.labelsize': fs,\n",
    "    'text.usetex': False,\n",
    "    'figure.figsize': [6, 6],\n",
    "    'boxplot.boxprops.linewidth' : lw,\n",
    "    'boxplot.whiskerprops.linewidth' : lw,\n",
    "    'boxplot.capprops.linewidth' : lw,\n",
    "    'boxplot.medianprops.linewidth' : lw,\n",
    "    'text.usetex' : True,\n",
    "    'font.family' : 'serif',\n",
    "\n",
    "   }\n",
    "mpl.rcParams.update(params)"
   ]
  },
  {
   "cell_type": "code",
   "execution_count": 4,
   "metadata": {
    "collapsed": true,
    "jupyter": {
     "outputs_hidden": true,
     "source_hidden": true
    }
   },
   "outputs": [],
   "source": [
    "def dfFromJSON(file):\n",
    "    with open(file) as f:\n",
    "        temp = []\n",
    "        for line in f:\n",
    "            temp.append(json.loads(line))\n",
    "            \n",
    "    df = pd.io.json.json_normalize(temp[0]['allLogs'])\n",
    "    df.columns = df.columns.map(lambda x: x.split(\"*.\")[-1])\n",
    "    return df"
   ]
  },
  {
   "cell_type": "code",
   "execution_count": 5,
   "metadata": {
    "collapsed": true,
    "jupyter": {
     "outputs_hidden": true,
     "source_hidden": true
    }
   },
   "outputs": [],
   "source": [
    "def appendToLogs(file, log, _type):\n",
    "    df = dfFromJSON(file)\n",
    "    log[_type].append(df)"
   ]
  },
  {
   "cell_type": "code",
   "execution_count": 6,
   "metadata": {
    "collapsed": true,
    "jupyter": {
     "outputs_hidden": true,
     "source_hidden": true
    }
   },
   "outputs": [
    {
     "data": {
      "text/plain": [
       "['/Volumes/GoogleDrive/My Drive/Matteo/EPFL/LIS/PhD/Bidirectional_wearable_interface/DATA/Haptics/Haptics_Z/sub10_Controller/',\n",
       " '/Volumes/GoogleDrive/My Drive/Matteo/EPFL/LIS/PhD/Bidirectional_wearable_interface/DATA/Haptics/Haptics_Z/sub10_MotionCapture/',\n",
       " '/Volumes/GoogleDrive/My Drive/Matteo/EPFL/LIS/PhD/Bidirectional_wearable_interface/DATA/Haptics/Haptics_Z/sub2_Controller/',\n",
       " '/Volumes/GoogleDrive/My Drive/Matteo/EPFL/LIS/PhD/Bidirectional_wearable_interface/DATA/Haptics/Haptics_Z/sub2_MotionCapture/',\n",
       " '/Volumes/GoogleDrive/My Drive/Matteo/EPFL/LIS/PhD/Bidirectional_wearable_interface/DATA/Haptics/Haptics_Z/sub3_Controller/',\n",
       " '/Volumes/GoogleDrive/My Drive/Matteo/EPFL/LIS/PhD/Bidirectional_wearable_interface/DATA/Haptics/Haptics_Z/sub3_MotionCapture/',\n",
       " '/Volumes/GoogleDrive/My Drive/Matteo/EPFL/LIS/PhD/Bidirectional_wearable_interface/DATA/Haptics/Haptics_Z/sub4_Controller/',\n",
       " '/Volumes/GoogleDrive/My Drive/Matteo/EPFL/LIS/PhD/Bidirectional_wearable_interface/DATA/Haptics/Haptics_Z/sub4_MotionCapture/',\n",
       " '/Volumes/GoogleDrive/My Drive/Matteo/EPFL/LIS/PhD/Bidirectional_wearable_interface/DATA/Haptics/Haptics_Z/sub5_Controller/',\n",
       " '/Volumes/GoogleDrive/My Drive/Matteo/EPFL/LIS/PhD/Bidirectional_wearable_interface/DATA/Haptics/Haptics_Z/sub5_MotionCapture/',\n",
       " '/Volumes/GoogleDrive/My Drive/Matteo/EPFL/LIS/PhD/Bidirectional_wearable_interface/DATA/Haptics/Haptics_Z/sub6_Controller/',\n",
       " '/Volumes/GoogleDrive/My Drive/Matteo/EPFL/LIS/PhD/Bidirectional_wearable_interface/DATA/Haptics/Haptics_Z/sub6_MotionCapture/',\n",
       " '/Volumes/GoogleDrive/My Drive/Matteo/EPFL/LIS/PhD/Bidirectional_wearable_interface/DATA/Haptics/Haptics_Z/sub7_Controller/',\n",
       " '/Volumes/GoogleDrive/My Drive/Matteo/EPFL/LIS/PhD/Bidirectional_wearable_interface/DATA/Haptics/Haptics_Z/sub7_MotionCapture/',\n",
       " '/Volumes/GoogleDrive/My Drive/Matteo/EPFL/LIS/PhD/Bidirectional_wearable_interface/DATA/Haptics/Haptics_Z/sub8_Controller/',\n",
       " '/Volumes/GoogleDrive/My Drive/Matteo/EPFL/LIS/PhD/Bidirectional_wearable_interface/DATA/Haptics/Haptics_Z/sub8_MotionCapture/',\n",
       " '/Volumes/GoogleDrive/My Drive/Matteo/EPFL/LIS/PhD/Bidirectional_wearable_interface/DATA/Haptics/Haptics_Z/sub9_Controller/',\n",
       " '/Volumes/GoogleDrive/My Drive/Matteo/EPFL/LIS/PhD/Bidirectional_wearable_interface/DATA/Haptics/Haptics_Z/sub9_MotionCapture/']"
      ]
     },
     "execution_count": 6,
     "metadata": {},
     "output_type": "execute_result"
    }
   ],
   "source": [
    "path_to_folder = \"/Volumes/GoogleDrive/My Drive/Matteo/EPFL/LIS/PhD/Bidirectional_wearable_interface/DATA/Haptics/Haptics_Z/\"\n",
    "subjects = glob.glob(path_to_folder + \"*/\")\n",
    "\n",
    "logs = {}\n",
    "for curr in subjects:\n",
    "    logs[curr] = []\n",
    "    \n",
    "subjects.sort()"
   ]
  },
  {
   "cell_type": "markdown",
   "metadata": {},
   "source": [
    "## Remove outliers"
   ]
  },
  {
   "cell_type": "code",
   "execution_count": 7,
   "metadata": {
    "collapsed": true,
    "jupyter": {
     "outputs_hidden": true,
     "source_hidden": true
    }
   },
   "outputs": [],
   "source": [
    "# # used to remove outliers\n",
    "\n",
    "# subjects.remove(subjects[5])\n",
    "# subjects.remove(subjects[4])\n",
    "\n",
    "# logs = {}\n",
    "# for curr in subjects:\n",
    "#     logs[curr] = []\n",
    "    \n",
    "# subjects"
   ]
  },
  {
   "cell_type": "markdown",
   "metadata": {},
   "source": [
    "# Import data"
   ]
  },
  {
   "cell_type": "code",
   "execution_count": 8,
   "metadata": {
    "collapsed": true,
    "jupyter": {
     "outputs_hidden": true,
     "source_hidden": true
    }
   },
   "outputs": [
    {
     "name": "stdout",
     "output_type": "stream",
     "text": [
      "/Volumes/GoogleDrive/My Drive/Matteo/EPFL/LIS/PhD/Bidirectional_wearable_interface/DATA/Haptics/Haptics_Z/sub10_Controller/\n",
      "/Volumes/GoogleDrive/My Drive/Matteo/EPFL/LIS/PhD/Bidirectional_wearable_interface/DATA/Haptics/Haptics_Z/sub10_Controller/Haptics_GoThroughZ_2019_08_28_15_12_32.json\n",
      "/Volumes/GoogleDrive/My Drive/Matteo/EPFL/LIS/PhD/Bidirectional_wearable_interface/DATA/Haptics/Haptics_Z/sub10_Controller/Haptics_GoThroughZ_2019_08_28_15_12_47.json\n",
      "/Volumes/GoogleDrive/My Drive/Matteo/EPFL/LIS/PhD/Bidirectional_wearable_interface/DATA/Haptics/Haptics_Z/sub10_Controller/Haptics_GoThroughZ_2019_08_28_15_13_17.json\n",
      "/Volumes/GoogleDrive/My Drive/Matteo/EPFL/LIS/PhD/Bidirectional_wearable_interface/DATA/Haptics/Haptics_Z/sub10_Controller/Haptics_GoThroughZ_2019_08_28_15_13_29.json\n",
      "/Volumes/GoogleDrive/My Drive/Matteo/EPFL/LIS/PhD/Bidirectional_wearable_interface/DATA/Haptics/Haptics_Z/sub10_Controller/Haptics_GoThroughZ_2019_08_28_15_13_53.json\n",
      "/Volumes/GoogleDrive/My Drive/Matteo/EPFL/LIS/PhD/Bidirectional_wearable_interface/DATA/Haptics/Haptics_Z/sub10_MotionCapture/\n",
      "/Volumes/GoogleDrive/My Drive/Matteo/EPFL/LIS/PhD/Bidirectional_wearable_interface/DATA/Haptics/Haptics_Z/sub10_MotionCapture/Haptics_GoThroughZ_2019_08_28_15_36_52.json\n",
      "/Volumes/GoogleDrive/My Drive/Matteo/EPFL/LIS/PhD/Bidirectional_wearable_interface/DATA/Haptics/Haptics_Z/sub10_MotionCapture/Haptics_GoThroughZ_2019_08_28_15_37_26.json\n",
      "/Volumes/GoogleDrive/My Drive/Matteo/EPFL/LIS/PhD/Bidirectional_wearable_interface/DATA/Haptics/Haptics_Z/sub10_MotionCapture/Haptics_GoThroughZ_2019_08_28_15_37_50.json\n",
      "/Volumes/GoogleDrive/My Drive/Matteo/EPFL/LIS/PhD/Bidirectional_wearable_interface/DATA/Haptics/Haptics_Z/sub10_MotionCapture/Haptics_GoThroughZ_2019_08_28_15_38_04.json\n",
      "/Volumes/GoogleDrive/My Drive/Matteo/EPFL/LIS/PhD/Bidirectional_wearable_interface/DATA/Haptics/Haptics_Z/sub10_MotionCapture/Haptics_GoThroughZ_2019_08_28_15_38_31.json\n",
      "/Volumes/GoogleDrive/My Drive/Matteo/EPFL/LIS/PhD/Bidirectional_wearable_interface/DATA/Haptics/Haptics_Z/sub2_Controller/\n",
      "/Volumes/GoogleDrive/My Drive/Matteo/EPFL/LIS/PhD/Bidirectional_wearable_interface/DATA/Haptics/Haptics_Z/sub2_Controller/Haptics_GoThroughZ_2019_08_13_10_03_29.json\n",
      "/Volumes/GoogleDrive/My Drive/Matteo/EPFL/LIS/PhD/Bidirectional_wearable_interface/DATA/Haptics/Haptics_Z/sub2_Controller/Haptics_GoThroughZ_2019_08_13_10_03_59.json\n",
      "/Volumes/GoogleDrive/My Drive/Matteo/EPFL/LIS/PhD/Bidirectional_wearable_interface/DATA/Haptics/Haptics_Z/sub2_Controller/Haptics_GoThroughZ_2019_08_13_10_04_35.json\n",
      "/Volumes/GoogleDrive/My Drive/Matteo/EPFL/LIS/PhD/Bidirectional_wearable_interface/DATA/Haptics/Haptics_Z/sub2_Controller/Haptics_GoThroughZ_2019_08_13_10_05_02.json\n",
      "/Volumes/GoogleDrive/My Drive/Matteo/EPFL/LIS/PhD/Bidirectional_wearable_interface/DATA/Haptics/Haptics_Z/sub2_Controller/Haptics_GoThroughZ_2019_08_13_10_05_40.json\n",
      "/Volumes/GoogleDrive/My Drive/Matteo/EPFL/LIS/PhD/Bidirectional_wearable_interface/DATA/Haptics/Haptics_Z/sub2_MotionCapture/\n",
      "/Volumes/GoogleDrive/My Drive/Matteo/EPFL/LIS/PhD/Bidirectional_wearable_interface/DATA/Haptics/Haptics_Z/sub2_MotionCapture/Haptics_GoThroughZ_2019_08_13_09_47_05.json\n",
      "/Volumes/GoogleDrive/My Drive/Matteo/EPFL/LIS/PhD/Bidirectional_wearable_interface/DATA/Haptics/Haptics_Z/sub2_MotionCapture/Haptics_GoThroughZ_2019_08_13_09_47_41.json\n",
      "/Volumes/GoogleDrive/My Drive/Matteo/EPFL/LIS/PhD/Bidirectional_wearable_interface/DATA/Haptics/Haptics_Z/sub2_MotionCapture/Haptics_GoThroughZ_2019_08_13_09_48_48.json\n",
      "/Volumes/GoogleDrive/My Drive/Matteo/EPFL/LIS/PhD/Bidirectional_wearable_interface/DATA/Haptics/Haptics_Z/sub2_MotionCapture/Haptics_GoThroughZ_2019_08_13_09_49_25.json\n",
      "/Volumes/GoogleDrive/My Drive/Matteo/EPFL/LIS/PhD/Bidirectional_wearable_interface/DATA/Haptics/Haptics_Z/sub2_MotionCapture/Haptics_GoThroughZ_2019_08_13_09_49_54.json\n",
      "/Volumes/GoogleDrive/My Drive/Matteo/EPFL/LIS/PhD/Bidirectional_wearable_interface/DATA/Haptics/Haptics_Z/sub3_Controller/\n",
      "/Volumes/GoogleDrive/My Drive/Matteo/EPFL/LIS/PhD/Bidirectional_wearable_interface/DATA/Haptics/Haptics_Z/sub3_Controller/Haptics_GoThroughZ_2019_08_13_10_17_21.json\n",
      "/Volumes/GoogleDrive/My Drive/Matteo/EPFL/LIS/PhD/Bidirectional_wearable_interface/DATA/Haptics/Haptics_Z/sub3_Controller/Haptics_GoThroughZ_2019_08_13_10_17_43.json\n",
      "/Volumes/GoogleDrive/My Drive/Matteo/EPFL/LIS/PhD/Bidirectional_wearable_interface/DATA/Haptics/Haptics_Z/sub3_Controller/Haptics_GoThroughZ_2019_08_13_10_18_24.json\n",
      "/Volumes/GoogleDrive/My Drive/Matteo/EPFL/LIS/PhD/Bidirectional_wearable_interface/DATA/Haptics/Haptics_Z/sub3_Controller/Haptics_GoThroughZ_2019_08_13_10_18_58.json\n",
      "/Volumes/GoogleDrive/My Drive/Matteo/EPFL/LIS/PhD/Bidirectional_wearable_interface/DATA/Haptics/Haptics_Z/sub3_Controller/Haptics_GoThroughZ_2019_08_13_10_19_55.json\n",
      "/Volumes/GoogleDrive/My Drive/Matteo/EPFL/LIS/PhD/Bidirectional_wearable_interface/DATA/Haptics/Haptics_Z/sub3_MotionCapture/\n",
      "/Volumes/GoogleDrive/My Drive/Matteo/EPFL/LIS/PhD/Bidirectional_wearable_interface/DATA/Haptics/Haptics_Z/sub3_MotionCapture/Haptics_GoThroughZ_2019_08_13_10_36_11.json\n",
      "/Volumes/GoogleDrive/My Drive/Matteo/EPFL/LIS/PhD/Bidirectional_wearable_interface/DATA/Haptics/Haptics_Z/sub3_MotionCapture/Haptics_GoThroughZ_2019_08_13_10_36_46.json\n",
      "/Volumes/GoogleDrive/My Drive/Matteo/EPFL/LIS/PhD/Bidirectional_wearable_interface/DATA/Haptics/Haptics_Z/sub3_MotionCapture/Haptics_GoThroughZ_2019_08_13_10_37_23.json\n",
      "/Volumes/GoogleDrive/My Drive/Matteo/EPFL/LIS/PhD/Bidirectional_wearable_interface/DATA/Haptics/Haptics_Z/sub3_MotionCapture/Haptics_GoThroughZ_2019_08_13_10_37_48.json\n",
      "/Volumes/GoogleDrive/My Drive/Matteo/EPFL/LIS/PhD/Bidirectional_wearable_interface/DATA/Haptics/Haptics_Z/sub3_MotionCapture/Haptics_GoThroughZ_2019_08_13_10_38_24.json\n",
      "/Volumes/GoogleDrive/My Drive/Matteo/EPFL/LIS/PhD/Bidirectional_wearable_interface/DATA/Haptics/Haptics_Z/sub4_Controller/\n",
      "/Volumes/GoogleDrive/My Drive/Matteo/EPFL/LIS/PhD/Bidirectional_wearable_interface/DATA/Haptics/Haptics_Z/sub4_Controller/Haptics_GoThroughZ_2019_08_13_11_46_11.json\n",
      "/Volumes/GoogleDrive/My Drive/Matteo/EPFL/LIS/PhD/Bidirectional_wearable_interface/DATA/Haptics/Haptics_Z/sub4_Controller/Haptics_GoThroughZ_2019_08_13_11_46_39.json\n",
      "/Volumes/GoogleDrive/My Drive/Matteo/EPFL/LIS/PhD/Bidirectional_wearable_interface/DATA/Haptics/Haptics_Z/sub4_Controller/Haptics_GoThroughZ_2019_08_13_11_46_57.json\n",
      "/Volumes/GoogleDrive/My Drive/Matteo/EPFL/LIS/PhD/Bidirectional_wearable_interface/DATA/Haptics/Haptics_Z/sub4_Controller/Haptics_GoThroughZ_2019_08_13_11_48_42.json\n",
      "/Volumes/GoogleDrive/My Drive/Matteo/EPFL/LIS/PhD/Bidirectional_wearable_interface/DATA/Haptics/Haptics_Z/sub4_Controller/Haptics_GoThroughZ_2019_08_13_11_49_11.json\n",
      "/Volumes/GoogleDrive/My Drive/Matteo/EPFL/LIS/PhD/Bidirectional_wearable_interface/DATA/Haptics/Haptics_Z/sub4_MotionCapture/\n",
      "/Volumes/GoogleDrive/My Drive/Matteo/EPFL/LIS/PhD/Bidirectional_wearable_interface/DATA/Haptics/Haptics_Z/sub4_MotionCapture/Haptics_GoThroughZ_2019_08_13_11_31_55.json\n",
      "/Volumes/GoogleDrive/My Drive/Matteo/EPFL/LIS/PhD/Bidirectional_wearable_interface/DATA/Haptics/Haptics_Z/sub4_MotionCapture/Haptics_GoThroughZ_2019_08_13_11_32_14.json\n",
      "/Volumes/GoogleDrive/My Drive/Matteo/EPFL/LIS/PhD/Bidirectional_wearable_interface/DATA/Haptics/Haptics_Z/sub4_MotionCapture/Haptics_GoThroughZ_2019_08_13_11_32_32.json\n",
      "/Volumes/GoogleDrive/My Drive/Matteo/EPFL/LIS/PhD/Bidirectional_wearable_interface/DATA/Haptics/Haptics_Z/sub4_MotionCapture/Haptics_GoThroughZ_2019_08_13_11_32_44.json\n",
      "/Volumes/GoogleDrive/My Drive/Matteo/EPFL/LIS/PhD/Bidirectional_wearable_interface/DATA/Haptics/Haptics_Z/sub4_MotionCapture/Haptics_GoThroughZ_2019_08_13_11_32_59.json\n",
      "/Volumes/GoogleDrive/My Drive/Matteo/EPFL/LIS/PhD/Bidirectional_wearable_interface/DATA/Haptics/Haptics_Z/sub5_Controller/\n",
      "/Volumes/GoogleDrive/My Drive/Matteo/EPFL/LIS/PhD/Bidirectional_wearable_interface/DATA/Haptics/Haptics_Z/sub5_Controller/Haptics_GoThroughZ_2019_08_13_14_41_41.json\n",
      "/Volumes/GoogleDrive/My Drive/Matteo/EPFL/LIS/PhD/Bidirectional_wearable_interface/DATA/Haptics/Haptics_Z/sub5_Controller/Haptics_GoThroughZ_2019_08_13_14_42_03.json\n",
      "/Volumes/GoogleDrive/My Drive/Matteo/EPFL/LIS/PhD/Bidirectional_wearable_interface/DATA/Haptics/Haptics_Z/sub5_Controller/Haptics_GoThroughZ_2019_08_13_14_42_16.json\n",
      "/Volumes/GoogleDrive/My Drive/Matteo/EPFL/LIS/PhD/Bidirectional_wearable_interface/DATA/Haptics/Haptics_Z/sub5_Controller/Haptics_GoThroughZ_2019_08_13_14_42_33.json\n",
      "/Volumes/GoogleDrive/My Drive/Matteo/EPFL/LIS/PhD/Bidirectional_wearable_interface/DATA/Haptics/Haptics_Z/sub5_Controller/Haptics_GoThroughZ_2019_08_13_14_42_46.json\n",
      "/Volumes/GoogleDrive/My Drive/Matteo/EPFL/LIS/PhD/Bidirectional_wearable_interface/DATA/Haptics/Haptics_Z/sub5_MotionCapture/\n",
      "/Volumes/GoogleDrive/My Drive/Matteo/EPFL/LIS/PhD/Bidirectional_wearable_interface/DATA/Haptics/Haptics_Z/sub5_MotionCapture/Haptics_GoThroughZ_2019_08_13_14_28_52.json\n",
      "/Volumes/GoogleDrive/My Drive/Matteo/EPFL/LIS/PhD/Bidirectional_wearable_interface/DATA/Haptics/Haptics_Z/sub5_MotionCapture/Haptics_GoThroughZ_2019_08_13_14_29_11.json\n",
      "/Volumes/GoogleDrive/My Drive/Matteo/EPFL/LIS/PhD/Bidirectional_wearable_interface/DATA/Haptics/Haptics_Z/sub5_MotionCapture/Haptics_GoThroughZ_2019_08_13_14_29_34.json\n",
      "/Volumes/GoogleDrive/My Drive/Matteo/EPFL/LIS/PhD/Bidirectional_wearable_interface/DATA/Haptics/Haptics_Z/sub5_MotionCapture/Haptics_GoThroughZ_2019_08_13_14_29_55.json\n",
      "/Volumes/GoogleDrive/My Drive/Matteo/EPFL/LIS/PhD/Bidirectional_wearable_interface/DATA/Haptics/Haptics_Z/sub5_MotionCapture/Haptics_GoThroughZ_2019_08_13_14_30_21.json\n",
      "/Volumes/GoogleDrive/My Drive/Matteo/EPFL/LIS/PhD/Bidirectional_wearable_interface/DATA/Haptics/Haptics_Z/sub6_Controller/\n",
      "/Volumes/GoogleDrive/My Drive/Matteo/EPFL/LIS/PhD/Bidirectional_wearable_interface/DATA/Haptics/Haptics_Z/sub6_Controller/Haptics_GoThroughZ_2019_08_13_15_14_38.json\n",
      "/Volumes/GoogleDrive/My Drive/Matteo/EPFL/LIS/PhD/Bidirectional_wearable_interface/DATA/Haptics/Haptics_Z/sub6_Controller/Haptics_GoThroughZ_2019_08_13_15_14_59.json\n",
      "/Volumes/GoogleDrive/My Drive/Matteo/EPFL/LIS/PhD/Bidirectional_wearable_interface/DATA/Haptics/Haptics_Z/sub6_Controller/Haptics_GoThroughZ_2019_08_13_15_15_35.json\n",
      "/Volumes/GoogleDrive/My Drive/Matteo/EPFL/LIS/PhD/Bidirectional_wearable_interface/DATA/Haptics/Haptics_Z/sub6_Controller/Haptics_GoThroughZ_2019_08_13_15_16_03.json\n",
      "/Volumes/GoogleDrive/My Drive/Matteo/EPFL/LIS/PhD/Bidirectional_wearable_interface/DATA/Haptics/Haptics_Z/sub6_Controller/Haptics_GoThroughZ_2019_08_13_15_16_32.json\n",
      "/Volumes/GoogleDrive/My Drive/Matteo/EPFL/LIS/PhD/Bidirectional_wearable_interface/DATA/Haptics/Haptics_Z/sub6_MotionCapture/\n",
      "/Volumes/GoogleDrive/My Drive/Matteo/EPFL/LIS/PhD/Bidirectional_wearable_interface/DATA/Haptics/Haptics_Z/sub6_MotionCapture/Haptics_GoThroughZ_2019_08_13_15_37_48.json\n",
      "/Volumes/GoogleDrive/My Drive/Matteo/EPFL/LIS/PhD/Bidirectional_wearable_interface/DATA/Haptics/Haptics_Z/sub6_MotionCapture/Haptics_GoThroughZ_2019_08_13_15_38_13.json\n",
      "/Volumes/GoogleDrive/My Drive/Matteo/EPFL/LIS/PhD/Bidirectional_wearable_interface/DATA/Haptics/Haptics_Z/sub6_MotionCapture/Haptics_GoThroughZ_2019_08_13_15_38_39.json\n",
      "/Volumes/GoogleDrive/My Drive/Matteo/EPFL/LIS/PhD/Bidirectional_wearable_interface/DATA/Haptics/Haptics_Z/sub6_MotionCapture/Haptics_GoThroughZ_2019_08_13_15_39_07.json\n",
      "/Volumes/GoogleDrive/My Drive/Matteo/EPFL/LIS/PhD/Bidirectional_wearable_interface/DATA/Haptics/Haptics_Z/sub6_MotionCapture/Haptics_GoThroughZ_2019_08_13_15_39_34.json\n",
      "/Volumes/GoogleDrive/My Drive/Matteo/EPFL/LIS/PhD/Bidirectional_wearable_interface/DATA/Haptics/Haptics_Z/sub7_Controller/\n",
      "/Volumes/GoogleDrive/My Drive/Matteo/EPFL/LIS/PhD/Bidirectional_wearable_interface/DATA/Haptics/Haptics_Z/sub7_Controller/Haptics_GoThroughZ_2019_08_13_16_50_24.json\n",
      "/Volumes/GoogleDrive/My Drive/Matteo/EPFL/LIS/PhD/Bidirectional_wearable_interface/DATA/Haptics/Haptics_Z/sub7_Controller/Haptics_GoThroughZ_2019_08_13_16_50_51.json\n",
      "/Volumes/GoogleDrive/My Drive/Matteo/EPFL/LIS/PhD/Bidirectional_wearable_interface/DATA/Haptics/Haptics_Z/sub7_Controller/Haptics_GoThroughZ_2019_08_13_16_51_47.json\n",
      "/Volumes/GoogleDrive/My Drive/Matteo/EPFL/LIS/PhD/Bidirectional_wearable_interface/DATA/Haptics/Haptics_Z/sub7_Controller/Haptics_GoThroughZ_2019_08_13_16_52_09.json\n",
      "/Volumes/GoogleDrive/My Drive/Matteo/EPFL/LIS/PhD/Bidirectional_wearable_interface/DATA/Haptics/Haptics_Z/sub7_Controller/Haptics_GoThroughZ_2019_08_13_16_52_30.json\n",
      "/Volumes/GoogleDrive/My Drive/Matteo/EPFL/LIS/PhD/Bidirectional_wearable_interface/DATA/Haptics/Haptics_Z/sub7_MotionCapture/\n",
      "/Volumes/GoogleDrive/My Drive/Matteo/EPFL/LIS/PhD/Bidirectional_wearable_interface/DATA/Haptics/Haptics_Z/sub7_MotionCapture/Haptics_GoThroughZ_2019_08_13_17_06_23.json\n",
      "/Volumes/GoogleDrive/My Drive/Matteo/EPFL/LIS/PhD/Bidirectional_wearable_interface/DATA/Haptics/Haptics_Z/sub7_MotionCapture/Haptics_GoThroughZ_2019_08_13_17_06_46.json\n",
      "/Volumes/GoogleDrive/My Drive/Matteo/EPFL/LIS/PhD/Bidirectional_wearable_interface/DATA/Haptics/Haptics_Z/sub7_MotionCapture/Haptics_GoThroughZ_2019_08_13_17_07_04.json\n",
      "/Volumes/GoogleDrive/My Drive/Matteo/EPFL/LIS/PhD/Bidirectional_wearable_interface/DATA/Haptics/Haptics_Z/sub7_MotionCapture/Haptics_GoThroughZ_2019_08_13_17_07_26.json\n",
      "/Volumes/GoogleDrive/My Drive/Matteo/EPFL/LIS/PhD/Bidirectional_wearable_interface/DATA/Haptics/Haptics_Z/sub7_MotionCapture/Haptics_GoThroughZ_2019_08_13_17_07_54.json\n",
      "/Volumes/GoogleDrive/My Drive/Matteo/EPFL/LIS/PhD/Bidirectional_wearable_interface/DATA/Haptics/Haptics_Z/sub8_Controller/\n",
      "/Volumes/GoogleDrive/My Drive/Matteo/EPFL/LIS/PhD/Bidirectional_wearable_interface/DATA/Haptics/Haptics_Z/sub8_Controller/Haptics_GoThroughZ_2019_08_13_18_28_53.json\n",
      "/Volumes/GoogleDrive/My Drive/Matteo/EPFL/LIS/PhD/Bidirectional_wearable_interface/DATA/Haptics/Haptics_Z/sub8_Controller/Haptics_GoThroughZ_2019_08_13_18_29_04.json\n",
      "/Volumes/GoogleDrive/My Drive/Matteo/EPFL/LIS/PhD/Bidirectional_wearable_interface/DATA/Haptics/Haptics_Z/sub8_Controller/Haptics_GoThroughZ_2019_08_13_18_29_16.json\n",
      "/Volumes/GoogleDrive/My Drive/Matteo/EPFL/LIS/PhD/Bidirectional_wearable_interface/DATA/Haptics/Haptics_Z/sub8_Controller/Haptics_GoThroughZ_2019_08_13_18_29_27.json\n",
      "/Volumes/GoogleDrive/My Drive/Matteo/EPFL/LIS/PhD/Bidirectional_wearable_interface/DATA/Haptics/Haptics_Z/sub8_Controller/Haptics_GoThroughZ_2019_08_13_18_29_44.json\n",
      "/Volumes/GoogleDrive/My Drive/Matteo/EPFL/LIS/PhD/Bidirectional_wearable_interface/DATA/Haptics/Haptics_Z/sub8_MotionCapture/\n",
      "/Volumes/GoogleDrive/My Drive/Matteo/EPFL/LIS/PhD/Bidirectional_wearable_interface/DATA/Haptics/Haptics_Z/sub8_MotionCapture/Haptics_GoThroughZ_2019_08_13_18_18_51.json\n",
      "/Volumes/GoogleDrive/My Drive/Matteo/EPFL/LIS/PhD/Bidirectional_wearable_interface/DATA/Haptics/Haptics_Z/sub8_MotionCapture/Haptics_GoThroughZ_2019_08_13_18_19_03.json\n",
      "/Volumes/GoogleDrive/My Drive/Matteo/EPFL/LIS/PhD/Bidirectional_wearable_interface/DATA/Haptics/Haptics_Z/sub8_MotionCapture/Haptics_GoThroughZ_2019_08_13_18_19_17.json\n",
      "/Volumes/GoogleDrive/My Drive/Matteo/EPFL/LIS/PhD/Bidirectional_wearable_interface/DATA/Haptics/Haptics_Z/sub8_MotionCapture/Haptics_GoThroughZ_2019_08_13_18_19_33.json\n",
      "/Volumes/GoogleDrive/My Drive/Matteo/EPFL/LIS/PhD/Bidirectional_wearable_interface/DATA/Haptics/Haptics_Z/sub8_MotionCapture/Haptics_GoThroughZ_2019_08_13_18_19_48.json\n",
      "/Volumes/GoogleDrive/My Drive/Matteo/EPFL/LIS/PhD/Bidirectional_wearable_interface/DATA/Haptics/Haptics_Z/sub9_Controller/\n",
      "/Volumes/GoogleDrive/My Drive/Matteo/EPFL/LIS/PhD/Bidirectional_wearable_interface/DATA/Haptics/Haptics_Z/sub9_Controller/Haptics_GoThroughZ_2019_08_28_13_32_16.json\n",
      "/Volumes/GoogleDrive/My Drive/Matteo/EPFL/LIS/PhD/Bidirectional_wearable_interface/DATA/Haptics/Haptics_Z/sub9_Controller/Haptics_GoThroughZ_2019_08_28_13_32_26.json\n",
      "/Volumes/GoogleDrive/My Drive/Matteo/EPFL/LIS/PhD/Bidirectional_wearable_interface/DATA/Haptics/Haptics_Z/sub9_Controller/Haptics_GoThroughZ_2019_08_28_13_32_43.json\n",
      "/Volumes/GoogleDrive/My Drive/Matteo/EPFL/LIS/PhD/Bidirectional_wearable_interface/DATA/Haptics/Haptics_Z/sub9_Controller/Haptics_GoThroughZ_2019_08_28_13_32_54.json\n",
      "/Volumes/GoogleDrive/My Drive/Matteo/EPFL/LIS/PhD/Bidirectional_wearable_interface/DATA/Haptics/Haptics_Z/sub9_Controller/Haptics_GoThroughZ_2019_08_28_13_33_11.json\n",
      "/Volumes/GoogleDrive/My Drive/Matteo/EPFL/LIS/PhD/Bidirectional_wearable_interface/DATA/Haptics/Haptics_Z/sub9_MotionCapture/\n",
      "/Volumes/GoogleDrive/My Drive/Matteo/EPFL/LIS/PhD/Bidirectional_wearable_interface/DATA/Haptics/Haptics_Z/sub9_MotionCapture/Haptics_GoThroughZ_2019_08_28_13_15_51.json\n",
      "/Volumes/GoogleDrive/My Drive/Matteo/EPFL/LIS/PhD/Bidirectional_wearable_interface/DATA/Haptics/Haptics_Z/sub9_MotionCapture/Haptics_GoThroughZ_2019_08_28_13_16_17.json\n",
      "/Volumes/GoogleDrive/My Drive/Matteo/EPFL/LIS/PhD/Bidirectional_wearable_interface/DATA/Haptics/Haptics_Z/sub9_MotionCapture/Haptics_GoThroughZ_2019_08_28_13_16_33.json\n",
      "/Volumes/GoogleDrive/My Drive/Matteo/EPFL/LIS/PhD/Bidirectional_wearable_interface/DATA/Haptics/Haptics_Z/sub9_MotionCapture/Haptics_GoThroughZ_2019_08_28_13_16_51.json\n",
      "/Volumes/GoogleDrive/My Drive/Matteo/EPFL/LIS/PhD/Bidirectional_wearable_interface/DATA/Haptics/Haptics_Z/sub9_MotionCapture/Haptics_GoThroughZ_2019_08_28_13_17_09.json\n"
     ]
    }
   ],
   "source": [
    "EXP_N_THOMAS = 4\n",
    "EXP_N = 5\n",
    "\n",
    "for subject in subjects:\n",
    "#     print(subject)\n",
    "    files = glob.glob(subject+\"*.json\")\n",
    "    files.sort()\n",
    "    \n",
    "    if len(files) != EXP_N and len(files) != EXP_N_THOMAS:\n",
    "        print(subject)\n",
    "        print('wrong number of experiments!')\n",
    "        break\n",
    "    for file in files:\n",
    "        print('.')\n",
    "        logs[subject].append(dfFromJSON(file))"
   ]
  },
  {
   "cell_type": "code",
   "execution_count": 9,
   "metadata": {
    "collapsed": true,
    "jupyter": {
     "outputs_hidden": true,
     "source_hidden": true
    }
   },
   "outputs": [],
   "source": [
    "fields = ['first motion', 'last motion', 'first remote', 'last remote']\n",
    "interfaces = ['motion', 'remote']\n",
    "\n",
    "sub_remote = [x for x in subjects if 'Controller' in x]\n",
    "sub_motion = [x for x in subjects if 'Motion' in x]\n",
    "\n",
    "t = [logs[x] for x in sub_motion]\n",
    "logs['motion'] = []\n",
    "for i in t:\n",
    "    for j in i:\n",
    "        logs['motion'].append(j)\n",
    "\n",
    "t = [logs[x] for x in sub_remote]\n",
    "logs['remote'] = []\n",
    "for i in t:\n",
    "    for j in i:\n",
    "        logs['remote'].append(j)\n",
    "\n",
    "logs['first motion'] = [logs[x][0] for x in sub_motion]\n",
    "logs['last motion'] = [logs[x][-1] for x in sub_motion]\n",
    "logs['first remote'] = [logs[x][0] for x in sub_remote]\n",
    "logs['last remote'] = [logs[x][-1] for x in sub_remote]"
   ]
  },
  {
   "cell_type": "markdown",
   "metadata": {},
   "source": [
    "# Analysis scripts"
   ]
  },
  {
   "cell_type": "code",
   "execution_count": 72,
   "metadata": {
    "collapsed": true,
    "jupyter": {
     "outputs_hidden": true,
     "source_hidden": true
    },
    "scrolled": true
   },
   "outputs": [],
   "source": [
    "def t_test_kruskal(X, Y):\n",
    "    \n",
    "    # Kruskal-Wallis H-test\n",
    "    \n",
    "    # seed the random number generator\n",
    "    seed(1)\n",
    "    \n",
    "    # compare samples\n",
    "    stat, p = kruskal(X, Y)\n",
    "    \n",
    "    return [stat, p]\n",
    "\n",
    "def t_test_levene(X, Y):\n",
    "    \n",
    "    # Kruskal-Wallis H-test\n",
    "    \n",
    "    # seed the random number generator\n",
    "    seed(1)\n",
    "    \n",
    "    # compare samples\n",
    "    stat, p = levene(X, Y)\n",
    "    \n",
    "    return [stat, p]\n",
    "\n",
    "def str_from_p(p):\n",
    "    \n",
    "    if p<0.01:\n",
    "        add_str = ' !!!!!!!!!!'\n",
    "    elif p<0.05:\n",
    "        add_str = ' !!!!!!'\n",
    "    elif p<0.1:\n",
    "        add_str = ' !'\n",
    "    else:\n",
    "        add_str = ''\n",
    "        \n",
    "    return add_str\n",
    "\n",
    "def print_p(p):\n",
    "    \n",
    "    col = None\n",
    "    \n",
    "    if p<0.01:\n",
    "        col = 'green'\n",
    "    elif p<0.05:\n",
    "        col = 'yellow'\n",
    "    elif p<0.1:\n",
    "        col = 'red'\n",
    "        \n",
    "    if col is not None:\n",
    "        print(colored('p = '+ str(p) + str_from_p(p), col))\n",
    "    else:\n",
    "        print('p = '+ str(p) + str_from_p(p))\n",
    "\n",
    "def runBasicAnalysis(f):\n",
    "    \n",
    "    var = {}\n",
    "\n",
    "    var['means'] = []\n",
    "    var['stds'] = []\n",
    "\n",
    "    for i in fields:\n",
    "        var[i] = []\n",
    "        for j in logs[i]:\n",
    "            var[i].append(f(j))\n",
    "        print(i)\n",
    "        print(var[i])\n",
    "\n",
    "        var['means'].append(np.mean(var[i]))\n",
    "        var['stds'].append(np.std(var[i]))\n",
    "\n",
    "        print('mean = ', var['means'][-1])\n",
    "        print('std = ', var['stds'][-1])\n",
    "\n",
    "        print()\n",
    "        \n",
    "            \n",
    "    for idx,i in enumerate(fields):\n",
    "        for j in fields[idx+1:]:\n",
    "            if i != j:\n",
    "                \n",
    "                t, p = t_test_kruskal(var[i],var[j])\n",
    "                \n",
    "                print (i,j)\n",
    "                print_p(p)\n",
    "            \n",
    "    var['diff mot'] = 1-np.array(var['last motion'])/np.array(var['first motion'])\n",
    "    var['diff rem'] = 1-np.array(var['last remote'])/np.array(var['first remote'])\n",
    "\n",
    "    print()\n",
    "    print('motion ratio')\n",
    "    print(var['diff mot'])\n",
    "    print(np.mean(var['diff mot']))\n",
    "    print(np.std(var['diff mot']))\n",
    "    print()\n",
    "    print('remote ratio')\n",
    "    print(var['diff rem'])\n",
    "    print(np.mean(var['diff rem']))\n",
    "    print(np.std(var['diff rem']))\n",
    "\n",
    "    t, p = t_test_kruskal(var['diff mot'], var['diff rem'])\n",
    "\n",
    "    print()\n",
    "    print('p = ', p, str_from_p(p))\n",
    "            \n",
    "    var['diff first'] = 1-np.array(var['first motion'])/np.array(var['first remote'])\n",
    "    var['diff last'] = 1-np.array(var['last motion'])/np.array(var['last remote'])\n",
    "\n",
    "    print()\n",
    "    print('firts ratio')\n",
    "    print(var['diff first'])\n",
    "    print(np.mean(var['diff first']))\n",
    "    print(np.std(var['diff first']))\n",
    "    print()\n",
    "    print('last ratio')\n",
    "    print(var['diff last'])\n",
    "    print(np.mean(var['diff last']))\n",
    "    print(np.std(var['diff last']))\n",
    "\n",
    "    t, p = t_test_kruskal(var['diff first'], var['diff last'])\n",
    "\n",
    "    print()\n",
    "    print('p = ', p, str_from_p(p))\n",
    "            \n",
    "    return var\n",
    "\n",
    "def runHapticsXAnalysis(f):\n",
    "    \n",
    "    var = {}\n",
    "\n",
    "    var['means'] = []\n",
    "    var['stds'] = []\n",
    "\n",
    "    for i in interfaces:\n",
    "        var[i] = []\n",
    "        for j in logs[i]:\n",
    "            var[i].append(f(j))\n",
    "        print(i)\n",
    "        print(var[i])\n",
    "\n",
    "        var['means'].append(np.mean(var[i]))\n",
    "        var['stds'].append(np.std(var[i]))\n",
    "\n",
    "        print('mean = ', var['means'][-1])\n",
    "        print('std = ', var['stds'][-1])\n",
    "\n",
    "        print()\n",
    "        \n",
    "            \n",
    "    for idx,i in enumerate(interfaces):\n",
    "        for j in interfaces[idx+1:]:\n",
    "            if i != j:\n",
    "                \n",
    "                t, p = t_test_kruskal(var[i],var[j])\n",
    "                print_p(p)\n",
    "                \n",
    "    return var\n",
    "\n",
    "def runHapticsZAnalysis(f):\n",
    "    \n",
    "    varX = {}\n",
    "    varY = {}\n",
    "\n",
    "    varX['means'] = []\n",
    "    varX['stds'] = []\n",
    "    varY['means'] = []\n",
    "    varY['stds'] = []\n",
    "\n",
    "    for i in interfaces:\n",
    "        varX[i] = []\n",
    "        varY[i] = []\n",
    "        for j in logs[i]:\n",
    "            varX[i].append(f(j)[0])\n",
    "            varY[i].append(f(j)[1])\n",
    "        print(i)\n",
    "        print(varX[i])\n",
    "        print(varY[i])\n",
    "\n",
    "        varX['means'].append(np.mean(varX[i]))\n",
    "        varX['stds'].append(np.std(varX[i]))\n",
    "        varY['means'].append(np.mean(varY[i]))\n",
    "        varY['stds'].append(np.std(varY[i]))\n",
    "\n",
    "        print('mean = ', varX['means'][-1])\n",
    "        print('std = ', varX['stds'][-1])\n",
    "        print('mean = ', varY['means'][-1])\n",
    "        print('std = ', varY['stds'][-1])\n",
    "\n",
    "        print()\n",
    "        \n",
    "            \n",
    "    for idx,i in enumerate(interfaces):\n",
    "        for j in interfaces[idx+1:]:\n",
    "            if i != j:\n",
    "                \n",
    "                tX, pX = t_test_kruskal(varX[i],varX[j])\n",
    "                tY, pY = t_test_kruskal(varY[i],varY[j])\n",
    "                \n",
    "                print('')\n",
    "                print(i,j, ' X')\n",
    "                print_p(pX)\n",
    "                print('')\n",
    "                print(i,j, ' Y')\n",
    "                print_p(pY)\n",
    "                \n",
    "    return [varX, varY]\n",
    "\n",
    "def basic_plot(var):\n",
    "    \n",
    "    fig = plt.figure(figsize=(12, 4))\n",
    "    ax = fig.add_subplot(131)\n",
    "    ax.bar([0, 1, 2, 3],\n",
    "       var['means'],\n",
    "       yerr=var['stds'])\n",
    "\n",
    "    plt.xticks(range(4), fields, rotation = 10)\n",
    "\n",
    "    ax = fig.add_subplot(132)\n",
    "    ax.bar([0, 1],\n",
    "       [np.mean(var['diff mot']), np.mean(var['diff rem'])],\n",
    "       yerr=[np.std(var['diff mot']), np.std(var['diff rem'])])\n",
    "    \n",
    "    plt.xticks(range(2), ['motion', 'remote'], rotation = 10)\n",
    "\n",
    "    ax = fig.add_subplot(133)\n",
    "    ax.bar([0, 1],\n",
    "       [np.mean(var['diff first']), np.mean(var['diff last'])],\n",
    "       yerr=[np.std(var['diff first']), np.std(var['diff last'])])\n",
    "    \n",
    "    plt.xticks(range(2), ['first', 'last'], rotation = 10)"
   ]
  },
  {
   "cell_type": "code",
   "execution_count": 13,
   "metadata": {
    "collapsed": true,
    "jupyter": {
     "outputs_hidden": true,
     "source_hidden": true
    }
   },
   "outputs": [],
   "source": [
    "def moving_average(data_set, periods=3, fill_with_zeros = True):\n",
    "    \n",
    "    if data_set.size < periods:\n",
    "        return data_set\n",
    "    \n",
    "    if isinstance(data_set, pd.DataFrame):\n",
    "        print('a')\n",
    "        data_set.index = range(len(data_set))\n",
    "\n",
    "    weights = np.ones(periods) / periods\n",
    "    \n",
    "    ma = np.convolve(data_set, weights, mode='valid')\n",
    "\n",
    "    if fill_with_zeros:\n",
    "        fill_before = np.ones(int(np.ceil((len(data_set) - len(ma))/2))) * data_set[0]\n",
    "        fill_after = np.ones(int(np.floor((len(data_set) - len(ma))/2))) * data_set[-1]\n",
    "        ma = np.hstack([fill_before, ma, fill_after])\n",
    "    \n",
    "    return ma\n",
    "\n",
    "def filter_position(df, steps):\n",
    "    \n",
    "    l = moving_average(df['dronePosition.x'], periods=steps, fill_with_zeros = False)\n",
    "    df['dronePositionFiltered.x'] = np.append([l[0]]*(steps-1), l)\n",
    "    l = moving_average(df['dronePosition.y'], periods=steps, fill_with_zeros = False)\n",
    "    df['dronePositionFiltered.y'] = np.append([l[0]]*(steps-1), l)\n",
    "    l = moving_average(df['dronePosition.x'], periods=steps, fill_with_zeros = False)\n",
    "    df['dronePositionFiltered.x'] = np.append([l[0]]*(steps-1), l)\n",
    "    return df\n",
    "\n",
    "def running_average(signal, steps):\n",
    "    \n",
    "    l = moving_average(signal, periods=steps, fill_with_zeros = False)\n",
    "    out = np.append([l[0]]*(steps-1), l)\n",
    "    return out"
   ]
  },
  {
   "cell_type": "markdown",
   "metadata": {},
   "source": [
    "# Plot Trajectories"
   ]
  },
  {
   "cell_type": "code",
   "execution_count": 81,
   "metadata": {
    "collapsed": true,
    "jupyter": {
     "outputs_hidden": true,
     "source_hidden": true
    }
   },
   "outputs": [
    {
     "data": {
      "image/png": "[encoded data removed]",
      "text/plain": [
       "<Figure size 720x720 with 4 Axes>"
      ]
     },
     "metadata": {
      "needs_background": "light"
     },
     "output_type": "display_data"
    }
   ],
   "source": [
    "mpl.rcParams.update(params)\n",
    "\n",
    "plt.figure(figsize = [10,10])\n",
    "\n",
    "for idx,i in enumerate(fields):\n",
    "    ax = plt.subplot(2, 2, 1+idx, projection='3d')\n",
    "    for idx1,log in enumerate(logs[i]):\n",
    "        ax.plot(log['dronePosition.x'],log['dronePosition.z'],log['dronePosition.y'], label = str(idx1))\n",
    "#         print(len(log))\n",
    "    plt.legend()\n",
    "    plt.title(fields[idx])\n",
    "#     define_plot_pos(ax)"
   ]
  },
  {
   "cell_type": "markdown",
   "metadata": {},
   "source": [
    "# Time analysis"
   ]
  },
  {
   "cell_type": "code",
   "execution_count": 82,
   "metadata": {
    "collapsed": true,
    "jupyter": {
     "outputs_hidden": true,
     "source_hidden": true
    }
   },
   "outputs": [
    {
     "name": "stdout",
     "output_type": "stream",
     "text": [
      "first motion\n",
      "[21.800769805908203, 48.48721504211426, 42.701393127441406, 7.239009857177734, 28.73888111114502, 18.53849506378174, 28.513503074645996, 8.412460327148438, 20.788070678710938]\n",
      "mean =  25.02442200978597\n",
      "std =  13.130257121665654\n",
      "\n",
      "last motion\n",
      "[20.825546264648438, 23.739212036132812, 31.913726806640625, 11.189292907714844, 19.663116455078125, 19.25157928466797, 23.251205444335938, 12.13909912109375, 14.151191711425781]\n",
      "mean =  19.569330003526474\n",
      "std =  6.144606228397252\n",
      "\n",
      "first remote\n",
      "[19.75074577331543, 33.938032150268555, 21.687971115112305, 34.86320877075195, 20.2139310836792, 18.82541847229004, 13.762761116027832, 6.4022064208984375, 20.93840789794922]\n",
      "mean =  21.153631422254776\n",
      "std =  8.381371254729503\n",
      "\n",
      "last remote\n",
      "[18.051559448242188, 26.850936889648438, 48.163787841796875, 24.0020751953125, 8.026542663574219, 25.302108764648438, 16.689300537109375, 6.851325988769531, 11.501594543457031]\n",
      "mean =  20.604359096950954\n",
      "std =  11.945279641785593\n",
      "\n",
      "first motion last motion\n",
      "p = 0.5078006482752742\n",
      "first motion first remote\n",
      "p = 0.5078006482752742\n",
      "first motion last remote\n",
      "p = 0.3538369006847303\n",
      "last motion first remote\n",
      "p = 0.6911022238448452\n",
      "last motion last remote\n",
      "p = 0.9647839776414967\n",
      "first remote last remote\n",
      "p = 0.7572777496236265\n",
      "\n",
      "motion ratio\n",
      "[ 0.04473345  0.51040265  0.25263031 -0.54569383  0.3158009  -0.03846505\n",
      "  0.18455458 -0.44299036  0.31926383]\n",
      "0.06669294155946873\n",
      "0.3362413579217795\n",
      "\n",
      "remote ratio\n",
      "[ 0.0860315   0.20882458 -1.22076042  0.31153568  0.60292025 -0.34403965\n",
      " -0.21264188 -0.07015075  0.45069393]\n",
      "-0.020842972015460298\n",
      "0.5131112688038263\n",
      "\n",
      "p =  0.8252828980151854 \n",
      "\n",
      "firts ratio\n",
      "[-0.10379477 -0.42869848 -0.96889755  0.79235962 -0.42173638  0.01524128\n",
      " -1.07178653 -0.31399392  0.00717997]\n",
      "-0.2771251944306059\n",
      "0.5265643965587009\n",
      "\n",
      "last ratio\n",
      "[-0.1536702   0.11588887  0.33739167  0.53381977 -1.44976166  0.23913143\n",
      " -0.39318034 -0.77178828 -0.23036781]\n",
      "-0.19694850540263598\n",
      "0.5820512576890262\n",
      "\n",
      "p =  0.5078006482752742 \n"
     ]
    },
    {
     "data": {
      "image/png": "[encoded data removed]",
      "text/plain": [
       "<Figure size 864x288 with 3 Axes>"
      ]
     },
     "metadata": {
      "needs_background": "light"
     },
     "output_type": "display_data"
    }
   ],
   "source": [
    "def compTime(df):\n",
    "    return df['absoluteTime'].iloc[-1] - df['absoluteTime'].iloc[0]\n",
    "time = runBasicAnalysis(compTime)\n",
    "basic_plot(time)"
   ]
  },
  {
   "cell_type": "markdown",
   "metadata": {},
   "source": [
    "# Distance Analysis"
   ]
  },
  {
   "cell_type": "code",
   "execution_count": 83,
   "metadata": {
    "collapsed": true,
    "jupyter": {
     "outputs_hidden": true,
     "source_hidden": true
    }
   },
   "outputs": [
    {
     "name": "stdout",
     "output_type": "stream",
     "text": [
      "first motion\n",
      "[3.6998659219411243, 5.122467314561557, 4.446784747331457, 3.020189954827304, 4.622371933422231, 3.309436295529979, 3.6606120363415626, 2.2268208774053653, 2.456850649607131]\n",
      "mean =  3.6183777478853014\n",
      "std =  0.925191940692519\n",
      "\n",
      "last motion\n",
      "[4.50755307496842, 3.300304543087247, 3.9772888394489176, 2.89003466660615, 5.601878394538185, 3.9784550842370288, 3.140038484310666, 2.8336577746125595, 2.9695115368328446]\n",
      "mean =  3.6887469331824465\n",
      "std =  0.871530549744812\n",
      "\n",
      "first remote\n",
      "[5.484564224548208, 5.612117103426632, 4.938139175869224, 12.136169806556396, 5.036048252877962, 4.018796001992879, 4.025733830162613, 3.189911520614153, 8.825376672600822]\n",
      "mean =  5.918539620960988\n",
      "std =  2.661828592664293\n",
      "\n",
      "last remote\n",
      "[3.6571899549481675, 5.630967140159299, 7.400991243304349, 6.850404950704354, 3.5240413154895696, 4.640549703233899, 4.95642454522431, 3.2406909683770087, 3.6604100608320778]\n",
      "mean =  4.8401855424747815\n",
      "std =  1.4282614405056546\n",
      "\n",
      "first motion last motion\n",
      "p = 0.9647839776414967\n",
      "first motion first remote\n",
      "\u001b[33mp = 0.019283369986269606 !!!!!!\u001b[0m\n",
      "first motion last remote\n",
      "p = 0.12227667721471425\n",
      "last motion first remote\n",
      "\u001b[33mp = 0.011848940928347505 !!!!!!\u001b[0m\n",
      "last motion last remote\n",
      "\u001b[31mp = 0.0576307243947688 !\u001b[0m\n",
      "first remote last remote\n",
      "p = 0.45291248342491597\n",
      "\n",
      "motion ratio\n",
      "[-0.21830174  0.35571975  0.10558098  0.04309507 -0.21190559 -0.20215491\n",
      "  0.14220943 -0.27251267 -0.20866587]\n",
      "-0.05188172775875518\n",
      "0.20730278465145752\n",
      "\n",
      "remote ratio\n",
      "[ 0.33318495 -0.00335881 -0.49874092  0.43553814  0.30023679 -0.15471144\n",
      " -0.23118536 -0.01591876  0.58524036]\n",
      "0.08336499476743403\n",
      "0.33286568531883703\n",
      "\n",
      "p =  0.4015419876158456 \n",
      "\n",
      "firts ratio\n",
      "[0.32540385 0.08724868 0.09950194 0.75114142 0.08214304 0.1765105\n",
      " 0.09069695 0.30191767 0.72161521]\n",
      "0.29290880665021596\n",
      "0.2524251500870357\n",
      "\n",
      "last ratio\n",
      "[-0.23251817  0.41390094  0.46260052  0.57812207 -0.58961768  0.1426759\n",
      "  0.36647104  0.12560074  0.18874894]\n",
      "0.16177603372233085\n",
      "0.34829231838545655\n",
      "\n",
      "p =  0.9647839776414967 \n"
     ]
    },
    {
     "data": {
      "image/png": "[encoded data removed]",
      "text/plain": [
       "<Figure size 864x288 with 3 Axes>"
      ]
     },
     "metadata": {
      "needs_background": "light"
     },
     "output_type": "display_data"
    }
   ],
   "source": [
    "def compDist(df):\n",
    "    \n",
    "    steps = 10\n",
    "    \n",
    "    df['dronePositionFiltered.x'] = running_average(df['dronePosition.x'], steps)\n",
    "    df['dronePositionFiltered.y'] = running_average(df['dronePosition.y'], steps)\n",
    "    df['dronePositionFiltered.z'] = running_average(df['dronePosition.z'], steps)\n",
    "    \n",
    "    x = df['dronePositionFiltered.x'].values\n",
    "    y = df['dronePositionFiltered.y'].values\n",
    "    z = df['dronePositionFiltered.z'].values\n",
    "\n",
    "    dx = np.diff(x)\n",
    "    dy = np.diff(y)\n",
    "    dz = np.diff(z)\n",
    "\n",
    "    dd = np.sqrt(dx**2+dy**2+dz**2)\n",
    "    d = np.sum(dd)\n",
    "\n",
    "    return d\n",
    "\n",
    "dist = runBasicAnalysis(compDist)\n",
    "basic_plot(dist)"
   ]
  },
  {
   "cell_type": "markdown",
   "metadata": {},
   "source": [
    "# Velocity Analysis"
   ]
  },
  {
   "cell_type": "code",
   "execution_count": 84,
   "metadata": {
    "collapsed": true,
    "jupyter": {
     "outputs_hidden": true,
     "source_hidden": true
    }
   },
   "outputs": [
    {
     "name": "stdout",
     "output_type": "stream",
     "text": [
      "first motion\n",
      "[0.15974863089858143, 0.10012234622156214, 0.09971723595464946, 0.34414099369739237, 0.15261026709366868, 0.18404415814291733, 0.13014025408293242, 0.18360943082556047, 0.1193419879248198]\n",
      "mean =  0.16371947831578712\n",
      "std =  0.07050422873688297\n",
      "\n",
      "last motion\n",
      "[0.22520659698809686, 0.13049380485444914, 0.12090049870536618, 0.24165216437443518, 0.26487038020133813, 0.21293180645033366, 0.13303902620710278, 0.17409614558428338, 0.2088780275567141]\n",
      "mean =  0.1902298278802355\n",
      "std =  0.049674507358665035\n",
      "\n",
      "first remote\n",
      "[0.23712431403449621, 0.1686852014502533, 0.22807379572223765, 0.3369353886614653, 0.2369458730211949, 0.1751517128894564, 0.2721726602344862, 0.37643876637396967, 0.41309462032293826]\n",
      "mean =  0.2716247036344998\n",
      "std =  0.08128049494011366\n",
      "\n",
      "last remote\n",
      "[0.16634485047544512, 0.21581536806463947, 0.15057645082686189, 0.2828857814220495, 0.4701949709406362, 0.18075809700861745, 0.2995987074358844, 0.3213372718564781, 0.28824668729661795]\n",
      "mean =  0.2639731317030256\n",
      "std =  0.09408516694284051\n",
      "\n",
      "first motion last motion\n",
      "p = 0.14512035720693314\n",
      "first motion first remote\n",
      "\u001b[32mp = 0.009189742094875568 !!!!!!!!!!\u001b[0m\n",
      "first motion last remote\n",
      "\u001b[33mp = 0.03051020858044034 !!!!!!\u001b[0m\n",
      "last motion first remote\n",
      "\u001b[33mp = 0.03797720355552741 !!!!!!\u001b[0m\n",
      "last motion last remote\n",
      "\u001b[31mp = 0.07026567343786677 !\u001b[0m\n",
      "first remote last remote\n",
      "p = 0.7572777496236265\n",
      "\n",
      "motion ratio\n",
      "[-0.40975604 -0.30334346 -0.21243331  0.29781058 -0.7356     -0.15696042\n",
      " -0.02227422  0.05181262 -0.7502476 ]\n",
      "-0.2489990939415387\n",
      "0.32787657960854416\n",
      "\n",
      "remote ratio\n",
      "[ 0.29849096 -0.27939716  0.33979066  0.16041535 -0.98439823 -0.03200873\n",
      " -0.10076709  0.14637572  0.302226  ]\n",
      "-0.016585837711793547\n",
      "0.3942446270065727\n",
      "\n",
      "p =  0.10234498849921529 \n",
      "\n",
      "firts ratio\n",
      "[ 0.32630852  0.40645448  0.56278521 -0.02138572  0.35592773 -0.05076996\n",
      "  0.52184671  0.51224622  0.71110254]\n",
      "0.3693906355605201\n",
      "0.24277817678528218\n",
      "\n",
      "last ratio\n",
      "[-0.35385373  0.39534517  0.19708229  0.14576066  0.43667968 -0.17799319\n",
      "  0.55594259  0.45821366  0.27534977]\n",
      "0.21472521102197994\n",
      "0.287490242320501\n",
      "\n",
      "p =  0.23323022278218208 \n"
     ]
    },
    {
     "data": {
      "image/png": "[encoded data removed]",
      "text/plain": [
       "<Figure size 864x288 with 3 Axes>"
      ]
     },
     "metadata": {
      "needs_background": "light"
     },
     "output_type": "display_data"
    }
   ],
   "source": [
    "def compVel(df):\n",
    "    x = df['dronePositionFiltered.x'].values\n",
    "    y = df['dronePositionFiltered.y'].values\n",
    "    z = df['dronePositionFiltered.z'].values\n",
    "    t = df['absoluteTime'].values\n",
    "\n",
    "    dx = np.diff(x)\n",
    "    dy = np.diff(y)\n",
    "    dz = np.diff(z)\n",
    "    dt = np.diff(t)\n",
    "    \n",
    "    vx = np.append([0],dx/dt)\n",
    "    vy = np.append([0],dy/dt)\n",
    "    vz = np.append([0],dz/dt)\n",
    "    \n",
    "    df['droneVelocity.x'] = vx\n",
    "    df['droneVelocity.y'] = vy\n",
    "    df['droneVelocity.z'] = vz\n",
    "    \n",
    "    steps = 20    \n",
    "    \n",
    "    df['droneVelocityFiltered.x'] = running_average(df['droneVelocity.x'], steps)\n",
    "    df['droneVelocityFiltered.y'] = running_average(df['droneVelocity.y'], steps)\n",
    "    df['droneVelocityFiltered.z'] = running_average(df['droneVelocity.z'], steps)\n",
    "\n",
    "    dv = np.sqrt(df['droneVelocityFiltered.x'][100:]**2+df['droneVelocityFiltered.y'][100:]**2+df['droneVelocityFiltered.z'][100:]**2)\n",
    "    \n",
    "    v = np.mean(dv)\n",
    "    \n",
    "    return v\n",
    "\n",
    "vel = runBasicAnalysis(compVel)\n",
    "basic_plot(vel)"
   ]
  },
  {
   "cell_type": "markdown",
   "metadata": {},
   "source": [
    "# Acceleration Analysis"
   ]
  },
  {
   "cell_type": "code",
   "execution_count": 85,
   "metadata": {
    "collapsed": true,
    "jupyter": {
     "outputs_hidden": true,
     "source_hidden": true
    }
   },
   "outputs": [
    {
     "name": "stdout",
     "output_type": "stream",
     "text": [
      "first motion\n",
      "[0.27135989569593155, 0.15304382988093393, 0.13375379478407937, 0.31934280327777714, 0.24995374908930135, 0.2933036837143928, 0.2869608280256654, 0.3362861354808946, 0.2264020028828759]\n",
      "mean =  0.25226741364798355\n",
      "std =  0.06614424875885032\n",
      "\n",
      "last motion\n",
      "[0.3996120064789827, 0.14959110014779825, 0.1686126586537449, 0.20395891284183093, 0.44987165687843944, 0.37996590779930856, 0.30722330618172894, 0.33834778437401386, 0.3521812597496765]\n",
      "mean =  0.3054849547895027\n",
      "std =  0.10102960119027998\n",
      "\n",
      "first remote\n",
      "[0.3168511924372418, 0.21155770584375866, 0.25569155891007656, 0.42332688066391566, 0.33919096972982343, 0.2621157540318616, 0.33245928793147816, 0.6177520860867451, 0.5120624249354833]\n",
      "mean =  0.36344531784115386\n",
      "std =  0.12428131091312092\n",
      "\n",
      "last remote\n",
      "[0.17477562056894255, 0.2592936963310749, 0.16185523785128125, 0.3219964894876211, 0.6017352319099966, 0.17914278948492093, 0.3172166165701152, 0.46723054750757326, 0.37442569152823035]\n",
      "mean =  0.3175191023599729\n",
      "std =  0.1388828305796006\n",
      "\n",
      "first motion last motion\n",
      "p = 0.14512035720693314\n",
      "first motion first remote\n",
      "\u001b[31mp = 0.07026567343786677 !\u001b[0m\n",
      "first motion last remote\n",
      "p = 0.3098795496397732\n",
      "last motion first remote\n",
      "p = 0.5078006482752742\n",
      "last motion last remote\n",
      "p = 0.9647839776414967\n",
      "first remote last remote\n",
      "p = 0.4015419876158456\n",
      "\n",
      "motion ratio\n",
      "[-0.47262736  0.0225604  -0.26061963  0.36131671 -0.7998196  -0.29546927\n",
      " -0.07061061 -0.00613064 -0.55555717]\n",
      "-0.23077301819459972\n",
      "0.3306110449990116\n",
      "\n",
      "remote ratio\n",
      "[ 0.44839841 -0.22564052  0.3669903   0.23936678 -0.77403081  0.31655085\n",
      "  0.04584823  0.24366011  0.26878897]\n",
      "0.10332581305757196\n",
      "0.3622330526149888\n",
      "\n",
      "p =  0.03797720355552741  !!!!!!\n",
      "\n",
      "firts ratio\n",
      "[ 0.14357306  0.27658589  0.47689398  0.24563542  0.26308843 -0.11898533\n",
      "  0.13685423  0.4556293   0.5578625 ]\n",
      "0.2707930532321369\n",
      "0.19602393273569027\n",
      "\n",
      "last ratio\n",
      "[-1.28642877  0.42308239 -0.04174978  0.36658032  0.25237607 -1.12102261\n",
      "  0.03150311  0.27584404  0.05940947]\n",
      "-0.11560063954941313\n",
      "0.600994318267481\n",
      "\n",
      "p =  0.14512035720693314 \n"
     ]
    },
    {
     "data": {
      "image/png": "[encoded data removed]",
      "text/plain": [
       "<Figure size 864x288 with 3 Axes>"
      ]
     },
     "metadata": {
      "needs_background": "light"
     },
     "output_type": "display_data"
    }
   ],
   "source": [
    "def compAcc(df):\n",
    "    vx = df['droneVelocityFiltered.x'].values\n",
    "    vy = df['droneVelocityFiltered.y'].values\n",
    "    vz = df['droneVelocityFiltered.z'].values\n",
    "    t = df['absoluteTime'].values\n",
    "    \n",
    "    dvx = np.diff(vx)\n",
    "    dvy = np.diff(vy)\n",
    "    dvz = np.diff(vz)\n",
    "    dt = np.diff(t)\n",
    "    \n",
    "    ax = np.append([0],dvx/dt)\n",
    "    ay = np.append([0],dvy/dt)\n",
    "    az = np.append([0],dvz/dt)\n",
    "    \n",
    "    df['droneAcceleration.x'] = ax\n",
    "    df['droneAcceleration.y'] = ay\n",
    "    df['droneAcceleration.z'] = az\n",
    "    \n",
    "    steps = 30    \n",
    "    \n",
    "    df['droneAccelerationFiltered.x'] = running_average(df['droneAcceleration.x'], steps)\n",
    "    df['droneAccelerationFiltered.y'] = running_average(df['droneAcceleration.y'], steps)\n",
    "    df['droneAccelerationFiltered.z'] = running_average(df['droneAcceleration.z'], steps)\n",
    "\n",
    "    da = np.sqrt(df['droneAccelerationFiltered.x'][100:]**2+df['droneAccelerationFiltered.y'][100:]**2+df['droneAccelerationFiltered.z'][100:]**2)\n",
    "    \n",
    "    a = np.mean(da)\n",
    "\n",
    "    return a\n",
    "\n",
    "acc = runBasicAnalysis(compAcc)\n",
    "basic_plot(acc)"
   ]
  },
  {
   "cell_type": "markdown",
   "metadata": {},
   "source": [
    "# Jerk Analysis"
   ]
  },
  {
   "cell_type": "code",
   "execution_count": 86,
   "metadata": {
    "collapsed": true,
    "jupyter": {
     "outputs_hidden": true,
     "source_hidden": true
    }
   },
   "outputs": [
    {
     "name": "stdout",
     "output_type": "stream",
     "text": [
      "first motion\n",
      "[0.751712807035231, 0.3819883179686926, 0.3022204790235721, 0.46846824909865087, 0.6568483250051232, 0.8900480712232762, 0.9561568654444541, 1.0286379904984946, 0.7886710601021013]\n",
      "mean =  0.691639129488844\n",
      "std =  0.24369246734028996\n",
      "\n",
      "last motion\n",
      "[0.9651564011866695, 0.39890030229370327, 0.3944519151055516, 0.4363301901225379, 1.1489301977509867, 1.0955900335498847, 1.034064369583803, 0.9259757839435275, 1.250531253683727]\n",
      "mean =  0.8499922719133769\n",
      "std =  0.32406270440946294\n",
      "\n",
      "first remote\n",
      "[0.6282898041741976, 0.46722603069881324, 0.5885461846052017, 0.8619084985087617, 0.7689544440149907, 0.5365366753722961, 0.6692102033292678, 1.2980454078088572, 1.0696804053677553]\n",
      "mean =  0.7653775170977934\n",
      "std =  0.2552208863555662\n",
      "\n",
      "last remote\n",
      "[0.32824958659055287, 0.5489461851139479, 0.379994167731079, 0.7492139548325932, 1.4893083662844824, 0.32578870432435325, 0.6949398625625789, 0.784309468875626, 0.9236906709906331]\n",
      "mean =  0.6916045519228718\n",
      "std =  0.34727830941024046\n",
      "\n",
      "first motion last motion\n",
      "p = 0.14512035720693314\n",
      "first motion first remote\n",
      "p = 0.7572777496236265\n",
      "first motion last remote\n",
      "p = 0.6272069263720175\n",
      "last motion first remote\n",
      "p = 0.6911022238448452\n",
      "last motion last remote\n",
      "p = 0.14512035720693314\n",
      "first remote last remote\n",
      "p = 0.5659921481957904\n",
      "\n",
      "motion ratio\n",
      "[-0.28394301 -0.04427356 -0.30517931  0.06860243 -0.74915601 -0.23093355\n",
      " -0.08147984  0.09980402 -0.58561828]\n",
      "-0.2346863461202745\n",
      "0.27056298740576573\n",
      "\n",
      "remote ratio\n",
      "[ 0.47755067 -0.17490497  0.35435115  0.13075001 -0.93679662  0.39279322\n",
      " -0.0384478   0.39577655  0.13647977]\n",
      "0.08195022129601574\n",
      "0.4149273840471238\n",
      "\n",
      "p =  0.02434092004399161  !!!!!!\n",
      "\n",
      "firts ratio\n",
      "[-0.19644279  0.18243357  0.48649658  0.45647566  0.14579033 -0.65887648\n",
      " -0.42878405  0.20754853  0.26270402]\n",
      "0.05081615164329226\n",
      "0.37193171235844363\n",
      "\n",
      "last ratio\n",
      "[-1.94031262  0.27333441 -0.03804729  0.41761604  0.22854781 -2.36288527\n",
      " -0.48799116 -0.18062553 -0.35384203]\n",
      "-0.4938006251090352\n",
      "0.9340622158325337\n",
      "\n",
      "p =  0.3098795496397732 \n"
     ]
    },
    {
     "data": {
      "image/png": "[encoded data removed]",
      "text/plain": [
       "<Figure size 864x288 with 3 Axes>"
      ]
     },
     "metadata": {
      "needs_background": "light"
     },
     "output_type": "display_data"
    }
   ],
   "source": [
    "def compJerk(df):\n",
    "    ax = df['droneAccelerationFiltered.x'].values\n",
    "    ay = df['droneAccelerationFiltered.y'].values\n",
    "    az = df['droneAccelerationFiltered.z'].values\n",
    "    t = df['absoluteTime'].values\n",
    "    \n",
    "    dax = np.diff(ax)\n",
    "    day = np.diff(ay)\n",
    "    daz = np.diff(az)\n",
    "    dt = np.diff(t)\n",
    "    \n",
    "    jx = np.append([0],dax/dt)\n",
    "    jy = np.append([0],day/dt)\n",
    "    jz = np.append([0],daz/dt)\n",
    "    \n",
    "    df['droneJerk.x'] = jx\n",
    "    df['droneJerk.y'] = jy\n",
    "    df['droneJerk.z'] = jz\n",
    "    \n",
    "    steps = 40    \n",
    "    \n",
    "    df['droneJerkFiltered.x'] = running_average(df['droneJerk.x'], steps)\n",
    "    df['droneJerkFiltered.y'] = running_average(df['droneJerk.y'], steps)\n",
    "    df['droneJerkFiltered.z'] = running_average(df['droneJerk.z'], steps)\n",
    "\n",
    "    dj = np.sqrt(df['droneJerkFiltered.x'][100:]**2+df['droneJerkFiltered.y'][100:]**2+df['droneJerkFiltered.z'][100:]**2)\n",
    "    \n",
    "    \n",
    "    j = np.mean(dj)\n",
    "\n",
    "    return j\n",
    "\n",
    "jerk = runBasicAnalysis(compJerk)\n",
    "basic_plot(jerk)"
   ]
  },
  {
   "cell_type": "markdown",
   "metadata": {},
   "source": [
    "# Energy Analysis"
   ]
  },
  {
   "cell_type": "code",
   "execution_count": 87,
   "metadata": {
    "collapsed": true,
    "jupyter": {
     "outputs_hidden": true,
     "source_hidden": true
    }
   },
   "outputs": [
    {
     "name": "stdout",
     "output_type": "stream",
     "text": [
      "first motion\n",
      "[309.20947685720927, 405.1817514638891, 342.04310919953224, 220.14053073980602, 365.5878566401576, 288.9812959400664, 321.85310264611485, 132.87360020532182, 226.03989463100342]\n",
      "mean =  290.21229092478893\n",
      "std =  79.39566703388887\n",
      "\n",
      "last motion\n",
      "[415.055053694497, 260.3375732557752, 306.7728907857787, 218.30294383172426, 399.39446261181456, 355.51470338310196, 267.17665682986564, 176.81617209273261, 263.61070405821454]\n",
      "mean =  295.88679561594495\n",
      "std =  75.95008457518055\n",
      "\n",
      "first remote\n",
      "[414.26306482416015, 454.33390547368015, 371.4893638136557, 628.6676263077, 381.56027857962397, 278.0929755869314, 291.1963215040025, 230.71407636540857, 752.9181880547565]\n",
      "mean =  422.58175561221316\n",
      "std =  160.525693548354\n",
      "\n",
      "last remote\n",
      "[222.53911222084116, 453.91563874563104, 562.157934179197, 445.11840914068716, 271.1302840882006, 349.5066033793515, 385.5007062640492, 208.69622541754512, 316.51397335740046]\n",
      "mean =  357.23098742143367\n",
      "std =  110.15226856757106\n",
      "\n",
      "first motion last motion\n",
      "p = 0.8946258095467479\n",
      "first motion first remote\n",
      "\u001b[31mp = 0.0576307243947688 !\u001b[0m\n",
      "first motion last remote\n",
      "p = 0.26968989984502656\n",
      "last motion first remote\n",
      "\u001b[31mp = 0.07026567343786677 !\u001b[0m\n",
      "last motion last remote\n",
      "p = 0.23323022278218208\n",
      "first remote last remote\n",
      "p = 0.4015419876158456\n",
      "\n",
      "motion ratio\n",
      "[-0.34231026  0.35747952  0.1031163   0.00834734 -0.09247191 -0.2302343\n",
      "  0.16988013 -0.33070958 -0.16621318]\n",
      "-0.058123994087317325\n",
      "0.22427135653080393\n",
      "\n",
      "remote ratio\n",
      "[ 0.46280726  0.00092062 -0.51325445  0.29196544  0.2894169  -0.25679767\n",
      " -0.32385157  0.0954335   0.57961704]\n",
      "0.0695841181794239\n",
      "0.35259960013744107\n",
      "\n",
      "p =  0.45291248342491597 \n",
      "\n",
      "firts ratio\n",
      "[ 0.25359149  0.10818509  0.0792654   0.64983002  0.04186081 -0.03915353\n",
      " -0.10527874  0.42407675  0.6997816 ]\n",
      "0.23468432216928914\n",
      "0.27744638158605184\n",
      "\n",
      "last ratio\n",
      "[-0.86508812  0.42646265  0.45429412  0.50956209 -0.47307212 -0.01719023\n",
      "  0.30693601  0.15275817  0.16714355]\n",
      "0.07353401278786842\n",
      "0.4368057950388561\n",
      "\n",
      "p =  0.8946258095467479 \n"
     ]
    },
    {
     "data": {
      "image/png": "[encoded data removed]",
      "text/plain": [
       "<Figure size 864x288 with 3 Axes>"
      ]
     },
     "metadata": {
      "needs_background": "light"
     },
     "output_type": "display_data"
    }
   ],
   "source": [
    "def compEnergy(df):\n",
    "    df['controlInput'] = np.sqrt(df['controlSpeed.x']**2+df['controlSpeed.y']**2+df['controlSpeed.z']**2)\n",
    "    return df['controlInput'].sum()\n",
    "\n",
    "energy = runBasicAnalysis(compEnergy)\n",
    "basic_plot(energy)"
   ]
  },
  {
   "cell_type": "markdown",
   "metadata": {},
   "source": [
    "# Power Analysis"
   ]
  },
  {
   "cell_type": "code",
   "execution_count": 88,
   "metadata": {
    "collapsed": true,
    "jupyter": {
     "outputs_hidden": true,
     "source_hidden": true
    }
   },
   "outputs": [
    {
     "name": "stdout",
     "output_type": "stream",
     "text": [
      "first motion\n",
      "[27.33441781574532, 19.83638736336342, 8.266059588506856, 4.230392598985738, 21.784058164421047, 19.920046143399222, 36.65067386349562, 10.246117915640554, 27.807916997271235]\n",
      "mean =  19.56400782786989\n",
      "std =  9.860197801709552\n",
      "\n",
      "last motion\n",
      "[34.919643917257204, 14.014263004475279, 8.382662771186704, 4.015868349012127, 19.59623552549739, 23.770866683057044, 33.343516390366815, 12.352434202828325, 25.97648894545521]\n",
      "mean =  19.596886643237344\n",
      "std =  10.18742624352463\n",
      "\n",
      "first remote\n",
      "[10.96415972855248, 15.227143711523905, 9.587057007009987, 15.35110741336701, 12.327617264967262, 8.123690323292276, 8.85387359515694, 5.778787432480447, 14.598573871359378]\n",
      "mean =  11.201334483078854\n",
      "std =  3.2194915062151175\n",
      "\n",
      "last remote\n",
      "[6.002674169850743, 13.974775279907258, 16.270101594637417, 12.859384013925418, 7.31674472522072, 8.71790075249546, 10.598255131156685, 4.686560162697667, 7.711330707441262]\n",
      "mean =  9.793080726370292\n",
      "std =  3.6750594791782736\n",
      "\n",
      "first motion last motion\n",
      "p = 0.8946258095467479\n",
      "first motion first remote\n",
      "\u001b[31mp = 0.08508907281620419 !\u001b[0m\n",
      "first motion last remote\n",
      "\u001b[33mp = 0.04694472697848194 !!!!!!\u001b[0m\n",
      "last motion first remote\n",
      "p = 0.10234498849921529\n",
      "last motion last remote\n",
      "\u001b[33mp = 0.04694472697848194 !!!!!!\u001b[0m\n",
      "first remote last remote\n",
      "p = 0.3538369006847303\n",
      "\n",
      "motion ratio\n",
      "[-0.27749726  0.29350729 -0.01410626  0.05071025  0.10043228 -0.19331384\n",
      "  0.09023456 -0.20557213  0.06585995]\n",
      "-0.00997168404021018\n",
      "0.17231220339936804\n",
      "\n",
      "remote ratio\n",
      "[ 0.45251854  0.08224579 -0.69709031  0.16231555  0.40647535 -0.07314538\n",
      " -0.19701902  0.18900631  0.47177507]\n",
      "0.088564653132369\n",
      "0.3529100315665438\n",
      "\n",
      "p =  0.23323022278218208 \n",
      "\n",
      "firts ratio\n",
      "[-1.49307001 -0.30269916  0.13778967  0.72442427 -0.76709397 -1.45209324\n",
      " -3.13950724 -0.77305672 -0.90483791]\n",
      "-0.8855715918169814\n",
      "1.0422406407009432\n",
      "\n",
      "last ratio\n",
      "[-4.81734789e+00 -2.82564290e-03  4.84781166e-01  6.87709120e-01\n",
      " -1.67827241e+00 -1.72667324e+00 -2.14613264e+00 -1.63571442e+00\n",
      " -2.36861301e+00]\n",
      "-1.4670098850563713\n",
      "1.6067744287611678\n",
      "\n",
      "p =  0.26968989984502656 \n"
     ]
    },
    {
     "data": {
      "image/png": "[encoded data removed]",
      "text/plain": [
       "<Figure size 864x288 with 3 Axes>"
      ]
     },
     "metadata": {
      "needs_background": "light"
     },
     "output_type": "display_data"
    }
   ],
   "source": [
    "def compDEnergy(df):\n",
    "    dEnergy = np.abs(np.diff(df['controlInput']))\n",
    "    return np.sum(dEnergy)\n",
    "\n",
    "dEnergy = runBasicAnalysis(compDEnergy)\n",
    "basic_plot(dEnergy)"
   ]
  },
  {
   "cell_type": "markdown",
   "metadata": {},
   "source": [
    "# Collision Analysis"
   ]
  },
  {
   "cell_type": "code",
   "execution_count": 89,
   "metadata": {
    "collapsed": true,
    "jupyter": {
     "outputs_hidden": true,
     "source_hidden": true
    }
   },
   "outputs": [],
   "source": [
    "coll_df = pd.read_csv('/Volumes/GoogleDrive/My Drive/Matteo/EPFL/LIS/PhD/Bidirectional_wearable_interface/DATA/Haptics/Bidir - haptics ZY collisions - Sheet1.csv')"
   ]
  },
  {
   "cell_type": "code",
   "execution_count": 90,
   "metadata": {
    "collapsed": true,
    "jupyter": {
     "outputs_hidden": true,
     "source_hidden": true
    }
   },
   "outputs": [],
   "source": [
    "coll = {}\n",
    "\n",
    "coll['motion'] = coll_df[coll_df['Interface']=='Motion']\n",
    "coll['remote'] = coll_df[coll_df['Interface']=='Remote']\n",
    "\n",
    "\n",
    "coll['first motion'] = coll['motion'][coll['motion']['Run']==1]\n",
    "coll['last motion'] = coll['motion'][coll['motion']['Run']==5]\n",
    "coll['first remote'] = coll['remote'][coll['remote']['Run']==1]\n",
    "coll['last remote'] = coll['remote'][coll['remote']['Run']==5]\n"
   ]
  },
  {
   "cell_type": "code",
   "execution_count": 91,
   "metadata": {
    "collapsed": true,
    "jupyter": {
     "outputs_hidden": true,
     "source_hidden": true
    }
   },
   "outputs": [
    {
     "name": "stdout",
     "output_type": "stream",
     "text": [
      "\n",
      "consider all runs\n",
      "\n",
      "mean motion =  1.0\n",
      "std motion =  0.9428090415820634\n",
      "mean remote =  3.4444444444444446\n",
      "std remote =  1.0657403385139377\n",
      "\n",
      "total motion =  9.0\n",
      "total remote =  31.0\n",
      "\n",
      "\u001b[32mp = 0.0012411134893360086 !!!!!!!!!!\u001b[0m\n",
      "\n",
      "consider first runs\n",
      "\n",
      "mean motion =  0.2222222222222222\n",
      "std motion =  0.41573970964154905\n",
      "mean remote =  0.7777777777777778\n",
      "std remote =  0.41573970964154905\n",
      "\n",
      "total motion =  2.0\n",
      "total remote =  7.0\n",
      "\n",
      "\u001b[33mp = 0.021985734811330877 !!!!!!\u001b[0m\n",
      "\n",
      "consider last runs\n",
      "\n",
      "mean motion =  0.0\n",
      "std motion =  0.0\n",
      "mean remote =  0.5555555555555556\n",
      "std remote =  0.4969039949999533\n",
      "\n",
      "total motion =  0.0\n",
      "total remote =  5.0\n",
      "\n",
      "\u001b[33mp = 0.010556660425736162 !!!!!!\u001b[0m\n"
     ]
    },
    {
     "data": {
      "text/plain": [
       "Text(0.5, 1.0, 'Collisions - last run')"
      ]
     },
     "execution_count": 91,
     "metadata": {},
     "output_type": "execute_result"
    },
    {
     "data": {
      "image/png": "[encoded data removed]",
      "text/plain": [
       "<Figure size 864x288 with 3 Axes>"
      ]
     },
     "metadata": {
      "needs_background": "light"
     },
     "output_type": "display_data"
    }
   ],
   "source": [
    "def compute_mean_std_collisions(data_m, data_r):\n",
    "    \n",
    "    coll_per_sub_m = []\n",
    "    \n",
    "    for sub in np.unique(data_m['Subject']):\n",
    "        sub_coll = data_m[data_m['Subject']==sub]\n",
    "        \n",
    "        coll_per_sub_m.append(sub_coll['Collided Z'].sum())\n",
    "        \n",
    "    coll_per_sub_r = []\n",
    "    \n",
    "    for sub in np.unique(data_r['Subject']):\n",
    "        sub_coll = data_r[data_r['Subject']==sub]\n",
    "        \n",
    "        coll_per_sub_r.append(sub_coll['Collided Z'].sum())\n",
    "    \n",
    "    mean_m = np.mean(coll_per_sub_m)\n",
    "    std_m = np.std(coll_per_sub_m)\n",
    "    mean_r = np.mean(coll_per_sub_r)\n",
    "    std_r = np.std(coll_per_sub_r)\n",
    "\n",
    "    print('mean motion = ', mean_m)\n",
    "    print('std motion = ', std_m)\n",
    "    print('mean remote = ', mean_r)\n",
    "    print('std remote = ', std_r)\n",
    "    print('')\n",
    "    print('total motion = ', np.sum(coll_per_sub_m))\n",
    "    print('total remote = ', np.sum(coll_per_sub_r))\n",
    "    print('')\n",
    "\n",
    "    t, p = t_test_kruskal(coll_per_sub_m, coll_per_sub_r)\n",
    "\n",
    "    print_p(p)\n",
    "    \n",
    "    return [coll_per_sub_m, coll_per_sub_r]\n",
    "\n",
    "print('')\n",
    "print('consider all runs')\n",
    "print('')\n",
    "all_m, all_r = compute_mean_std_collisions(coll['motion'], coll['remote'])\n",
    "    \n",
    "print('')\n",
    "print('consider first runs')\n",
    "print('')\n",
    "first_m, first_r = compute_mean_std_collisions(coll['first motion'], coll['first remote'])\n",
    "    \n",
    "print('')\n",
    "print('consider last runs')\n",
    "print('')\n",
    "last_m, last_r = compute_mean_std_collisions(coll['last motion'], coll['last remote'])\n",
    "\n",
    "\n",
    "    \n",
    "fig = plt.figure(figsize=(12, 4))\n",
    "ax = fig.add_subplot(131)\n",
    "ax.bar([0, 1],\n",
    "   [np.mean(all_m), np.mean(all_r)],\n",
    "      yerr = [np.std(all_m), np.std(all_r)])\n",
    "\n",
    "plt.xticks(range(2), ['motion', 'remote'])\n",
    "plt.ylim([0, 5])\n",
    "plt.title('Total collisions')\n",
    "\n",
    "ax = fig.add_subplot(132)\n",
    "ax.bar([0, 1],\n",
    "   [np.mean(first_m), np.mean(first_r)],\n",
    "      yerr = [np.std(first_m), np.std(first_r)])\n",
    "\n",
    "plt.xticks(range(2), ['motion', 'remote'])\n",
    "plt.ylim([0, 5])\n",
    "plt.title('Collisions - first run')\n",
    "\n",
    "ax = fig.add_subplot(133)\n",
    "ax.bar([0, 1],\n",
    "   [np.mean(last_m), np.mean(last_r)],\n",
    "      yerr = [np.std(last_m), np.std(last_r)])\n",
    "\n",
    "plt.xticks(range(2), ['motion', 'remote'])\n",
    "plt.ylim([0, 5])\n",
    "plt.title('Total collisions')\n",
    "plt.title('Collisions - last run')"
   ]
  },
  {
   "cell_type": "markdown",
   "metadata": {},
   "source": [
    "# Go-through passing Analysis"
   ]
  },
  {
   "cell_type": "code",
   "execution_count": 107,
   "metadata": {},
   "outputs": [
    {
     "name": "stdout",
     "output_type": "stream",
     "text": [
      "motion\n",
      "[2.20554518699646, 2.0448811054229736, 2.1115200519561768, 1.6321910619735718, 1.9299910068511963, 2.025785207748413, 2.1492810249328613, 1.4885929822921753, 1.9889394044876099, 1.8935139179229736, 1.8988595008850098, 2.0341591835021973, 1.9541471004486084, 2.024033546447754, 2.016711950302124, 2.088818311691284, 2.280486822128296, 1.9913796186447144, 2.2584779262542725, 1.9066413640975952, 1.9657769203186035, 1.892768144607544, 1.8573359251022339, 1.8663878440856934, 1.9408904314041138, 1.9328663349151611, 2.1458730697631836, 2.08294939994812, 1.904898762702942, 1.9648393392562866, 1.9086508750915527, 2.1009740829467773, 2.0287551879882812, 2.1453092098236084, 1.965834379196167, 1.9557901620864868, 1.9807027578353882, 1.9023194313049316, 2.051631450653076, 1.9435522556304932, 2.0466153621673584, 2.0209507942199707, 1.985171914100647, 2.136683464050293, 2.091541290283203]\n",
      "[0.9548597931861877, 1.0137970447540283, 0.9962010979652405, 0.9877849221229553, 0.9852827787399292, 0.955375075340271, 0.9932395815849304, 1.0419068336486816, 0.850117564201355, 1.0748631954193115, 0.9975733757019043, 0.9863284230232239, 0.9715844392776489, 1.0269814729690552, 1.0216739177703857, 0.8873080611228943, 0.8976450562477112, 0.8964225649833679, 0.8248390555381775, 0.8354503512382507, 0.9981056451797485, 1.0050487518310547, 0.9688694477081299, 0.9650492668151855, 0.9465457797050476, 0.9596664309501648, 0.9635390639305115, 1.020243525505066, 0.9854389429092407, 0.9728365540504456, 1.0089378356933594, 0.9651609659194946, 1.0750658512115479, 0.9555668830871582, 1.0006954669952393, 0.9734300971031189, 0.9320803880691528, 0.9977058172225952, 1.0801045894622803, 0.9928771257400513, 0.937933623790741, 0.9512925744056702, 1.038145661354065, 0.9489377737045288, 0.9839979410171509]\n",
      "mean =  1.9942894458770752\n",
      "std =  0.1377972457505892\n",
      "mean =  0.9739224579599168\n",
      "std =  0.05544977345280566\n",
      "\n",
      "remote\n",
      "[1.6907027959823608, 2.083824396133423, 2.2007315158843994, 1.644349455833435, 2.1552329063415527, 2.1498916149139404, 2.3137857913970947, 2.167523145675659, 2.3802273273468018, 2.580489158630371, 2.4180705547332764, 1.83429753780365, 2.1202855110168457, 1.923173427581787, 1.9226711988449097, 0.816980242729187, 2.714768171310425, 1.7551231384277344, 0.294643372297287, 0.09469853341579437, 1.8480567932128906, 2.5141701698303223, 1.7636574506759644, 2.241486072540283, 1.9366958141326904, 1.9111617803573608, 2.1013994216918945, 1.737235426902771, 1.5749051570892334, 2.1510846614837646, 2.465881586074829, 1.8529874086380005, 2.184248447418213, 2.131556510925293, 1.5250052213668823, 2.014373302459717, 0.3799505829811096, 1.9022212028503418, 2.095400810241699, 1.7416988611221313, 1.8767696619033813, 2.2239279747009277, 2.182072401046753, 2.0229969024658203, 2.0383572578430176]\n",
      "[1.0808162689208984, 0.9945013523101807, 0.961742639541626, 0.7994346022605896, 1.1385990381240845, 1.0566023588180542, 0.9619696140289307, 0.9911737442016602, 0.9825846552848816, 0.8351321816444397, 0.8889061212539673, 1.090404748916626, 0.9261869788169861, 0.9759588837623596, 1.010772466659546, 1.0311729907989502, 0.8357774615287781, 0.8496226668357849, 0.969559371471405, 0.9975501298904419, 1.0370830297470093, 0.9918482303619385, 1.023408055305481, 0.945124089717865, 0.9250271320343018, 1.050106167793274, 0.9782788753509521, 1.0381004810333252, 1.0611088275909424, 1.0166722536087036, 0.9692082405090332, 1.0050194263458252, 1.0968683958053589, 0.9151508808135986, 0.9823946356773376, 1.0031009912490845, 0.5034449696540833, 0.903414249420166, 1.001861572265625, 0.9568411707878113, 1.0114223957061768, 0.8832482695579529, 0.9188253879547119, 0.909447431564331, 0.9865745902061462]\n",
      "mean =  1.9039726816945606\n",
      "std =  0.5430182594159135\n",
      "mean =  0.9664899561140272\n",
      "std =  0.1000803082686253\n",
      "\n",
      "\n",
      "motion remote  X\n",
      "p = 0.8559215597688267\n",
      "\n",
      "motion remote  Y\n",
      "p = 0.8181022892105594\n"
     ]
    }
   ],
   "source": [
    "def comp_max_dist(df):\n",
    "    \n",
    "    dist_obstacle = -1\n",
    "    collider = 0.12\n",
    "\n",
    "    z_cross = dist_obstacle + collider\n",
    "    \n",
    "    z = df['dronePosition.z']\n",
    "    \n",
    "    \n",
    "#     print()\n",
    "    for idx,i in enumerate(z):\n",
    "        if idx>0:\n",
    "            if z[idx-1]>z_cross and z[idx]<z_cross:\n",
    "#                 print(idx)\n",
    "                break\n",
    "                \n",
    "    \n",
    "    return [df['dronePosition.x'][idx], df['dronePosition.y'][idx]]\n",
    "\n",
    "cross_ret = runHapticsZAnalysis(comp_max_dist)"
   ]
  },
  {
   "cell_type": "code",
   "execution_count": 109,
   "metadata": {},
   "outputs": [],
   "source": [
    "coord = ['X', 'Y']\n",
    "cross = {}\n",
    "x_center = 2\n",
    "y_center = 1\n",
    "\n",
    "cross_dic = {'X':cross_ret[0], 'Y':cross_ret[1]}\n",
    "center = {'X':2, 'Y':1}\n",
    "\n",
    "for c in coord:\n",
    "    cross[c] = {}\n",
    "    for i in interfaces:\n",
    "        cross[c][i] = np.array(cross_dic[c][i]) - center[c]"
   ]
  },
  {
   "cell_type": "code",
   "execution_count": 126,
   "metadata": {},
   "outputs": [
    {
     "data": {
      "text/plain": [
       "<matplotlib.patches.Ellipse at 0x1a1f41cc50>"
      ]
     },
     "execution_count": 126,
     "metadata": {},
     "output_type": "execute_result"
    },
    {
     "data": {
      "image/png": "[encoded data removed]",
      "text/plain": [
       "<Figure size 432x432 with 1 Axes>"
      ]
     },
     "metadata": {
      "needs_background": "light"
     },
     "output_type": "display_data"
    }
   ],
   "source": [
    "fig = plt.figure()\n",
    "ax = fig.add_subplot(111)\n",
    "\n",
    "ax.scatter(cross['X']['remote'], cross['Y']['remote'])\n",
    "ax.scatter(cross['X']['motion'], cross['Y']['motion'])\n",
    "\n",
    "l = 0.2\n",
    "ax.plot([-l, -l], [-l, l] ,'k')\n",
    "ax.plot([l, l], [-l, l] ,'k')\n",
    "ax.plot([-l, l], [-l, -l] ,'k')\n",
    "ax.plot([-l, l], [l, l] ,'k')\n",
    "l = 0.5\n",
    "ax.plot([-l, -l], [-l, l] ,'k')\n",
    "ax.plot([l, l], [-l, l] ,'k')\n",
    "ax.plot([-l, l], [-l, -l] ,'k')\n",
    "ax.plot([-l, l], [l, l] ,'k')\n",
    "\n",
    "plt.xlim([-0.6, 0.6])\n",
    "plt.ylim([-0.6, 0.6])\n",
    "\n",
    "\n",
    "\n",
    "ellipse = Ellipse((np.mean(cross['X']['remote']), np.mean(cross['Y']['remote'])), width=np.std(cross['X']['remote'])*2,\n",
    "        height=np.std(cross['Y']['remote'])*2,\n",
    "        alpha=0.2,\n",
    "        facecolor='blue', zorder=-2)\n",
    "ax.add_patch(ellipse)\n",
    "\n",
    "\n",
    "ellipse = Ellipse((np.mean(cross['X']['motion']), np.mean(cross['Y']['motion'])), width=np.std(cross['X']['motion'])*2,\n",
    "        height=np.std(cross['Y']['motion'])*2,\n",
    "        alpha=0.5,\n",
    "        facecolor='orange', zorder=-1)\n",
    "ax.add_patch(ellipse)"
   ]
  },
  {
   "cell_type": "code",
   "execution_count": 128,
   "metadata": {},
   "outputs": [
    {
     "name": "stdout",
     "output_type": "stream",
     "text": [
      "-0.09602731830543942\n",
      "0.5430182594159135\n",
      "-0.0057105541229248045\n",
      "0.1377972457505892\n",
      "\u001b[32mp = 0.0003861121183385026 !!!!!!!!!!\u001b[0m\n",
      "-0.033510043885972764\n",
      "0.1000803082686253\n",
      "-0.026077542040083144\n",
      "0.05544977345280566\n",
      "\u001b[31mp = 0.06494240250006876 !\u001b[0m\n"
     ]
    },
    {
     "data": {
      "image/png": "[encoded data removed]",
      "text/plain": [
       "<Figure size 216x216 with 1 Axes>"
      ]
     },
     "metadata": {
      "needs_background": "light"
     },
     "output_type": "display_data"
    },
    {
     "data": {
      "image/png": "[encoded data removed]",
      "text/plain": [
       "<Figure size 216x216 with 1 Axes>"
      ]
     },
     "metadata": {
      "needs_background": "light"
     },
     "output_type": "display_data"
    }
   ],
   "source": [
    "for c in coord:\n",
    "\n",
    "    print(np.mean(cross[c]['remote']))\n",
    "    print(np.std(cross[c]['remote']))\n",
    "    print(np.mean(cross[c]['motion']))\n",
    "    print(np.std(cross[c]['motion']))\n",
    "\n",
    "    fig = plt.figure(figsize=[3,3])\n",
    "    ax = fig.add_subplot(111)\n",
    "\n",
    "    ax.bar([0,1], \n",
    "            [np.mean(cross[c]['remote']), np.mean(cross[c]['motion'])],\n",
    "          yerr = [np.std(cross[c]['remote']), np.std(cross[c]['motion'])])\n",
    "\n",
    "    print_p(t_test_levene(cross[c]['remote'], cross[c]['motion'])[1])"
   ]
  },
  {
   "cell_type": "code",
   "execution_count": null,
   "metadata": {},
   "outputs": [],
   "source": []
  },
  {
   "cell_type": "markdown",
   "metadata": {},
   "source": [
    "# TEST"
   ]
  }
 ],
 "metadata": {
  "kernelspec": {
   "display_name": "Python 3",
   "language": "python",
   "name": "python3"
  },
  "language_info": {
   "codemirror_mode": {
    "name": "ipython",
    "version": 3
   },
   "file_extension": ".py",
   "mimetype": "text/x-python",
   "name": "python",
   "nbconvert_exporter": "python",
   "pygments_lexer": "ipython3",
   "version": "3.7.4"
  },
  "varInspector": {
   "cols": {
    "lenName": 16,
    "lenType": 16,
    "lenVar": 40
   },
   "kernels_config": {
    "python": {
     "delete_cmd_postfix": "",
     "delete_cmd_prefix": "del ",
     "library": "var_list.py",
     "varRefreshCmd": "print(var_dic_list())"
    },
    "r": {
     "delete_cmd_postfix": ") ",
     "delete_cmd_prefix": "rm(",
     "library": "var_list.r",
     "varRefreshCmd": "cat(var_dic_list()) "
    }
   },
   "position": {
    "height": "472.85px",
    "left": "1048.6px",
    "right": "20px",
    "top": "22px",
    "width": "462.8px"
   },
   "types_to_exclude": [
    "module",
    "function",
    "builtin_function_or_method",
    "instance",
    "_Feature"
   ],
   "window_display": false
  }
 },
 "nbformat": 4,
 "nbformat_minor": 4
}
